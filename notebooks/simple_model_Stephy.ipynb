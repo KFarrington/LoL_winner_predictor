{
 "cells": [
  {
   "cell_type": "markdown",
   "id": "cd11ed9d",
   "metadata": {},
   "source": [
    "# Import data"
   ]
  },
  {
   "cell_type": "code",
   "execution_count": 180,
   "id": "df21202b",
   "metadata": {},
   "outputs": [],
   "source": [
    "import numpy as np\n",
    "import pandas as pd\n",
    "import json"
   ]
  },
  {
   "cell_type": "code",
   "execution_count": 181,
   "id": "a269d6f5",
   "metadata": {},
   "outputs": [
    {
     "data": {
      "text/plain": [
       "35320"
      ]
     },
     "execution_count": 181,
     "metadata": {},
     "output_type": "execute_result"
    }
   ],
   "source": [
    "file = '../raw_data/full_dump.json'\n",
    "with open(file) as data_file:    \n",
    "    data = json.load(data_file) \n",
    "len(data)"
   ]
  },
  {
   "cell_type": "code",
   "execution_count": 182,
   "id": "10ec5259",
   "metadata": {},
   "outputs": [
    {
     "data": {
      "text/plain": [
       "['EU Challenger Series/2017 Season/Spring Qualifiers/Scoreboards_1_1',\n",
       " 'EU Challenger Series/2017 Season/Spring Qualifiers/Scoreboards_2_1',\n",
       " 'EU Challenger Series/2017 Season/Spring Qualifiers/Scoreboards_3_1',\n",
       " 'EU Challenger Series/2017 Season/Spring Qualifiers/Scoreboards_4_1',\n",
       " 'EU Challenger Series/2017 Season/Spring Qualifiers/Scoreboards_5_1']"
      ]
     },
     "execution_count": 182,
     "metadata": {},
     "output_type": "execute_result"
    }
   ],
   "source": [
    "data_keys = list(data.keys())\n",
    "data_keys[:5]"
   ]
  },
  {
   "cell_type": "code",
   "execution_count": 183,
   "id": "045c791c",
   "metadata": {},
   "outputs": [
    {
     "data": {
      "text/plain": [
       "(array(['2016', '2017', '2018', '2019', '2020', '2021'], dtype='<U4'), 1703)"
      ]
     },
     "execution_count": 183,
     "metadata": {},
     "output_type": "execute_result"
    }
   ],
   "source": [
    "import re\n",
    "\n",
    "pattern = r'(\\d{4})'\n",
    "re.search(pattern, data_keys[2]).group(1)\n",
    "\n",
    "year = []\n",
    "no_year = []\n",
    "for i in range(len(data_keys)):\n",
    "    try:\n",
    "        year.append(re.search(pattern, data_keys[i]).group(1))\n",
    "    except:\n",
    "        no_year.append(data_keys[i])\n",
    "\n",
    "np.unique(year), len(no_year)"
   ]
  },
  {
   "cell_type": "markdown",
   "id": "35f552a1",
   "metadata": {},
   "source": [
    "# Normalize the JSON file\n",
    "\n",
    "Normalize means to expand the nested keys in the JSON file and the subsequent DataFrame."
   ]
  },
  {
   "cell_type": "code",
   "execution_count": 184,
   "id": "dde7e5ca",
   "metadata": {},
   "outputs": [
    {
     "data": {
      "text/html": [
       "<div>\n",
       "<style scoped>\n",
       "    .dataframe tbody tr th:only-of-type {\n",
       "        vertical-align: middle;\n",
       "    }\n",
       "\n",
       "    .dataframe tbody tr th {\n",
       "        vertical-align: top;\n",
       "    }\n",
       "\n",
       "    .dataframe thead th {\n",
       "        text-align: right;\n",
       "    }\n",
       "</style>\n",
       "<table border=\"1\" class=\"dataframe\">\n",
       "  <thead>\n",
       "    <tr style=\"text-align: right;\">\n",
       "      <th></th>\n",
       "      <th>id</th>\n",
       "      <th>start</th>\n",
       "      <th>patch</th>\n",
       "      <th>winner</th>\n",
       "      <th>duration</th>\n",
       "      <th>picks_bans</th>\n",
       "      <th>teams.BLUE.name</th>\n",
       "      <th>teams.BLUE.total_turret_kills</th>\n",
       "      <th>teams.BLUE.total_inhibitor_kills</th>\n",
       "      <th>teams.BLUE.total_rift_herald_kills</th>\n",
       "      <th>...</th>\n",
       "      <th>teams.BLUE.side</th>\n",
       "      <th>teams.BLUE.players</th>\n",
       "      <th>teams.RED.name</th>\n",
       "      <th>teams.RED.total_turret_kills</th>\n",
       "      <th>teams.RED.total_inhibitor_kills</th>\n",
       "      <th>teams.RED.total_rift_herald_kills</th>\n",
       "      <th>teams.RED.total_dragon_kills</th>\n",
       "      <th>teams.RED.total_baron_kills</th>\n",
       "      <th>teams.RED.side</th>\n",
       "      <th>teams.RED.players</th>\n",
       "    </tr>\n",
       "  </thead>\n",
       "  <tbody>\n",
       "    <tr>\n",
       "      <th>25682</th>\n",
       "      <td>División de Honor/2021 Season/Opening Promotio...</td>\n",
       "      <td>None</td>\n",
       "      <td>10.16</td>\n",
       "      <td>BLUE</td>\n",
       "      <td>2055</td>\n",
       "      <td>[{'champion_name': 'Sett', 'is_ban': True}, {'...</td>\n",
       "      <td>ESTORM</td>\n",
       "      <td>10</td>\n",
       "      <td>2</td>\n",
       "      <td>2</td>\n",
       "      <td>...</td>\n",
       "      <td>BLUE</td>\n",
       "      <td>[{'name': 'Steellar', 'id': 410667, 'role': 'T...</td>\n",
       "      <td>We Talent</td>\n",
       "      <td>4</td>\n",
       "      <td>0</td>\n",
       "      <td>0</td>\n",
       "      <td>2</td>\n",
       "      <td>1</td>\n",
       "      <td>RED</td>\n",
       "      <td>[{'name': 'Marth', 'id': 413931, 'role': 'TOP'...</td>\n",
       "    </tr>\n",
       "    <tr>\n",
       "      <th>32935</th>\n",
       "      <td>LCK/2016 Season/Spring Season/Scoreboards/Week...</td>\n",
       "      <td>None</td>\n",
       "      <td>6.6</td>\n",
       "      <td>BLUE</td>\n",
       "      <td>2362</td>\n",
       "      <td>[]</td>\n",
       "      <td>Afreeca Freecs</td>\n",
       "      <td>10</td>\n",
       "      <td>2</td>\n",
       "      <td>1</td>\n",
       "      <td>...</td>\n",
       "      <td>BLUE</td>\n",
       "      <td>[{'name': 'ikssu', 'id': 167412, 'role': 'TOP'...</td>\n",
       "      <td>Longzhu Gaming</td>\n",
       "      <td>4</td>\n",
       "      <td>0</td>\n",
       "      <td>0</td>\n",
       "      <td>2</td>\n",
       "      <td>0</td>\n",
       "      <td>RED</td>\n",
       "      <td>[{'name': 'Expession', 'id': 158480, 'role': '...</td>\n",
       "    </tr>\n",
       "    <tr>\n",
       "      <th>15770</th>\n",
       "      <td>LCL/2019 Season/Summer Season/Scoreboards/Week...</td>\n",
       "      <td>None</td>\n",
       "      <td>9.14</td>\n",
       "      <td>BLUE</td>\n",
       "      <td>1892</td>\n",
       "      <td>[{'champion_name': 'Sona', 'is_ban': True}, {'...</td>\n",
       "      <td>Vega Squadron</td>\n",
       "      <td>9</td>\n",
       "      <td>1</td>\n",
       "      <td>1</td>\n",
       "      <td>...</td>\n",
       "      <td>BLUE</td>\n",
       "      <td>[{'name': 'Doxy', 'id': 152267, 'role': 'TOP',...</td>\n",
       "      <td>Dragon Army</td>\n",
       "      <td>0</td>\n",
       "      <td>0</td>\n",
       "      <td>0</td>\n",
       "      <td>1</td>\n",
       "      <td>0</td>\n",
       "      <td>RED</td>\n",
       "      <td>[{'name': 'Charger1', 'id': 123989, 'role': 'T...</td>\n",
       "    </tr>\n",
       "    <tr>\n",
       "      <th>20538</th>\n",
       "      <td>LCS/2020 Season/Spring Season/Scoreboards/Tieb...</td>\n",
       "      <td>None</td>\n",
       "      <td>10.6</td>\n",
       "      <td>BLUE</td>\n",
       "      <td>1691</td>\n",
       "      <td>[{'champion_name': 'Syndra', 'is_ban': True}, ...</td>\n",
       "      <td>Evil Geniuses.NA</td>\n",
       "      <td>7</td>\n",
       "      <td>1</td>\n",
       "      <td>0</td>\n",
       "      <td>...</td>\n",
       "      <td>BLUE</td>\n",
       "      <td>[{'name': 'Kumo', 'id': 214202, 'role': 'TOP',...</td>\n",
       "      <td>100 Thieves</td>\n",
       "      <td>4</td>\n",
       "      <td>0</td>\n",
       "      <td>2</td>\n",
       "      <td>3</td>\n",
       "      <td>0</td>\n",
       "      <td>RED</td>\n",
       "      <td>[{'name': 'Ssumday', 'id': 198406, 'role': 'TO...</td>\n",
       "    </tr>\n",
       "    <tr>\n",
       "      <th>34777</th>\n",
       "      <td>LMS/2016 Season/Summer Season/Scoreboards/Week...</td>\n",
       "      <td>None</td>\n",
       "      <td>6.15</td>\n",
       "      <td>RED</td>\n",
       "      <td>2414</td>\n",
       "      <td>[]</td>\n",
       "      <td>Flash Wolves</td>\n",
       "      <td>1</td>\n",
       "      <td>0</td>\n",
       "      <td>0</td>\n",
       "      <td>...</td>\n",
       "      <td>BLUE</td>\n",
       "      <td>[{'name': 'MMD', 'id': 181067, 'role': 'TOP', ...</td>\n",
       "      <td>ahq eSports Club</td>\n",
       "      <td>10</td>\n",
       "      <td>2</td>\n",
       "      <td>0</td>\n",
       "      <td>4</td>\n",
       "      <td>2</td>\n",
       "      <td>RED</td>\n",
       "      <td>[{'name': 'Ziv', 'id': 206577, 'role': 'TOP', ...</td>\n",
       "    </tr>\n",
       "  </tbody>\n",
       "</table>\n",
       "<p>5 rows × 22 columns</p>\n",
       "</div>"
      ],
      "text/plain": [
       "                                                      id start  patch winner  \\\n",
       "25682  División de Honor/2021 Season/Opening Promotio...  None  10.16   BLUE   \n",
       "32935  LCK/2016 Season/Spring Season/Scoreboards/Week...  None    6.6   BLUE   \n",
       "15770  LCL/2019 Season/Summer Season/Scoreboards/Week...  None   9.14   BLUE   \n",
       "20538  LCS/2020 Season/Spring Season/Scoreboards/Tieb...  None   10.6   BLUE   \n",
       "34777  LMS/2016 Season/Summer Season/Scoreboards/Week...  None   6.15    RED   \n",
       "\n",
       "       duration                                         picks_bans  \\\n",
       "25682      2055  [{'champion_name': 'Sett', 'is_ban': True}, {'...   \n",
       "32935      2362                                                 []   \n",
       "15770      1892  [{'champion_name': 'Sona', 'is_ban': True}, {'...   \n",
       "20538      1691  [{'champion_name': 'Syndra', 'is_ban': True}, ...   \n",
       "34777      2414                                                 []   \n",
       "\n",
       "        teams.BLUE.name  teams.BLUE.total_turret_kills  \\\n",
       "25682            ESTORM                             10   \n",
       "32935    Afreeca Freecs                             10   \n",
       "15770     Vega Squadron                              9   \n",
       "20538  Evil Geniuses.NA                              7   \n",
       "34777      Flash Wolves                              1   \n",
       "\n",
       "       teams.BLUE.total_inhibitor_kills  teams.BLUE.total_rift_herald_kills  \\\n",
       "25682                                 2                                   2   \n",
       "32935                                 2                                   1   \n",
       "15770                                 1                                   1   \n",
       "20538                                 1                                   0   \n",
       "34777                                 0                                   0   \n",
       "\n",
       "       ...  teams.BLUE.side  \\\n",
       "25682  ...             BLUE   \n",
       "32935  ...             BLUE   \n",
       "15770  ...             BLUE   \n",
       "20538  ...             BLUE   \n",
       "34777  ...             BLUE   \n",
       "\n",
       "                                      teams.BLUE.players    teams.RED.name  \\\n",
       "25682  [{'name': 'Steellar', 'id': 410667, 'role': 'T...         We Talent   \n",
       "32935  [{'name': 'ikssu', 'id': 167412, 'role': 'TOP'...    Longzhu Gaming   \n",
       "15770  [{'name': 'Doxy', 'id': 152267, 'role': 'TOP',...       Dragon Army   \n",
       "20538  [{'name': 'Kumo', 'id': 214202, 'role': 'TOP',...       100 Thieves   \n",
       "34777  [{'name': 'MMD', 'id': 181067, 'role': 'TOP', ...  ahq eSports Club   \n",
       "\n",
       "      teams.RED.total_turret_kills teams.RED.total_inhibitor_kills  \\\n",
       "25682                            4                               0   \n",
       "32935                            4                               0   \n",
       "15770                            0                               0   \n",
       "20538                            4                               0   \n",
       "34777                           10                               2   \n",
       "\n",
       "       teams.RED.total_rift_herald_kills  teams.RED.total_dragon_kills  \\\n",
       "25682                                  0                             2   \n",
       "32935                                  0                             2   \n",
       "15770                                  0                             1   \n",
       "20538                                  2                             3   \n",
       "34777                                  0                             4   \n",
       "\n",
       "       teams.RED.total_baron_kills  teams.RED.side  \\\n",
       "25682                            1             RED   \n",
       "32935                            0             RED   \n",
       "15770                            0             RED   \n",
       "20538                            0             RED   \n",
       "34777                            2             RED   \n",
       "\n",
       "                                       teams.RED.players  \n",
       "25682  [{'name': 'Marth', 'id': 413931, 'role': 'TOP'...  \n",
       "32935  [{'name': 'Expession', 'id': 158480, 'role': '...  \n",
       "15770  [{'name': 'Charger1', 'id': 123989, 'role': 'T...  \n",
       "20538  [{'name': 'Ssumday', 'id': 198406, 'role': 'TO...  \n",
       "34777  [{'name': 'Ziv', 'id': 206577, 'role': 'TOP', ...  \n",
       "\n",
       "[5 rows x 22 columns]"
      ]
     },
     "execution_count": 184,
     "metadata": {},
     "output_type": "execute_result"
    }
   ],
   "source": [
    "#Normalize the complete dataframe and make a copy\n",
    "df_normalized_teams = pd.json_normalize(data.values())\n",
    "df_teams = df_normalized_teams.copy()\n",
    "df_teams.sample(5)"
   ]
  },
  {
   "cell_type": "code",
   "execution_count": 185,
   "id": "8cfa63e2",
   "metadata": {},
   "outputs": [
    {
     "data": {
      "text/html": [
       "<div>\n",
       "<style scoped>\n",
       "    .dataframe tbody tr th:only-of-type {\n",
       "        vertical-align: middle;\n",
       "    }\n",
       "\n",
       "    .dataframe tbody tr th {\n",
       "        vertical-align: top;\n",
       "    }\n",
       "\n",
       "    .dataframe thead th {\n",
       "        text-align: right;\n",
       "    }\n",
       "</style>\n",
       "<table border=\"1\" class=\"dataframe\">\n",
       "  <thead>\n",
       "    <tr style=\"text-align: right;\">\n",
       "      <th></th>\n",
       "      <th>id</th>\n",
       "      <th>start</th>\n",
       "      <th>patch</th>\n",
       "      <th>winner</th>\n",
       "      <th>duration</th>\n",
       "      <th>teams.BLUE.name</th>\n",
       "      <th>teams.BLUE.total_turret_kills</th>\n",
       "      <th>teams.BLUE.total_inhibitor_kills</th>\n",
       "      <th>teams.BLUE.total_rift_herald_kills</th>\n",
       "      <th>teams.BLUE.total_dragon_kills</th>\n",
       "      <th>teams.BLUE.total_baron_kills</th>\n",
       "      <th>teams.BLUE.side</th>\n",
       "      <th>teams.RED.name</th>\n",
       "      <th>teams.RED.total_turret_kills</th>\n",
       "      <th>teams.RED.total_inhibitor_kills</th>\n",
       "      <th>teams.RED.total_rift_herald_kills</th>\n",
       "      <th>teams.RED.total_dragon_kills</th>\n",
       "      <th>teams.RED.total_baron_kills</th>\n",
       "      <th>teams.RED.side</th>\n",
       "    </tr>\n",
       "  </thead>\n",
       "  <tbody>\n",
       "    <tr>\n",
       "      <th>0</th>\n",
       "      <td>EU Challenger Series/2017 Season/Spring Qualif...</td>\n",
       "      <td>None</td>\n",
       "      <td>6.24</td>\n",
       "      <td>BLUE</td>\n",
       "      <td>2023</td>\n",
       "      <td>Fnatic Academy</td>\n",
       "      <td>11</td>\n",
       "      <td>3</td>\n",
       "      <td>0</td>\n",
       "      <td>2</td>\n",
       "      <td>1</td>\n",
       "      <td>BLUE</td>\n",
       "      <td>EURONICS Gaming</td>\n",
       "      <td>4</td>\n",
       "      <td>0</td>\n",
       "      <td>0</td>\n",
       "      <td>1</td>\n",
       "      <td>0</td>\n",
       "      <td>RED</td>\n",
       "    </tr>\n",
       "    <tr>\n",
       "      <th>1</th>\n",
       "      <td>EU Challenger Series/2017 Season/Spring Qualif...</td>\n",
       "      <td>None</td>\n",
       "      <td>6.24</td>\n",
       "      <td>RED</td>\n",
       "      <td>1782</td>\n",
       "      <td>AlienTech eSports</td>\n",
       "      <td>3</td>\n",
       "      <td>0</td>\n",
       "      <td>0</td>\n",
       "      <td>0</td>\n",
       "      <td>0</td>\n",
       "      <td>BLUE</td>\n",
       "      <td>Team Larssen</td>\n",
       "      <td>7</td>\n",
       "      <td>1</td>\n",
       "      <td>1</td>\n",
       "      <td>2</td>\n",
       "      <td>1</td>\n",
       "      <td>RED</td>\n",
       "    </tr>\n",
       "    <tr>\n",
       "      <th>2</th>\n",
       "      <td>EU Challenger Series/2017 Season/Spring Qualif...</td>\n",
       "      <td>None</td>\n",
       "      <td>6.24</td>\n",
       "      <td>RED</td>\n",
       "      <td>2465</td>\n",
       "      <td>Bobaski</td>\n",
       "      <td>4</td>\n",
       "      <td>0</td>\n",
       "      <td>0</td>\n",
       "      <td>0</td>\n",
       "      <td>0</td>\n",
       "      <td>BLUE</td>\n",
       "      <td>Nerv</td>\n",
       "      <td>9</td>\n",
       "      <td>1</td>\n",
       "      <td>0</td>\n",
       "      <td>3</td>\n",
       "      <td>1</td>\n",
       "      <td>RED</td>\n",
       "    </tr>\n",
       "    <tr>\n",
       "      <th>3</th>\n",
       "      <td>EU Challenger Series/2017 Season/Spring Qualif...</td>\n",
       "      <td>None</td>\n",
       "      <td>6.24</td>\n",
       "      <td>BLUE</td>\n",
       "      <td>1925</td>\n",
       "      <td>Team Forge</td>\n",
       "      <td>11</td>\n",
       "      <td>4</td>\n",
       "      <td>0</td>\n",
       "      <td>4</td>\n",
       "      <td>1</td>\n",
       "      <td>BLUE</td>\n",
       "      <td>Tricked Esport</td>\n",
       "      <td>0</td>\n",
       "      <td>0</td>\n",
       "      <td>0</td>\n",
       "      <td>0</td>\n",
       "      <td>1</td>\n",
       "      <td>RED</td>\n",
       "    </tr>\n",
       "    <tr>\n",
       "      <th>4</th>\n",
       "      <td>EU Challenger Series/2017 Season/Spring Qualif...</td>\n",
       "      <td>None</td>\n",
       "      <td>6.24</td>\n",
       "      <td>BLUE</td>\n",
       "      <td>1507</td>\n",
       "      <td>Team-LDLC</td>\n",
       "      <td>11</td>\n",
       "      <td>3</td>\n",
       "      <td>0</td>\n",
       "      <td>1</td>\n",
       "      <td>1</td>\n",
       "      <td>BLUE</td>\n",
       "      <td>ASUS ROG Army</td>\n",
       "      <td>1</td>\n",
       "      <td>0</td>\n",
       "      <td>0</td>\n",
       "      <td>0</td>\n",
       "      <td>0</td>\n",
       "      <td>RED</td>\n",
       "    </tr>\n",
       "  </tbody>\n",
       "</table>\n",
       "</div>"
      ],
      "text/plain": [
       "                                                  id start patch winner  \\\n",
       "0  EU Challenger Series/2017 Season/Spring Qualif...  None  6.24   BLUE   \n",
       "1  EU Challenger Series/2017 Season/Spring Qualif...  None  6.24    RED   \n",
       "2  EU Challenger Series/2017 Season/Spring Qualif...  None  6.24    RED   \n",
       "3  EU Challenger Series/2017 Season/Spring Qualif...  None  6.24   BLUE   \n",
       "4  EU Challenger Series/2017 Season/Spring Qualif...  None  6.24   BLUE   \n",
       "\n",
       "   duration    teams.BLUE.name  teams.BLUE.total_turret_kills  \\\n",
       "0      2023     Fnatic Academy                             11   \n",
       "1      1782  AlienTech eSports                              3   \n",
       "2      2465            Bobaski                              4   \n",
       "3      1925         Team Forge                             11   \n",
       "4      1507          Team-LDLC                             11   \n",
       "\n",
       "   teams.BLUE.total_inhibitor_kills  teams.BLUE.total_rift_herald_kills  \\\n",
       "0                                 3                                   0   \n",
       "1                                 0                                   0   \n",
       "2                                 0                                   0   \n",
       "3                                 4                                   0   \n",
       "4                                 3                                   0   \n",
       "\n",
       "   teams.BLUE.total_dragon_kills  teams.BLUE.total_baron_kills  \\\n",
       "0                              2                             1   \n",
       "1                              0                             0   \n",
       "2                              0                             0   \n",
       "3                              4                             1   \n",
       "4                              1                             1   \n",
       "\n",
       "  teams.BLUE.side   teams.RED.name  teams.RED.total_turret_kills  \\\n",
       "0            BLUE  EURONICS Gaming                             4   \n",
       "1            BLUE     Team Larssen                             7   \n",
       "2            BLUE             Nerv                             9   \n",
       "3            BLUE   Tricked Esport                             0   \n",
       "4            BLUE    ASUS ROG Army                             1   \n",
       "\n",
       "   teams.RED.total_inhibitor_kills  teams.RED.total_rift_herald_kills  \\\n",
       "0                                0                                  0   \n",
       "1                                1                                  1   \n",
       "2                                1                                  0   \n",
       "3                                0                                  0   \n",
       "4                                0                                  0   \n",
       "\n",
       "   teams.RED.total_dragon_kills  teams.RED.total_baron_kills teams.RED.side  \n",
       "0                             1                            0            RED  \n",
       "1                             2                            1            RED  \n",
       "2                             3                            1            RED  \n",
       "3                             0                            1            RED  \n",
       "4                             0                            0            RED  "
      ]
     },
     "execution_count": 185,
     "metadata": {},
     "output_type": "execute_result"
    }
   ],
   "source": [
    "#Make a dataframe dedicated to the teams \n",
    "df_teams.drop(['teams.BLUE.players', 'teams.RED.players', 'picks_bans'], axis=1, inplace=True)\n",
    "df_teams.head()"
   ]
  },
  {
   "cell_type": "code",
   "execution_count": 186,
   "id": "c847d0b3",
   "metadata": {},
   "outputs": [
    {
     "data": {
      "text/html": [
       "<div>\n",
       "<style scoped>\n",
       "    .dataframe tbody tr th:only-of-type {\n",
       "        vertical-align: middle;\n",
       "    }\n",
       "\n",
       "    .dataframe tbody tr th {\n",
       "        vertical-align: top;\n",
       "    }\n",
       "\n",
       "    .dataframe thead th {\n",
       "        text-align: right;\n",
       "    }\n",
       "</style>\n",
       "<table border=\"1\" class=\"dataframe\">\n",
       "  <thead>\n",
       "    <tr style=\"text-align: right;\">\n",
       "      <th></th>\n",
       "      <th>name</th>\n",
       "      <th>id</th>\n",
       "      <th>role</th>\n",
       "      <th>champion_name</th>\n",
       "      <th>champion_id</th>\n",
       "      <th>gold_15</th>\n",
       "      <th>kills_assists_15</th>\n",
       "      <th>deaths_15</th>\n",
       "      <th>total_gold</th>\n",
       "      <th>total_cs</th>\n",
       "      <th>total_kills</th>\n",
       "      <th>total_monster_kills</th>\n",
       "      <th>total_assists</th>\n",
       "      <th>total_deaths</th>\n",
       "      <th>total_damage_taken</th>\n",
       "      <th>total_damage_dealt</th>\n",
       "      <th>win</th>\n",
       "      <th>side</th>\n",
       "    </tr>\n",
       "  </thead>\n",
       "  <tbody>\n",
       "    <tr>\n",
       "      <th>137381</th>\n",
       "      <td>Blank</td>\n",
       "      <td>192473.0</td>\n",
       "      <td>JGL</td>\n",
       "      <td>Hecarim</td>\n",
       "      <td>120</td>\n",
       "      <td>5647.0</td>\n",
       "      <td>5.0</td>\n",
       "      <td>1.0</td>\n",
       "      <td>11734</td>\n",
       "      <td>214</td>\n",
       "      <td>2</td>\n",
       "      <td>189</td>\n",
       "      <td>3</td>\n",
       "      <td>1</td>\n",
       "      <td>27350</td>\n",
       "      <td>191306</td>\n",
       "      <td>False</td>\n",
       "      <td>BLUE</td>\n",
       "    </tr>\n",
       "    <tr>\n",
       "      <th>47736</th>\n",
       "      <td>Breaker</td>\n",
       "      <td>193037.0</td>\n",
       "      <td>JGL</td>\n",
       "      <td>Olaf</td>\n",
       "      <td>2</td>\n",
       "      <td>4513.0</td>\n",
       "      <td>10.0</td>\n",
       "      <td>6.0</td>\n",
       "      <td>11542</td>\n",
       "      <td>176</td>\n",
       "      <td>2</td>\n",
       "      <td>147</td>\n",
       "      <td>8</td>\n",
       "      <td>6</td>\n",
       "      <td>33856</td>\n",
       "      <td>148431</td>\n",
       "      <td>True</td>\n",
       "      <td>BLUE</td>\n",
       "    </tr>\n",
       "    <tr>\n",
       "      <th>31408</th>\n",
       "      <td>K1ng</td>\n",
       "      <td>170595.0</td>\n",
       "      <td>BOT</td>\n",
       "      <td>Varus</td>\n",
       "      <td>110</td>\n",
       "      <td>5207.0</td>\n",
       "      <td>13.0</td>\n",
       "      <td>3.0</td>\n",
       "      <td>25089</td>\n",
       "      <td>577</td>\n",
       "      <td>5</td>\n",
       "      <td>68</td>\n",
       "      <td>8</td>\n",
       "      <td>3</td>\n",
       "      <td>24186</td>\n",
       "      <td>450630</td>\n",
       "      <td>True</td>\n",
       "      <td>BLUE</td>\n",
       "    </tr>\n",
       "    <tr>\n",
       "      <th>45305</th>\n",
       "      <td>Luana</td>\n",
       "      <td>239763.0</td>\n",
       "      <td>TOP</td>\n",
       "      <td>Camille</td>\n",
       "      <td>164</td>\n",
       "      <td>5917.0</td>\n",
       "      <td>9.0</td>\n",
       "      <td>2.0</td>\n",
       "      <td>14889</td>\n",
       "      <td>309</td>\n",
       "      <td>4</td>\n",
       "      <td>36</td>\n",
       "      <td>5</td>\n",
       "      <td>2</td>\n",
       "      <td>21364</td>\n",
       "      <td>222664</td>\n",
       "      <td>True</td>\n",
       "      <td>BLUE</td>\n",
       "    </tr>\n",
       "    <tr>\n",
       "      <th>52811</th>\n",
       "      <td>Erasus</td>\n",
       "      <td>276051.0</td>\n",
       "      <td>JGL</td>\n",
       "      <td>Lee Sin</td>\n",
       "      <td>64</td>\n",
       "      <td>4679.0</td>\n",
       "      <td>1.0</td>\n",
       "      <td>5.0</td>\n",
       "      <td>9194</td>\n",
       "      <td>164</td>\n",
       "      <td>0</td>\n",
       "      <td>148</td>\n",
       "      <td>1</td>\n",
       "      <td>5</td>\n",
       "      <td>27652</td>\n",
       "      <td>155381</td>\n",
       "      <td>False</td>\n",
       "      <td>BLUE</td>\n",
       "    </tr>\n",
       "  </tbody>\n",
       "</table>\n",
       "</div>"
      ],
      "text/plain": [
       "           name        id role champion_name  champion_id  gold_15  \\\n",
       "137381    Blank  192473.0  JGL       Hecarim          120   5647.0   \n",
       "47736   Breaker  193037.0  JGL          Olaf            2   4513.0   \n",
       "31408      K1ng  170595.0  BOT         Varus          110   5207.0   \n",
       "45305     Luana  239763.0  TOP       Camille          164   5917.0   \n",
       "52811    Erasus  276051.0  JGL       Lee Sin           64   4679.0   \n",
       "\n",
       "        kills_assists_15  deaths_15  total_gold  total_cs  total_kills  \\\n",
       "137381               5.0        1.0       11734       214            2   \n",
       "47736               10.0        6.0       11542       176            2   \n",
       "31408               13.0        3.0       25089       577            5   \n",
       "45305                9.0        2.0       14889       309            4   \n",
       "52811                1.0        5.0        9194       164            0   \n",
       "\n",
       "        total_monster_kills  total_assists  total_deaths  total_damage_taken  \\\n",
       "137381                  189              3             1               27350   \n",
       "47736                   147              8             6               33856   \n",
       "31408                    68              8             3               24186   \n",
       "45305                    36              5             2               21364   \n",
       "52811                   148              1             5               27652   \n",
       "\n",
       "        total_damage_dealt    win  side  \n",
       "137381              191306  False  BLUE  \n",
       "47736               148431   True  BLUE  \n",
       "31408               450630   True  BLUE  \n",
       "45305               222664   True  BLUE  \n",
       "52811               155381  False  BLUE  "
      ]
     },
     "execution_count": 186,
     "metadata": {},
     "output_type": "execute_result"
    }
   ],
   "source": [
    "#Make a dataframe dedicated to the team BLUE\n",
    "df_normalized_teams['teams.BLUE.players'].explode()\n",
    "df_normalized_BLUE = pd.json_normalize(df_normalized_teams['teams.BLUE.players'].explode())\n",
    "df_BLUE = df_normalized_BLUE.copy()\n",
    "df_BLUE.sample(5)"
   ]
  },
  {
   "cell_type": "code",
   "execution_count": 187,
   "id": "4e5892f4",
   "metadata": {},
   "outputs": [
    {
     "data": {
      "text/html": [
       "<div>\n",
       "<style scoped>\n",
       "    .dataframe tbody tr th:only-of-type {\n",
       "        vertical-align: middle;\n",
       "    }\n",
       "\n",
       "    .dataframe tbody tr th {\n",
       "        vertical-align: top;\n",
       "    }\n",
       "\n",
       "    .dataframe thead th {\n",
       "        text-align: right;\n",
       "    }\n",
       "</style>\n",
       "<table border=\"1\" class=\"dataframe\">\n",
       "  <thead>\n",
       "    <tr style=\"text-align: right;\">\n",
       "      <th></th>\n",
       "      <th>name</th>\n",
       "      <th>id</th>\n",
       "      <th>role</th>\n",
       "      <th>champion_name</th>\n",
       "      <th>champion_id</th>\n",
       "      <th>gold_15</th>\n",
       "      <th>kills_assists_15</th>\n",
       "      <th>deaths_15</th>\n",
       "      <th>total_gold</th>\n",
       "      <th>total_cs</th>\n",
       "      <th>total_kills</th>\n",
       "      <th>total_monster_kills</th>\n",
       "      <th>total_assists</th>\n",
       "      <th>total_deaths</th>\n",
       "      <th>total_damage_taken</th>\n",
       "      <th>total_damage_dealt</th>\n",
       "      <th>win</th>\n",
       "      <th>side</th>\n",
       "    </tr>\n",
       "  </thead>\n",
       "  <tbody>\n",
       "    <tr>\n",
       "      <th>127518</th>\n",
       "      <td>Zeypher</td>\n",
       "      <td>206453.0</td>\n",
       "      <td>BOT</td>\n",
       "      <td>Ashe</td>\n",
       "      <td>22</td>\n",
       "      <td>5002.0</td>\n",
       "      <td>4.0</td>\n",
       "      <td>3.0</td>\n",
       "      <td>10111</td>\n",
       "      <td>256</td>\n",
       "      <td>1</td>\n",
       "      <td>12</td>\n",
       "      <td>3</td>\n",
       "      <td>3</td>\n",
       "      <td>10574</td>\n",
       "      <td>128161</td>\n",
       "      <td>False</td>\n",
       "      <td>RED</td>\n",
       "    </tr>\n",
       "    <tr>\n",
       "      <th>149535</th>\n",
       "      <td>Low</td>\n",
       "      <td>306455.0</td>\n",
       "      <td>TOP</td>\n",
       "      <td>Gnar</td>\n",
       "      <td>150</td>\n",
       "      <td>4701.0</td>\n",
       "      <td>1.0</td>\n",
       "      <td>4.0</td>\n",
       "      <td>8693</td>\n",
       "      <td>230</td>\n",
       "      <td>0</td>\n",
       "      <td>0</td>\n",
       "      <td>1</td>\n",
       "      <td>4</td>\n",
       "      <td>17791</td>\n",
       "      <td>108487</td>\n",
       "      <td>False</td>\n",
       "      <td>RED</td>\n",
       "    </tr>\n",
       "    <tr>\n",
       "      <th>153406</th>\n",
       "      <td>Pyosik</td>\n",
       "      <td>350277.0</td>\n",
       "      <td>JGL</td>\n",
       "      <td>Lillia</td>\n",
       "      <td>876</td>\n",
       "      <td>4574.0</td>\n",
       "      <td>6.0</td>\n",
       "      <td>4.0</td>\n",
       "      <td>11085</td>\n",
       "      <td>231</td>\n",
       "      <td>0</td>\n",
       "      <td>182</td>\n",
       "      <td>6</td>\n",
       "      <td>4</td>\n",
       "      <td>33282</td>\n",
       "      <td>248953</td>\n",
       "      <td>False</td>\n",
       "      <td>RED</td>\n",
       "    </tr>\n",
       "    <tr>\n",
       "      <th>6224</th>\n",
       "      <td>Nova</td>\n",
       "      <td>186181.0</td>\n",
       "      <td>SUP</td>\n",
       "      <td>Karma</td>\n",
       "      <td>43</td>\n",
       "      <td>2925.0</td>\n",
       "      <td>6.0</td>\n",
       "      <td>1.0</td>\n",
       "      <td>12054</td>\n",
       "      <td>49</td>\n",
       "      <td>1</td>\n",
       "      <td>0</td>\n",
       "      <td>5</td>\n",
       "      <td>1</td>\n",
       "      <td>14201</td>\n",
       "      <td>27303</td>\n",
       "      <td>False</td>\n",
       "      <td>RED</td>\n",
       "    </tr>\n",
       "    <tr>\n",
       "      <th>55495</th>\n",
       "      <td>Thal</td>\n",
       "      <td>200983.0</td>\n",
       "      <td>TOP</td>\n",
       "      <td>Urgot</td>\n",
       "      <td>6</td>\n",
       "      <td>4560.0</td>\n",
       "      <td>12.0</td>\n",
       "      <td>4.0</td>\n",
       "      <td>15430</td>\n",
       "      <td>309</td>\n",
       "      <td>3</td>\n",
       "      <td>14</td>\n",
       "      <td>9</td>\n",
       "      <td>4</td>\n",
       "      <td>26113</td>\n",
       "      <td>233131</td>\n",
       "      <td>True</td>\n",
       "      <td>RED</td>\n",
       "    </tr>\n",
       "  </tbody>\n",
       "</table>\n",
       "</div>"
      ],
      "text/plain": [
       "           name        id role champion_name  champion_id  gold_15  \\\n",
       "127518  Zeypher  206453.0  BOT          Ashe           22   5002.0   \n",
       "149535      Low  306455.0  TOP          Gnar          150   4701.0   \n",
       "153406   Pyosik  350277.0  JGL        Lillia          876   4574.0   \n",
       "6224       Nova  186181.0  SUP         Karma           43   2925.0   \n",
       "55495      Thal  200983.0  TOP         Urgot            6   4560.0   \n",
       "\n",
       "        kills_assists_15  deaths_15  total_gold  total_cs  total_kills  \\\n",
       "127518               4.0        3.0       10111       256            1   \n",
       "149535               1.0        4.0        8693       230            0   \n",
       "153406               6.0        4.0       11085       231            0   \n",
       "6224                 6.0        1.0       12054        49            1   \n",
       "55495               12.0        4.0       15430       309            3   \n",
       "\n",
       "        total_monster_kills  total_assists  total_deaths  total_damage_taken  \\\n",
       "127518                   12              3             3               10574   \n",
       "149535                    0              1             4               17791   \n",
       "153406                  182              6             4               33282   \n",
       "6224                      0              5             1               14201   \n",
       "55495                    14              9             4               26113   \n",
       "\n",
       "        total_damage_dealt    win side  \n",
       "127518              128161  False  RED  \n",
       "149535              108487  False  RED  \n",
       "153406              248953  False  RED  \n",
       "6224                 27303  False  RED  \n",
       "55495               233131   True  RED  "
      ]
     },
     "execution_count": 187,
     "metadata": {},
     "output_type": "execute_result"
    }
   ],
   "source": [
    "#Make a dataframe dedicated to the team RED\n",
    "df_normalized_teams['teams.RED.players'].explode()\n",
    "df_normalized_RED = pd.json_normalize(df_normalized_teams['teams.RED.players'].explode())\n",
    "df_RED = df_normalized_RED.copy()\n",
    "df_RED.sample(5)"
   ]
  },
  {
   "cell_type": "code",
   "execution_count": 188,
   "id": "57d5c273",
   "metadata": {},
   "outputs": [
    {
     "data": {
      "text/plain": [
       "champion_name    0.019285\n",
       "is_ban           0.019285\n",
       "dtype: float64"
      ]
     },
     "execution_count": 188,
     "metadata": {},
     "output_type": "execute_result"
    }
   ],
   "source": [
    "#Make a dataframe dedicated to the Bans\n",
    "df_normalized_teams['picks_bans'].explode()\n",
    "df_normalized_BANS = pd.json_normalize(df_normalized_teams['picks_bans'].explode())\n",
    "df_BANS = df_normalized_BANS.copy()\n",
    "df_BANS.isnull().sum()/len(df_BANS)"
   ]
  },
  {
   "cell_type": "markdown",
   "id": "9a939e3b",
   "metadata": {},
   "source": [
    "##  Include the game id to match later different DataFrames\n",
    "\n",
    "We have two different dataframes for team Blue and team Red, later, we can merge them on the game id. This will also be useful when we want to come back for the y parameter! "
   ]
  },
  {
   "cell_type": "code",
   "execution_count": 189,
   "id": "22f9bd40",
   "metadata": {},
   "outputs": [],
   "source": [
    "get_index = df_normalized_teams['id'].tolist()\n",
    "index_preproc = np.asarray([[index] * 5 for index in get_index])\n",
    "index_teams = index_preproc.reshape(len(df_normalized_teams) * 5).tolist()\n",
    "df_RED['game_id'] = index_teams\n",
    "df_BLUE['game_id'] = index_teams"
   ]
  },
  {
   "cell_type": "markdown",
   "id": "467e4a2e",
   "metadata": {},
   "source": [
    "# Filter years that are going to be analyzed"
   ]
  },
  {
   "cell_type": "code",
   "execution_count": 190,
   "id": "6848b44f",
   "metadata": {},
   "outputs": [
    {
     "name": "stdout",
     "output_type": "stream",
     "text": [
      "Number of games in nan: 0\n"
     ]
    }
   ],
   "source": [
    "# Get the years and the number of games played\n",
    "df_normalized_teams['start'] = pd.to_datetime(df_normalized_teams['start'])\n",
    "df_normalized_teams['year'] = pd.DatetimeIndex(df_normalized_teams['start']).year\n",
    "games_year = df_normalized_teams.year.unique()\n",
    "\n",
    "for year in games_year:\n",
    "    N_games = len(df_normalized_teams[df_normalized_teams['year'] == year])\n",
    "    print(f'Number of games in {year}: {N_games}')"
   ]
  },
  {
   "cell_type": "code",
   "execution_count": 191,
   "id": "d01a0419",
   "metadata": {},
   "outputs": [],
   "source": [
    "# Function that returns a Dataframe just with the years of interest\n",
    "def choose_years_to_work(df, *args):\n",
    "    years_dict = {}\n",
    "    for year in args:\n",
    "        years_dict[year] = df[df['year'] == year]\n",
    "    return pd.concat(years_dict).droplevel(0)\n",
    "\n",
    "df_data_by_year = choose_years_to_work(df_normalized_teams, 2021)\n",
    "df_data_by_year.drop('start', axis=1, inplace=True)"
   ]
  },
  {
   "cell_type": "markdown",
   "id": "9c3b2035",
   "metadata": {
    "heading_collapsed": true
   },
   "source": [
    "# [SKIP] Retrieve the champions stats given a champion id and merge with the BLUE/RED team\n",
    "\n",
    "From the page https://ddragon.leagueoflegends.com/cdn/12.3.1/data/en_US/champion.json, get the stats of a champion given a key or id value."
   ]
  },
  {
   "cell_type": "code",
   "execution_count": 192,
   "id": "f53d1b8f",
   "metadata": {
    "hidden": true
   },
   "outputs": [
    {
     "data": {
      "text/plain": [
       "\"champion_description = '../raw_data/lol_12_3_1.json'\\n\\nwith open(champion_description) as data_file:    \\n    data_champions = json.load(data_file)\""
      ]
     },
     "execution_count": 192,
     "metadata": {},
     "output_type": "execute_result"
    }
   ],
   "source": [
    "'''champion_description = '../raw_data/lol_12_3_1.json'\n",
    "\n",
    "with open(champion_description) as data_file:    \n",
    "    data_champions = json.load(data_file)'''"
   ]
  },
  {
   "cell_type": "code",
   "execution_count": 193,
   "id": "d33407d8",
   "metadata": {
    "hidden": true
   },
   "outputs": [
    {
     "data": {
      "text/plain": [
       "\"champions_dict = {}\\nchampions_names = list(data_champions['data'].keys())\\nfor champion in champions_names:\\n    champions_dict[int(data_champions['data'][champion]['key'])] = data_champions['data'][champion]['stats']\\nchampions_df = pd.DataFrame(champions_dict)\\nchampions_df = champions_df.T\\nchampions_df.reset_index(level=0, inplace=True)\\nchampions_df['champion'] = champions_df['index']\\nchampions_df.drop('index', axis=1, inplace=True)\\nchampions_df\""
      ]
     },
     "execution_count": 193,
     "metadata": {},
     "output_type": "execute_result"
    }
   ],
   "source": [
    "# get the key and the stats for every champion in this version\n",
    "# create a new dictionary with only the values of interest\n",
    "\n",
    "'''champions_dict = {}\n",
    "champions_names = list(data_champions['data'].keys())\n",
    "for champion in champions_names:\n",
    "    champions_dict[int(data_champions['data'][champion]['key'])] = data_champions['data'][champion]['stats']\n",
    "champions_df = pd.DataFrame(champions_dict)\n",
    "champions_df = champions_df.T\n",
    "champions_df.reset_index(level=0, inplace=True)\n",
    "champions_df['champion'] = champions_df['index']\n",
    "champions_df.drop('index', axis=1, inplace=True)\n",
    "champions_df'''"
   ]
  },
  {
   "cell_type": "code",
   "execution_count": 194,
   "id": "aa7a62f7",
   "metadata": {
    "hidden": true
   },
   "outputs": [
    {
     "data": {
      "text/plain": [
       "\"df_BLUE = pd.merge(df_normalized_BLUE, champions_df, left_on='champion_id', right_on='champion', how='left')\\ndf_BLUE.drop(['champion', 'champion_id'], axis=1, inplace=True)\""
      ]
     },
     "execution_count": 194,
     "metadata": {},
     "output_type": "execute_result"
    }
   ],
   "source": [
    "#Merge with BLUE team and drop the id of the champion, no needed anymore\n",
    "'''df_BLUE = pd.merge(df_normalized_BLUE, champions_df, left_on='champion_id', right_on='champion', how='left')\n",
    "df_BLUE.drop(['champion', 'champion_id'], axis=1, inplace=True)'''"
   ]
  },
  {
   "cell_type": "code",
   "execution_count": 195,
   "id": "af51e523",
   "metadata": {
    "hidden": true
   },
   "outputs": [
    {
     "data": {
      "text/plain": [
       "\"df_RED = pd.merge(df_normalized_RED, champions_df, left_on='champion_id', right_on='champion', how='left')\\ndf_RED.drop(['champion', 'champion_id'], axis=1, inplace=True)\""
      ]
     },
     "execution_count": 195,
     "metadata": {},
     "output_type": "execute_result"
    }
   ],
   "source": [
    "#Merge with RED team and drop the id of the champion, no needed anymore\n",
    "'''df_RED = pd.merge(df_normalized_RED, champions_df, left_on='champion_id', right_on='champion', how='left')\n",
    "df_RED.drop(['champion', 'champion_id'], axis=1, inplace=True)'''"
   ]
  },
  {
   "cell_type": "code",
   "execution_count": 196,
   "id": "fcde4a3c",
   "metadata": {
    "hidden": true,
    "scrolled": true
   },
   "outputs": [],
   "source": [
    "# do some feature engineering"
   ]
  },
  {
   "cell_type": "markdown",
   "id": "9a9f98ed",
   "metadata": {
    "heading_collapsed": true
   },
   "source": [
    "# [Skip] Merged Blue and Red data"
   ]
  },
  {
   "cell_type": "markdown",
   "id": "db251865",
   "metadata": {
    "hidden": true
   },
   "source": [
    "df_BLUE_RED = pd.merge(df_BLUE, df_RED, left_on='game_id', right_on='game_id', how='left')\n",
    "df_BLUE_RED.sample(5)"
   ]
  },
  {
   "cell_type": "markdown",
   "id": "97acc81f",
   "metadata": {
    "hidden": true
   },
   "source": [
    "df_BLUE_RED.keys()"
   ]
  },
  {
   "cell_type": "markdown",
   "id": "78fd8f23",
   "metadata": {
    "hidden": true
   },
   "source": [
    "df_BLUE_RED.info()"
   ]
  },
  {
   "cell_type": "markdown",
   "id": "9b784a6c",
   "metadata": {
    "hidden": true
   },
   "source": [
    "from sklearn.preprocessing import LabelEncoder\n",
    "\n",
    "y = LabelEncoder().fit(df_BLUE_RED.win_x).transform(df_BLUE_RED.win_x)\n",
    "y.sum(), y.sum()/len(y)"
   ]
  },
  {
   "cell_type": "markdown",
   "id": "28461b80",
   "metadata": {
    "hidden": true
   },
   "source": [
    "df_BLUE_RED.drop(['name_x', 'id_x', 'champion_id_x', 'win_x', 'side_x', 'game_id', 'name_y', 'id_y', 'champion_id_y', 'win_y', 'side_y'], axis=1, inplace=True)"
   ]
  },
  {
   "cell_type": "markdown",
   "id": "0f51ce98",
   "metadata": {
    "hidden": true
   },
   "source": [
    "df_BLUE_RED.keys()"
   ]
  },
  {
   "cell_type": "markdown",
   "id": "95a41b11",
   "metadata": {
    "hidden": true
   },
   "source": [
    "from sklearn.preprocessing import OneHotEncoder\n",
    "\n",
    "ohe = OneHotEncoder(sparse = False, handle_unknown='ignore')\n",
    "ohe.fit(df_BLUE_RED[['role_x']])\n",
    "blue_role_encoded = ohe.transform(df_BLUE_RED[['role_x']])\n",
    "red_role_encoded = ohe.transform(df_BLUE_RED[['role_y']])\n",
    "ohe.categories_"
   ]
  },
  {
   "cell_type": "markdown",
   "id": "6490b4d2",
   "metadata": {
    "hidden": true
   },
   "source": [
    "df_BLUE_RED['Blue_BOT'], df_BLUE_RED['Blue_JGL'], df_BLUE_RED['Blue_MID'], df_BLUE_RED['Blue_SUP'], df_BLUE_RED['Blue_TOP'] = blue_role_encoded.T\n",
    "df_BLUE_RED.drop('role_x', axis=1, inplace=True)\n",
    "df_BLUE_RED.sample(5)"
   ]
  },
  {
   "cell_type": "markdown",
   "id": "4ef950c1",
   "metadata": {
    "hidden": true
   },
   "source": [
    "df_BLUE_RED['Red_BOT'], df_BLUE_RED['Red_JGL'], df_BLUE_RED['Red_MID'], df_BLUE_RED['Red_SUP'], df_BLUE_RED['Red_TOP'] = red_role_encoded.T\n",
    "df_BLUE_RED.drop('role_y', axis=1, inplace=True)\n",
    "df_BLUE_RED.sample(5)"
   ]
  },
  {
   "cell_type": "markdown",
   "id": "ba4728ef",
   "metadata": {
    "hidden": true
   },
   "source": [
    "ohe_champ = OneHotEncoder(sparse = False, handle_unknown='ignore')\n",
    "ohe_champ.fit(df_BLUE_RED[['champion_name_x']])\n",
    "blue_champ_role_encoded = ohe_champ.transform(df_BLUE_RED[['champion_name_x']])\n",
    "red_champ_role_encoded = ohe_champ.transform(df_BLUE_RED[['champion_name_y']])\n",
    "ohe_champ.categories_"
   ]
  },
  {
   "cell_type": "markdown",
   "id": "f6ef2eef",
   "metadata": {
    "hidden": true
   },
   "source": [
    "df_BLUE_RED['Blue_BOT'], df_BLUE_RED['Blue_JGL'], df_BLUE_RED['Blue_MID'], df_BLUE_RED['Blue_SUP'], df_BLUE_RED['Blue_TOP'] = blue_role_encoded.T\n",
    "df_BLUE_RED.drop('role_x', axis=1, inplace=True)\n",
    "df_BLUE_RED.sample(5)"
   ]
  },
  {
   "cell_type": "markdown",
   "id": "357533e7",
   "metadata": {},
   "source": [
    "# ML model"
   ]
  },
  {
   "cell_type": "code",
   "execution_count": 199,
   "id": "70ddc2db",
   "metadata": {},
   "outputs": [
    {
     "data": {
      "text/plain": [
       "Pipeline(memory=None,\n",
       "         steps=[('columntransformer',\n",
       "                 ColumnTransformer(n_jobs=None, remainder='passthrough',\n",
       "                                   sparse_threshold=0.3,\n",
       "                                   transformer_weights=None,\n",
       "                                   transformers=[('pipeline',\n",
       "                                                  Pipeline(memory=None,\n",
       "                                                           steps=[('simpleimputer',\n",
       "                                                                   SimpleImputer(add_indicator=False,\n",
       "                                                                                 copy=True,\n",
       "                                                                                 fill_value=None,\n",
       "                                                                                 missing_values=nan,\n",
       "                                                                                 strategy='mean',\n",
       "                                                                                 verbose=0)),\n",
       "                                                                  ('minmaxscaler',\n",
       "                                                                   MinMaxS...\n",
       "                                                  <sklearn.compose._column_transformer.make_column_selector object at 0x7fbfeb761a90>)],\n",
       "                                   verbose=False)),\n",
       "                ('logisticregression',\n",
       "                 LogisticRegression(C=1.0, class_weight=None, dual=False,\n",
       "                                    fit_intercept=True, intercept_scaling=1,\n",
       "                                    l1_ratio=None, max_iter=100,\n",
       "                                    multi_class='auto', n_jobs=None,\n",
       "                                    penalty='l2', random_state=None,\n",
       "                                    solver='liblinear', tol=0.0001, verbose=0,\n",
       "                                    warm_start=False))],\n",
       "         verbose=False)"
      ]
     },
     "execution_count": 199,
     "metadata": {},
     "output_type": "execute_result"
    }
   ],
   "source": [
    "from sklearn.preprocessing import MinMaxScaler\n",
    "from sklearn.impute import SimpleImputer\n",
    "from sklearn.pipeline import make_pipeline\n",
    "from sklearn.linear_model import LogisticRegression\n",
    "from sklearn.compose import make_column_transformer\n",
    "from sklearn.compose import make_column_selector\n",
    "\n",
    "# Impute then Scale for numerical variables: \n",
    "num_transformer = make_pipeline(\n",
    "                    SimpleImputer(strategy = 'mean'),\n",
    "                    MinMaxScaler())\n",
    "\n",
    "# Encode categorical variables\n",
    "cat_transformer = OneHotEncoder(sparse = False, handle_unknown='ignore')\n",
    "\n",
    "# Paralellize \"num_transformer\" and \"One hot encoder\"\n",
    "preproc = make_column_transformer(\n",
    "    (num_transformer, make_column_selector(dtype_include=['float64'])),\n",
    "    (cat_transformer, make_column_selector(dtype_include=['object','bool'])),\n",
    "    remainder='passthrough')\n",
    "\n",
    "#add model\n",
    "pipe = make_pipeline(preproc, LogisticRegression(solver='liblinear'))\n",
    "pipe"
   ]
  },
  {
   "cell_type": "code",
   "execution_count": 203,
   "id": "eb802041",
   "metadata": {},
   "outputs": [
    {
     "data": {
      "text/plain": [
       "Index(['name', 'id', 'role', 'champion_name', 'champion_id', 'gold_15',\n",
       "       'kills_assists_15', 'deaths_15', 'total_gold', 'total_cs',\n",
       "       'total_kills', 'total_monster_kills', 'total_assists', 'total_deaths',\n",
       "       'total_damage_taken', 'total_damage_dealt', 'win', 'side', 'game_id'],\n",
       "      dtype='object')"
      ]
     },
     "execution_count": 203,
     "metadata": {},
     "output_type": "execute_result"
    }
   ],
   "source": [
    "df_BLUE.keys()"
   ]
  },
  {
   "cell_type": "code",
   "execution_count": 200,
   "id": "0fa016c2",
   "metadata": {},
   "outputs": [],
   "source": [
    "from sklearn.preprocessing import LabelEncoder\n",
    "\n",
    "y = LabelEncoder().fit(df_normalized_teams.winner).transform(df_normalized_teams.winner)\n",
    "X_pre = df_BLUE.drop(['name', 'id', 'win', 'champion_id', 'side'], axis=1).groupby('game_id').sum()\n",
    "X = X_pre"
   ]
  },
  {
   "cell_type": "code",
   "execution_count": 201,
   "id": "4e172c3d",
   "metadata": {},
   "outputs": [],
   "source": [
    "from sklearn.model_selection import train_test_split\n",
    "\n",
    "X_train, X_test, y_train, y_test = train_test_split(X, y, test_size=0.33, random_state=42)"
   ]
  },
  {
   "cell_type": "code",
   "execution_count": 202,
   "id": "a6b72991",
   "metadata": {},
   "outputs": [
    {
     "name": "stdout",
     "output_type": "stream",
     "text": [
      "<class 'pandas.core.frame.DataFrame'>\n",
      "Index: 23664 entries, LST/2019 Season/Summer/Scoreboards/Week 7_4_1 to LCS/2019 Season/Spring Season/Scoreboards/Week 9_10_1\n",
      "Data columns (total 11 columns):\n",
      " #   Column               Non-Null Count  Dtype  \n",
      "---  ------               --------------  -----  \n",
      " 0   gold_15              23664 non-null  float64\n",
      " 1   kills_assists_15     23664 non-null  float64\n",
      " 2   deaths_15            23664 non-null  float64\n",
      " 3   total_gold           23664 non-null  int64  \n",
      " 4   total_cs             23664 non-null  int64  \n",
      " 5   total_kills          23664 non-null  int64  \n",
      " 6   total_monster_kills  23664 non-null  int64  \n",
      " 7   total_assists        23664 non-null  int64  \n",
      " 8   total_deaths         23664 non-null  int64  \n",
      " 9   total_damage_taken   23664 non-null  int64  \n",
      " 10  total_damage_dealt   23664 non-null  int64  \n",
      "dtypes: float64(3), int64(8)\n",
      "memory usage: 2.2+ MB\n"
     ]
    }
   ],
   "source": [
    "X_train.info()"
   ]
  },
  {
   "cell_type": "code",
   "execution_count": 178,
   "id": "1ac34a2e",
   "metadata": {},
   "outputs": [
    {
     "data": {
      "text/plain": [
       "0.5325154426904598"
      ]
     },
     "execution_count": 178,
     "metadata": {},
     "output_type": "execute_result"
    }
   ],
   "source": [
    "# Train pipeline\n",
    "pipe.fit(X_train,y_train)\n",
    "\n",
    "# Make predictions\n",
    "pipe.predict(X_test.iloc[0:2])\n",
    "\n",
    "# Score model\n",
    "pipe.score(X_test,y_test)"
   ]
  },
  {
   "cell_type": "code",
   "execution_count": 179,
   "id": "50e1d148",
   "metadata": {},
   "outputs": [
    {
     "data": {
      "text/plain": [
       "-0.8608163977257544"
      ]
     },
     "execution_count": 179,
     "metadata": {},
     "output_type": "execute_result"
    }
   ],
   "source": [
    "from sklearn.model_selection import cross_val_score\n",
    "\n",
    "# Cross validate pipeline\n",
    "cross_val_score(pipe, X_train, y_train, cv=10, scoring='r2').mean()"
   ]
  }
 ],
 "metadata": {
  "kernelspec": {
   "display_name": "Python 3 (ipykernel)",
   "language": "python",
   "name": "python3"
  },
  "language_info": {
   "codemirror_mode": {
    "name": "ipython",
    "version": 3
   },
   "file_extension": ".py",
   "mimetype": "text/x-python",
   "name": "python",
   "nbconvert_exporter": "python",
   "pygments_lexer": "ipython3",
   "version": "3.8.12"
  },
  "toc": {
   "base_numbering": 1,
   "nav_menu": {},
   "number_sections": true,
   "sideBar": true,
   "skip_h1_title": false,
   "title_cell": "Table of Contents",
   "title_sidebar": "Contents",
   "toc_cell": false,
   "toc_position": {},
   "toc_section_display": true,
   "toc_window_display": false
  }
 },
 "nbformat": 4,
 "nbformat_minor": 5
}
