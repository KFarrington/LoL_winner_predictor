{
 "cells": [
  {
   "cell_type": "markdown",
   "id": "cd11ed9d",
   "metadata": {},
   "source": [
    "# Import data"
   ]
  },
  {
   "cell_type": "code",
   "execution_count": 74,
   "id": "df21202b",
   "metadata": {},
   "outputs": [],
   "source": [
    "import numpy as np\n",
    "import pandas as pd\n",
    "import json"
   ]
  },
  {
   "cell_type": "code",
   "execution_count": 75,
   "id": "a269d6f5",
   "metadata": {},
   "outputs": [
    {
     "data": {
      "text/plain": [
       "35320"
      ]
     },
     "execution_count": 75,
     "metadata": {},
     "output_type": "execute_result"
    }
   ],
   "source": [
    "file = '../raw_data/full_dump.json'\n",
    "with open(file) as data_file:    \n",
    "    data = json.load(data_file) \n",
    "len(data)"
   ]
  },
  {
   "cell_type": "code",
   "execution_count": 76,
   "id": "10ec5259",
   "metadata": {},
   "outputs": [
    {
     "data": {
      "text/plain": [
       "['EU Challenger Series/2017 Season/Spring Qualifiers/Scoreboards_1_1',\n",
       " 'EU Challenger Series/2017 Season/Spring Qualifiers/Scoreboards_2_1',\n",
       " 'EU Challenger Series/2017 Season/Spring Qualifiers/Scoreboards_3_1',\n",
       " 'EU Challenger Series/2017 Season/Spring Qualifiers/Scoreboards_4_1',\n",
       " 'EU Challenger Series/2017 Season/Spring Qualifiers/Scoreboards_5_1']"
      ]
     },
     "execution_count": 76,
     "metadata": {},
     "output_type": "execute_result"
    }
   ],
   "source": [
    "data_keys = list(data.keys())\n",
    "data_keys[:5]"
   ]
  },
  {
   "cell_type": "code",
   "execution_count": 102,
   "id": "045c791c",
   "metadata": {},
   "outputs": [
    {
     "data": {
      "text/plain": [
       "(array(['2016', '2017', '2018', '2019', '2020', '2021'], dtype='<U4'), 1703)"
      ]
     },
     "execution_count": 102,
     "metadata": {},
     "output_type": "execute_result"
    }
   ],
   "source": [
    "import re\n",
    "\n",
    "pattern = r'(\\d{4})'\n",
    "re.search(pattern, data_keys[2]).group(1)\n",
    "\n",
    "year = []\n",
    "no_year = []\n",
    "for i in range(len(data_keys)):\n",
    "    try:\n",
    "        year.append(re.search(pattern, data_keys[i]).group(1))\n",
    "    except:\n",
    "        no_year.append(data_keys[i])\n",
    "\n",
    "np.unique(year), len(no_year)"
   ]
  },
  {
   "cell_type": "markdown",
   "id": "35f552a1",
   "metadata": {},
   "source": [
    "# Normalize the JSON file\n",
    "\n",
    "Normalize means to expand the nested keys in the JSON file and the subsequent DataFrame."
   ]
  },
  {
   "cell_type": "code",
   "execution_count": 157,
   "id": "dde7e5ca",
   "metadata": {},
   "outputs": [
    {
     "data": {
      "text/html": [
       "<div>\n",
       "<style scoped>\n",
       "    .dataframe tbody tr th:only-of-type {\n",
       "        vertical-align: middle;\n",
       "    }\n",
       "\n",
       "    .dataframe tbody tr th {\n",
       "        vertical-align: top;\n",
       "    }\n",
       "\n",
       "    .dataframe thead th {\n",
       "        text-align: right;\n",
       "    }\n",
       "</style>\n",
       "<table border=\"1\" class=\"dataframe\">\n",
       "  <thead>\n",
       "    <tr style=\"text-align: right;\">\n",
       "      <th></th>\n",
       "      <th>id</th>\n",
       "      <th>start</th>\n",
       "      <th>patch</th>\n",
       "      <th>winner</th>\n",
       "      <th>duration</th>\n",
       "      <th>picks_bans</th>\n",
       "      <th>teams.BLUE.name</th>\n",
       "      <th>teams.BLUE.total_turret_kills</th>\n",
       "      <th>teams.BLUE.total_inhibitor_kills</th>\n",
       "      <th>teams.BLUE.total_rift_herald_kills</th>\n",
       "      <th>...</th>\n",
       "      <th>teams.BLUE.side</th>\n",
       "      <th>teams.BLUE.players</th>\n",
       "      <th>teams.RED.name</th>\n",
       "      <th>teams.RED.total_turret_kills</th>\n",
       "      <th>teams.RED.total_inhibitor_kills</th>\n",
       "      <th>teams.RED.total_rift_herald_kills</th>\n",
       "      <th>teams.RED.total_dragon_kills</th>\n",
       "      <th>teams.RED.total_baron_kills</th>\n",
       "      <th>teams.RED.side</th>\n",
       "      <th>teams.RED.players</th>\n",
       "    </tr>\n",
       "  </thead>\n",
       "  <tbody>\n",
       "    <tr>\n",
       "      <th>2807</th>\n",
       "      <td>NA LCS/2017 Season/Summer Season/Scoreboards/W...</td>\n",
       "      <td>None</td>\n",
       "      <td>7.11</td>\n",
       "      <td>RED</td>\n",
       "      <td>2101</td>\n",
       "      <td>[{'champion_name': 'Aurelion Sol', 'is_ban': T...</td>\n",
       "      <td>Phoenix1</td>\n",
       "      <td>4</td>\n",
       "      <td>0</td>\n",
       "      <td>1</td>\n",
       "      <td>...</td>\n",
       "      <td>BLUE</td>\n",
       "      <td>[{'name': 'zig', 'id': 206495, 'role': 'TOP', ...</td>\n",
       "      <td>Counter Logic Gaming</td>\n",
       "      <td>11</td>\n",
       "      <td>4</td>\n",
       "      <td>0</td>\n",
       "      <td>4</td>\n",
       "      <td>1</td>\n",
       "      <td>RED</td>\n",
       "      <td>[{'name': 'Darshan', 'id': 147449, 'role': 'TO...</td>\n",
       "    </tr>\n",
       "    <tr>\n",
       "      <th>13402</th>\n",
       "      <td>2019 Mid-Season Invitational/Main Event/Scoreb...</td>\n",
       "      <td>None</td>\n",
       "      <td>9.8</td>\n",
       "      <td>RED</td>\n",
       "      <td>2042</td>\n",
       "      <td>[{'champion_name': 'Rek'Sai', 'is_ban': True},...</td>\n",
       "      <td>Team Liquid</td>\n",
       "      <td>4</td>\n",
       "      <td>0</td>\n",
       "      <td>1</td>\n",
       "      <td>...</td>\n",
       "      <td>BLUE</td>\n",
       "      <td>[{'name': 'Impact', 'id': 168666, 'role': 'TOP...</td>\n",
       "      <td>Flash Wolves</td>\n",
       "      <td>9</td>\n",
       "      <td>1</td>\n",
       "      <td>0</td>\n",
       "      <td>3</td>\n",
       "      <td>1</td>\n",
       "      <td>RED</td>\n",
       "      <td>[{'name': 'Hanabi', 'id': 218325, 'role': 'TOP...</td>\n",
       "    </tr>\n",
       "  </tbody>\n",
       "</table>\n",
       "<p>2 rows × 22 columns</p>\n",
       "</div>"
      ],
      "text/plain": [
       "                                                      id start patch winner  \\\n",
       "2807   NA LCS/2017 Season/Summer Season/Scoreboards/W...  None  7.11    RED   \n",
       "13402  2019 Mid-Season Invitational/Main Event/Scoreb...  None   9.8    RED   \n",
       "\n",
       "       duration                                         picks_bans  \\\n",
       "2807       2101  [{'champion_name': 'Aurelion Sol', 'is_ban': T...   \n",
       "13402      2042  [{'champion_name': 'Rek'Sai', 'is_ban': True},...   \n",
       "\n",
       "      teams.BLUE.name  teams.BLUE.total_turret_kills  \\\n",
       "2807         Phoenix1                              4   \n",
       "13402     Team Liquid                              4   \n",
       "\n",
       "       teams.BLUE.total_inhibitor_kills  teams.BLUE.total_rift_herald_kills  \\\n",
       "2807                                  0                                   1   \n",
       "13402                                 0                                   1   \n",
       "\n",
       "       ...  teams.BLUE.side  \\\n",
       "2807   ...             BLUE   \n",
       "13402  ...             BLUE   \n",
       "\n",
       "                                      teams.BLUE.players  \\\n",
       "2807   [{'name': 'zig', 'id': 206495, 'role': 'TOP', ...   \n",
       "13402  [{'name': 'Impact', 'id': 168666, 'role': 'TOP...   \n",
       "\n",
       "             teams.RED.name teams.RED.total_turret_kills  \\\n",
       "2807   Counter Logic Gaming                           11   \n",
       "13402          Flash Wolves                            9   \n",
       "\n",
       "      teams.RED.total_inhibitor_kills  teams.RED.total_rift_herald_kills  \\\n",
       "2807                                4                                  0   \n",
       "13402                               1                                  0   \n",
       "\n",
       "       teams.RED.total_dragon_kills  teams.RED.total_baron_kills  \\\n",
       "2807                              4                            1   \n",
       "13402                             3                            1   \n",
       "\n",
       "       teams.RED.side                                  teams.RED.players  \n",
       "2807              RED  [{'name': 'Darshan', 'id': 147449, 'role': 'TO...  \n",
       "13402             RED  [{'name': 'Hanabi', 'id': 218325, 'role': 'TOP...  \n",
       "\n",
       "[2 rows x 22 columns]"
      ]
     },
     "execution_count": 157,
     "metadata": {},
     "output_type": "execute_result"
    }
   ],
   "source": [
    "#Normalize the complete dataframe and make a copy\n",
    "df_normalized_teams = pd.json_normalize(data.values())\n",
    "df_teams = df_normalized_teams.copy()\n",
    "df_teams.sample(2)"
   ]
  },
  {
   "cell_type": "code",
   "execution_count": 79,
   "id": "8cfa63e2",
   "metadata": {},
   "outputs": [
    {
     "data": {
      "text/html": [
       "<div>\n",
       "<style scoped>\n",
       "    .dataframe tbody tr th:only-of-type {\n",
       "        vertical-align: middle;\n",
       "    }\n",
       "\n",
       "    .dataframe tbody tr th {\n",
       "        vertical-align: top;\n",
       "    }\n",
       "\n",
       "    .dataframe thead th {\n",
       "        text-align: right;\n",
       "    }\n",
       "</style>\n",
       "<table border=\"1\" class=\"dataframe\">\n",
       "  <thead>\n",
       "    <tr style=\"text-align: right;\">\n",
       "      <th></th>\n",
       "      <th>id</th>\n",
       "      <th>start</th>\n",
       "      <th>patch</th>\n",
       "      <th>winner</th>\n",
       "      <th>duration</th>\n",
       "      <th>teams.BLUE.name</th>\n",
       "      <th>teams.BLUE.total_turret_kills</th>\n",
       "      <th>teams.BLUE.total_inhibitor_kills</th>\n",
       "      <th>teams.BLUE.total_rift_herald_kills</th>\n",
       "      <th>teams.BLUE.total_dragon_kills</th>\n",
       "      <th>teams.BLUE.total_baron_kills</th>\n",
       "      <th>teams.BLUE.side</th>\n",
       "      <th>teams.RED.name</th>\n",
       "      <th>teams.RED.total_turret_kills</th>\n",
       "      <th>teams.RED.total_inhibitor_kills</th>\n",
       "      <th>teams.RED.total_rift_herald_kills</th>\n",
       "      <th>teams.RED.total_dragon_kills</th>\n",
       "      <th>teams.RED.total_baron_kills</th>\n",
       "      <th>teams.RED.side</th>\n",
       "    </tr>\n",
       "  </thead>\n",
       "  <tbody>\n",
       "    <tr>\n",
       "      <th>0</th>\n",
       "      <td>EU Challenger Series/2017 Season/Spring Qualif...</td>\n",
       "      <td>None</td>\n",
       "      <td>6.24</td>\n",
       "      <td>BLUE</td>\n",
       "      <td>2023</td>\n",
       "      <td>Fnatic Academy</td>\n",
       "      <td>11</td>\n",
       "      <td>3</td>\n",
       "      <td>0</td>\n",
       "      <td>2</td>\n",
       "      <td>1</td>\n",
       "      <td>BLUE</td>\n",
       "      <td>EURONICS Gaming</td>\n",
       "      <td>4</td>\n",
       "      <td>0</td>\n",
       "      <td>0</td>\n",
       "      <td>1</td>\n",
       "      <td>0</td>\n",
       "      <td>RED</td>\n",
       "    </tr>\n",
       "    <tr>\n",
       "      <th>1</th>\n",
       "      <td>EU Challenger Series/2017 Season/Spring Qualif...</td>\n",
       "      <td>None</td>\n",
       "      <td>6.24</td>\n",
       "      <td>RED</td>\n",
       "      <td>1782</td>\n",
       "      <td>AlienTech eSports</td>\n",
       "      <td>3</td>\n",
       "      <td>0</td>\n",
       "      <td>0</td>\n",
       "      <td>0</td>\n",
       "      <td>0</td>\n",
       "      <td>BLUE</td>\n",
       "      <td>Team Larssen</td>\n",
       "      <td>7</td>\n",
       "      <td>1</td>\n",
       "      <td>1</td>\n",
       "      <td>2</td>\n",
       "      <td>1</td>\n",
       "      <td>RED</td>\n",
       "    </tr>\n",
       "    <tr>\n",
       "      <th>2</th>\n",
       "      <td>EU Challenger Series/2017 Season/Spring Qualif...</td>\n",
       "      <td>None</td>\n",
       "      <td>6.24</td>\n",
       "      <td>RED</td>\n",
       "      <td>2465</td>\n",
       "      <td>Bobaski</td>\n",
       "      <td>4</td>\n",
       "      <td>0</td>\n",
       "      <td>0</td>\n",
       "      <td>0</td>\n",
       "      <td>0</td>\n",
       "      <td>BLUE</td>\n",
       "      <td>Nerv</td>\n",
       "      <td>9</td>\n",
       "      <td>1</td>\n",
       "      <td>0</td>\n",
       "      <td>3</td>\n",
       "      <td>1</td>\n",
       "      <td>RED</td>\n",
       "    </tr>\n",
       "    <tr>\n",
       "      <th>3</th>\n",
       "      <td>EU Challenger Series/2017 Season/Spring Qualif...</td>\n",
       "      <td>None</td>\n",
       "      <td>6.24</td>\n",
       "      <td>BLUE</td>\n",
       "      <td>1925</td>\n",
       "      <td>Team Forge</td>\n",
       "      <td>11</td>\n",
       "      <td>4</td>\n",
       "      <td>0</td>\n",
       "      <td>4</td>\n",
       "      <td>1</td>\n",
       "      <td>BLUE</td>\n",
       "      <td>Tricked Esport</td>\n",
       "      <td>0</td>\n",
       "      <td>0</td>\n",
       "      <td>0</td>\n",
       "      <td>0</td>\n",
       "      <td>1</td>\n",
       "      <td>RED</td>\n",
       "    </tr>\n",
       "    <tr>\n",
       "      <th>4</th>\n",
       "      <td>EU Challenger Series/2017 Season/Spring Qualif...</td>\n",
       "      <td>None</td>\n",
       "      <td>6.24</td>\n",
       "      <td>BLUE</td>\n",
       "      <td>1507</td>\n",
       "      <td>Team-LDLC</td>\n",
       "      <td>11</td>\n",
       "      <td>3</td>\n",
       "      <td>0</td>\n",
       "      <td>1</td>\n",
       "      <td>1</td>\n",
       "      <td>BLUE</td>\n",
       "      <td>ASUS ROG Army</td>\n",
       "      <td>1</td>\n",
       "      <td>0</td>\n",
       "      <td>0</td>\n",
       "      <td>0</td>\n",
       "      <td>0</td>\n",
       "      <td>RED</td>\n",
       "    </tr>\n",
       "  </tbody>\n",
       "</table>\n",
       "</div>"
      ],
      "text/plain": [
       "                                                  id start patch winner  \\\n",
       "0  EU Challenger Series/2017 Season/Spring Qualif...  None  6.24   BLUE   \n",
       "1  EU Challenger Series/2017 Season/Spring Qualif...  None  6.24    RED   \n",
       "2  EU Challenger Series/2017 Season/Spring Qualif...  None  6.24    RED   \n",
       "3  EU Challenger Series/2017 Season/Spring Qualif...  None  6.24   BLUE   \n",
       "4  EU Challenger Series/2017 Season/Spring Qualif...  None  6.24   BLUE   \n",
       "\n",
       "   duration    teams.BLUE.name  teams.BLUE.total_turret_kills  \\\n",
       "0      2023     Fnatic Academy                             11   \n",
       "1      1782  AlienTech eSports                              3   \n",
       "2      2465            Bobaski                              4   \n",
       "3      1925         Team Forge                             11   \n",
       "4      1507          Team-LDLC                             11   \n",
       "\n",
       "   teams.BLUE.total_inhibitor_kills  teams.BLUE.total_rift_herald_kills  \\\n",
       "0                                 3                                   0   \n",
       "1                                 0                                   0   \n",
       "2                                 0                                   0   \n",
       "3                                 4                                   0   \n",
       "4                                 3                                   0   \n",
       "\n",
       "   teams.BLUE.total_dragon_kills  teams.BLUE.total_baron_kills  \\\n",
       "0                              2                             1   \n",
       "1                              0                             0   \n",
       "2                              0                             0   \n",
       "3                              4                             1   \n",
       "4                              1                             1   \n",
       "\n",
       "  teams.BLUE.side   teams.RED.name  teams.RED.total_turret_kills  \\\n",
       "0            BLUE  EURONICS Gaming                             4   \n",
       "1            BLUE     Team Larssen                             7   \n",
       "2            BLUE             Nerv                             9   \n",
       "3            BLUE   Tricked Esport                             0   \n",
       "4            BLUE    ASUS ROG Army                             1   \n",
       "\n",
       "   teams.RED.total_inhibitor_kills  teams.RED.total_rift_herald_kills  \\\n",
       "0                                0                                  0   \n",
       "1                                1                                  1   \n",
       "2                                1                                  0   \n",
       "3                                0                                  0   \n",
       "4                                0                                  0   \n",
       "\n",
       "   teams.RED.total_dragon_kills  teams.RED.total_baron_kills teams.RED.side  \n",
       "0                             1                            0            RED  \n",
       "1                             2                            1            RED  \n",
       "2                             3                            1            RED  \n",
       "3                             0                            1            RED  \n",
       "4                             0                            0            RED  "
      ]
     },
     "execution_count": 79,
     "metadata": {},
     "output_type": "execute_result"
    }
   ],
   "source": [
    "#Make a dataframe dedicated to the teams \n",
    "df_teams.drop(['teams.BLUE.players', 'teams.RED.players', 'picks_bans'], axis=1, inplace=True)\n",
    "df_teams.head(2)"
   ]
  },
  {
   "cell_type": "code",
   "execution_count": 97,
   "id": "c847d0b3",
   "metadata": {},
   "outputs": [
    {
     "data": {
      "text/html": [
       "<div>\n",
       "<style scoped>\n",
       "    .dataframe tbody tr th:only-of-type {\n",
       "        vertical-align: middle;\n",
       "    }\n",
       "\n",
       "    .dataframe tbody tr th {\n",
       "        vertical-align: top;\n",
       "    }\n",
       "\n",
       "    .dataframe thead th {\n",
       "        text-align: right;\n",
       "    }\n",
       "</style>\n",
       "<table border=\"1\" class=\"dataframe\">\n",
       "  <thead>\n",
       "    <tr style=\"text-align: right;\">\n",
       "      <th></th>\n",
       "      <th>name</th>\n",
       "      <th>id</th>\n",
       "      <th>role</th>\n",
       "      <th>champion_name</th>\n",
       "      <th>champion_id</th>\n",
       "      <th>gold_15</th>\n",
       "      <th>kills_assists_15</th>\n",
       "      <th>deaths_15</th>\n",
       "      <th>total_gold</th>\n",
       "      <th>total_cs</th>\n",
       "      <th>total_kills</th>\n",
       "      <th>total_monster_kills</th>\n",
       "      <th>total_assists</th>\n",
       "      <th>total_deaths</th>\n",
       "      <th>total_damage_taken</th>\n",
       "      <th>total_damage_dealt</th>\n",
       "      <th>win</th>\n",
       "      <th>side</th>\n",
       "    </tr>\n",
       "  </thead>\n",
       "  <tbody>\n",
       "    <tr>\n",
       "      <th>0</th>\n",
       "      <td>Kikis</td>\n",
       "      <td>172122.0</td>\n",
       "      <td>TOP</td>\n",
       "      <td>Nautilus</td>\n",
       "      <td>111</td>\n",
       "      <td>5326.0</td>\n",
       "      <td>8.0</td>\n",
       "      <td>1.0</td>\n",
       "      <td>12504</td>\n",
       "      <td>233</td>\n",
       "      <td>2</td>\n",
       "      <td>0</td>\n",
       "      <td>6</td>\n",
       "      <td>1</td>\n",
       "      <td>18220</td>\n",
       "      <td>156270</td>\n",
       "      <td>True</td>\n",
       "      <td>BLUE</td>\n",
       "    </tr>\n",
       "    <tr>\n",
       "      <th>1</th>\n",
       "      <td>Broxah</td>\n",
       "      <td>193072.0</td>\n",
       "      <td>JGL</td>\n",
       "      <td>Lee Sin</td>\n",
       "      <td>64</td>\n",
       "      <td>5261.0</td>\n",
       "      <td>11.0</td>\n",
       "      <td>1.0</td>\n",
       "      <td>12352</td>\n",
       "      <td>153</td>\n",
       "      <td>4</td>\n",
       "      <td>132</td>\n",
       "      <td>7</td>\n",
       "      <td>1</td>\n",
       "      <td>22212</td>\n",
       "      <td>152183</td>\n",
       "      <td>True</td>\n",
       "      <td>BLUE</td>\n",
       "    </tr>\n",
       "    <tr>\n",
       "      <th>2</th>\n",
       "      <td>Nisqy</td>\n",
       "      <td>185791.0</td>\n",
       "      <td>MID</td>\n",
       "      <td>Syndra</td>\n",
       "      <td>134</td>\n",
       "      <td>6009.0</td>\n",
       "      <td>13.0</td>\n",
       "      <td>1.0</td>\n",
       "      <td>13393</td>\n",
       "      <td>229</td>\n",
       "      <td>5</td>\n",
       "      <td>6</td>\n",
       "      <td>8</td>\n",
       "      <td>1</td>\n",
       "      <td>10647</td>\n",
       "      <td>177681</td>\n",
       "      <td>True</td>\n",
       "      <td>BLUE</td>\n",
       "    </tr>\n",
       "    <tr>\n",
       "      <th>3</th>\n",
       "      <td>MrRallez</td>\n",
       "      <td>183407.0</td>\n",
       "      <td>BOT</td>\n",
       "      <td>Jhin</td>\n",
       "      <td>202</td>\n",
       "      <td>5304.0</td>\n",
       "      <td>11.0</td>\n",
       "      <td>0.0</td>\n",
       "      <td>13969</td>\n",
       "      <td>315</td>\n",
       "      <td>2</td>\n",
       "      <td>5</td>\n",
       "      <td>9</td>\n",
       "      <td>0</td>\n",
       "      <td>9758</td>\n",
       "      <td>228328</td>\n",
       "      <td>True</td>\n",
       "      <td>BLUE</td>\n",
       "    </tr>\n",
       "    <tr>\n",
       "      <th>4</th>\n",
       "      <td>Klaj</td>\n",
       "      <td>171882.0</td>\n",
       "      <td>SUP</td>\n",
       "      <td>Karma</td>\n",
       "      <td>43</td>\n",
       "      <td>2767.0</td>\n",
       "      <td>12.0</td>\n",
       "      <td>0.0</td>\n",
       "      <td>9740</td>\n",
       "      <td>38</td>\n",
       "      <td>1</td>\n",
       "      <td>0</td>\n",
       "      <td>11</td>\n",
       "      <td>0</td>\n",
       "      <td>11917</td>\n",
       "      <td>34299</td>\n",
       "      <td>True</td>\n",
       "      <td>BLUE</td>\n",
       "    </tr>\n",
       "  </tbody>\n",
       "</table>\n",
       "</div>"
      ],
      "text/plain": [
       "       name        id role champion_name  champion_id  gold_15  \\\n",
       "0     Kikis  172122.0  TOP      Nautilus          111   5326.0   \n",
       "1    Broxah  193072.0  JGL       Lee Sin           64   5261.0   \n",
       "2     Nisqy  185791.0  MID        Syndra          134   6009.0   \n",
       "3  MrRallez  183407.0  BOT          Jhin          202   5304.0   \n",
       "4      Klaj  171882.0  SUP         Karma           43   2767.0   \n",
       "\n",
       "   kills_assists_15  deaths_15  total_gold  total_cs  total_kills  \\\n",
       "0               8.0        1.0       12504       233            2   \n",
       "1              11.0        1.0       12352       153            4   \n",
       "2              13.0        1.0       13393       229            5   \n",
       "3              11.0        0.0       13969       315            2   \n",
       "4              12.0        0.0        9740        38            1   \n",
       "\n",
       "   total_monster_kills  total_assists  total_deaths  total_damage_taken  \\\n",
       "0                    0              6             1               18220   \n",
       "1                  132              7             1               22212   \n",
       "2                    6              8             1               10647   \n",
       "3                    5              9             0                9758   \n",
       "4                    0             11             0               11917   \n",
       "\n",
       "   total_damage_dealt   win  side  \n",
       "0              156270  True  BLUE  \n",
       "1              152183  True  BLUE  \n",
       "2              177681  True  BLUE  \n",
       "3              228328  True  BLUE  \n",
       "4               34299  True  BLUE  "
      ]
     },
     "execution_count": 97,
     "metadata": {},
     "output_type": "execute_result"
    }
   ],
   "source": [
    "#Make a dataframe dedicated to the team BLUE\n",
    "df_normalized_teams['teams.BLUE.players'].explode()\n",
    "df_normalized_BLUE = pd.json_normalize(df_normalized_teams['teams.BLUE.players'].explode())\n",
    "df_BLUE = df_normalized_BLUE.copy()\n",
    "df_BLUE.head(5)"
   ]
  },
  {
   "cell_type": "code",
   "execution_count": 100,
   "id": "3d1ae47a",
   "metadata": {},
   "outputs": [
    {
     "data": {
      "text/plain": [
       "35320.0"
      ]
     },
     "execution_count": 100,
     "metadata": {},
     "output_type": "execute_result"
    }
   ],
   "source": [
    "#Check that it matches 5 players per game\n",
    "len(df_BLUE)/5"
   ]
  },
  {
   "cell_type": "code",
   "execution_count": 96,
   "id": "4e5892f4",
   "metadata": {},
   "outputs": [
    {
     "data": {
      "text/html": [
       "<div>\n",
       "<style scoped>\n",
       "    .dataframe tbody tr th:only-of-type {\n",
       "        vertical-align: middle;\n",
       "    }\n",
       "\n",
       "    .dataframe tbody tr th {\n",
       "        vertical-align: top;\n",
       "    }\n",
       "\n",
       "    .dataframe thead th {\n",
       "        text-align: right;\n",
       "    }\n",
       "</style>\n",
       "<table border=\"1\" class=\"dataframe\">\n",
       "  <thead>\n",
       "    <tr style=\"text-align: right;\">\n",
       "      <th></th>\n",
       "      <th>name</th>\n",
       "      <th>id</th>\n",
       "      <th>role</th>\n",
       "      <th>champion_name</th>\n",
       "      <th>champion_id</th>\n",
       "      <th>gold_15</th>\n",
       "      <th>kills_assists_15</th>\n",
       "      <th>deaths_15</th>\n",
       "      <th>total_gold</th>\n",
       "      <th>total_cs</th>\n",
       "      <th>total_kills</th>\n",
       "      <th>total_monster_kills</th>\n",
       "      <th>total_assists</th>\n",
       "      <th>total_deaths</th>\n",
       "      <th>total_damage_taken</th>\n",
       "      <th>total_damage_dealt</th>\n",
       "      <th>win</th>\n",
       "      <th>side</th>\n",
       "    </tr>\n",
       "  </thead>\n",
       "  <tbody>\n",
       "    <tr>\n",
       "      <th>0</th>\n",
       "      <td>Phones</td>\n",
       "      <td>193289.0</td>\n",
       "      <td>TOP</td>\n",
       "      <td>Maokai</td>\n",
       "      <td>57</td>\n",
       "      <td>4528.0</td>\n",
       "      <td>2.0</td>\n",
       "      <td>7.0</td>\n",
       "      <td>9611</td>\n",
       "      <td>190</td>\n",
       "      <td>1</td>\n",
       "      <td>13</td>\n",
       "      <td>1</td>\n",
       "      <td>7</td>\n",
       "      <td>41065</td>\n",
       "      <td>111536</td>\n",
       "      <td>False</td>\n",
       "      <td>RED</td>\n",
       "    </tr>\n",
       "    <tr>\n",
       "      <th>1</th>\n",
       "      <td>Obvious</td>\n",
       "      <td>187241.0</td>\n",
       "      <td>JGL</td>\n",
       "      <td>Rengar</td>\n",
       "      <td>107</td>\n",
       "      <td>4728.0</td>\n",
       "      <td>2.0</td>\n",
       "      <td>1.0</td>\n",
       "      <td>9640</td>\n",
       "      <td>174</td>\n",
       "      <td>0</td>\n",
       "      <td>126</td>\n",
       "      <td>2</td>\n",
       "      <td>1</td>\n",
       "      <td>27879</td>\n",
       "      <td>147035</td>\n",
       "      <td>False</td>\n",
       "      <td>RED</td>\n",
       "    </tr>\n",
       "    <tr>\n",
       "      <th>2</th>\n",
       "      <td>MagiFelix</td>\n",
       "      <td>181359.0</td>\n",
       "      <td>MID</td>\n",
       "      <td>Ryze</td>\n",
       "      <td>13</td>\n",
       "      <td>4893.0</td>\n",
       "      <td>2.0</td>\n",
       "      <td>3.0</td>\n",
       "      <td>11840</td>\n",
       "      <td>301</td>\n",
       "      <td>0</td>\n",
       "      <td>2</td>\n",
       "      <td>2</td>\n",
       "      <td>3</td>\n",
       "      <td>16013</td>\n",
       "      <td>205899</td>\n",
       "      <td>False</td>\n",
       "      <td>RED</td>\n",
       "    </tr>\n",
       "    <tr>\n",
       "      <th>3</th>\n",
       "      <td>Sedrion</td>\n",
       "      <td>197437.0</td>\n",
       "      <td>BOT</td>\n",
       "      <td>Varus</td>\n",
       "      <td>110</td>\n",
       "      <td>5133.0</td>\n",
       "      <td>2.0</td>\n",
       "      <td>1.0</td>\n",
       "      <td>12010</td>\n",
       "      <td>283</td>\n",
       "      <td>2</td>\n",
       "      <td>1</td>\n",
       "      <td>0</td>\n",
       "      <td>1</td>\n",
       "      <td>10370</td>\n",
       "      <td>184927</td>\n",
       "      <td>False</td>\n",
       "      <td>RED</td>\n",
       "    </tr>\n",
       "    <tr>\n",
       "      <th>4</th>\n",
       "      <td>Noxiak</td>\n",
       "      <td>185879.0</td>\n",
       "      <td>SUP</td>\n",
       "      <td>Nami</td>\n",
       "      <td>267</td>\n",
       "      <td>2521.0</td>\n",
       "      <td>2.0</td>\n",
       "      <td>2.0</td>\n",
       "      <td>7348</td>\n",
       "      <td>16</td>\n",
       "      <td>0</td>\n",
       "      <td>0</td>\n",
       "      <td>2</td>\n",
       "      <td>2</td>\n",
       "      <td>13815</td>\n",
       "      <td>15418</td>\n",
       "      <td>False</td>\n",
       "      <td>RED</td>\n",
       "    </tr>\n",
       "  </tbody>\n",
       "</table>\n",
       "</div>"
      ],
      "text/plain": [
       "        name        id role champion_name  champion_id  gold_15  \\\n",
       "0     Phones  193289.0  TOP        Maokai           57   4528.0   \n",
       "1    Obvious  187241.0  JGL        Rengar          107   4728.0   \n",
       "2  MagiFelix  181359.0  MID          Ryze           13   4893.0   \n",
       "3    Sedrion  197437.0  BOT         Varus          110   5133.0   \n",
       "4     Noxiak  185879.0  SUP          Nami          267   2521.0   \n",
       "\n",
       "   kills_assists_15  deaths_15  total_gold  total_cs  total_kills  \\\n",
       "0               2.0        7.0        9611       190            1   \n",
       "1               2.0        1.0        9640       174            0   \n",
       "2               2.0        3.0       11840       301            0   \n",
       "3               2.0        1.0       12010       283            2   \n",
       "4               2.0        2.0        7348        16            0   \n",
       "\n",
       "   total_monster_kills  total_assists  total_deaths  total_damage_taken  \\\n",
       "0                   13              1             7               41065   \n",
       "1                  126              2             1               27879   \n",
       "2                    2              2             3               16013   \n",
       "3                    1              0             1               10370   \n",
       "4                    0              2             2               13815   \n",
       "\n",
       "   total_damage_dealt    win side  \n",
       "0              111536  False  RED  \n",
       "1              147035  False  RED  \n",
       "2              205899  False  RED  \n",
       "3              184927  False  RED  \n",
       "4               15418  False  RED  "
      ]
     },
     "execution_count": 96,
     "metadata": {},
     "output_type": "execute_result"
    }
   ],
   "source": [
    "#Make a dataframe dedicated to the team RED\n",
    "df_normalized_teams['teams.RED.players'].explode()\n",
    "df_normalized_RED = pd.json_normalize(df_normalized_teams['teams.RED.players'].explode())\n",
    "df_RED = df_normalized_RED.copy()\n",
    "df_RED.head(5)"
   ]
  },
  {
   "cell_type": "code",
   "execution_count": 82,
   "id": "57d5c273",
   "metadata": {},
   "outputs": [
    {
     "data": {
      "text/plain": [
       "champion_name    0.019285\n",
       "is_ban           0.019285\n",
       "dtype: float64"
      ]
     },
     "execution_count": 82,
     "metadata": {},
     "output_type": "execute_result"
    }
   ],
   "source": [
    "#Make a dataframe dedicated to the Bans\n",
    "df_normalized_teams['picks_bans'].explode()\n",
    "df_normalized_BANS = pd.json_normalize(df_normalized_teams['picks_bans'].explode())\n",
    "df_BANS = df_normalized_BANS.copy()\n",
    "df_BANS.isnull().sum()/len(df_BANS)"
   ]
  },
  {
   "cell_type": "markdown",
   "id": "9a939e3b",
   "metadata": {},
   "source": [
    "##  Include the game id to match later different DataFrames\n",
    "\n",
    "We have two different dataframes for team Blue and team Red, later, we can merge them on the game id. This will also be useful when we want to come back for the y parameter! "
   ]
  },
  {
   "cell_type": "code",
   "execution_count": 104,
   "id": "22f9bd40",
   "metadata": {},
   "outputs": [
    {
     "data": {
      "text/plain": [
       "35320.0"
      ]
     },
     "execution_count": 104,
     "metadata": {},
     "output_type": "execute_result"
    }
   ],
   "source": [
    "get_index = df_normalized_teams['id'].tolist()\n",
    "index_preproc = np.asarray([[index] * 5 for index in get_index])\n",
    "index_teams = index_preproc.reshape(len(df_normalized_teams) * 5).tolist()\n",
    "df_RED['game_id'] = index_teams\n",
    "df_BLUE['game_id'] = index_teams\n",
    "len(index_teams)/5"
   ]
  },
  {
   "cell_type": "code",
   "execution_count": 146,
   "id": "d322a84f",
   "metadata": {},
   "outputs": [
    {
     "data": {
      "text/html": [
       "<div>\n",
       "<style scoped>\n",
       "    .dataframe tbody tr th:only-of-type {\n",
       "        vertical-align: middle;\n",
       "    }\n",
       "\n",
       "    .dataframe tbody tr th {\n",
       "        vertical-align: top;\n",
       "    }\n",
       "\n",
       "    .dataframe thead th {\n",
       "        text-align: right;\n",
       "    }\n",
       "</style>\n",
       "<table border=\"1\" class=\"dataframe\">\n",
       "  <thead>\n",
       "    <tr style=\"text-align: right;\">\n",
       "      <th></th>\n",
       "      <th>name</th>\n",
       "      <th>id</th>\n",
       "      <th>role</th>\n",
       "      <th>champion_name</th>\n",
       "      <th>champion_id</th>\n",
       "      <th>gold_15</th>\n",
       "      <th>kills_assists_15</th>\n",
       "      <th>deaths_15</th>\n",
       "      <th>total_gold</th>\n",
       "      <th>total_cs</th>\n",
       "      <th>total_kills</th>\n",
       "      <th>total_monster_kills</th>\n",
       "      <th>total_assists</th>\n",
       "      <th>total_deaths</th>\n",
       "      <th>total_damage_taken</th>\n",
       "      <th>total_damage_dealt</th>\n",
       "      <th>win</th>\n",
       "      <th>side</th>\n",
       "      <th>game_id</th>\n",
       "    </tr>\n",
       "  </thead>\n",
       "  <tbody>\n",
       "    <tr>\n",
       "      <th>165535</th>\n",
       "      <td>Smurf</td>\n",
       "      <td>197966.0</td>\n",
       "      <td>TOP</td>\n",
       "      <td>Trundle</td>\n",
       "      <td>48</td>\n",
       "      <td>5175.0</td>\n",
       "      <td>8.0</td>\n",
       "      <td>3.0</td>\n",
       "      <td>15494</td>\n",
       "      <td>294</td>\n",
       "      <td>0</td>\n",
       "      <td>15</td>\n",
       "      <td>8</td>\n",
       "      <td>3</td>\n",
       "      <td>36337</td>\n",
       "      <td>241203</td>\n",
       "      <td>True</td>\n",
       "      <td>BLUE</td>\n",
       "      <td>2016 International Wildcard Invitational/Score...</td>\n",
       "    </tr>\n",
       "    <tr>\n",
       "      <th>165536</th>\n",
       "      <td>PvPStejos</td>\n",
       "      <td>194522.0</td>\n",
       "      <td>JGL</td>\n",
       "      <td>Graves</td>\n",
       "      <td>104</td>\n",
       "      <td>4865.0</td>\n",
       "      <td>11.0</td>\n",
       "      <td>2.0</td>\n",
       "      <td>16049</td>\n",
       "      <td>177</td>\n",
       "      <td>6</td>\n",
       "      <td>148</td>\n",
       "      <td>5</td>\n",
       "      <td>2</td>\n",
       "      <td>25664</td>\n",
       "      <td>231200</td>\n",
       "      <td>True</td>\n",
       "      <td>BLUE</td>\n",
       "      <td>2016 International Wildcard Invitational/Score...</td>\n",
       "    </tr>\n",
       "    <tr>\n",
       "      <th>165537</th>\n",
       "      <td>Kira</td>\n",
       "      <td>172113.0</td>\n",
       "      <td>MID</td>\n",
       "      <td>Lissandra</td>\n",
       "      <td>127</td>\n",
       "      <td>5533.0</td>\n",
       "      <td>14.0</td>\n",
       "      <td>2.0</td>\n",
       "      <td>16549</td>\n",
       "      <td>325</td>\n",
       "      <td>3</td>\n",
       "      <td>25</td>\n",
       "      <td>11</td>\n",
       "      <td>2</td>\n",
       "      <td>25513</td>\n",
       "      <td>252607</td>\n",
       "      <td>True</td>\n",
       "      <td>BLUE</td>\n",
       "      <td>2016 International Wildcard Invitational/Score...</td>\n",
       "    </tr>\n",
       "    <tr>\n",
       "      <th>165538</th>\n",
       "      <td>Onesh0tiq</td>\n",
       "      <td>188541.0</td>\n",
       "      <td>BOT</td>\n",
       "      <td>Lucian</td>\n",
       "      <td>236</td>\n",
       "      <td>5722.0</td>\n",
       "      <td>13.0</td>\n",
       "      <td>1.0</td>\n",
       "      <td>18339</td>\n",
       "      <td>356</td>\n",
       "      <td>6</td>\n",
       "      <td>15</td>\n",
       "      <td>7</td>\n",
       "      <td>1</td>\n",
       "      <td>15931</td>\n",
       "      <td>251707</td>\n",
       "      <td>True</td>\n",
       "      <td>BLUE</td>\n",
       "      <td>2016 International Wildcard Invitational/Score...</td>\n",
       "    </tr>\n",
       "    <tr>\n",
       "      <th>165539</th>\n",
       "      <td>Likkrit</td>\n",
       "      <td>179739.0</td>\n",
       "      <td>SUP</td>\n",
       "      <td>Tahm Kench</td>\n",
       "      <td>223</td>\n",
       "      <td>3386.0</td>\n",
       "      <td>10.0</td>\n",
       "      <td>2.0</td>\n",
       "      <td>12309</td>\n",
       "      <td>80</td>\n",
       "      <td>1</td>\n",
       "      <td>6</td>\n",
       "      <td>9</td>\n",
       "      <td>2</td>\n",
       "      <td>23811</td>\n",
       "      <td>56257</td>\n",
       "      <td>True</td>\n",
       "      <td>BLUE</td>\n",
       "      <td>2016 International Wildcard Invitational/Score...</td>\n",
       "    </tr>\n",
       "  </tbody>\n",
       "</table>\n",
       "</div>"
      ],
      "text/plain": [
       "             name        id role champion_name  champion_id  gold_15  \\\n",
       "165535      Smurf  197966.0  TOP       Trundle           48   5175.0   \n",
       "165536  PvPStejos  194522.0  JGL        Graves          104   4865.0   \n",
       "165537       Kira  172113.0  MID     Lissandra          127   5533.0   \n",
       "165538  Onesh0tiq  188541.0  BOT        Lucian          236   5722.0   \n",
       "165539    Likkrit  179739.0  SUP    Tahm Kench          223   3386.0   \n",
       "\n",
       "        kills_assists_15  deaths_15  total_gold  total_cs  total_kills  \\\n",
       "165535               8.0        3.0       15494       294            0   \n",
       "165536              11.0        2.0       16049       177            6   \n",
       "165537              14.0        2.0       16549       325            3   \n",
       "165538              13.0        1.0       18339       356            6   \n",
       "165539              10.0        2.0       12309        80            1   \n",
       "\n",
       "        total_monster_kills  total_assists  total_deaths  total_damage_taken  \\\n",
       "165535                   15              8             3               36337   \n",
       "165536                  148              5             2               25664   \n",
       "165537                   25             11             2               25513   \n",
       "165538                   15              7             1               15931   \n",
       "165539                    6              9             2               23811   \n",
       "\n",
       "        total_damage_dealt   win  side  \\\n",
       "165535              241203  True  BLUE   \n",
       "165536              231200  True  BLUE   \n",
       "165537              252607  True  BLUE   \n",
       "165538              251707  True  BLUE   \n",
       "165539               56257  True  BLUE   \n",
       "\n",
       "                                                  game_id  \n",
       "165535  2016 International Wildcard Invitational/Score...  \n",
       "165536  2016 International Wildcard Invitational/Score...  \n",
       "165537  2016 International Wildcard Invitational/Score...  \n",
       "165538  2016 International Wildcard Invitational/Score...  \n",
       "165539  2016 International Wildcard Invitational/Score...  "
      ]
     },
     "execution_count": 146,
     "metadata": {},
     "output_type": "execute_result"
    }
   ],
   "source": [
    "df_BLUE[df_BLUE['game_id'] == '2016 International Wildcard Invitational/Scoreboards/Bracket Stage_1_1']"
   ]
  },
  {
   "cell_type": "code",
   "execution_count": 159,
   "id": "bbd9fbb6",
   "metadata": {},
   "outputs": [
    {
     "data": {
      "text/html": [
       "<div>\n",
       "<style scoped>\n",
       "    .dataframe tbody tr th:only-of-type {\n",
       "        vertical-align: middle;\n",
       "    }\n",
       "\n",
       "    .dataframe tbody tr th {\n",
       "        vertical-align: top;\n",
       "    }\n",
       "\n",
       "    .dataframe thead th {\n",
       "        text-align: right;\n",
       "    }\n",
       "</style>\n",
       "<table border=\"1\" class=\"dataframe\">\n",
       "  <thead>\n",
       "    <tr style=\"text-align: right;\">\n",
       "      <th></th>\n",
       "      <th>name</th>\n",
       "      <th>id</th>\n",
       "      <th>role</th>\n",
       "      <th>champion_name</th>\n",
       "      <th>champion_id</th>\n",
       "      <th>gold_15</th>\n",
       "      <th>kills_assists_15</th>\n",
       "      <th>deaths_15</th>\n",
       "      <th>total_gold</th>\n",
       "      <th>total_cs</th>\n",
       "      <th>total_kills</th>\n",
       "      <th>total_monster_kills</th>\n",
       "      <th>total_assists</th>\n",
       "      <th>total_deaths</th>\n",
       "      <th>total_damage_taken</th>\n",
       "      <th>total_damage_dealt</th>\n",
       "      <th>win</th>\n",
       "      <th>side</th>\n",
       "      <th>game_id</th>\n",
       "    </tr>\n",
       "  </thead>\n",
       "  <tbody>\n",
       "    <tr>\n",
       "      <th>165535</th>\n",
       "      <td>Yang</td>\n",
       "      <td>205635.0</td>\n",
       "      <td>TOP</td>\n",
       "      <td>Maokai</td>\n",
       "      <td>57</td>\n",
       "      <td>4891.0</td>\n",
       "      <td>9.0</td>\n",
       "      <td>2.0</td>\n",
       "      <td>12994</td>\n",
       "      <td>260</td>\n",
       "      <td>1</td>\n",
       "      <td>12</td>\n",
       "      <td>8</td>\n",
       "      <td>2</td>\n",
       "      <td>26978</td>\n",
       "      <td>182014</td>\n",
       "      <td>False</td>\n",
       "      <td>RED</td>\n",
       "      <td>2016 International Wildcard Invitational/Score...</td>\n",
       "    </tr>\n",
       "    <tr>\n",
       "      <th>165536</th>\n",
       "      <td>Revolta</td>\n",
       "      <td>195157.0</td>\n",
       "      <td>JGL</td>\n",
       "      <td>Kindred</td>\n",
       "      <td>203</td>\n",
       "      <td>4730.0</td>\n",
       "      <td>6.0</td>\n",
       "      <td>3.0</td>\n",
       "      <td>12638</td>\n",
       "      <td>178</td>\n",
       "      <td>1</td>\n",
       "      <td>122</td>\n",
       "      <td>5</td>\n",
       "      <td>3</td>\n",
       "      <td>27564</td>\n",
       "      <td>195085</td>\n",
       "      <td>False</td>\n",
       "      <td>RED</td>\n",
       "      <td>2016 International Wildcard Invitational/Score...</td>\n",
       "    </tr>\n",
       "    <tr>\n",
       "      <th>165537</th>\n",
       "      <td>tockers</td>\n",
       "      <td>201599.0</td>\n",
       "      <td>MID</td>\n",
       "      <td>Ekko</td>\n",
       "      <td>245</td>\n",
       "      <td>5159.0</td>\n",
       "      <td>9.0</td>\n",
       "      <td>2.0</td>\n",
       "      <td>13866</td>\n",
       "      <td>285</td>\n",
       "      <td>5</td>\n",
       "      <td>10</td>\n",
       "      <td>4</td>\n",
       "      <td>2</td>\n",
       "      <td>31698</td>\n",
       "      <td>215422</td>\n",
       "      <td>False</td>\n",
       "      <td>RED</td>\n",
       "      <td>2016 International Wildcard Invitational/Score...</td>\n",
       "    </tr>\n",
       "    <tr>\n",
       "      <th>165538</th>\n",
       "      <td>micaO</td>\n",
       "      <td>182405.0</td>\n",
       "      <td>BOT</td>\n",
       "      <td>Jinx</td>\n",
       "      <td>222</td>\n",
       "      <td>5994.0</td>\n",
       "      <td>9.0</td>\n",
       "      <td>5.0</td>\n",
       "      <td>15322</td>\n",
       "      <td>356</td>\n",
       "      <td>3</td>\n",
       "      <td>14</td>\n",
       "      <td>6</td>\n",
       "      <td>5</td>\n",
       "      <td>19697</td>\n",
       "      <td>249792</td>\n",
       "      <td>False</td>\n",
       "      <td>RED</td>\n",
       "      <td>2016 International Wildcard Invitational/Score...</td>\n",
       "    </tr>\n",
       "    <tr>\n",
       "      <th>165539</th>\n",
       "      <td>Jockster</td>\n",
       "      <td>169596.0</td>\n",
       "      <td>SUP</td>\n",
       "      <td>Thresh</td>\n",
       "      <td>412</td>\n",
       "      <td>3155.0</td>\n",
       "      <td>6.0</td>\n",
       "      <td>4.0</td>\n",
       "      <td>8906</td>\n",
       "      <td>36</td>\n",
       "      <td>0</td>\n",
       "      <td>0</td>\n",
       "      <td>6</td>\n",
       "      <td>4</td>\n",
       "      <td>18449</td>\n",
       "      <td>20745</td>\n",
       "      <td>False</td>\n",
       "      <td>RED</td>\n",
       "      <td>2016 International Wildcard Invitational/Score...</td>\n",
       "    </tr>\n",
       "  </tbody>\n",
       "</table>\n",
       "</div>"
      ],
      "text/plain": [
       "            name        id role champion_name  champion_id  gold_15  \\\n",
       "165535      Yang  205635.0  TOP        Maokai           57   4891.0   \n",
       "165536   Revolta  195157.0  JGL       Kindred          203   4730.0   \n",
       "165537   tockers  201599.0  MID          Ekko          245   5159.0   \n",
       "165538     micaO  182405.0  BOT          Jinx          222   5994.0   \n",
       "165539  Jockster  169596.0  SUP        Thresh          412   3155.0   \n",
       "\n",
       "        kills_assists_15  deaths_15  total_gold  total_cs  total_kills  \\\n",
       "165535               9.0        2.0       12994       260            1   \n",
       "165536               6.0        3.0       12638       178            1   \n",
       "165537               9.0        2.0       13866       285            5   \n",
       "165538               9.0        5.0       15322       356            3   \n",
       "165539               6.0        4.0        8906        36            0   \n",
       "\n",
       "        total_monster_kills  total_assists  total_deaths  total_damage_taken  \\\n",
       "165535                   12              8             2               26978   \n",
       "165536                  122              5             3               27564   \n",
       "165537                   10              4             2               31698   \n",
       "165538                   14              6             5               19697   \n",
       "165539                    0              6             4               18449   \n",
       "\n",
       "        total_damage_dealt    win side  \\\n",
       "165535              182014  False  RED   \n",
       "165536              195085  False  RED   \n",
       "165537              215422  False  RED   \n",
       "165538              249792  False  RED   \n",
       "165539               20745  False  RED   \n",
       "\n",
       "                                                  game_id  \n",
       "165535  2016 International Wildcard Invitational/Score...  \n",
       "165536  2016 International Wildcard Invitational/Score...  \n",
       "165537  2016 International Wildcard Invitational/Score...  \n",
       "165538  2016 International Wildcard Invitational/Score...  \n",
       "165539  2016 International Wildcard Invitational/Score...  "
      ]
     },
     "execution_count": 159,
     "metadata": {},
     "output_type": "execute_result"
    }
   ],
   "source": [
    "df_RED[df_RED['game_id'] == '2016 International Wildcard Invitational/Scoreboards/Bracket Stage_1_1']"
   ]
  },
  {
   "cell_type": "markdown",
   "id": "467e4a2e",
   "metadata": {
    "heading_collapsed": true
   },
   "source": [
    "# [SKIP for now] Filter years that are going to be analyzed"
   ]
  },
  {
   "cell_type": "markdown",
   "id": "3526aa89",
   "metadata": {
    "hidden": true
   },
   "source": [
    "Currently not working... there is nothing in variable = 'start'"
   ]
  },
  {
   "cell_type": "code",
   "execution_count": 84,
   "id": "6848b44f",
   "metadata": {
    "hidden": true
   },
   "outputs": [
    {
     "name": "stdout",
     "output_type": "stream",
     "text": [
      "Number of games in nan: 0\n"
     ]
    }
   ],
   "source": [
    "# Get the years and the number of games played\n",
    "df_normalized_teams['start'] = pd.to_datetime(df_normalized_teams['start'])\n",
    "df_normalized_teams['year'] = pd.DatetimeIndex(df_normalized_teams['start']).year\n",
    "games_year = df_normalized_teams.year.unique()\n",
    "\n",
    "for year in games_year:\n",
    "    N_games = len(df_normalized_teams[df_normalized_teams['year'] == year])\n",
    "    print(f'Number of games in {year}: {N_games}')"
   ]
  },
  {
   "cell_type": "code",
   "execution_count": 85,
   "id": "d01a0419",
   "metadata": {
    "hidden": true
   },
   "outputs": [],
   "source": [
    "# Function that returns a Dataframe just with the years of interest\n",
    "def choose_years_to_work(df, *args):\n",
    "    years_dict = {}\n",
    "    for year in args:\n",
    "        years_dict[year] = df[df['year'] == year]\n",
    "    return pd.concat(years_dict).droplevel(0)\n",
    "\n",
    "df_data_by_year = choose_years_to_work(df_normalized_teams, 2021)\n",
    "df_data_by_year.drop('start', axis=1, inplace=True)"
   ]
  },
  {
   "cell_type": "markdown",
   "id": "9c3b2035",
   "metadata": {
    "heading_collapsed": true
   },
   "source": [
    "# [SKIP] Retrieve the champions stats given a champion id and merge with the BLUE/RED team\n",
    "\n",
    "From the page https://ddragon.leagueoflegends.com/cdn/12.3.1/data/en_US/champion.json, get the stats of a champion given a key or id value."
   ]
  },
  {
   "cell_type": "code",
   "execution_count": 86,
   "id": "f53d1b8f",
   "metadata": {
    "hidden": true
   },
   "outputs": [
    {
     "data": {
      "text/plain": [
       "\"champion_description = '../raw_data/lol_12_3_1.json'\\n\\nwith open(champion_description) as data_file:    \\n    data_champions = json.load(data_file)\""
      ]
     },
     "execution_count": 86,
     "metadata": {},
     "output_type": "execute_result"
    }
   ],
   "source": [
    "'''champion_description = '../raw_data/lol_12_3_1.json'\n",
    "\n",
    "with open(champion_description) as data_file:    \n",
    "    data_champions = json.load(data_file)'''"
   ]
  },
  {
   "cell_type": "code",
   "execution_count": 87,
   "id": "d33407d8",
   "metadata": {
    "hidden": true
   },
   "outputs": [
    {
     "data": {
      "text/plain": [
       "\"champions_dict = {}\\nchampions_names = list(data_champions['data'].keys())\\nfor champion in champions_names:\\n    champions_dict[int(data_champions['data'][champion]['key'])] = data_champions['data'][champion]['stats']\\nchampions_df = pd.DataFrame(champions_dict)\\nchampions_df = champions_df.T\\nchampions_df.reset_index(level=0, inplace=True)\\nchampions_df['champion'] = champions_df['index']\\nchampions_df.drop('index', axis=1, inplace=True)\\nchampions_df\""
      ]
     },
     "execution_count": 87,
     "metadata": {},
     "output_type": "execute_result"
    }
   ],
   "source": [
    "# get the key and the stats for every champion in this version\n",
    "# create a new dictionary with only the values of interest\n",
    "\n",
    "'''champions_dict = {}\n",
    "champions_names = list(data_champions['data'].keys())\n",
    "for champion in champions_names:\n",
    "    champions_dict[int(data_champions['data'][champion]['key'])] = data_champions['data'][champion]['stats']\n",
    "champions_df = pd.DataFrame(champions_dict)\n",
    "champions_df = champions_df.T\n",
    "champions_df.reset_index(level=0, inplace=True)\n",
    "champions_df['champion'] = champions_df['index']\n",
    "champions_df.drop('index', axis=1, inplace=True)\n",
    "champions_df'''"
   ]
  },
  {
   "cell_type": "code",
   "execution_count": 88,
   "id": "aa7a62f7",
   "metadata": {
    "hidden": true
   },
   "outputs": [
    {
     "data": {
      "text/plain": [
       "\"df_BLUE = pd.merge(df_normalized_BLUE, champions_df, left_on='champion_id', right_on='champion', how='left')\\ndf_BLUE.drop(['champion', 'champion_id'], axis=1, inplace=True)\""
      ]
     },
     "execution_count": 88,
     "metadata": {},
     "output_type": "execute_result"
    }
   ],
   "source": [
    "#Merge with BLUE team and drop the id of the champion, no needed anymore\n",
    "'''df_BLUE = pd.merge(df_normalized_BLUE, champions_df, left_on='champion_id', right_on='champion', how='left')\n",
    "df_BLUE.drop(['champion', 'champion_id'], axis=1, inplace=True)'''"
   ]
  },
  {
   "cell_type": "code",
   "execution_count": 89,
   "id": "af51e523",
   "metadata": {
    "hidden": true
   },
   "outputs": [
    {
     "data": {
      "text/plain": [
       "\"df_RED = pd.merge(df_normalized_RED, champions_df, left_on='champion_id', right_on='champion', how='left')\\ndf_RED.drop(['champion', 'champion_id'], axis=1, inplace=True)\""
      ]
     },
     "execution_count": 89,
     "metadata": {},
     "output_type": "execute_result"
    }
   ],
   "source": [
    "#Merge with RED team and drop the id of the champion, no needed anymore\n",
    "'''df_RED = pd.merge(df_normalized_RED, champions_df, left_on='champion_id', right_on='champion', how='left')\n",
    "df_RED.drop(['champion', 'champion_id'], axis=1, inplace=True)'''"
   ]
  },
  {
   "cell_type": "code",
   "execution_count": 90,
   "id": "fcde4a3c",
   "metadata": {
    "hidden": true,
    "scrolled": true
   },
   "outputs": [],
   "source": [
    "# do some feature engineering"
   ]
  },
  {
   "cell_type": "markdown",
   "id": "9a9f98ed",
   "metadata": {},
   "source": [
    "# Merge and Flatten Blue and Red data"
   ]
  },
  {
   "cell_type": "markdown",
   "id": "a1a0e2b6",
   "metadata": {},
   "source": [
    "## Flatten the numerical data\n",
    "\n",
    "Add all the numerical data per game id, i.e., how many is the added value of one game (how much gold, kills, damage, etc., for the 5 players)"
   ]
  },
  {
   "cell_type": "code",
   "execution_count": 171,
   "id": "26fb6af8",
   "metadata": {},
   "outputs": [],
   "source": [
    "df_BLUE_flatten = df_BLUE.drop(['id', 'champion_id'], axis=1).groupby('game_id').sum()\n",
    "df_RED_flatten = df_RED.drop(['id', 'champion_id'], axis=1).groupby('game_id').sum()"
   ]
  },
  {
   "cell_type": "markdown",
   "id": "5ff97a77",
   "metadata": {},
   "source": [
    "## Get the role and the champion name into one variable and flatten it out\n",
    "\n",
    "How to do it for multiple variables: \n",
    "```Python\n",
    "df_BLUE['name_with_role'] = df_BLUE['role'] + df_BLUE['champion_name']\n",
    " \n",
    "df_BLUE[['side', 'champion_name', 'role', 'game_id', 'name_with_role']].groupby('game_id').aggregate({\n",
    "    'role': lambda x: ' '.join(x),\n",
    "    'side': lambda y: ' '.join(y),\n",
    "    'champion_name': lambda y: ' '.join(x or '' for x in y),\n",
    "    'name_with_role': lambda y: ' '.join(str(x) or '' for x in y),\n",
    "})\n",
    "```"
   ]
  },
  {
   "cell_type": "code",
   "execution_count": 196,
   "id": "2c6b21f4",
   "metadata": {},
   "outputs": [
    {
     "data": {
      "text/html": [
       "<div>\n",
       "<style scoped>\n",
       "    .dataframe tbody tr th:only-of-type {\n",
       "        vertical-align: middle;\n",
       "    }\n",
       "\n",
       "    .dataframe tbody tr th {\n",
       "        vertical-align: top;\n",
       "    }\n",
       "\n",
       "    .dataframe thead th {\n",
       "        text-align: right;\n",
       "    }\n",
       "</style>\n",
       "<table border=\"1\" class=\"dataframe\">\n",
       "  <thead>\n",
       "    <tr style=\"text-align: right;\">\n",
       "      <th></th>\n",
       "      <th>game_id</th>\n",
       "      <th>gold_15</th>\n",
       "      <th>kills_assists_15</th>\n",
       "      <th>deaths_15</th>\n",
       "      <th>total_gold</th>\n",
       "      <th>total_cs</th>\n",
       "      <th>total_kills</th>\n",
       "      <th>total_monster_kills</th>\n",
       "      <th>total_assists</th>\n",
       "      <th>total_deaths</th>\n",
       "      <th>total_damage_taken</th>\n",
       "      <th>total_damage_dealt</th>\n",
       "      <th>win</th>\n",
       "      <th>name_with_role</th>\n",
       "    </tr>\n",
       "  </thead>\n",
       "  <tbody>\n",
       "    <tr>\n",
       "      <th>31422</th>\n",
       "      <td>TCS/2018 Season/Summer Season/Scoreboards/Week...</td>\n",
       "      <td>21844.0</td>\n",
       "      <td>15.0</td>\n",
       "      <td>24.0</td>\n",
       "      <td>28483</td>\n",
       "      <td>487</td>\n",
       "      <td>6</td>\n",
       "      <td>72</td>\n",
       "      <td>9</td>\n",
       "      <td>24</td>\n",
       "      <td>53292</td>\n",
       "      <td>285332</td>\n",
       "      <td>0</td>\n",
       "      <td>TOPMorgana JGLOlaf MIDOrianna BOTJhin SUPGangp...</td>\n",
       "    </tr>\n",
       "    <tr>\n",
       "      <th>11115</th>\n",
       "      <td>Hitpoint Masters/Season 14 Playoffs/Scoreboard...</td>\n",
       "      <td>23414.0</td>\n",
       "      <td>41.0</td>\n",
       "      <td>7.0</td>\n",
       "      <td>62411</td>\n",
       "      <td>1144</td>\n",
       "      <td>15</td>\n",
       "      <td>280</td>\n",
       "      <td>26</td>\n",
       "      <td>7</td>\n",
       "      <td>81128</td>\n",
       "      <td>928096</td>\n",
       "      <td>5</td>\n",
       "      <td>TOPCamille JGLGraves MIDAzir BOTAshe SUPPantheon</td>\n",
       "    </tr>\n",
       "  </tbody>\n",
       "</table>\n",
       "</div>"
      ],
      "text/plain": [
       "                                                 game_id  gold_15  \\\n",
       "31422  TCS/2018 Season/Summer Season/Scoreboards/Week...  21844.0   \n",
       "11115  Hitpoint Masters/Season 14 Playoffs/Scoreboard...  23414.0   \n",
       "\n",
       "       kills_assists_15  deaths_15  total_gold  total_cs  total_kills  \\\n",
       "31422              15.0       24.0       28483       487            6   \n",
       "11115              41.0        7.0       62411      1144           15   \n",
       "\n",
       "       total_monster_kills  total_assists  total_deaths  total_damage_taken  \\\n",
       "31422                   72              9            24               53292   \n",
       "11115                  280             26             7               81128   \n",
       "\n",
       "       total_damage_dealt  win  \\\n",
       "31422              285332    0   \n",
       "11115              928096    5   \n",
       "\n",
       "                                          name_with_role  \n",
       "31422  TOPMorgana JGLOlaf MIDOrianna BOTJhin SUPGangp...  \n",
       "11115   TOPCamille JGLGraves MIDAzir BOTAshe SUPPantheon  "
      ]
     },
     "execution_count": 196,
     "metadata": {},
     "output_type": "execute_result"
    }
   ],
   "source": [
    "# We are just going to join the role plus the champion per game\n",
    "## For the BLUE team\n",
    "df_BLUE['name_with_role'] = df_BLUE['role'] + df_BLUE['champion_name']\n",
    "df_BLUE_ROLE_CHAMPION = df_BLUE[['game_id', 'name_with_role']].groupby('game_id').aggregate({\n",
    "    'name_with_role': lambda y: ' '.join(str(x) or '' for x in y),\n",
    "})\n",
    "\n",
    "df_BLUE_ROLE_CHAMPION.reset_index(level=0, inplace=True)\n",
    "df_BLUE_WITH_ROLE_CHAMPION = pd.merge(df_BLUE_flatten, df_BLUE_ROLE_CHAMPION, on='game_id', how='inner')\n",
    "df_BLUE_WITH_ROLE_CHAMPION.sample(2)"
   ]
  },
  {
   "cell_type": "code",
   "execution_count": 197,
   "id": "d7e9fa52",
   "metadata": {},
   "outputs": [
    {
     "data": {
      "text/html": [
       "<div>\n",
       "<style scoped>\n",
       "    .dataframe tbody tr th:only-of-type {\n",
       "        vertical-align: middle;\n",
       "    }\n",
       "\n",
       "    .dataframe tbody tr th {\n",
       "        vertical-align: top;\n",
       "    }\n",
       "\n",
       "    .dataframe thead th {\n",
       "        text-align: right;\n",
       "    }\n",
       "</style>\n",
       "<table border=\"1\" class=\"dataframe\">\n",
       "  <thead>\n",
       "    <tr style=\"text-align: right;\">\n",
       "      <th></th>\n",
       "      <th>game_id</th>\n",
       "      <th>gold_15</th>\n",
       "      <th>kills_assists_15</th>\n",
       "      <th>deaths_15</th>\n",
       "      <th>total_gold</th>\n",
       "      <th>total_cs</th>\n",
       "      <th>total_kills</th>\n",
       "      <th>total_monster_kills</th>\n",
       "      <th>total_assists</th>\n",
       "      <th>total_deaths</th>\n",
       "      <th>total_damage_taken</th>\n",
       "      <th>total_damage_dealt</th>\n",
       "      <th>win</th>\n",
       "      <th>name_with_role</th>\n",
       "    </tr>\n",
       "  </thead>\n",
       "  <tbody>\n",
       "    <tr>\n",
       "      <th>31574</th>\n",
       "      <td>TPL/2017 Season/Winter Season/Scoreboards/Week...</td>\n",
       "      <td>22420.0</td>\n",
       "      <td>27.0</td>\n",
       "      <td>18.0</td>\n",
       "      <td>58620</td>\n",
       "      <td>1080</td>\n",
       "      <td>10</td>\n",
       "      <td>152</td>\n",
       "      <td>17</td>\n",
       "      <td>18</td>\n",
       "      <td>105024</td>\n",
       "      <td>725772</td>\n",
       "      <td>0</td>\n",
       "      <td>TOPPoppy JGLElise MIDCorki BOTJhin SUPLulu</td>\n",
       "    </tr>\n",
       "    <tr>\n",
       "      <th>16925</th>\n",
       "      <td>LEC/2021 Season/Spring Season/Scoreboards/Week...</td>\n",
       "      <td>25252.0</td>\n",
       "      <td>30.0</td>\n",
       "      <td>16.0</td>\n",
       "      <td>49693</td>\n",
       "      <td>1004</td>\n",
       "      <td>8</td>\n",
       "      <td>164</td>\n",
       "      <td>22</td>\n",
       "      <td>16</td>\n",
       "      <td>75511</td>\n",
       "      <td>643724</td>\n",
       "      <td>0</td>\n",
       "      <td>TOPShen JGLHecarim MIDOrianna BOTAphelios SUPT...</td>\n",
       "    </tr>\n",
       "  </tbody>\n",
       "</table>\n",
       "</div>"
      ],
      "text/plain": [
       "                                                 game_id  gold_15  \\\n",
       "31574  TPL/2017 Season/Winter Season/Scoreboards/Week...  22420.0   \n",
       "16925  LEC/2021 Season/Spring Season/Scoreboards/Week...  25252.0   \n",
       "\n",
       "       kills_assists_15  deaths_15  total_gold  total_cs  total_kills  \\\n",
       "31574              27.0       18.0       58620      1080           10   \n",
       "16925              30.0       16.0       49693      1004            8   \n",
       "\n",
       "       total_monster_kills  total_assists  total_deaths  total_damage_taken  \\\n",
       "31574                  152             17            18              105024   \n",
       "16925                  164             22            16               75511   \n",
       "\n",
       "       total_damage_dealt  win  \\\n",
       "31574              725772    0   \n",
       "16925              643724    0   \n",
       "\n",
       "                                          name_with_role  \n",
       "31574         TOPPoppy JGLElise MIDCorki BOTJhin SUPLulu  \n",
       "16925  TOPShen JGLHecarim MIDOrianna BOTAphelios SUPT...  "
      ]
     },
     "execution_count": 197,
     "metadata": {},
     "output_type": "execute_result"
    }
   ],
   "source": [
    "## For the RED team\n",
    "df_RED['name_with_role'] = df_RED['role'] + df_RED['champion_name']\n",
    "df_RED_ROLE_CHAMPION = df_RED[['game_id', 'name_with_role']].groupby('game_id').aggregate({\n",
    "    'name_with_role': lambda y: ' '.join(str(x) or '' for x in y),\n",
    "})\n",
    "\n",
    "df_RED_ROLE_CHAMPION.reset_index(level=0, inplace=True)\n",
    "df_RED_WITH_ROLE_CHAMPION = pd.merge(df_RED_flatten, df_RED_ROLE_CHAMPION, on='game_id', how='inner')\n",
    "df_RED_WITH_ROLE_CHAMPION.sample(2)"
   ]
  },
  {
   "cell_type": "markdown",
   "id": "50b5589b",
   "metadata": {},
   "source": [
    "## Merge BLUE and RED team data into one DataFrame"
   ]
  },
  {
   "cell_type": "code",
   "execution_count": 201,
   "id": "1e9d0fa9",
   "metadata": {},
   "outputs": [
    {
     "data": {
      "text/html": [
       "<div>\n",
       "<style scoped>\n",
       "    .dataframe tbody tr th:only-of-type {\n",
       "        vertical-align: middle;\n",
       "    }\n",
       "\n",
       "    .dataframe tbody tr th {\n",
       "        vertical-align: top;\n",
       "    }\n",
       "\n",
       "    .dataframe thead th {\n",
       "        text-align: right;\n",
       "    }\n",
       "</style>\n",
       "<table border=\"1\" class=\"dataframe\">\n",
       "  <thead>\n",
       "    <tr style=\"text-align: right;\">\n",
       "      <th></th>\n",
       "      <th>name_with_role_x</th>\n",
       "      <th>name_with_role_y</th>\n",
       "    </tr>\n",
       "  </thead>\n",
       "  <tbody>\n",
       "    <tr>\n",
       "      <th>0</th>\n",
       "      <td>TOPTrundle JGLGraves MIDLissandra BOTLucian SU...</td>\n",
       "      <td>TOPMaokai JGLKindred MIDEkko BOTJinx SUPThresh</td>\n",
       "    </tr>\n",
       "    <tr>\n",
       "      <th>1</th>\n",
       "      <td>TOPGragas JGLKindred MIDLeBlanc BOTKalista SUP...</td>\n",
       "      <td>TOPEkko JGLElise MIDAnivia BOTLucian SUPTrundle</td>\n",
       "    </tr>\n",
       "  </tbody>\n",
       "</table>\n",
       "</div>"
      ],
      "text/plain": [
       "                                    name_with_role_x  \\\n",
       "0  TOPTrundle JGLGraves MIDLissandra BOTLucian SU...   \n",
       "1  TOPGragas JGLKindred MIDLeBlanc BOTKalista SUP...   \n",
       "\n",
       "                                  name_with_role_y  \n",
       "0   TOPMaokai JGLKindred MIDEkko BOTJinx SUPThresh  \n",
       "1  TOPEkko JGLElise MIDAnivia BOTLucian SUPTrundle  "
      ]
     },
     "execution_count": 201,
     "metadata": {},
     "output_type": "execute_result"
    }
   ],
   "source": [
    "df_BLUE_RED = pd.merge(df_BLUE_WITH_ROLE_CHAMPION, df_RED_WITH_ROLE_CHAMPION, on='game_id', how='inner')\n",
    "df_BLUE_RED[['name_with_role_x', 'name_with_role_y']].head(2)"
   ]
  },
  {
   "cell_type": "code",
   "execution_count": 202,
   "id": "78d936a3",
   "metadata": {},
   "outputs": [
    {
     "data": {
      "text/plain": [
       "Index(['game_id', 'gold_15_x', 'kills_assists_15_x', 'deaths_15_x',\n",
       "       'total_gold_x', 'total_cs_x', 'total_kills_x', 'total_monster_kills_x',\n",
       "       'total_assists_x', 'total_deaths_x', 'total_damage_taken_x',\n",
       "       'total_damage_dealt_x', 'win_x', 'name_with_role_x', 'gold_15_y',\n",
       "       'kills_assists_15_y', 'deaths_15_y', 'total_gold_y', 'total_cs_y',\n",
       "       'total_kills_y', 'total_monster_kills_y', 'total_assists_y',\n",
       "       'total_deaths_y', 'total_damage_taken_y', 'total_damage_dealt_y',\n",
       "       'win_y', 'name_with_role_y'],\n",
       "      dtype='object')"
      ]
     },
     "execution_count": 202,
     "metadata": {},
     "output_type": "execute_result"
    }
   ],
   "source": [
    "df_BLUE_RED.keys()"
   ]
  },
  {
   "cell_type": "code",
   "execution_count": 203,
   "id": "7463001a",
   "metadata": {},
   "outputs": [
    {
     "name": "stdout",
     "output_type": "stream",
     "text": [
      "<class 'pandas.core.frame.DataFrame'>\n",
      "Int64Index: 35320 entries, 0 to 35319\n",
      "Data columns (total 27 columns):\n",
      " #   Column                 Non-Null Count  Dtype  \n",
      "---  ------                 --------------  -----  \n",
      " 0   game_id                35320 non-null  object \n",
      " 1   gold_15_x              35320 non-null  float64\n",
      " 2   kills_assists_15_x     35320 non-null  float64\n",
      " 3   deaths_15_x            35320 non-null  float64\n",
      " 4   total_gold_x           35320 non-null  int64  \n",
      " 5   total_cs_x             35320 non-null  int64  \n",
      " 6   total_kills_x          35320 non-null  int64  \n",
      " 7   total_monster_kills_x  35320 non-null  int64  \n",
      " 8   total_assists_x        35320 non-null  int64  \n",
      " 9   total_deaths_x         35320 non-null  int64  \n",
      " 10  total_damage_taken_x   35320 non-null  int64  \n",
      " 11  total_damage_dealt_x   35320 non-null  int64  \n",
      " 12  win_x                  35320 non-null  int64  \n",
      " 13  name_with_role_x       35320 non-null  object \n",
      " 14  gold_15_y              35320 non-null  float64\n",
      " 15  kills_assists_15_y     35320 non-null  float64\n",
      " 16  deaths_15_y            35320 non-null  float64\n",
      " 17  total_gold_y           35320 non-null  int64  \n",
      " 18  total_cs_y             35320 non-null  int64  \n",
      " 19  total_kills_y          35320 non-null  int64  \n",
      " 20  total_monster_kills_y  35320 non-null  int64  \n",
      " 21  total_assists_y        35320 non-null  int64  \n",
      " 22  total_deaths_y         35320 non-null  int64  \n",
      " 23  total_damage_taken_y   35320 non-null  int64  \n",
      " 24  total_damage_dealt_y   35320 non-null  int64  \n",
      " 25  win_y                  35320 non-null  int64  \n",
      " 26  name_with_role_y       35320 non-null  object \n",
      "dtypes: float64(6), int64(18), object(3)\n",
      "memory usage: 7.5+ MB\n"
     ]
    }
   ],
   "source": [
    "df_BLUE_RED.info()"
   ]
  },
  {
   "cell_type": "code",
   "execution_count": 204,
   "id": "80dc4d3d",
   "metadata": {},
   "outputs": [],
   "source": [
    "df_BLUE_RED.drop(['game_id', 'win_y'], axis=1, inplace=True)"
   ]
  },
  {
   "cell_type": "code",
   "execution_count": 205,
   "id": "82a14071",
   "metadata": {},
   "outputs": [
    {
     "name": "stdout",
     "output_type": "stream",
     "text": [
      "<class 'pandas.core.frame.DataFrame'>\n",
      "Int64Index: 35320 entries, 0 to 35319\n",
      "Data columns (total 25 columns):\n",
      " #   Column                 Non-Null Count  Dtype  \n",
      "---  ------                 --------------  -----  \n",
      " 0   gold_15_x              35320 non-null  float64\n",
      " 1   kills_assists_15_x     35320 non-null  float64\n",
      " 2   deaths_15_x            35320 non-null  float64\n",
      " 3   total_gold_x           35320 non-null  int64  \n",
      " 4   total_cs_x             35320 non-null  int64  \n",
      " 5   total_kills_x          35320 non-null  int64  \n",
      " 6   total_monster_kills_x  35320 non-null  int64  \n",
      " 7   total_assists_x        35320 non-null  int64  \n",
      " 8   total_deaths_x         35320 non-null  int64  \n",
      " 9   total_damage_taken_x   35320 non-null  int64  \n",
      " 10  total_damage_dealt_x   35320 non-null  int64  \n",
      " 11  win_x                  35320 non-null  int64  \n",
      " 12  name_with_role_x       35320 non-null  object \n",
      " 13  gold_15_y              35320 non-null  float64\n",
      " 14  kills_assists_15_y     35320 non-null  float64\n",
      " 15  deaths_15_y            35320 non-null  float64\n",
      " 16  total_gold_y           35320 non-null  int64  \n",
      " 17  total_cs_y             35320 non-null  int64  \n",
      " 18  total_kills_y          35320 non-null  int64  \n",
      " 19  total_monster_kills_y  35320 non-null  int64  \n",
      " 20  total_assists_y        35320 non-null  int64  \n",
      " 21  total_deaths_y         35320 non-null  int64  \n",
      " 22  total_damage_taken_y   35320 non-null  int64  \n",
      " 23  total_damage_dealt_y   35320 non-null  int64  \n",
      " 24  name_with_role_y       35320 non-null  object \n",
      "dtypes: float64(6), int64(17), object(2)\n",
      "memory usage: 7.0+ MB\n"
     ]
    }
   ],
   "source": [
    "df_BLUE_RED.info()"
   ]
  },
  {
   "cell_type": "markdown",
   "id": "c96b8a75",
   "metadata": {},
   "source": [
    "from sklearn.preprocessing import OneHotEncoder\n",
    "\n",
    "ohe = OneHotEncoder(sparse = False, handle_unknown='ignore')\n",
    "ohe.fit(df_BLUE_RED[['role_x']])\n",
    "blue_role_encoded = ohe.transform(df_BLUE_RED[['role_x']])\n",
    "red_role_encoded = ohe.transform(df_BLUE_RED[['role_y']])\n",
    "ohe.categories_"
   ]
  },
  {
   "cell_type": "markdown",
   "id": "6490b4d2",
   "metadata": {},
   "source": [
    "df_BLUE_RED['Blue_BOT'], df_BLUE_RED['Blue_JGL'], df_BLUE_RED['Blue_MID'], df_BLUE_RED['Blue_SUP'], df_BLUE_RED['Blue_TOP'] = blue_role_encoded.T\n",
    "df_BLUE_RED.drop('role_x', axis=1, inplace=True)\n",
    "df_BLUE_RED.sample(5)"
   ]
  },
  {
   "cell_type": "markdown",
   "id": "4ef950c1",
   "metadata": {},
   "source": [
    "df_BLUE_RED['Red_BOT'], df_BLUE_RED['Red_JGL'], df_BLUE_RED['Red_MID'], df_BLUE_RED['Red_SUP'], df_BLUE_RED['Red_TOP'] = red_role_encoded.T\n",
    "df_BLUE_RED.drop('role_y', axis=1, inplace=True)\n",
    "df_BLUE_RED.sample(5)"
   ]
  },
  {
   "cell_type": "markdown",
   "id": "ba4728ef",
   "metadata": {},
   "source": [
    "ohe_champ = OneHotEncoder(sparse = False, handle_unknown='ignore')\n",
    "ohe_champ.fit(df_BLUE_RED[['champion_name_x']])\n",
    "blue_champ_role_encoded = ohe_champ.transform(df_BLUE_RED[['champion_name_x']])\n",
    "red_champ_role_encoded = ohe_champ.transform(df_BLUE_RED[['champion_name_y']])\n",
    "ohe_champ.categories_"
   ]
  },
  {
   "cell_type": "markdown",
   "id": "f6ef2eef",
   "metadata": {},
   "source": [
    "df_BLUE_RED['Blue_BOT'], df_BLUE_RED['Blue_JGL'], df_BLUE_RED['Blue_MID'], df_BLUE_RED['Blue_SUP'], df_BLUE_RED['Blue_TOP'] = blue_role_encoded.T\n",
    "df_BLUE_RED.drop('role_x', axis=1, inplace=True)\n",
    "df_BLUE_RED.sample(5)"
   ]
  },
  {
   "cell_type": "code",
   "execution_count": null,
   "id": "54565a73",
   "metadata": {},
   "outputs": [],
   "source": [
    "# Make a word to vect for"
   ]
  },
  {
   "cell_type": "markdown",
   "id": "357533e7",
   "metadata": {},
   "source": [
    "# ML model"
   ]
  },
  {
   "cell_type": "markdown",
   "id": "cf8756e2",
   "metadata": {},
   "source": [
    "## Logit pipe w/MinMax Scaler, SimpleImputer, OneHot Encoder"
   ]
  },
  {
   "cell_type": "code",
   "execution_count": 32,
   "id": "70ddc2db",
   "metadata": {},
   "outputs": [
    {
     "data": {
      "text/plain": [
       "Pipeline(memory=None,\n",
       "         steps=[('columntransformer',\n",
       "                 ColumnTransformer(n_jobs=None, remainder='passthrough',\n",
       "                                   sparse_threshold=0.3,\n",
       "                                   transformer_weights=None,\n",
       "                                   transformers=[('pipeline',\n",
       "                                                  Pipeline(memory=None,\n",
       "                                                           steps=[('simpleimputer',\n",
       "                                                                   SimpleImputer(add_indicator=False,\n",
       "                                                                                 copy=True,\n",
       "                                                                                 fill_value=None,\n",
       "                                                                                 missing_values=nan,\n",
       "                                                                                 strategy='mean',\n",
       "                                                                                 verbose=0)),\n",
       "                                                                  ('minmaxscaler',\n",
       "                                                                   MinMaxS...\n",
       "                                                  <sklearn.compose._column_transformer.make_column_selector object at 0x7fb00140a9d0>)],\n",
       "                                   verbose=False)),\n",
       "                ('logisticregression',\n",
       "                 LogisticRegression(C=1.0, class_weight=None, dual=False,\n",
       "                                    fit_intercept=True, intercept_scaling=1,\n",
       "                                    l1_ratio=None, max_iter=100,\n",
       "                                    multi_class='auto', n_jobs=None,\n",
       "                                    penalty='l2', random_state=None,\n",
       "                                    solver='liblinear', tol=0.0001, verbose=0,\n",
       "                                    warm_start=False))],\n",
       "         verbose=False)"
      ]
     },
     "execution_count": 32,
     "metadata": {},
     "output_type": "execute_result"
    }
   ],
   "source": [
    "from sklearn.preprocessing import MinMaxScaler\n",
    "from sklearn.impute import SimpleImputer\n",
    "from sklearn.preprocessing import OneHotEncoder\n",
    "from sklearn.pipeline import make_pipeline\n",
    "from sklearn.linear_model import LogisticRegression\n",
    "from sklearn.compose import make_column_transformer\n",
    "from sklearn.compose import make_column_selector\n",
    "\n",
    "# Impute then Scale for numerical variables: \n",
    "num_transformer = make_pipeline(\n",
    "                    SimpleImputer(strategy = 'mean'),\n",
    "                    MinMaxScaler())\n",
    "\n",
    "# Encode categorical variables\n",
    "cat_transformer = OneHotEncoder(sparse = False, handle_unknown='ignore')\n",
    "\n",
    "# Paralellize \"num_transformer\" and \"One hot encoder\"\n",
    "preproc = make_column_transformer(\n",
    "    (num_transformer, make_column_selector(dtype_include=['float64'])),\n",
    "    (cat_transformer, make_column_selector(dtype_include=['object','bool'])),\n",
    "    remainder='passthrough')\n",
    "\n",
    "#add model\n",
    "pipe = make_pipeline(preproc, LogisticRegression(solver='liblinear'))\n",
    "pipe"
   ]
  },
  {
   "cell_type": "code",
   "execution_count": 57,
   "id": "eb802041",
   "metadata": {},
   "outputs": [
    {
     "name": "stdout",
     "output_type": "stream",
     "text": [
      "<class 'pandas.core.frame.DataFrame'>\n",
      "Int64Index: 883000 entries, 0 to 882999\n",
      "Data columns (total 27 columns):\n",
      " #   Column                 Non-Null Count   Dtype  \n",
      "---  ------                 --------------   -----  \n",
      " 0   role_x                 883000 non-null  object \n",
      " 1   champion_name_x        883000 non-null  object \n",
      " 2   gold_15_x              882600 non-null  float64\n",
      " 3   kills_assists_15_x     882875 non-null  float64\n",
      " 4   deaths_15_x            882875 non-null  float64\n",
      " 5   total_gold_x           883000 non-null  int64  \n",
      " 6   total_cs_x             883000 non-null  int64  \n",
      " 7   total_kills_x          883000 non-null  int64  \n",
      " 8   total_monster_kills_x  883000 non-null  int64  \n",
      " 9   total_assists_x        883000 non-null  int64  \n",
      " 10  total_deaths_x         883000 non-null  int64  \n",
      " 11  total_damage_taken_x   883000 non-null  int64  \n",
      " 12  total_damage_dealt_x   883000 non-null  int64  \n",
      " 13  win_x                  883000 non-null  bool   \n",
      " 14  role_y                 883000 non-null  object \n",
      " 15  champion_name_y        883000 non-null  object \n",
      " 16  gold_15_y              882600 non-null  float64\n",
      " 17  kills_assists_15_y     882875 non-null  float64\n",
      " 18  deaths_15_y            882875 non-null  float64\n",
      " 19  total_gold_y           883000 non-null  int64  \n",
      " 20  total_cs_y             883000 non-null  int64  \n",
      " 21  total_kills_y          883000 non-null  int64  \n",
      " 22  total_monster_kills_y  883000 non-null  int64  \n",
      " 23  total_assists_y        883000 non-null  int64  \n",
      " 24  total_deaths_y         883000 non-null  int64  \n",
      " 25  total_damage_taken_y   883000 non-null  int64  \n",
      " 26  total_damage_dealt_y   883000 non-null  int64  \n",
      "dtypes: bool(1), float64(6), int64(16), object(4)\n",
      "memory usage: 182.7+ MB\n"
     ]
    }
   ],
   "source": [
    "df_BLUE_RED.info()"
   ]
  },
  {
   "cell_type": "code",
   "execution_count": 35,
   "id": "0fa016c2",
   "metadata": {},
   "outputs": [],
   "source": [
    "from sklearn.preprocessing import LabelEncoder\n",
    "\n",
    "y = LabelEncoder().fit(df_BLUE_RED.win_x).transform(df_BLUE_RED.win_x)\n",
    "X_pre = df_BLUE_RED.drop('win_x', axis=1).groupby('game_id').sum()\n",
    "X = X_pre"
   ]
  },
  {
   "cell_type": "code",
   "execution_count": 49,
   "id": "ae034409",
   "metadata": {},
   "outputs": [
    {
     "name": "stdout",
     "output_type": "stream",
     "text": [
      "<class 'pandas.core.frame.DataFrame'>\n",
      "Index: 35320 entries, 2016 International Wildcard Invitational/Scoreboards/Bracket Stage_1_1 to XLG SuperCup 2016/Scoreboards_6_2\n",
      "Data columns (total 11 columns):\n",
      " #   Column               Non-Null Count  Dtype  \n",
      "---  ------               --------------  -----  \n",
      " 0   gold_15              35320 non-null  float64\n",
      " 1   kills_assists_15     35320 non-null  float64\n",
      " 2   deaths_15            35320 non-null  float64\n",
      " 3   total_gold           35320 non-null  int64  \n",
      " 4   total_cs             35320 non-null  int64  \n",
      " 5   total_kills          35320 non-null  int64  \n",
      " 6   total_monster_kills  35320 non-null  int64  \n",
      " 7   total_assists        35320 non-null  int64  \n",
      " 8   total_deaths         35320 non-null  int64  \n",
      " 9   total_damage_taken   35320 non-null  int64  \n",
      " 10  total_damage_dealt   35320 non-null  int64  \n",
      "dtypes: float64(3), int64(8)\n",
      "memory usage: 3.2+ MB\n"
     ]
    }
   ],
   "source": [
    "X.info()"
   ]
  },
  {
   "cell_type": "code",
   "execution_count": 36,
   "id": "4e172c3d",
   "metadata": {},
   "outputs": [],
   "source": [
    "from sklearn.model_selection import train_test_split\n",
    "\n",
    "X_train, X_test, y_train, y_test = train_test_split(X, y, test_size=0.33, random_state=42)"
   ]
  },
  {
   "cell_type": "code",
   "execution_count": 37,
   "id": "a6b72991",
   "metadata": {},
   "outputs": [
    {
     "name": "stdout",
     "output_type": "stream",
     "text": [
      "<class 'pandas.core.frame.DataFrame'>\n",
      "Index: 23664 entries, LST/2019 Season/Summer/Scoreboards/Week 7_4_1 to LCS/2019 Season/Spring Season/Scoreboards/Week 9_10_1\n",
      "Data columns (total 11 columns):\n",
      " #   Column               Non-Null Count  Dtype  \n",
      "---  ------               --------------  -----  \n",
      " 0   gold_15              23664 non-null  float64\n",
      " 1   kills_assists_15     23664 non-null  float64\n",
      " 2   deaths_15            23664 non-null  float64\n",
      " 3   total_gold           23664 non-null  int64  \n",
      " 4   total_cs             23664 non-null  int64  \n",
      " 5   total_kills          23664 non-null  int64  \n",
      " 6   total_monster_kills  23664 non-null  int64  \n",
      " 7   total_assists        23664 non-null  int64  \n",
      " 8   total_deaths         23664 non-null  int64  \n",
      " 9   total_damage_taken   23664 non-null  int64  \n",
      " 10  total_damage_dealt   23664 non-null  int64  \n",
      "dtypes: float64(3), int64(8)\n",
      "memory usage: 2.2+ MB\n"
     ]
    }
   ],
   "source": [
    "X_train.info()"
   ]
  },
  {
   "cell_type": "code",
   "execution_count": 38,
   "id": "1ac34a2e",
   "metadata": {},
   "outputs": [
    {
     "data": {
      "text/plain": [
       "0.5325154426904598"
      ]
     },
     "execution_count": 38,
     "metadata": {},
     "output_type": "execute_result"
    }
   ],
   "source": [
    "# Train pipeline\n",
    "pipe.fit(X_train,y_train)\n",
    "\n",
    "# Score model\n",
    "pipe.score(X_test,y_test)"
   ]
  },
  {
   "cell_type": "code",
   "execution_count": 39,
   "id": "50e1d148",
   "metadata": {},
   "outputs": [
    {
     "data": {
      "text/plain": [
       "0.537398581724408"
      ]
     },
     "execution_count": 39,
     "metadata": {},
     "output_type": "execute_result"
    }
   ],
   "source": [
    "from sklearn.model_selection import cross_val_score\n",
    "\n",
    "# Cross validate pipeline\n",
    "cross_val_score(pipe, X_train, y_train, cv=10, scoring='accuracy').mean()"
   ]
  },
  {
   "cell_type": "code",
   "execution_count": 40,
   "id": "86ad7f1b",
   "metadata": {},
   "outputs": [
    {
     "data": {
      "text/plain": [
       "(array([0, 0, 0, 0, 0]), array([0, 1, 0, 1, 1]))"
      ]
     },
     "execution_count": 40,
     "metadata": {},
     "output_type": "execute_result"
    }
   ],
   "source": [
    "# Check predictions\n",
    "pipe.predict(X_test.iloc[0:5]), y_test[0:5]"
   ]
  },
  {
   "cell_type": "code",
   "execution_count": 41,
   "id": "49960f75",
   "metadata": {},
   "outputs": [
    {
     "name": "stdout",
     "output_type": "stream",
     "text": [
      "0.5325154426904598\n",
      "              precision    recall  f1-score   support\n",
      "\n",
      "           0       0.53      1.00      0.69      6207\n",
      "           1       0.00      0.00      0.00      5449\n",
      "\n",
      "    accuracy                           0.53     11656\n",
      "   macro avg       0.27      0.50      0.35     11656\n",
      "weighted avg       0.28      0.53      0.37     11656\n",
      "\n"
     ]
    },
    {
     "name": "stderr",
     "output_type": "stream",
     "text": [
      "/home/stephy/.pyenv/versions/3.8.12/envs/lewagon/lib/python3.8/site-packages/sklearn/metrics/_classification.py:1268: UndefinedMetricWarning: Precision and F-score are ill-defined and being set to 0.0 in labels with no predicted samples. Use `zero_division` parameter to control this behavior.\n",
      "  _warn_prf(average, modifier, msg_start, len(result))\n"
     ]
    }
   ],
   "source": [
    "from sklearn import metrics\n",
    "\n",
    "predicted = pipe.predict(X_test)\n",
    "print(metrics.accuracy_score(y_test, predicted))\n",
    "print(metrics.classification_report(y_test, predicted)) "
   ]
  },
  {
   "cell_type": "code",
   "execution_count": 31,
   "id": "22671eca",
   "metadata": {},
   "outputs": [
    {
     "data": {
      "text/plain": [
       "array([0])"
      ]
     },
     "execution_count": 31,
     "metadata": {},
     "output_type": "execute_result"
    }
   ],
   "source": [
    "np.unique(predicted)"
   ]
  },
  {
   "cell_type": "code",
   "execution_count": 46,
   "id": "923d012d",
   "metadata": {},
   "outputs": [],
   "source": [
    "model = pipe[-1]"
   ]
  },
  {
   "cell_type": "code",
   "execution_count": 47,
   "id": "08f98dc4",
   "metadata": {},
   "outputs": [
    {
     "data": {
      "text/plain": [
       "array([[-1.40395486e-10, -6.63069850e-11, -4.21767914e-11,\n",
       "        -3.36859164e-06, -6.54788583e-08, -3.95464568e-09,\n",
       "        -6.88579470e-09, -6.64205139e-09, -3.04656228e-09,\n",
       "        -4.01736383e-07,  1.15474872e-07]])"
      ]
     },
     "execution_count": 47,
     "metadata": {},
     "output_type": "execute_result"
    }
   ],
   "source": [
    "model.coef_"
   ]
  }
 ],
 "metadata": {
  "kernelspec": {
   "display_name": "Python 3 (ipykernel)",
   "language": "python",
   "name": "python3"
  },
  "language_info": {
   "codemirror_mode": {
    "name": "ipython",
    "version": 3
   },
   "file_extension": ".py",
   "mimetype": "text/x-python",
   "name": "python",
   "nbconvert_exporter": "python",
   "pygments_lexer": "ipython3",
   "version": "3.8.12"
  },
  "toc": {
   "base_numbering": 1,
   "nav_menu": {},
   "number_sections": true,
   "sideBar": true,
   "skip_h1_title": false,
   "title_cell": "Table of Contents",
   "title_sidebar": "Contents",
   "toc_cell": false,
   "toc_position": {},
   "toc_section_display": true,
   "toc_window_display": false
  }
 },
 "nbformat": 4,
 "nbformat_minor": 5
}
