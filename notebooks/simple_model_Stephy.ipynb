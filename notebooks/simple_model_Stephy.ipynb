{
 "cells": [
  {
   "cell_type": "markdown",
   "id": "cd11ed9d",
   "metadata": {},
   "source": [
    "# Import data"
   ]
  },
  {
   "cell_type": "code",
   "execution_count": 1,
   "id": "df21202b",
   "metadata": {},
   "outputs": [],
   "source": [
    "import numpy as np\n",
    "import pandas as pd\n",
    "import json"
   ]
  },
  {
   "cell_type": "code",
   "execution_count": 2,
   "id": "a269d6f5",
   "metadata": {},
   "outputs": [
    {
     "data": {
      "text/plain": [
       "35320"
      ]
     },
     "execution_count": 2,
     "metadata": {},
     "output_type": "execute_result"
    }
   ],
   "source": [
    "file = '../raw_data/full_dump.json'\n",
    "with open(file) as data_file:    \n",
    "    data = json.load(data_file) \n",
    "len(data)"
   ]
  },
  {
   "cell_type": "code",
   "execution_count": 3,
   "id": "10ec5259",
   "metadata": {},
   "outputs": [
    {
     "data": {
      "text/plain": [
       "['EU Challenger Series/2017 Season/Spring Qualifiers/Scoreboards_1_1',\n",
       " 'EU Challenger Series/2017 Season/Spring Qualifiers/Scoreboards_2_1',\n",
       " 'EU Challenger Series/2017 Season/Spring Qualifiers/Scoreboards_3_1',\n",
       " 'EU Challenger Series/2017 Season/Spring Qualifiers/Scoreboards_4_1',\n",
       " 'EU Challenger Series/2017 Season/Spring Qualifiers/Scoreboards_5_1']"
      ]
     },
     "execution_count": 3,
     "metadata": {},
     "output_type": "execute_result"
    }
   ],
   "source": [
    "data_keys = list(data.keys())\n",
    "data_keys[:5]"
   ]
  },
  {
   "cell_type": "code",
   "execution_count": 4,
   "id": "045c791c",
   "metadata": {},
   "outputs": [
    {
     "data": {
      "text/plain": [
       "(array(['2016', '2017', '2018', '2019', '2020', '2021'], dtype='<U4'), 1703)"
      ]
     },
     "execution_count": 4,
     "metadata": {},
     "output_type": "execute_result"
    }
   ],
   "source": [
    "import re\n",
    "\n",
    "pattern = r'(\\d{4})'\n",
    "re.search(pattern, data_keys[2]).group(1)\n",
    "\n",
    "year = []\n",
    "no_year = []\n",
    "for i in range(len(data_keys)):\n",
    "    try:\n",
    "        year.append(re.search(pattern, data_keys[i]).group(1))\n",
    "    except:\n",
    "        no_year.append(data_keys[i])\n",
    "\n",
    "np.unique(year), len(no_year)"
   ]
  },
  {
   "cell_type": "markdown",
   "id": "35f552a1",
   "metadata": {},
   "source": [
    "# Normalize the JSON file\n",
    "\n",
    "Normalize means to expand the nested keys in the JSON file and the subsequent DataFrame."
   ]
  },
  {
   "cell_type": "code",
   "execution_count": 5,
   "id": "dde7e5ca",
   "metadata": {},
   "outputs": [
    {
     "data": {
      "text/html": [
       "<div>\n",
       "<style scoped>\n",
       "    .dataframe tbody tr th:only-of-type {\n",
       "        vertical-align: middle;\n",
       "    }\n",
       "\n",
       "    .dataframe tbody tr th {\n",
       "        vertical-align: top;\n",
       "    }\n",
       "\n",
       "    .dataframe thead th {\n",
       "        text-align: right;\n",
       "    }\n",
       "</style>\n",
       "<table border=\"1\" class=\"dataframe\">\n",
       "  <thead>\n",
       "    <tr style=\"text-align: right;\">\n",
       "      <th></th>\n",
       "      <th>id</th>\n",
       "      <th>start</th>\n",
       "      <th>patch</th>\n",
       "      <th>winner</th>\n",
       "      <th>duration</th>\n",
       "      <th>picks_bans</th>\n",
       "      <th>teams.BLUE.name</th>\n",
       "      <th>teams.BLUE.total_turret_kills</th>\n",
       "      <th>teams.BLUE.total_inhibitor_kills</th>\n",
       "      <th>teams.BLUE.total_rift_herald_kills</th>\n",
       "      <th>...</th>\n",
       "      <th>teams.BLUE.side</th>\n",
       "      <th>teams.BLUE.players</th>\n",
       "      <th>teams.RED.name</th>\n",
       "      <th>teams.RED.total_turret_kills</th>\n",
       "      <th>teams.RED.total_inhibitor_kills</th>\n",
       "      <th>teams.RED.total_rift_herald_kills</th>\n",
       "      <th>teams.RED.total_dragon_kills</th>\n",
       "      <th>teams.RED.total_baron_kills</th>\n",
       "      <th>teams.RED.side</th>\n",
       "      <th>teams.RED.players</th>\n",
       "    </tr>\n",
       "  </thead>\n",
       "  <tbody>\n",
       "    <tr>\n",
       "      <th>14682</th>\n",
       "      <td>ESL Vodafone Championship/2019/Summer Season/S...</td>\n",
       "      <td>None</td>\n",
       "      <td>9.11</td>\n",
       "      <td>RED</td>\n",
       "      <td>1730</td>\n",
       "      <td>[{'champion_name': '', 'is_ban': True}, {'cham...</td>\n",
       "      <td>Team Amelia</td>\n",
       "      <td>0</td>\n",
       "      <td>0</td>\n",
       "      <td>0</td>\n",
       "      <td>...</td>\n",
       "      <td>BLUE</td>\n",
       "      <td>[{'name': None, 'id': None, 'role': 'TOP', 'ch...</td>\n",
       "      <td>VIS eSports</td>\n",
       "      <td>10</td>\n",
       "      <td>2</td>\n",
       "      <td>1</td>\n",
       "      <td>4</td>\n",
       "      <td>2</td>\n",
       "      <td>RED</td>\n",
       "      <td>[{'name': 'Taurine', 'id': 341311, 'role': 'TO...</td>\n",
       "    </tr>\n",
       "    <tr>\n",
       "      <th>5476</th>\n",
       "      <td>CIS Challenger League/2018 Season/Spring Seaso...</td>\n",
       "      <td>None</td>\n",
       "      <td>8.3</td>\n",
       "      <td>BLUE</td>\n",
       "      <td>2442</td>\n",
       "      <td>[{'champion_name': 'Camille', 'is_ban': True},...</td>\n",
       "      <td>Comanche</td>\n",
       "      <td>11</td>\n",
       "      <td>2</td>\n",
       "      <td>0</td>\n",
       "      <td>...</td>\n",
       "      <td>BLUE</td>\n",
       "      <td>[{'name': 'Resu', 'id': 310834, 'role': 'TOP',...</td>\n",
       "      <td>Aston eSports</td>\n",
       "      <td>3</td>\n",
       "      <td>0</td>\n",
       "      <td>1</td>\n",
       "      <td>1</td>\n",
       "      <td>0</td>\n",
       "      <td>RED</td>\n",
       "      <td>[{'name': None, 'id': None, 'role': 'TOP', 'ch...</td>\n",
       "    </tr>\n",
       "    <tr>\n",
       "      <th>24</th>\n",
       "      <td>EU Challenger Series/2017 Season/Spring Qualif...</td>\n",
       "      <td>None</td>\n",
       "      <td>6.24</td>\n",
       "      <td>RED</td>\n",
       "      <td>2144</td>\n",
       "      <td>[]</td>\n",
       "      <td>Team Kinguin</td>\n",
       "      <td>3</td>\n",
       "      <td>0</td>\n",
       "      <td>0</td>\n",
       "      <td>...</td>\n",
       "      <td>BLUE</td>\n",
       "      <td>[{'name': 'iBo', 'id': 167607, 'role': 'TOP', ...</td>\n",
       "      <td>Team Forge</td>\n",
       "      <td>11</td>\n",
       "      <td>3</td>\n",
       "      <td>0</td>\n",
       "      <td>3</td>\n",
       "      <td>1</td>\n",
       "      <td>RED</td>\n",
       "      <td>[{'name': 'beansu', 'id': 191813, 'role': 'TOP...</td>\n",
       "    </tr>\n",
       "    <tr>\n",
       "      <th>14656</th>\n",
       "      <td>Ultraliga/Season 2/Scoreboards/Week 3_3_1</td>\n",
       "      <td>None</td>\n",
       "      <td>9.13</td>\n",
       "      <td>BLUE</td>\n",
       "      <td>1963</td>\n",
       "      <td>[{'champion_name': 'Skarner', 'is_ban': True},...</td>\n",
       "      <td>piratesports</td>\n",
       "      <td>10</td>\n",
       "      <td>3</td>\n",
       "      <td>1</td>\n",
       "      <td>...</td>\n",
       "      <td>BLUE</td>\n",
       "      <td>[{'name': 'Kackos', 'id': 251033, 'role': 'TOP...</td>\n",
       "      <td>Wisła Płock eSports</td>\n",
       "      <td>2</td>\n",
       "      <td>0</td>\n",
       "      <td>0</td>\n",
       "      <td>0</td>\n",
       "      <td>0</td>\n",
       "      <td>RED</td>\n",
       "      <td>[{'name': 'Unknown', 'id': 202415, 'role': 'TO...</td>\n",
       "    </tr>\n",
       "    <tr>\n",
       "      <th>32025</th>\n",
       "      <td>Challengers Korea/2016 Season/Spring Season/Sc...</td>\n",
       "      <td>None</td>\n",
       "      <td>6.2</td>\n",
       "      <td>RED</td>\n",
       "      <td>2183</td>\n",
       "      <td>[]</td>\n",
       "      <td>MVP</td>\n",
       "      <td>4</td>\n",
       "      <td>0</td>\n",
       "      <td>0</td>\n",
       "      <td>...</td>\n",
       "      <td>BLUE</td>\n",
       "      <td>[{'name': 'ADD', 'id': 188467, 'role': 'TOP', ...</td>\n",
       "      <td>Dark Wolves</td>\n",
       "      <td>9</td>\n",
       "      <td>1</td>\n",
       "      <td>0</td>\n",
       "      <td>2</td>\n",
       "      <td>1</td>\n",
       "      <td>RED</td>\n",
       "      <td>[{'name': 'Beast', 'id': 191839, 'role': 'TOP'...</td>\n",
       "    </tr>\n",
       "  </tbody>\n",
       "</table>\n",
       "<p>5 rows × 22 columns</p>\n",
       "</div>"
      ],
      "text/plain": [
       "                                                      id start patch winner  \\\n",
       "14682  ESL Vodafone Championship/2019/Summer Season/S...  None  9.11    RED   \n",
       "5476   CIS Challenger League/2018 Season/Spring Seaso...  None   8.3   BLUE   \n",
       "24     EU Challenger Series/2017 Season/Spring Qualif...  None  6.24    RED   \n",
       "14656          Ultraliga/Season 2/Scoreboards/Week 3_3_1  None  9.13   BLUE   \n",
       "32025  Challengers Korea/2016 Season/Spring Season/Sc...  None   6.2    RED   \n",
       "\n",
       "       duration                                         picks_bans  \\\n",
       "14682      1730  [{'champion_name': '', 'is_ban': True}, {'cham...   \n",
       "5476       2442  [{'champion_name': 'Camille', 'is_ban': True},...   \n",
       "24         2144                                                 []   \n",
       "14656      1963  [{'champion_name': 'Skarner', 'is_ban': True},...   \n",
       "32025      2183                                                 []   \n",
       "\n",
       "      teams.BLUE.name  teams.BLUE.total_turret_kills  \\\n",
       "14682     Team Amelia                              0   \n",
       "5476         Comanche                             11   \n",
       "24       Team Kinguin                              3   \n",
       "14656    piratesports                             10   \n",
       "32025             MVP                              4   \n",
       "\n",
       "       teams.BLUE.total_inhibitor_kills  teams.BLUE.total_rift_herald_kills  \\\n",
       "14682                                 0                                   0   \n",
       "5476                                  2                                   0   \n",
       "24                                    0                                   0   \n",
       "14656                                 3                                   1   \n",
       "32025                                 0                                   0   \n",
       "\n",
       "       ...  teams.BLUE.side  \\\n",
       "14682  ...             BLUE   \n",
       "5476   ...             BLUE   \n",
       "24     ...             BLUE   \n",
       "14656  ...             BLUE   \n",
       "32025  ...             BLUE   \n",
       "\n",
       "                                      teams.BLUE.players       teams.RED.name  \\\n",
       "14682  [{'name': None, 'id': None, 'role': 'TOP', 'ch...          VIS eSports   \n",
       "5476   [{'name': 'Resu', 'id': 310834, 'role': 'TOP',...        Aston eSports   \n",
       "24     [{'name': 'iBo', 'id': 167607, 'role': 'TOP', ...           Team Forge   \n",
       "14656  [{'name': 'Kackos', 'id': 251033, 'role': 'TOP...  Wisła Płock eSports   \n",
       "32025  [{'name': 'ADD', 'id': 188467, 'role': 'TOP', ...          Dark Wolves   \n",
       "\n",
       "      teams.RED.total_turret_kills teams.RED.total_inhibitor_kills  \\\n",
       "14682                           10                               2   \n",
       "5476                             3                               0   \n",
       "24                              11                               3   \n",
       "14656                            2                               0   \n",
       "32025                            9                               1   \n",
       "\n",
       "       teams.RED.total_rift_herald_kills  teams.RED.total_dragon_kills  \\\n",
       "14682                                  1                             4   \n",
       "5476                                   1                             1   \n",
       "24                                     0                             3   \n",
       "14656                                  0                             0   \n",
       "32025                                  0                             2   \n",
       "\n",
       "       teams.RED.total_baron_kills  teams.RED.side  \\\n",
       "14682                            2             RED   \n",
       "5476                             0             RED   \n",
       "24                               1             RED   \n",
       "14656                            0             RED   \n",
       "32025                            1             RED   \n",
       "\n",
       "                                       teams.RED.players  \n",
       "14682  [{'name': 'Taurine', 'id': 341311, 'role': 'TO...  \n",
       "5476   [{'name': None, 'id': None, 'role': 'TOP', 'ch...  \n",
       "24     [{'name': 'beansu', 'id': 191813, 'role': 'TOP...  \n",
       "14656  [{'name': 'Unknown', 'id': 202415, 'role': 'TO...  \n",
       "32025  [{'name': 'Beast', 'id': 191839, 'role': 'TOP'...  \n",
       "\n",
       "[5 rows x 22 columns]"
      ]
     },
     "execution_count": 5,
     "metadata": {},
     "output_type": "execute_result"
    }
   ],
   "source": [
    "#Normalize the complete dataframe and make a copy\n",
    "df_normalized_teams = pd.json_normalize(data.values())\n",
    "df_teams = df_normalized_teams.copy()\n",
    "df_teams.sample(5)"
   ]
  },
  {
   "cell_type": "code",
   "execution_count": 6,
   "id": "8cfa63e2",
   "metadata": {},
   "outputs": [
    {
     "data": {
      "text/html": [
       "<div>\n",
       "<style scoped>\n",
       "    .dataframe tbody tr th:only-of-type {\n",
       "        vertical-align: middle;\n",
       "    }\n",
       "\n",
       "    .dataframe tbody tr th {\n",
       "        vertical-align: top;\n",
       "    }\n",
       "\n",
       "    .dataframe thead th {\n",
       "        text-align: right;\n",
       "    }\n",
       "</style>\n",
       "<table border=\"1\" class=\"dataframe\">\n",
       "  <thead>\n",
       "    <tr style=\"text-align: right;\">\n",
       "      <th></th>\n",
       "      <th>id</th>\n",
       "      <th>start</th>\n",
       "      <th>patch</th>\n",
       "      <th>winner</th>\n",
       "      <th>duration</th>\n",
       "      <th>teams.BLUE.name</th>\n",
       "      <th>teams.BLUE.total_turret_kills</th>\n",
       "      <th>teams.BLUE.total_inhibitor_kills</th>\n",
       "      <th>teams.BLUE.total_rift_herald_kills</th>\n",
       "      <th>teams.BLUE.total_dragon_kills</th>\n",
       "      <th>teams.BLUE.total_baron_kills</th>\n",
       "      <th>teams.BLUE.side</th>\n",
       "      <th>teams.RED.name</th>\n",
       "      <th>teams.RED.total_turret_kills</th>\n",
       "      <th>teams.RED.total_inhibitor_kills</th>\n",
       "      <th>teams.RED.total_rift_herald_kills</th>\n",
       "      <th>teams.RED.total_dragon_kills</th>\n",
       "      <th>teams.RED.total_baron_kills</th>\n",
       "      <th>teams.RED.side</th>\n",
       "    </tr>\n",
       "  </thead>\n",
       "  <tbody>\n",
       "    <tr>\n",
       "      <th>0</th>\n",
       "      <td>EU Challenger Series/2017 Season/Spring Qualif...</td>\n",
       "      <td>None</td>\n",
       "      <td>6.24</td>\n",
       "      <td>BLUE</td>\n",
       "      <td>2023</td>\n",
       "      <td>Fnatic Academy</td>\n",
       "      <td>11</td>\n",
       "      <td>3</td>\n",
       "      <td>0</td>\n",
       "      <td>2</td>\n",
       "      <td>1</td>\n",
       "      <td>BLUE</td>\n",
       "      <td>EURONICS Gaming</td>\n",
       "      <td>4</td>\n",
       "      <td>0</td>\n",
       "      <td>0</td>\n",
       "      <td>1</td>\n",
       "      <td>0</td>\n",
       "      <td>RED</td>\n",
       "    </tr>\n",
       "    <tr>\n",
       "      <th>1</th>\n",
       "      <td>EU Challenger Series/2017 Season/Spring Qualif...</td>\n",
       "      <td>None</td>\n",
       "      <td>6.24</td>\n",
       "      <td>RED</td>\n",
       "      <td>1782</td>\n",
       "      <td>AlienTech eSports</td>\n",
       "      <td>3</td>\n",
       "      <td>0</td>\n",
       "      <td>0</td>\n",
       "      <td>0</td>\n",
       "      <td>0</td>\n",
       "      <td>BLUE</td>\n",
       "      <td>Team Larssen</td>\n",
       "      <td>7</td>\n",
       "      <td>1</td>\n",
       "      <td>1</td>\n",
       "      <td>2</td>\n",
       "      <td>1</td>\n",
       "      <td>RED</td>\n",
       "    </tr>\n",
       "    <tr>\n",
       "      <th>2</th>\n",
       "      <td>EU Challenger Series/2017 Season/Spring Qualif...</td>\n",
       "      <td>None</td>\n",
       "      <td>6.24</td>\n",
       "      <td>RED</td>\n",
       "      <td>2465</td>\n",
       "      <td>Bobaski</td>\n",
       "      <td>4</td>\n",
       "      <td>0</td>\n",
       "      <td>0</td>\n",
       "      <td>0</td>\n",
       "      <td>0</td>\n",
       "      <td>BLUE</td>\n",
       "      <td>Nerv</td>\n",
       "      <td>9</td>\n",
       "      <td>1</td>\n",
       "      <td>0</td>\n",
       "      <td>3</td>\n",
       "      <td>1</td>\n",
       "      <td>RED</td>\n",
       "    </tr>\n",
       "    <tr>\n",
       "      <th>3</th>\n",
       "      <td>EU Challenger Series/2017 Season/Spring Qualif...</td>\n",
       "      <td>None</td>\n",
       "      <td>6.24</td>\n",
       "      <td>BLUE</td>\n",
       "      <td>1925</td>\n",
       "      <td>Team Forge</td>\n",
       "      <td>11</td>\n",
       "      <td>4</td>\n",
       "      <td>0</td>\n",
       "      <td>4</td>\n",
       "      <td>1</td>\n",
       "      <td>BLUE</td>\n",
       "      <td>Tricked Esport</td>\n",
       "      <td>0</td>\n",
       "      <td>0</td>\n",
       "      <td>0</td>\n",
       "      <td>0</td>\n",
       "      <td>1</td>\n",
       "      <td>RED</td>\n",
       "    </tr>\n",
       "    <tr>\n",
       "      <th>4</th>\n",
       "      <td>EU Challenger Series/2017 Season/Spring Qualif...</td>\n",
       "      <td>None</td>\n",
       "      <td>6.24</td>\n",
       "      <td>BLUE</td>\n",
       "      <td>1507</td>\n",
       "      <td>Team-LDLC</td>\n",
       "      <td>11</td>\n",
       "      <td>3</td>\n",
       "      <td>0</td>\n",
       "      <td>1</td>\n",
       "      <td>1</td>\n",
       "      <td>BLUE</td>\n",
       "      <td>ASUS ROG Army</td>\n",
       "      <td>1</td>\n",
       "      <td>0</td>\n",
       "      <td>0</td>\n",
       "      <td>0</td>\n",
       "      <td>0</td>\n",
       "      <td>RED</td>\n",
       "    </tr>\n",
       "  </tbody>\n",
       "</table>\n",
       "</div>"
      ],
      "text/plain": [
       "                                                  id start patch winner  \\\n",
       "0  EU Challenger Series/2017 Season/Spring Qualif...  None  6.24   BLUE   \n",
       "1  EU Challenger Series/2017 Season/Spring Qualif...  None  6.24    RED   \n",
       "2  EU Challenger Series/2017 Season/Spring Qualif...  None  6.24    RED   \n",
       "3  EU Challenger Series/2017 Season/Spring Qualif...  None  6.24   BLUE   \n",
       "4  EU Challenger Series/2017 Season/Spring Qualif...  None  6.24   BLUE   \n",
       "\n",
       "   duration    teams.BLUE.name  teams.BLUE.total_turret_kills  \\\n",
       "0      2023     Fnatic Academy                             11   \n",
       "1      1782  AlienTech eSports                              3   \n",
       "2      2465            Bobaski                              4   \n",
       "3      1925         Team Forge                             11   \n",
       "4      1507          Team-LDLC                             11   \n",
       "\n",
       "   teams.BLUE.total_inhibitor_kills  teams.BLUE.total_rift_herald_kills  \\\n",
       "0                                 3                                   0   \n",
       "1                                 0                                   0   \n",
       "2                                 0                                   0   \n",
       "3                                 4                                   0   \n",
       "4                                 3                                   0   \n",
       "\n",
       "   teams.BLUE.total_dragon_kills  teams.BLUE.total_baron_kills  \\\n",
       "0                              2                             1   \n",
       "1                              0                             0   \n",
       "2                              0                             0   \n",
       "3                              4                             1   \n",
       "4                              1                             1   \n",
       "\n",
       "  teams.BLUE.side   teams.RED.name  teams.RED.total_turret_kills  \\\n",
       "0            BLUE  EURONICS Gaming                             4   \n",
       "1            BLUE     Team Larssen                             7   \n",
       "2            BLUE             Nerv                             9   \n",
       "3            BLUE   Tricked Esport                             0   \n",
       "4            BLUE    ASUS ROG Army                             1   \n",
       "\n",
       "   teams.RED.total_inhibitor_kills  teams.RED.total_rift_herald_kills  \\\n",
       "0                                0                                  0   \n",
       "1                                1                                  1   \n",
       "2                                1                                  0   \n",
       "3                                0                                  0   \n",
       "4                                0                                  0   \n",
       "\n",
       "   teams.RED.total_dragon_kills  teams.RED.total_baron_kills teams.RED.side  \n",
       "0                             1                            0            RED  \n",
       "1                             2                            1            RED  \n",
       "2                             3                            1            RED  \n",
       "3                             0                            1            RED  \n",
       "4                             0                            0            RED  "
      ]
     },
     "execution_count": 6,
     "metadata": {},
     "output_type": "execute_result"
    }
   ],
   "source": [
    "#Make a dataframe dedicated to the teams \n",
    "df_teams.drop(['teams.BLUE.players', 'teams.RED.players', 'picks_bans'], axis=1, inplace=True)\n",
    "df_teams.head()"
   ]
  },
  {
   "cell_type": "code",
   "execution_count": 7,
   "id": "c847d0b3",
   "metadata": {},
   "outputs": [
    {
     "data": {
      "text/html": [
       "<div>\n",
       "<style scoped>\n",
       "    .dataframe tbody tr th:only-of-type {\n",
       "        vertical-align: middle;\n",
       "    }\n",
       "\n",
       "    .dataframe tbody tr th {\n",
       "        vertical-align: top;\n",
       "    }\n",
       "\n",
       "    .dataframe thead th {\n",
       "        text-align: right;\n",
       "    }\n",
       "</style>\n",
       "<table border=\"1\" class=\"dataframe\">\n",
       "  <thead>\n",
       "    <tr style=\"text-align: right;\">\n",
       "      <th></th>\n",
       "      <th>name</th>\n",
       "      <th>id</th>\n",
       "      <th>role</th>\n",
       "      <th>champion_name</th>\n",
       "      <th>champion_id</th>\n",
       "      <th>gold_15</th>\n",
       "      <th>kills_assists_15</th>\n",
       "      <th>deaths_15</th>\n",
       "      <th>total_gold</th>\n",
       "      <th>total_cs</th>\n",
       "      <th>total_kills</th>\n",
       "      <th>total_monster_kills</th>\n",
       "      <th>total_assists</th>\n",
       "      <th>total_deaths</th>\n",
       "      <th>total_damage_taken</th>\n",
       "      <th>total_damage_dealt</th>\n",
       "      <th>win</th>\n",
       "      <th>side</th>\n",
       "    </tr>\n",
       "  </thead>\n",
       "  <tbody>\n",
       "    <tr>\n",
       "      <th>63368</th>\n",
       "      <td>Bang</td>\n",
       "      <td>191243.0</td>\n",
       "      <td>BOT</td>\n",
       "      <td>Xayah</td>\n",
       "      <td>498</td>\n",
       "      <td>5293.0</td>\n",
       "      <td>4.0</td>\n",
       "      <td>1.0</td>\n",
       "      <td>12956</td>\n",
       "      <td>314</td>\n",
       "      <td>2</td>\n",
       "      <td>24</td>\n",
       "      <td>2</td>\n",
       "      <td>1</td>\n",
       "      <td>11229</td>\n",
       "      <td>221029</td>\n",
       "      <td>False</td>\n",
       "      <td>BLUE</td>\n",
       "    </tr>\n",
       "    <tr>\n",
       "      <th>80929</th>\n",
       "      <td>Plasma</td>\n",
       "      <td>235242.0</td>\n",
       "      <td>SUP</td>\n",
       "      <td>Gragas</td>\n",
       "      <td>79</td>\n",
       "      <td>4673.0</td>\n",
       "      <td>7.0</td>\n",
       "      <td>0.0</td>\n",
       "      <td>7832</td>\n",
       "      <td>16</td>\n",
       "      <td>4</td>\n",
       "      <td>0</td>\n",
       "      <td>3</td>\n",
       "      <td>0</td>\n",
       "      <td>7803</td>\n",
       "      <td>24320</td>\n",
       "      <td>True</td>\n",
       "      <td>BLUE</td>\n",
       "    </tr>\n",
       "    <tr>\n",
       "      <th>173446</th>\n",
       "      <td>Carbon</td>\n",
       "      <td>193922.0</td>\n",
       "      <td>JGL</td>\n",
       "      <td>Nidalee</td>\n",
       "      <td>76</td>\n",
       "      <td>4777.0</td>\n",
       "      <td>19.0</td>\n",
       "      <td>4.0</td>\n",
       "      <td>15788</td>\n",
       "      <td>156</td>\n",
       "      <td>7</td>\n",
       "      <td>118</td>\n",
       "      <td>12</td>\n",
       "      <td>4</td>\n",
       "      <td>40647</td>\n",
       "      <td>205662</td>\n",
       "      <td>True</td>\n",
       "      <td>BLUE</td>\n",
       "    </tr>\n",
       "    <tr>\n",
       "      <th>121893</th>\n",
       "      <td>Freeze</td>\n",
       "      <td>160280.0</td>\n",
       "      <td>BOT</td>\n",
       "      <td>Kalista</td>\n",
       "      <td>429</td>\n",
       "      <td>5358.0</td>\n",
       "      <td>3.0</td>\n",
       "      <td>3.0</td>\n",
       "      <td>10566</td>\n",
       "      <td>268</td>\n",
       "      <td>1</td>\n",
       "      <td>3</td>\n",
       "      <td>2</td>\n",
       "      <td>3</td>\n",
       "      <td>10560</td>\n",
       "      <td>122936</td>\n",
       "      <td>False</td>\n",
       "      <td>BLUE</td>\n",
       "    </tr>\n",
       "    <tr>\n",
       "      <th>35557</th>\n",
       "      <td>Xiaohu</td>\n",
       "      <td>205317.0</td>\n",
       "      <td>MID</td>\n",
       "      <td>Sion</td>\n",
       "      <td>14</td>\n",
       "      <td>4997.0</td>\n",
       "      <td>11.0</td>\n",
       "      <td>2.0</td>\n",
       "      <td>12098</td>\n",
       "      <td>253</td>\n",
       "      <td>2</td>\n",
       "      <td>4</td>\n",
       "      <td>9</td>\n",
       "      <td>2</td>\n",
       "      <td>16256</td>\n",
       "      <td>130306</td>\n",
       "      <td>True</td>\n",
       "      <td>BLUE</td>\n",
       "    </tr>\n",
       "  </tbody>\n",
       "</table>\n",
       "</div>"
      ],
      "text/plain": [
       "          name        id role champion_name  champion_id  gold_15  \\\n",
       "63368     Bang  191243.0  BOT         Xayah          498   5293.0   \n",
       "80929   Plasma  235242.0  SUP        Gragas           79   4673.0   \n",
       "173446  Carbon  193922.0  JGL       Nidalee           76   4777.0   \n",
       "121893  Freeze  160280.0  BOT       Kalista          429   5358.0   \n",
       "35557   Xiaohu  205317.0  MID          Sion           14   4997.0   \n",
       "\n",
       "        kills_assists_15  deaths_15  total_gold  total_cs  total_kills  \\\n",
       "63368                4.0        1.0       12956       314            2   \n",
       "80929                7.0        0.0        7832        16            4   \n",
       "173446              19.0        4.0       15788       156            7   \n",
       "121893               3.0        3.0       10566       268            1   \n",
       "35557               11.0        2.0       12098       253            2   \n",
       "\n",
       "        total_monster_kills  total_assists  total_deaths  total_damage_taken  \\\n",
       "63368                    24              2             1               11229   \n",
       "80929                     0              3             0                7803   \n",
       "173446                  118             12             4               40647   \n",
       "121893                    3              2             3               10560   \n",
       "35557                     4              9             2               16256   \n",
       "\n",
       "        total_damage_dealt    win  side  \n",
       "63368               221029  False  BLUE  \n",
       "80929                24320   True  BLUE  \n",
       "173446              205662   True  BLUE  \n",
       "121893              122936  False  BLUE  \n",
       "35557               130306   True  BLUE  "
      ]
     },
     "execution_count": 7,
     "metadata": {},
     "output_type": "execute_result"
    }
   ],
   "source": [
    "#Make a dataframe dedicated to the team BLUE\n",
    "df_normalized_teams['teams.BLUE.players'].explode()\n",
    "df_normalized_BLUE = pd.json_normalize(df_normalized_teams['teams.BLUE.players'].explode())\n",
    "df_BLUE = df_normalized_BLUE.copy()\n",
    "df_BLUE.sample(5)"
   ]
  },
  {
   "cell_type": "code",
   "execution_count": 8,
   "id": "4e5892f4",
   "metadata": {},
   "outputs": [
    {
     "data": {
      "text/html": [
       "<div>\n",
       "<style scoped>\n",
       "    .dataframe tbody tr th:only-of-type {\n",
       "        vertical-align: middle;\n",
       "    }\n",
       "\n",
       "    .dataframe tbody tr th {\n",
       "        vertical-align: top;\n",
       "    }\n",
       "\n",
       "    .dataframe thead th {\n",
       "        text-align: right;\n",
       "    }\n",
       "</style>\n",
       "<table border=\"1\" class=\"dataframe\">\n",
       "  <thead>\n",
       "    <tr style=\"text-align: right;\">\n",
       "      <th></th>\n",
       "      <th>name</th>\n",
       "      <th>id</th>\n",
       "      <th>role</th>\n",
       "      <th>champion_name</th>\n",
       "      <th>champion_id</th>\n",
       "      <th>gold_15</th>\n",
       "      <th>kills_assists_15</th>\n",
       "      <th>deaths_15</th>\n",
       "      <th>total_gold</th>\n",
       "      <th>total_cs</th>\n",
       "      <th>total_kills</th>\n",
       "      <th>total_monster_kills</th>\n",
       "      <th>total_assists</th>\n",
       "      <th>total_deaths</th>\n",
       "      <th>total_damage_taken</th>\n",
       "      <th>total_damage_dealt</th>\n",
       "      <th>win</th>\n",
       "      <th>side</th>\n",
       "    </tr>\n",
       "  </thead>\n",
       "  <tbody>\n",
       "    <tr>\n",
       "      <th>48705</th>\n",
       "      <td>Crazy</td>\n",
       "      <td>141659.0</td>\n",
       "      <td>TOP</td>\n",
       "      <td>Ornn</td>\n",
       "      <td>516</td>\n",
       "      <td>5270.0</td>\n",
       "      <td>5.0</td>\n",
       "      <td>3.0</td>\n",
       "      <td>18151</td>\n",
       "      <td>443</td>\n",
       "      <td>0</td>\n",
       "      <td>4</td>\n",
       "      <td>5</td>\n",
       "      <td>3</td>\n",
       "      <td>27664</td>\n",
       "      <td>308090</td>\n",
       "      <td>True</td>\n",
       "      <td>RED</td>\n",
       "    </tr>\n",
       "    <tr>\n",
       "      <th>36486</th>\n",
       "      <td>Meteos</td>\n",
       "      <td>182315.0</td>\n",
       "      <td>JGL</td>\n",
       "      <td>Trundle</td>\n",
       "      <td>48</td>\n",
       "      <td>4765.0</td>\n",
       "      <td>6.0</td>\n",
       "      <td>2.0</td>\n",
       "      <td>9342</td>\n",
       "      <td>185</td>\n",
       "      <td>0</td>\n",
       "      <td>136</td>\n",
       "      <td>6</td>\n",
       "      <td>2</td>\n",
       "      <td>29343</td>\n",
       "      <td>151547</td>\n",
       "      <td>False</td>\n",
       "      <td>RED</td>\n",
       "    </tr>\n",
       "    <tr>\n",
       "      <th>111725</th>\n",
       "      <td>BOSS</td>\n",
       "      <td>191009.0</td>\n",
       "      <td>TOP</td>\n",
       "      <td>Aatrox</td>\n",
       "      <td>266</td>\n",
       "      <td>5035.0</td>\n",
       "      <td>7.0</td>\n",
       "      <td>2.0</td>\n",
       "      <td>10456</td>\n",
       "      <td>206</td>\n",
       "      <td>3</td>\n",
       "      <td>2</td>\n",
       "      <td>4</td>\n",
       "      <td>2</td>\n",
       "      <td>11980</td>\n",
       "      <td>106789</td>\n",
       "      <td>True</td>\n",
       "      <td>RED</td>\n",
       "    </tr>\n",
       "    <tr>\n",
       "      <th>29280</th>\n",
       "      <td>Dhokla</td>\n",
       "      <td>151574.0</td>\n",
       "      <td>TOP</td>\n",
       "      <td>Maokai</td>\n",
       "      <td>57</td>\n",
       "      <td>4413.0</td>\n",
       "      <td>0.0</td>\n",
       "      <td>2.0</td>\n",
       "      <td>10012</td>\n",
       "      <td>267</td>\n",
       "      <td>0</td>\n",
       "      <td>0</td>\n",
       "      <td>0</td>\n",
       "      <td>2</td>\n",
       "      <td>29846</td>\n",
       "      <td>152975</td>\n",
       "      <td>False</td>\n",
       "      <td>RED</td>\n",
       "    </tr>\n",
       "    <tr>\n",
       "      <th>109936</th>\n",
       "      <td>Tumay</td>\n",
       "      <td>397425.0</td>\n",
       "      <td>JGL</td>\n",
       "      <td>Taliyah</td>\n",
       "      <td>163</td>\n",
       "      <td>4372.0</td>\n",
       "      <td>3.0</td>\n",
       "      <td>4.0</td>\n",
       "      <td>7067</td>\n",
       "      <td>117</td>\n",
       "      <td>1</td>\n",
       "      <td>102</td>\n",
       "      <td>2</td>\n",
       "      <td>4</td>\n",
       "      <td>15036</td>\n",
       "      <td>115798</td>\n",
       "      <td>False</td>\n",
       "      <td>RED</td>\n",
       "    </tr>\n",
       "  </tbody>\n",
       "</table>\n",
       "</div>"
      ],
      "text/plain": [
       "          name        id role champion_name  champion_id  gold_15  \\\n",
       "48705    Crazy  141659.0  TOP          Ornn          516   5270.0   \n",
       "36486   Meteos  182315.0  JGL       Trundle           48   4765.0   \n",
       "111725    BOSS  191009.0  TOP        Aatrox          266   5035.0   \n",
       "29280   Dhokla  151574.0  TOP        Maokai           57   4413.0   \n",
       "109936   Tumay  397425.0  JGL       Taliyah          163   4372.0   \n",
       "\n",
       "        kills_assists_15  deaths_15  total_gold  total_cs  total_kills  \\\n",
       "48705                5.0        3.0       18151       443            0   \n",
       "36486                6.0        2.0        9342       185            0   \n",
       "111725               7.0        2.0       10456       206            3   \n",
       "29280                0.0        2.0       10012       267            0   \n",
       "109936               3.0        4.0        7067       117            1   \n",
       "\n",
       "        total_monster_kills  total_assists  total_deaths  total_damage_taken  \\\n",
       "48705                     4              5             3               27664   \n",
       "36486                   136              6             2               29343   \n",
       "111725                    2              4             2               11980   \n",
       "29280                     0              0             2               29846   \n",
       "109936                  102              2             4               15036   \n",
       "\n",
       "        total_damage_dealt    win side  \n",
       "48705               308090   True  RED  \n",
       "36486               151547  False  RED  \n",
       "111725              106789   True  RED  \n",
       "29280               152975  False  RED  \n",
       "109936              115798  False  RED  "
      ]
     },
     "execution_count": 8,
     "metadata": {},
     "output_type": "execute_result"
    }
   ],
   "source": [
    "#Make a dataframe dedicated to the team RED\n",
    "df_normalized_teams['teams.RED.players'].explode()\n",
    "df_normalized_RED = pd.json_normalize(df_normalized_teams['teams.RED.players'].explode())\n",
    "df_RED = df_normalized_RED.copy()\n",
    "df_RED.sample(5)"
   ]
  },
  {
   "cell_type": "code",
   "execution_count": 9,
   "id": "57d5c273",
   "metadata": {},
   "outputs": [
    {
     "data": {
      "text/plain": [
       "champion_name    0.019285\n",
       "is_ban           0.019285\n",
       "dtype: float64"
      ]
     },
     "execution_count": 9,
     "metadata": {},
     "output_type": "execute_result"
    }
   ],
   "source": [
    "#Make a dataframe dedicated to the Bans\n",
    "df_normalized_teams['picks_bans'].explode()\n",
    "df_normalized_BANS = pd.json_normalize(df_normalized_teams['picks_bans'].explode())\n",
    "df_BANS = df_normalized_BANS.copy()\n",
    "df_BANS.isnull().sum()/len(df_BANS)"
   ]
  },
  {
   "cell_type": "markdown",
   "id": "9a939e3b",
   "metadata": {},
   "source": [
    "##  Include the game id to match later different DataFrames\n",
    "\n",
    "We have two different dataframes for team Blue and team Red, later, we can merge them on the game id. This will also be useful when we want to come back for the y parameter! "
   ]
  },
  {
   "cell_type": "code",
   "execution_count": 10,
   "id": "22f9bd40",
   "metadata": {},
   "outputs": [],
   "source": [
    "get_index = df_normalized_teams['id'].tolist()\n",
    "index_preproc = np.asarray([[index] * 5 for index in get_index])\n",
    "index_teams = index_preproc.reshape(len(df_normalized_teams) * 5).tolist()\n",
    "df_RED['game_id'] = index_teams\n",
    "df_BLUE['game_id'] = index_teams"
   ]
  },
  {
   "cell_type": "markdown",
   "id": "467e4a2e",
   "metadata": {},
   "source": [
    "# Filter years that are going to be analyzed"
   ]
  },
  {
   "cell_type": "code",
   "execution_count": 11,
   "id": "6848b44f",
   "metadata": {},
   "outputs": [
    {
     "name": "stdout",
     "output_type": "stream",
     "text": [
      "Number of games in nan: 0\n"
     ]
    }
   ],
   "source": [
    "# Get the years and the number of games played\n",
    "df_normalized_teams['start'] = pd.to_datetime(df_normalized_teams['start'])\n",
    "df_normalized_teams['year'] = pd.DatetimeIndex(df_normalized_teams['start']).year\n",
    "games_year = df_normalized_teams.year.unique()\n",
    "\n",
    "for year in games_year:\n",
    "    N_games = len(df_normalized_teams[df_normalized_teams['year'] == year])\n",
    "    print(f'Number of games in {year}: {N_games}')"
   ]
  },
  {
   "cell_type": "code",
   "execution_count": 12,
   "id": "d01a0419",
   "metadata": {},
   "outputs": [],
   "source": [
    "# Function that returns a Dataframe just with the years of interest\n",
    "def choose_years_to_work(df, *args):\n",
    "    years_dict = {}\n",
    "    for year in args:\n",
    "        years_dict[year] = df[df['year'] == year]\n",
    "    return pd.concat(years_dict).droplevel(0)\n",
    "\n",
    "df_data_by_year = choose_years_to_work(df_normalized_teams, 2021)\n",
    "df_data_by_year.drop('start', axis=1, inplace=True)"
   ]
  },
  {
   "cell_type": "markdown",
   "id": "9c3b2035",
   "metadata": {
    "heading_collapsed": true
   },
   "source": [
    "# [SKIP] Retrieve the champions stats given a champion id and merge with the BLUE/RED team\n",
    "\n",
    "From the page https://ddragon.leagueoflegends.com/cdn/12.3.1/data/en_US/champion.json, get the stats of a champion given a key or id value."
   ]
  },
  {
   "cell_type": "code",
   "execution_count": 13,
   "id": "f53d1b8f",
   "metadata": {
    "hidden": true
   },
   "outputs": [
    {
     "data": {
      "text/plain": [
       "\"champion_description = '../raw_data/lol_12_3_1.json'\\n\\nwith open(champion_description) as data_file:    \\n    data_champions = json.load(data_file)\""
      ]
     },
     "execution_count": 13,
     "metadata": {},
     "output_type": "execute_result"
    }
   ],
   "source": [
    "'''champion_description = '../raw_data/lol_12_3_1.json'\n",
    "\n",
    "with open(champion_description) as data_file:    \n",
    "    data_champions = json.load(data_file)'''"
   ]
  },
  {
   "cell_type": "code",
   "execution_count": 14,
   "id": "d33407d8",
   "metadata": {
    "hidden": true
   },
   "outputs": [
    {
     "data": {
      "text/plain": [
       "\"champions_dict = {}\\nchampions_names = list(data_champions['data'].keys())\\nfor champion in champions_names:\\n    champions_dict[int(data_champions['data'][champion]['key'])] = data_champions['data'][champion]['stats']\\nchampions_df = pd.DataFrame(champions_dict)\\nchampions_df = champions_df.T\\nchampions_df.reset_index(level=0, inplace=True)\\nchampions_df['champion'] = champions_df['index']\\nchampions_df.drop('index', axis=1, inplace=True)\\nchampions_df\""
      ]
     },
     "execution_count": 14,
     "metadata": {},
     "output_type": "execute_result"
    }
   ],
   "source": [
    "# get the key and the stats for every champion in this version\n",
    "# create a new dictionary with only the values of interest\n",
    "\n",
    "'''champions_dict = {}\n",
    "champions_names = list(data_champions['data'].keys())\n",
    "for champion in champions_names:\n",
    "    champions_dict[int(data_champions['data'][champion]['key'])] = data_champions['data'][champion]['stats']\n",
    "champions_df = pd.DataFrame(champions_dict)\n",
    "champions_df = champions_df.T\n",
    "champions_df.reset_index(level=0, inplace=True)\n",
    "champions_df['champion'] = champions_df['index']\n",
    "champions_df.drop('index', axis=1, inplace=True)\n",
    "champions_df'''"
   ]
  },
  {
   "cell_type": "code",
   "execution_count": 15,
   "id": "aa7a62f7",
   "metadata": {
    "hidden": true
   },
   "outputs": [
    {
     "data": {
      "text/plain": [
       "\"df_BLUE = pd.merge(df_normalized_BLUE, champions_df, left_on='champion_id', right_on='champion', how='left')\\ndf_BLUE.drop(['champion', 'champion_id'], axis=1, inplace=True)\""
      ]
     },
     "execution_count": 15,
     "metadata": {},
     "output_type": "execute_result"
    }
   ],
   "source": [
    "#Merge with BLUE team and drop the id of the champion, no needed anymore\n",
    "'''df_BLUE = pd.merge(df_normalized_BLUE, champions_df, left_on='champion_id', right_on='champion', how='left')\n",
    "df_BLUE.drop(['champion', 'champion_id'], axis=1, inplace=True)'''"
   ]
  },
  {
   "cell_type": "code",
   "execution_count": 16,
   "id": "af51e523",
   "metadata": {
    "hidden": true
   },
   "outputs": [
    {
     "data": {
      "text/plain": [
       "\"df_RED = pd.merge(df_normalized_RED, champions_df, left_on='champion_id', right_on='champion', how='left')\\ndf_RED.drop(['champion', 'champion_id'], axis=1, inplace=True)\""
      ]
     },
     "execution_count": 16,
     "metadata": {},
     "output_type": "execute_result"
    }
   ],
   "source": [
    "#Merge with RED team and drop the id of the champion, no needed anymore\n",
    "'''df_RED = pd.merge(df_normalized_RED, champions_df, left_on='champion_id', right_on='champion', how='left')\n",
    "df_RED.drop(['champion', 'champion_id'], axis=1, inplace=True)'''"
   ]
  },
  {
   "cell_type": "code",
   "execution_count": 17,
   "id": "fcde4a3c",
   "metadata": {
    "hidden": true,
    "scrolled": true
   },
   "outputs": [],
   "source": [
    "# do some feature engineering"
   ]
  },
  {
   "cell_type": "markdown",
   "id": "9a9f98ed",
   "metadata": {
    "heading_collapsed": true
   },
   "source": [
    "# [Skip] Merged Blue and Red data"
   ]
  },
  {
   "cell_type": "markdown",
   "id": "db251865",
   "metadata": {
    "hidden": true
   },
   "source": [
    "df_BLUE_RED = pd.merge(df_BLUE, df_RED, left_on='game_id', right_on='game_id', how='left')\n",
    "df_BLUE_RED.sample(5)"
   ]
  },
  {
   "cell_type": "markdown",
   "id": "97acc81f",
   "metadata": {
    "hidden": true
   },
   "source": [
    "df_BLUE_RED.keys()"
   ]
  },
  {
   "cell_type": "markdown",
   "id": "78fd8f23",
   "metadata": {
    "hidden": true
   },
   "source": [
    "df_BLUE_RED.info()"
   ]
  },
  {
   "cell_type": "markdown",
   "id": "9b784a6c",
   "metadata": {
    "hidden": true
   },
   "source": [
    "from sklearn.preprocessing import LabelEncoder\n",
    "\n",
    "y = LabelEncoder().fit(df_BLUE_RED.win_x).transform(df_BLUE_RED.win_x)\n",
    "y.sum(), y.sum()/len(y)"
   ]
  },
  {
   "cell_type": "markdown",
   "id": "28461b80",
   "metadata": {
    "hidden": true
   },
   "source": [
    "df_BLUE_RED.drop(['name_x', 'id_x', 'champion_id_x', 'win_x', 'side_x', 'game_id', 'name_y', 'id_y', 'champion_id_y', 'win_y', 'side_y'], axis=1, inplace=True)"
   ]
  },
  {
   "cell_type": "markdown",
   "id": "0f51ce98",
   "metadata": {
    "hidden": true
   },
   "source": [
    "df_BLUE_RED.keys()"
   ]
  },
  {
   "cell_type": "markdown",
   "id": "95a41b11",
   "metadata": {
    "hidden": true
   },
   "source": [
    "from sklearn.preprocessing import OneHotEncoder\n",
    "\n",
    "ohe = OneHotEncoder(sparse = False, handle_unknown='ignore')\n",
    "ohe.fit(df_BLUE_RED[['role_x']])\n",
    "blue_role_encoded = ohe.transform(df_BLUE_RED[['role_x']])\n",
    "red_role_encoded = ohe.transform(df_BLUE_RED[['role_y']])\n",
    "ohe.categories_"
   ]
  },
  {
   "cell_type": "markdown",
   "id": "6490b4d2",
   "metadata": {
    "hidden": true
   },
   "source": [
    "df_BLUE_RED['Blue_BOT'], df_BLUE_RED['Blue_JGL'], df_BLUE_RED['Blue_MID'], df_BLUE_RED['Blue_SUP'], df_BLUE_RED['Blue_TOP'] = blue_role_encoded.T\n",
    "df_BLUE_RED.drop('role_x', axis=1, inplace=True)\n",
    "df_BLUE_RED.sample(5)"
   ]
  },
  {
   "cell_type": "markdown",
   "id": "4ef950c1",
   "metadata": {
    "hidden": true
   },
   "source": [
    "df_BLUE_RED['Red_BOT'], df_BLUE_RED['Red_JGL'], df_BLUE_RED['Red_MID'], df_BLUE_RED['Red_SUP'], df_BLUE_RED['Red_TOP'] = red_role_encoded.T\n",
    "df_BLUE_RED.drop('role_y', axis=1, inplace=True)\n",
    "df_BLUE_RED.sample(5)"
   ]
  },
  {
   "cell_type": "markdown",
   "id": "ba4728ef",
   "metadata": {
    "hidden": true
   },
   "source": [
    "ohe_champ = OneHotEncoder(sparse = False, handle_unknown='ignore')\n",
    "ohe_champ.fit(df_BLUE_RED[['champion_name_x']])\n",
    "blue_champ_role_encoded = ohe_champ.transform(df_BLUE_RED[['champion_name_x']])\n",
    "red_champ_role_encoded = ohe_champ.transform(df_BLUE_RED[['champion_name_y']])\n",
    "ohe_champ.categories_"
   ]
  },
  {
   "cell_type": "markdown",
   "id": "f6ef2eef",
   "metadata": {
    "hidden": true
   },
   "source": [
    "df_BLUE_RED['Blue_BOT'], df_BLUE_RED['Blue_JGL'], df_BLUE_RED['Blue_MID'], df_BLUE_RED['Blue_SUP'], df_BLUE_RED['Blue_TOP'] = blue_role_encoded.T\n",
    "df_BLUE_RED.drop('role_x', axis=1, inplace=True)\n",
    "df_BLUE_RED.sample(5)"
   ]
  },
  {
   "cell_type": "markdown",
   "id": "357533e7",
   "metadata": {},
   "source": [
    "# ML model"
   ]
  },
  {
   "cell_type": "code",
   "execution_count": 32,
   "id": "70ddc2db",
   "metadata": {},
   "outputs": [
    {
     "data": {
      "text/plain": [
       "Pipeline(memory=None,\n",
       "         steps=[('columntransformer',\n",
       "                 ColumnTransformer(n_jobs=None, remainder='passthrough',\n",
       "                                   sparse_threshold=0.3,\n",
       "                                   transformer_weights=None,\n",
       "                                   transformers=[('pipeline',\n",
       "                                                  Pipeline(memory=None,\n",
       "                                                           steps=[('simpleimputer',\n",
       "                                                                   SimpleImputer(add_indicator=False,\n",
       "                                                                                 copy=True,\n",
       "                                                                                 fill_value=None,\n",
       "                                                                                 missing_values=nan,\n",
       "                                                                                 strategy='mean',\n",
       "                                                                                 verbose=0)),\n",
       "                                                                  ('minmaxscaler',\n",
       "                                                                   MinMaxS...\n",
       "                                                  <sklearn.compose._column_transformer.make_column_selector object at 0x7fb00140a9d0>)],\n",
       "                                   verbose=False)),\n",
       "                ('logisticregression',\n",
       "                 LogisticRegression(C=1.0, class_weight=None, dual=False,\n",
       "                                    fit_intercept=True, intercept_scaling=1,\n",
       "                                    l1_ratio=None, max_iter=100,\n",
       "                                    multi_class='auto', n_jobs=None,\n",
       "                                    penalty='l2', random_state=None,\n",
       "                                    solver='liblinear', tol=0.0001, verbose=0,\n",
       "                                    warm_start=False))],\n",
       "         verbose=False)"
      ]
     },
     "execution_count": 32,
     "metadata": {},
     "output_type": "execute_result"
    }
   ],
   "source": [
    "from sklearn.preprocessing import MinMaxScaler\n",
    "from sklearn.impute import SimpleImputer\n",
    "from sklearn.preprocessing import OneHotEncoder\n",
    "from sklearn.pipeline import make_pipeline\n",
    "from sklearn.linear_model import LogisticRegression\n",
    "from sklearn.compose import make_column_transformer\n",
    "from sklearn.compose import make_column_selector\n",
    "\n",
    "# Impute then Scale for numerical variables: \n",
    "num_transformer = make_pipeline(\n",
    "                    SimpleImputer(strategy = 'mean'),\n",
    "                    MinMaxScaler())\n",
    "\n",
    "# Encode categorical variables\n",
    "cat_transformer = OneHotEncoder(sparse = False)#, handle_unknown='ignore')\n",
    "\n",
    "# Paralellize \"num_transformer\" and \"One hot encoder\"\n",
    "preproc = make_column_transformer(\n",
    "    (num_transformer, make_column_selector(dtype_include=['float64'])),\n",
    "    (cat_transformer, make_column_selector(dtype_include=['object','bool'])),\n",
    "    remainder='passthrough')\n",
    "\n",
    "#add model\n",
    "pipe = make_pipeline(preproc, LogisticRegression(solver='liblinear'))\n",
    "pipe"
   ]
  },
  {
   "cell_type": "code",
   "execution_count": 33,
   "id": "eb802041",
   "metadata": {},
   "outputs": [
    {
     "data": {
      "text/plain": [
       "Index(['name', 'id', 'role', 'champion_name', 'champion_id', 'gold_15',\n",
       "       'kills_assists_15', 'deaths_15', 'total_gold', 'total_cs',\n",
       "       'total_kills', 'total_monster_kills', 'total_assists', 'total_deaths',\n",
       "       'total_damage_taken', 'total_damage_dealt', 'win', 'side', 'game_id'],\n",
       "      dtype='object')"
      ]
     },
     "execution_count": 33,
     "metadata": {},
     "output_type": "execute_result"
    }
   ],
   "source": [
    "df_BLUE.keys()"
   ]
  },
  {
   "cell_type": "code",
   "execution_count": 35,
   "id": "0fa016c2",
   "metadata": {},
   "outputs": [],
   "source": [
    "from sklearn.preprocessing import LabelEncoder\n",
    "\n",
    "y = LabelEncoder().fit(df_normalized_teams.winner).transform(df_normalized_teams.winner)\n",
    "X_pre = df_BLUE.drop(['name', 'id', 'win', 'champion_id', 'side'], axis=1).groupby('game_id').sum()\n",
    "X = X_pre"
   ]
  },
  {
   "cell_type": "code",
   "execution_count": 49,
   "id": "70f7e9cb",
   "metadata": {},
   "outputs": [
    {
     "name": "stdout",
     "output_type": "stream",
     "text": [
      "<class 'pandas.core.frame.DataFrame'>\n",
      "Index: 35320 entries, 2016 International Wildcard Invitational/Scoreboards/Bracket Stage_1_1 to XLG SuperCup 2016/Scoreboards_6_2\n",
      "Data columns (total 11 columns):\n",
      " #   Column               Non-Null Count  Dtype  \n",
      "---  ------               --------------  -----  \n",
      " 0   gold_15              35320 non-null  float64\n",
      " 1   kills_assists_15     35320 non-null  float64\n",
      " 2   deaths_15            35320 non-null  float64\n",
      " 3   total_gold           35320 non-null  int64  \n",
      " 4   total_cs             35320 non-null  int64  \n",
      " 5   total_kills          35320 non-null  int64  \n",
      " 6   total_monster_kills  35320 non-null  int64  \n",
      " 7   total_assists        35320 non-null  int64  \n",
      " 8   total_deaths         35320 non-null  int64  \n",
      " 9   total_damage_taken   35320 non-null  int64  \n",
      " 10  total_damage_dealt   35320 non-null  int64  \n",
      "dtypes: float64(3), int64(8)\n",
      "memory usage: 3.2+ MB\n"
     ]
    }
   ],
   "source": [
    "X.info()"
   ]
  },
  {
   "cell_type": "code",
   "execution_count": 44,
   "id": "55425926",
   "metadata": {},
   "outputs": [
    {
     "name": "stdout",
     "output_type": "stream",
     "text": [
      "<class 'pandas.core.frame.DataFrame'>\n",
      "RangeIndex: 176600 entries, 0 to 176599\n",
      "Data columns (total 19 columns):\n",
      " #   Column               Non-Null Count   Dtype  \n",
      "---  ------               --------------   -----  \n",
      " 0   name                 172701 non-null  object \n",
      " 1   id                   172701 non-null  float64\n",
      " 2   role                 176600 non-null  object \n",
      " 3   champion_name        176600 non-null  object \n",
      " 4   champion_id          176600 non-null  int64  \n",
      " 5   gold_15              176520 non-null  float64\n",
      " 6   kills_assists_15     176575 non-null  float64\n",
      " 7   deaths_15            176575 non-null  float64\n",
      " 8   total_gold           176600 non-null  int64  \n",
      " 9   total_cs             176600 non-null  int64  \n",
      " 10  total_kills          176600 non-null  int64  \n",
      " 11  total_monster_kills  176600 non-null  int64  \n",
      " 12  total_assists        176600 non-null  int64  \n",
      " 13  total_deaths         176600 non-null  int64  \n",
      " 14  total_damage_taken   176600 non-null  int64  \n",
      " 15  total_damage_dealt   176600 non-null  int64  \n",
      " 16  win                  176600 non-null  bool   \n",
      " 17  side                 176600 non-null  object \n",
      " 18  game_id              176600 non-null  object \n",
      "dtypes: bool(1), float64(4), int64(9), object(5)\n",
      "memory usage: 24.4+ MB\n"
     ]
    }
   ],
   "source": [
    "df_BLUE.info()"
   ]
  },
  {
   "cell_type": "code",
   "execution_count": 36,
   "id": "4e172c3d",
   "metadata": {},
   "outputs": [],
   "source": [
    "from sklearn.model_selection import train_test_split\n",
    "\n",
    "X_train, X_test, y_train, y_test = train_test_split(X, y, test_size=0.33, random_state=42)"
   ]
  },
  {
   "cell_type": "code",
   "execution_count": 37,
   "id": "a6b72991",
   "metadata": {},
   "outputs": [
    {
     "name": "stdout",
     "output_type": "stream",
     "text": [
      "<class 'pandas.core.frame.DataFrame'>\n",
      "Index: 23664 entries, LST/2019 Season/Summer/Scoreboards/Week 7_4_1 to LCS/2019 Season/Spring Season/Scoreboards/Week 9_10_1\n",
      "Data columns (total 11 columns):\n",
      " #   Column               Non-Null Count  Dtype  \n",
      "---  ------               --------------  -----  \n",
      " 0   gold_15              23664 non-null  float64\n",
      " 1   kills_assists_15     23664 non-null  float64\n",
      " 2   deaths_15            23664 non-null  float64\n",
      " 3   total_gold           23664 non-null  int64  \n",
      " 4   total_cs             23664 non-null  int64  \n",
      " 5   total_kills          23664 non-null  int64  \n",
      " 6   total_monster_kills  23664 non-null  int64  \n",
      " 7   total_assists        23664 non-null  int64  \n",
      " 8   total_deaths         23664 non-null  int64  \n",
      " 9   total_damage_taken   23664 non-null  int64  \n",
      " 10  total_damage_dealt   23664 non-null  int64  \n",
      "dtypes: float64(3), int64(8)\n",
      "memory usage: 2.2+ MB\n"
     ]
    }
   ],
   "source": [
    "X_train.info()"
   ]
  },
  {
   "cell_type": "code",
   "execution_count": 38,
   "id": "1ac34a2e",
   "metadata": {},
   "outputs": [
    {
     "data": {
      "text/plain": [
       "0.5325154426904598"
      ]
     },
     "execution_count": 38,
     "metadata": {},
     "output_type": "execute_result"
    }
   ],
   "source": [
    "# Train pipeline\n",
    "pipe.fit(X_train,y_train)\n",
    "\n",
    "# Score model\n",
    "pipe.score(X_test,y_test)"
   ]
  },
  {
   "cell_type": "code",
   "execution_count": 39,
   "id": "50e1d148",
   "metadata": {},
   "outputs": [
    {
     "data": {
      "text/plain": [
       "0.537398581724408"
      ]
     },
     "execution_count": 39,
     "metadata": {},
     "output_type": "execute_result"
    }
   ],
   "source": [
    "from sklearn.model_selection import cross_val_score\n",
    "\n",
    "# Cross validate pipeline\n",
    "cross_val_score(pipe, X_train, y_train, cv=10, scoring='accuracy').mean()"
   ]
  },
  {
   "cell_type": "code",
   "execution_count": 40,
   "id": "1ce37d37",
   "metadata": {},
   "outputs": [
    {
     "data": {
      "text/plain": [
       "(array([0, 0, 0, 0, 0]), array([0, 1, 0, 1, 1]))"
      ]
     },
     "execution_count": 40,
     "metadata": {},
     "output_type": "execute_result"
    }
   ],
   "source": [
    "# Check predictions\n",
    "pipe.predict(X_test.iloc[0:5]), y_test[0:5]"
   ]
  },
  {
   "cell_type": "code",
   "execution_count": 41,
   "id": "9e52bb4d",
   "metadata": {},
   "outputs": [
    {
     "name": "stdout",
     "output_type": "stream",
     "text": [
      "0.5325154426904598\n",
      "              precision    recall  f1-score   support\n",
      "\n",
      "           0       0.53      1.00      0.69      6207\n",
      "           1       0.00      0.00      0.00      5449\n",
      "\n",
      "    accuracy                           0.53     11656\n",
      "   macro avg       0.27      0.50      0.35     11656\n",
      "weighted avg       0.28      0.53      0.37     11656\n",
      "\n"
     ]
    },
    {
     "name": "stderr",
     "output_type": "stream",
     "text": [
      "/home/stephy/.pyenv/versions/3.8.12/envs/lewagon/lib/python3.8/site-packages/sklearn/metrics/_classification.py:1268: UndefinedMetricWarning: Precision and F-score are ill-defined and being set to 0.0 in labels with no predicted samples. Use `zero_division` parameter to control this behavior.\n",
      "  _warn_prf(average, modifier, msg_start, len(result))\n"
     ]
    }
   ],
   "source": [
    "from sklearn import metrics\n",
    "\n",
    "predicted = pipe.predict(X_test)\n",
    "print(metrics.accuracy_score(y_test, predicted))\n",
    "print(metrics.classification_report(y_test, predicted)) "
   ]
  },
  {
   "cell_type": "code",
   "execution_count": 31,
   "id": "f26ca71c",
   "metadata": {},
   "outputs": [
    {
     "data": {
      "text/plain": [
       "array([0])"
      ]
     },
     "execution_count": 31,
     "metadata": {},
     "output_type": "execute_result"
    }
   ],
   "source": [
    "np.unique(predicted)"
   ]
  },
  {
   "cell_type": "code",
   "execution_count": 46,
   "id": "fa1301ae",
   "metadata": {},
   "outputs": [],
   "source": [
    "model = pipe[-1]"
   ]
  },
  {
   "cell_type": "code",
   "execution_count": 47,
   "id": "a94929db",
   "metadata": {},
   "outputs": [
    {
     "data": {
      "text/plain": [
       "array([[-1.40395486e-10, -6.63069850e-11, -4.21767914e-11,\n",
       "        -3.36859164e-06, -6.54788583e-08, -3.95464568e-09,\n",
       "        -6.88579470e-09, -6.64205139e-09, -3.04656228e-09,\n",
       "        -4.01736383e-07,  1.15474872e-07]])"
      ]
     },
     "execution_count": 47,
     "metadata": {},
     "output_type": "execute_result"
    }
   ],
   "source": [
    "model.coef_"
   ]
  }
 ],
 "metadata": {
  "kernelspec": {
   "display_name": "Python 3 (ipykernel)",
   "language": "python",
   "name": "python3"
  },
  "language_info": {
   "codemirror_mode": {
    "name": "ipython",
    "version": 3
   },
   "file_extension": ".py",
   "mimetype": "text/x-python",
   "name": "python",
   "nbconvert_exporter": "python",
   "pygments_lexer": "ipython3",
   "version": "3.8.12"
  },
  "toc": {
   "base_numbering": 1,
   "nav_menu": {},
   "number_sections": true,
   "sideBar": true,
   "skip_h1_title": false,
   "title_cell": "Table of Contents",
   "title_sidebar": "Contents",
   "toc_cell": false,
   "toc_position": {},
   "toc_section_display": true,
   "toc_window_display": false
  }
 },
 "nbformat": 4,
 "nbformat_minor": 5
}
