{
 "cells": [
  {
   "cell_type": "markdown",
   "id": "cd11ed9d",
   "metadata": {},
   "source": [
    "# Import data"
   ]
  },
  {
   "cell_type": "code",
   "execution_count": 128,
   "id": "df21202b",
   "metadata": {},
   "outputs": [],
   "source": [
    "import numpy as np\n",
    "import pandas as pd\n",
    "import json"
   ]
  },
  {
   "cell_type": "code",
   "execution_count": 129,
   "id": "a269d6f5",
   "metadata": {},
   "outputs": [
    {
     "data": {
      "text/plain": [
       "35320"
      ]
     },
     "execution_count": 129,
     "metadata": {},
     "output_type": "execute_result"
    }
   ],
   "source": [
    "file = '../raw_data/full_dump.json'\n",
    "with open(file) as data_file:    \n",
    "    data = json.load(data_file) \n",
    "len(data)"
   ]
  },
  {
   "cell_type": "code",
   "execution_count": 130,
   "id": "51b12b6e",
   "metadata": {},
   "outputs": [
    {
     "data": {
      "text/plain": [
       "['EU Challenger Series/2017 Season/Spring Qualifiers/Scoreboards_1_1',\n",
       " 'EU Challenger Series/2017 Season/Spring Qualifiers/Scoreboards_2_1',\n",
       " 'EU Challenger Series/2017 Season/Spring Qualifiers/Scoreboards_3_1',\n",
       " 'EU Challenger Series/2017 Season/Spring Qualifiers/Scoreboards_4_1',\n",
       " 'EU Challenger Series/2017 Season/Spring Qualifiers/Scoreboards_5_1']"
      ]
     },
     "execution_count": 130,
     "metadata": {},
     "output_type": "execute_result"
    }
   ],
   "source": [
    "data_keys = list(data.keys())\n",
    "data_keys[:5]"
   ]
  },
  {
   "cell_type": "code",
   "execution_count": 131,
   "id": "8afafe81",
   "metadata": {},
   "outputs": [
    {
     "data": {
      "text/plain": [
       "(array(['2016', '2017', '2018', '2019', '2020', '2021'], dtype='<U4'), 1703)"
      ]
     },
     "execution_count": 131,
     "metadata": {},
     "output_type": "execute_result"
    }
   ],
   "source": [
    "import re\n",
    "\n",
    "pattern = r'(\\d{4})'\n",
    "re.search(pattern, data_keys[2]).group(1)\n",
    "\n",
    "year = []\n",
    "no_year = []\n",
    "for i in range(len(data_keys)):\n",
    "    try:\n",
    "        year.append(re.search(pattern, data_keys[i]).group(1))\n",
    "    except:\n",
    "        no_year.append(data_keys[i])\n",
    "\n",
    "np.unique(year), len(no_year)"
   ]
  },
  {
   "cell_type": "markdown",
   "id": "35f552a1",
   "metadata": {},
   "source": [
    "# Normalize the JSON file\n",
    "\n",
    "Normalize means to expand the nested keys in the JSON file and the subsequent DataFrame."
   ]
  },
  {
   "cell_type": "code",
   "execution_count": 132,
   "id": "dde7e5ca",
   "metadata": {},
   "outputs": [
    {
     "data": {
      "text/html": [
       "<div>\n",
       "<style scoped>\n",
       "    .dataframe tbody tr th:only-of-type {\n",
       "        vertical-align: middle;\n",
       "    }\n",
       "\n",
       "    .dataframe tbody tr th {\n",
       "        vertical-align: top;\n",
       "    }\n",
       "\n",
       "    .dataframe thead th {\n",
       "        text-align: right;\n",
       "    }\n",
       "</style>\n",
       "<table border=\"1\" class=\"dataframe\">\n",
       "  <thead>\n",
       "    <tr style=\"text-align: right;\">\n",
       "      <th></th>\n",
       "      <th>id</th>\n",
       "      <th>start</th>\n",
       "      <th>patch</th>\n",
       "      <th>winner</th>\n",
       "      <th>duration</th>\n",
       "      <th>picks_bans</th>\n",
       "      <th>teams.BLUE.name</th>\n",
       "      <th>teams.BLUE.total_turret_kills</th>\n",
       "      <th>teams.BLUE.total_inhibitor_kills</th>\n",
       "      <th>teams.BLUE.total_rift_herald_kills</th>\n",
       "      <th>...</th>\n",
       "      <th>teams.BLUE.side</th>\n",
       "      <th>teams.BLUE.players</th>\n",
       "      <th>teams.RED.name</th>\n",
       "      <th>teams.RED.total_turret_kills</th>\n",
       "      <th>teams.RED.total_inhibitor_kills</th>\n",
       "      <th>teams.RED.total_rift_herald_kills</th>\n",
       "      <th>teams.RED.total_dragon_kills</th>\n",
       "      <th>teams.RED.total_baron_kills</th>\n",
       "      <th>teams.RED.side</th>\n",
       "      <th>teams.RED.players</th>\n",
       "    </tr>\n",
       "  </thead>\n",
       "  <tbody>\n",
       "    <tr>\n",
       "      <th>730</th>\n",
       "      <td>LCK/2017 Season/Spring Season/Scoreboards/Week...</td>\n",
       "      <td>None</td>\n",
       "      <td>7.2</td>\n",
       "      <td>BLUE</td>\n",
       "      <td>2944</td>\n",
       "      <td>[{'champion_name': 'Malzahar', 'is_ban': True}...</td>\n",
       "      <td>Kongdoo Monster</td>\n",
       "      <td>11</td>\n",
       "      <td>5</td>\n",
       "      <td>0</td>\n",
       "      <td>...</td>\n",
       "      <td>BLUE</td>\n",
       "      <td>[{'name': 'Roach', 'id': 196336, 'role': 'TOP'...</td>\n",
       "      <td>Jin Air Green Wings</td>\n",
       "      <td>3</td>\n",
       "      <td>0</td>\n",
       "      <td>0</td>\n",
       "      <td>4</td>\n",
       "      <td>0</td>\n",
       "      <td>RED</td>\n",
       "      <td>[{'name': 'SoHwan', 'id': 198047, 'role': 'TOP...</td>\n",
       "    </tr>\n",
       "    <tr>\n",
       "      <th>5465</th>\n",
       "      <td>TCS/2018 Season/Winter Season/Scoreboards/Week...</td>\n",
       "      <td>None</td>\n",
       "      <td>8.2</td>\n",
       "      <td>BLUE</td>\n",
       "      <td>2096</td>\n",
       "      <td>[{'champion_name': 'Sejuani', 'is_ban': True},...</td>\n",
       "      <td>Oyun Hizmetleri</td>\n",
       "      <td>10</td>\n",
       "      <td>3</td>\n",
       "      <td>1</td>\n",
       "      <td>...</td>\n",
       "      <td>BLUE</td>\n",
       "      <td>[{'name': 'Smoke', 'id': 197951, 'role': 'TOP'...</td>\n",
       "      <td>Macro Maniacs</td>\n",
       "      <td>5</td>\n",
       "      <td>0</td>\n",
       "      <td>0</td>\n",
       "      <td>1</td>\n",
       "      <td>0</td>\n",
       "      <td>RED</td>\n",
       "      <td>[{'name': 'Cube', 'id': 145454, 'role': 'TOP',...</td>\n",
       "    </tr>\n",
       "    <tr>\n",
       "      <th>21674</th>\n",
       "      <td>2020 Mid-Season Cup/Scoreboards/Knockout Stage...</td>\n",
       "      <td>None</td>\n",
       "      <td>10.10</td>\n",
       "      <td>BLUE</td>\n",
       "      <td>1985</td>\n",
       "      <td>[{'champion_name': 'Ornn', 'is_ban': True}, {'...</td>\n",
       "      <td>FunPlus Phoenix</td>\n",
       "      <td>11</td>\n",
       "      <td>4</td>\n",
       "      <td>2</td>\n",
       "      <td>...</td>\n",
       "      <td>BLUE</td>\n",
       "      <td>[{'name': 'Khan', 'id': 171549, 'role': 'TOP',...</td>\n",
       "      <td>JD Gaming</td>\n",
       "      <td>2</td>\n",
       "      <td>0</td>\n",
       "      <td>0</td>\n",
       "      <td>0</td>\n",
       "      <td>0</td>\n",
       "      <td>RED</td>\n",
       "      <td>[{'name': 'Zoom', 'id': 206627, 'role': 'TOP',...</td>\n",
       "    </tr>\n",
       "    <tr>\n",
       "      <th>14961</th>\n",
       "      <td>UK League Championship/2019 Season/Summer Seas...</td>\n",
       "      <td>None</td>\n",
       "      <td>9.13</td>\n",
       "      <td>RED</td>\n",
       "      <td>2407</td>\n",
       "      <td>[{'champion_name': 'Irelia', 'is_ban': True}, ...</td>\n",
       "      <td>Barrage (British Team)</td>\n",
       "      <td>3</td>\n",
       "      <td>0</td>\n",
       "      <td>1</td>\n",
       "      <td>...</td>\n",
       "      <td>BLUE</td>\n",
       "      <td>[{'name': 'Zhergoth', 'id': 206471, 'role': 'T...</td>\n",
       "      <td>MnM Gaming</td>\n",
       "      <td>11</td>\n",
       "      <td>3</td>\n",
       "      <td>0</td>\n",
       "      <td>6</td>\n",
       "      <td>1</td>\n",
       "      <td>RED</td>\n",
       "      <td>[{'name': 'Only Angel', 'id': 258380, 'role': ...</td>\n",
       "    </tr>\n",
       "    <tr>\n",
       "      <th>5407</th>\n",
       "      <td>LLN/2018 Season/Opening Season/Scoreboards/Wee...</td>\n",
       "      <td>None</td>\n",
       "      <td>8.2</td>\n",
       "      <td>RED</td>\n",
       "      <td>2820</td>\n",
       "      <td>[{'champion_name': 'Jarvan IV', 'is_ban': True...</td>\n",
       "      <td>Dash9 Gaming</td>\n",
       "      <td>4</td>\n",
       "      <td>0</td>\n",
       "      <td>0</td>\n",
       "      <td>...</td>\n",
       "      <td>BLUE</td>\n",
       "      <td>[{'name': 'Akunma', 'id': 189175, 'role': 'TOP...</td>\n",
       "      <td>Rainbow7</td>\n",
       "      <td>11</td>\n",
       "      <td>4</td>\n",
       "      <td>1</td>\n",
       "      <td>3</td>\n",
       "      <td>2</td>\n",
       "      <td>RED</td>\n",
       "      <td>[{'name': 'Jirall', 'id': 169983, 'role': 'TOP...</td>\n",
       "    </tr>\n",
       "  </tbody>\n",
       "</table>\n",
       "<p>5 rows × 22 columns</p>\n",
       "</div>"
      ],
      "text/plain": [
       "                                                      id start  patch winner  \\\n",
       "730    LCK/2017 Season/Spring Season/Scoreboards/Week...  None    7.2   BLUE   \n",
       "5465   TCS/2018 Season/Winter Season/Scoreboards/Week...  None    8.2   BLUE   \n",
       "21674  2020 Mid-Season Cup/Scoreboards/Knockout Stage...  None  10.10   BLUE   \n",
       "14961  UK League Championship/2019 Season/Summer Seas...  None   9.13    RED   \n",
       "5407   LLN/2018 Season/Opening Season/Scoreboards/Wee...  None    8.2    RED   \n",
       "\n",
       "       duration                                         picks_bans  \\\n",
       "730        2944  [{'champion_name': 'Malzahar', 'is_ban': True}...   \n",
       "5465       2096  [{'champion_name': 'Sejuani', 'is_ban': True},...   \n",
       "21674      1985  [{'champion_name': 'Ornn', 'is_ban': True}, {'...   \n",
       "14961      2407  [{'champion_name': 'Irelia', 'is_ban': True}, ...   \n",
       "5407       2820  [{'champion_name': 'Jarvan IV', 'is_ban': True...   \n",
       "\n",
       "              teams.BLUE.name  teams.BLUE.total_turret_kills  \\\n",
       "730           Kongdoo Monster                             11   \n",
       "5465          Oyun Hizmetleri                             10   \n",
       "21674         FunPlus Phoenix                             11   \n",
       "14961  Barrage (British Team)                              3   \n",
       "5407             Dash9 Gaming                              4   \n",
       "\n",
       "       teams.BLUE.total_inhibitor_kills  teams.BLUE.total_rift_herald_kills  \\\n",
       "730                                   5                                   0   \n",
       "5465                                  3                                   1   \n",
       "21674                                 4                                   2   \n",
       "14961                                 0                                   1   \n",
       "5407                                  0                                   0   \n",
       "\n",
       "       ...  teams.BLUE.side  \\\n",
       "730    ...             BLUE   \n",
       "5465   ...             BLUE   \n",
       "21674  ...             BLUE   \n",
       "14961  ...             BLUE   \n",
       "5407   ...             BLUE   \n",
       "\n",
       "                                      teams.BLUE.players       teams.RED.name  \\\n",
       "730    [{'name': 'Roach', 'id': 196336, 'role': 'TOP'...  Jin Air Green Wings   \n",
       "5465   [{'name': 'Smoke', 'id': 197951, 'role': 'TOP'...        Macro Maniacs   \n",
       "21674  [{'name': 'Khan', 'id': 171549, 'role': 'TOP',...            JD Gaming   \n",
       "14961  [{'name': 'Zhergoth', 'id': 206471, 'role': 'T...           MnM Gaming   \n",
       "5407   [{'name': 'Akunma', 'id': 189175, 'role': 'TOP...             Rainbow7   \n",
       "\n",
       "      teams.RED.total_turret_kills teams.RED.total_inhibitor_kills  \\\n",
       "730                              3                               0   \n",
       "5465                             5                               0   \n",
       "21674                            2                               0   \n",
       "14961                           11                               3   \n",
       "5407                            11                               4   \n",
       "\n",
       "       teams.RED.total_rift_herald_kills  teams.RED.total_dragon_kills  \\\n",
       "730                                    0                             4   \n",
       "5465                                   0                             1   \n",
       "21674                                  0                             0   \n",
       "14961                                  0                             6   \n",
       "5407                                   1                             3   \n",
       "\n",
       "       teams.RED.total_baron_kills  teams.RED.side  \\\n",
       "730                              0             RED   \n",
       "5465                             0             RED   \n",
       "21674                            0             RED   \n",
       "14961                            1             RED   \n",
       "5407                             2             RED   \n",
       "\n",
       "                                       teams.RED.players  \n",
       "730    [{'name': 'SoHwan', 'id': 198047, 'role': 'TOP...  \n",
       "5465   [{'name': 'Cube', 'id': 145454, 'role': 'TOP',...  \n",
       "21674  [{'name': 'Zoom', 'id': 206627, 'role': 'TOP',...  \n",
       "14961  [{'name': 'Only Angel', 'id': 258380, 'role': ...  \n",
       "5407   [{'name': 'Jirall', 'id': 169983, 'role': 'TOP...  \n",
       "\n",
       "[5 rows x 22 columns]"
      ]
     },
     "execution_count": 132,
     "metadata": {},
     "output_type": "execute_result"
    }
   ],
   "source": [
    "#Normalize the complete dataframe and make a copy\n",
    "df_normalized_teams = pd.json_normalize(data.values())\n",
    "df_teams = df_normalized_teams.copy()\n",
    "df_teams.sample(5)"
   ]
  },
  {
   "cell_type": "code",
   "execution_count": 133,
   "id": "8cfa63e2",
   "metadata": {},
   "outputs": [
    {
     "data": {
      "text/html": [
       "<div>\n",
       "<style scoped>\n",
       "    .dataframe tbody tr th:only-of-type {\n",
       "        vertical-align: middle;\n",
       "    }\n",
       "\n",
       "    .dataframe tbody tr th {\n",
       "        vertical-align: top;\n",
       "    }\n",
       "\n",
       "    .dataframe thead th {\n",
       "        text-align: right;\n",
       "    }\n",
       "</style>\n",
       "<table border=\"1\" class=\"dataframe\">\n",
       "  <thead>\n",
       "    <tr style=\"text-align: right;\">\n",
       "      <th></th>\n",
       "      <th>id</th>\n",
       "      <th>start</th>\n",
       "      <th>patch</th>\n",
       "      <th>winner</th>\n",
       "      <th>duration</th>\n",
       "      <th>teams.BLUE.name</th>\n",
       "      <th>teams.BLUE.total_turret_kills</th>\n",
       "      <th>teams.BLUE.total_inhibitor_kills</th>\n",
       "      <th>teams.BLUE.total_rift_herald_kills</th>\n",
       "      <th>teams.BLUE.total_dragon_kills</th>\n",
       "      <th>teams.BLUE.total_baron_kills</th>\n",
       "      <th>teams.BLUE.side</th>\n",
       "      <th>teams.RED.name</th>\n",
       "      <th>teams.RED.total_turret_kills</th>\n",
       "      <th>teams.RED.total_inhibitor_kills</th>\n",
       "      <th>teams.RED.total_rift_herald_kills</th>\n",
       "      <th>teams.RED.total_dragon_kills</th>\n",
       "      <th>teams.RED.total_baron_kills</th>\n",
       "      <th>teams.RED.side</th>\n",
       "    </tr>\n",
       "  </thead>\n",
       "  <tbody>\n",
       "    <tr>\n",
       "      <th>0</th>\n",
       "      <td>EU Challenger Series/2017 Season/Spring Qualif...</td>\n",
       "      <td>None</td>\n",
       "      <td>6.24</td>\n",
       "      <td>BLUE</td>\n",
       "      <td>2023</td>\n",
       "      <td>Fnatic Academy</td>\n",
       "      <td>11</td>\n",
       "      <td>3</td>\n",
       "      <td>0</td>\n",
       "      <td>2</td>\n",
       "      <td>1</td>\n",
       "      <td>BLUE</td>\n",
       "      <td>EURONICS Gaming</td>\n",
       "      <td>4</td>\n",
       "      <td>0</td>\n",
       "      <td>0</td>\n",
       "      <td>1</td>\n",
       "      <td>0</td>\n",
       "      <td>RED</td>\n",
       "    </tr>\n",
       "    <tr>\n",
       "      <th>1</th>\n",
       "      <td>EU Challenger Series/2017 Season/Spring Qualif...</td>\n",
       "      <td>None</td>\n",
       "      <td>6.24</td>\n",
       "      <td>RED</td>\n",
       "      <td>1782</td>\n",
       "      <td>AlienTech eSports</td>\n",
       "      <td>3</td>\n",
       "      <td>0</td>\n",
       "      <td>0</td>\n",
       "      <td>0</td>\n",
       "      <td>0</td>\n",
       "      <td>BLUE</td>\n",
       "      <td>Team Larssen</td>\n",
       "      <td>7</td>\n",
       "      <td>1</td>\n",
       "      <td>1</td>\n",
       "      <td>2</td>\n",
       "      <td>1</td>\n",
       "      <td>RED</td>\n",
       "    </tr>\n",
       "    <tr>\n",
       "      <th>2</th>\n",
       "      <td>EU Challenger Series/2017 Season/Spring Qualif...</td>\n",
       "      <td>None</td>\n",
       "      <td>6.24</td>\n",
       "      <td>RED</td>\n",
       "      <td>2465</td>\n",
       "      <td>Bobaski</td>\n",
       "      <td>4</td>\n",
       "      <td>0</td>\n",
       "      <td>0</td>\n",
       "      <td>0</td>\n",
       "      <td>0</td>\n",
       "      <td>BLUE</td>\n",
       "      <td>Nerv</td>\n",
       "      <td>9</td>\n",
       "      <td>1</td>\n",
       "      <td>0</td>\n",
       "      <td>3</td>\n",
       "      <td>1</td>\n",
       "      <td>RED</td>\n",
       "    </tr>\n",
       "    <tr>\n",
       "      <th>3</th>\n",
       "      <td>EU Challenger Series/2017 Season/Spring Qualif...</td>\n",
       "      <td>None</td>\n",
       "      <td>6.24</td>\n",
       "      <td>BLUE</td>\n",
       "      <td>1925</td>\n",
       "      <td>Team Forge</td>\n",
       "      <td>11</td>\n",
       "      <td>4</td>\n",
       "      <td>0</td>\n",
       "      <td>4</td>\n",
       "      <td>1</td>\n",
       "      <td>BLUE</td>\n",
       "      <td>Tricked Esport</td>\n",
       "      <td>0</td>\n",
       "      <td>0</td>\n",
       "      <td>0</td>\n",
       "      <td>0</td>\n",
       "      <td>1</td>\n",
       "      <td>RED</td>\n",
       "    </tr>\n",
       "    <tr>\n",
       "      <th>4</th>\n",
       "      <td>EU Challenger Series/2017 Season/Spring Qualif...</td>\n",
       "      <td>None</td>\n",
       "      <td>6.24</td>\n",
       "      <td>BLUE</td>\n",
       "      <td>1507</td>\n",
       "      <td>Team-LDLC</td>\n",
       "      <td>11</td>\n",
       "      <td>3</td>\n",
       "      <td>0</td>\n",
       "      <td>1</td>\n",
       "      <td>1</td>\n",
       "      <td>BLUE</td>\n",
       "      <td>ASUS ROG Army</td>\n",
       "      <td>1</td>\n",
       "      <td>0</td>\n",
       "      <td>0</td>\n",
       "      <td>0</td>\n",
       "      <td>0</td>\n",
       "      <td>RED</td>\n",
       "    </tr>\n",
       "  </tbody>\n",
       "</table>\n",
       "</div>"
      ],
      "text/plain": [
       "                                                  id start patch winner  \\\n",
       "0  EU Challenger Series/2017 Season/Spring Qualif...  None  6.24   BLUE   \n",
       "1  EU Challenger Series/2017 Season/Spring Qualif...  None  6.24    RED   \n",
       "2  EU Challenger Series/2017 Season/Spring Qualif...  None  6.24    RED   \n",
       "3  EU Challenger Series/2017 Season/Spring Qualif...  None  6.24   BLUE   \n",
       "4  EU Challenger Series/2017 Season/Spring Qualif...  None  6.24   BLUE   \n",
       "\n",
       "   duration    teams.BLUE.name  teams.BLUE.total_turret_kills  \\\n",
       "0      2023     Fnatic Academy                             11   \n",
       "1      1782  AlienTech eSports                              3   \n",
       "2      2465            Bobaski                              4   \n",
       "3      1925         Team Forge                             11   \n",
       "4      1507          Team-LDLC                             11   \n",
       "\n",
       "   teams.BLUE.total_inhibitor_kills  teams.BLUE.total_rift_herald_kills  \\\n",
       "0                                 3                                   0   \n",
       "1                                 0                                   0   \n",
       "2                                 0                                   0   \n",
       "3                                 4                                   0   \n",
       "4                                 3                                   0   \n",
       "\n",
       "   teams.BLUE.total_dragon_kills  teams.BLUE.total_baron_kills  \\\n",
       "0                              2                             1   \n",
       "1                              0                             0   \n",
       "2                              0                             0   \n",
       "3                              4                             1   \n",
       "4                              1                             1   \n",
       "\n",
       "  teams.BLUE.side   teams.RED.name  teams.RED.total_turret_kills  \\\n",
       "0            BLUE  EURONICS Gaming                             4   \n",
       "1            BLUE     Team Larssen                             7   \n",
       "2            BLUE             Nerv                             9   \n",
       "3            BLUE   Tricked Esport                             0   \n",
       "4            BLUE    ASUS ROG Army                             1   \n",
       "\n",
       "   teams.RED.total_inhibitor_kills  teams.RED.total_rift_herald_kills  \\\n",
       "0                                0                                  0   \n",
       "1                                1                                  1   \n",
       "2                                1                                  0   \n",
       "3                                0                                  0   \n",
       "4                                0                                  0   \n",
       "\n",
       "   teams.RED.total_dragon_kills  teams.RED.total_baron_kills teams.RED.side  \n",
       "0                             1                            0            RED  \n",
       "1                             2                            1            RED  \n",
       "2                             3                            1            RED  \n",
       "3                             0                            1            RED  \n",
       "4                             0                            0            RED  "
      ]
     },
     "execution_count": 133,
     "metadata": {},
     "output_type": "execute_result"
    }
   ],
   "source": [
    "#Make a dataframe dedicated to the teams \n",
    "df_teams.drop(['teams.BLUE.players', 'teams.RED.players', 'picks_bans'], axis=1, inplace=True)\n",
    "df_teams.head()"
   ]
  },
  {
   "cell_type": "code",
   "execution_count": 134,
   "id": "c847d0b3",
   "metadata": {},
   "outputs": [
    {
     "data": {
      "text/html": [
       "<div>\n",
       "<style scoped>\n",
       "    .dataframe tbody tr th:only-of-type {\n",
       "        vertical-align: middle;\n",
       "    }\n",
       "\n",
       "    .dataframe tbody tr th {\n",
       "        vertical-align: top;\n",
       "    }\n",
       "\n",
       "    .dataframe thead th {\n",
       "        text-align: right;\n",
       "    }\n",
       "</style>\n",
       "<table border=\"1\" class=\"dataframe\">\n",
       "  <thead>\n",
       "    <tr style=\"text-align: right;\">\n",
       "      <th></th>\n",
       "      <th>name</th>\n",
       "      <th>id</th>\n",
       "      <th>role</th>\n",
       "      <th>champion_name</th>\n",
       "      <th>champion_id</th>\n",
       "      <th>gold_15</th>\n",
       "      <th>kills_assists_15</th>\n",
       "      <th>deaths_15</th>\n",
       "      <th>total_gold</th>\n",
       "      <th>total_cs</th>\n",
       "      <th>total_kills</th>\n",
       "      <th>total_monster_kills</th>\n",
       "      <th>total_assists</th>\n",
       "      <th>total_deaths</th>\n",
       "      <th>total_damage_taken</th>\n",
       "      <th>total_damage_dealt</th>\n",
       "      <th>win</th>\n",
       "      <th>side</th>\n",
       "    </tr>\n",
       "  </thead>\n",
       "  <tbody>\n",
       "    <tr>\n",
       "      <th>69100</th>\n",
       "      <td>Kartis</td>\n",
       "      <td>298207.0</td>\n",
       "      <td>TOP</td>\n",
       "      <td>Camille</td>\n",
       "      <td>164</td>\n",
       "      <td>4700.0</td>\n",
       "      <td>11.0</td>\n",
       "      <td>0.0</td>\n",
       "      <td>17360</td>\n",
       "      <td>348</td>\n",
       "      <td>5</td>\n",
       "      <td>56</td>\n",
       "      <td>6</td>\n",
       "      <td>0</td>\n",
       "      <td>25666</td>\n",
       "      <td>291749</td>\n",
       "      <td>True</td>\n",
       "      <td>BLUE</td>\n",
       "    </tr>\n",
       "    <tr>\n",
       "      <th>146349</th>\n",
       "      <td>Raxxo</td>\n",
       "      <td>194896.0</td>\n",
       "      <td>SUP</td>\n",
       "      <td>Tahm Kench</td>\n",
       "      <td>223</td>\n",
       "      <td>4968.0</td>\n",
       "      <td>12.0</td>\n",
       "      <td>0.0</td>\n",
       "      <td>12602</td>\n",
       "      <td>257</td>\n",
       "      <td>0</td>\n",
       "      <td>10</td>\n",
       "      <td>12</td>\n",
       "      <td>0</td>\n",
       "      <td>32587</td>\n",
       "      <td>131188</td>\n",
       "      <td>True</td>\n",
       "      <td>BLUE</td>\n",
       "    </tr>\n",
       "    <tr>\n",
       "      <th>160722</th>\n",
       "      <td>Regi</td>\n",
       "      <td>194987.0</td>\n",
       "      <td>MID</td>\n",
       "      <td>Zed</td>\n",
       "      <td>238</td>\n",
       "      <td>4395.0</td>\n",
       "      <td>2.0</td>\n",
       "      <td>4.0</td>\n",
       "      <td>14057</td>\n",
       "      <td>292</td>\n",
       "      <td>2</td>\n",
       "      <td>22</td>\n",
       "      <td>0</td>\n",
       "      <td>4</td>\n",
       "      <td>19067</td>\n",
       "      <td>212463</td>\n",
       "      <td>False</td>\n",
       "      <td>BLUE</td>\n",
       "    </tr>\n",
       "    <tr>\n",
       "      <th>149159</th>\n",
       "      <td>Gralou</td>\n",
       "      <td>162968.0</td>\n",
       "      <td>SUP</td>\n",
       "      <td>Rell</td>\n",
       "      <td>526</td>\n",
       "      <td>3491.0</td>\n",
       "      <td>11.0</td>\n",
       "      <td>2.0</td>\n",
       "      <td>8927</td>\n",
       "      <td>40</td>\n",
       "      <td>4</td>\n",
       "      <td>0</td>\n",
       "      <td>7</td>\n",
       "      <td>2</td>\n",
       "      <td>12000</td>\n",
       "      <td>31011</td>\n",
       "      <td>True</td>\n",
       "      <td>BLUE</td>\n",
       "    </tr>\n",
       "    <tr>\n",
       "      <th>22738</th>\n",
       "      <td>Breeze</td>\n",
       "      <td>193045.0</td>\n",
       "      <td>BOT</td>\n",
       "      <td>Xayah</td>\n",
       "      <td>498</td>\n",
       "      <td>5148.0</td>\n",
       "      <td>13.0</td>\n",
       "      <td>0.0</td>\n",
       "      <td>15305</td>\n",
       "      <td>325</td>\n",
       "      <td>7</td>\n",
       "      <td>2</td>\n",
       "      <td>6</td>\n",
       "      <td>0</td>\n",
       "      <td>9042</td>\n",
       "      <td>221452</td>\n",
       "      <td>True</td>\n",
       "      <td>BLUE</td>\n",
       "    </tr>\n",
       "  </tbody>\n",
       "</table>\n",
       "</div>"
      ],
      "text/plain": [
       "          name        id role champion_name  champion_id  gold_15  \\\n",
       "69100   Kartis  298207.0  TOP       Camille          164   4700.0   \n",
       "146349   Raxxo  194896.0  SUP    Tahm Kench          223   4968.0   \n",
       "160722    Regi  194987.0  MID           Zed          238   4395.0   \n",
       "149159  Gralou  162968.0  SUP          Rell          526   3491.0   \n",
       "22738   Breeze  193045.0  BOT         Xayah          498   5148.0   \n",
       "\n",
       "        kills_assists_15  deaths_15  total_gold  total_cs  total_kills  \\\n",
       "69100               11.0        0.0       17360       348            5   \n",
       "146349              12.0        0.0       12602       257            0   \n",
       "160722               2.0        4.0       14057       292            2   \n",
       "149159              11.0        2.0        8927        40            4   \n",
       "22738               13.0        0.0       15305       325            7   \n",
       "\n",
       "        total_monster_kills  total_assists  total_deaths  total_damage_taken  \\\n",
       "69100                    56              6             0               25666   \n",
       "146349                   10             12             0               32587   \n",
       "160722                   22              0             4               19067   \n",
       "149159                    0              7             2               12000   \n",
       "22738                     2              6             0                9042   \n",
       "\n",
       "        total_damage_dealt    win  side  \n",
       "69100               291749   True  BLUE  \n",
       "146349              131188   True  BLUE  \n",
       "160722              212463  False  BLUE  \n",
       "149159               31011   True  BLUE  \n",
       "22738               221452   True  BLUE  "
      ]
     },
     "execution_count": 134,
     "metadata": {},
     "output_type": "execute_result"
    }
   ],
   "source": [
    "#Make a dataframe dedicated to the team BLUE\n",
    "df_normalized_teams['teams.BLUE.players'].explode()\n",
    "df_normalized_BLUE = pd.json_normalize(df_normalized_teams['teams.BLUE.players'].explode())\n",
    "df_BLUE = df_normalized_BLUE.copy()\n",
    "df_BLUE.sample(5)"
   ]
  },
  {
   "cell_type": "code",
   "execution_count": 135,
   "id": "4e5892f4",
   "metadata": {},
   "outputs": [
    {
     "data": {
      "text/html": [
       "<div>\n",
       "<style scoped>\n",
       "    .dataframe tbody tr th:only-of-type {\n",
       "        vertical-align: middle;\n",
       "    }\n",
       "\n",
       "    .dataframe tbody tr th {\n",
       "        vertical-align: top;\n",
       "    }\n",
       "\n",
       "    .dataframe thead th {\n",
       "        text-align: right;\n",
       "    }\n",
       "</style>\n",
       "<table border=\"1\" class=\"dataframe\">\n",
       "  <thead>\n",
       "    <tr style=\"text-align: right;\">\n",
       "      <th></th>\n",
       "      <th>name</th>\n",
       "      <th>id</th>\n",
       "      <th>role</th>\n",
       "      <th>champion_name</th>\n",
       "      <th>champion_id</th>\n",
       "      <th>gold_15</th>\n",
       "      <th>kills_assists_15</th>\n",
       "      <th>deaths_15</th>\n",
       "      <th>total_gold</th>\n",
       "      <th>total_cs</th>\n",
       "      <th>total_kills</th>\n",
       "      <th>total_monster_kills</th>\n",
       "      <th>total_assists</th>\n",
       "      <th>total_deaths</th>\n",
       "      <th>total_damage_taken</th>\n",
       "      <th>total_damage_dealt</th>\n",
       "      <th>win</th>\n",
       "      <th>side</th>\n",
       "    </tr>\n",
       "  </thead>\n",
       "  <tbody>\n",
       "    <tr>\n",
       "      <th>163034</th>\n",
       "      <td>Regret9</td>\n",
       "      <td>195010.0</td>\n",
       "      <td>SUP</td>\n",
       "      <td>Morgana</td>\n",
       "      <td>25</td>\n",
       "      <td>3075.0</td>\n",
       "      <td>2.0</td>\n",
       "      <td>4.0</td>\n",
       "      <td>5229</td>\n",
       "      <td>17</td>\n",
       "      <td>0</td>\n",
       "      <td>0</td>\n",
       "      <td>2</td>\n",
       "      <td>4</td>\n",
       "      <td>8359</td>\n",
       "      <td>16637</td>\n",
       "      <td>False</td>\n",
       "      <td>RED</td>\n",
       "    </tr>\n",
       "    <tr>\n",
       "      <th>42517</th>\n",
       "      <td>None</td>\n",
       "      <td>NaN</td>\n",
       "      <td>MID</td>\n",
       "      <td>Corki</td>\n",
       "      <td>42</td>\n",
       "      <td>4480.0</td>\n",
       "      <td>5.0</td>\n",
       "      <td>8.0</td>\n",
       "      <td>6283</td>\n",
       "      <td>117</td>\n",
       "      <td>1</td>\n",
       "      <td>0</td>\n",
       "      <td>4</td>\n",
       "      <td>8</td>\n",
       "      <td>16391</td>\n",
       "      <td>50298</td>\n",
       "      <td>False</td>\n",
       "      <td>RED</td>\n",
       "    </tr>\n",
       "    <tr>\n",
       "      <th>104363</th>\n",
       "      <td>Ruvelius</td>\n",
       "      <td>196533.0</td>\n",
       "      <td>BOT</td>\n",
       "      <td>Gnar</td>\n",
       "      <td>150</td>\n",
       "      <td>5108.0</td>\n",
       "      <td>3.0</td>\n",
       "      <td>5.0</td>\n",
       "      <td>10448</td>\n",
       "      <td>232</td>\n",
       "      <td>2</td>\n",
       "      <td>20</td>\n",
       "      <td>1</td>\n",
       "      <td>5</td>\n",
       "      <td>25911</td>\n",
       "      <td>145590</td>\n",
       "      <td>False</td>\n",
       "      <td>RED</td>\n",
       "    </tr>\n",
       "    <tr>\n",
       "      <th>85025</th>\n",
       "      <td>Chevis</td>\n",
       "      <td>272605.0</td>\n",
       "      <td>TOP</td>\n",
       "      <td>Irelia</td>\n",
       "      <td>39</td>\n",
       "      <td>5020.0</td>\n",
       "      <td>14.0</td>\n",
       "      <td>5.0</td>\n",
       "      <td>15273</td>\n",
       "      <td>277</td>\n",
       "      <td>8</td>\n",
       "      <td>8</td>\n",
       "      <td>6</td>\n",
       "      <td>5</td>\n",
       "      <td>22265</td>\n",
       "      <td>186774</td>\n",
       "      <td>True</td>\n",
       "      <td>RED</td>\n",
       "    </tr>\n",
       "    <tr>\n",
       "      <th>158085</th>\n",
       "      <td>BalIs</td>\n",
       "      <td>191215.0</td>\n",
       "      <td>TOP</td>\n",
       "      <td>Fiora</td>\n",
       "      <td>114</td>\n",
       "      <td>6157.0</td>\n",
       "      <td>10.0</td>\n",
       "      <td>0.0</td>\n",
       "      <td>12687</td>\n",
       "      <td>246</td>\n",
       "      <td>4</td>\n",
       "      <td>13</td>\n",
       "      <td>6</td>\n",
       "      <td>0</td>\n",
       "      <td>20701</td>\n",
       "      <td>138997</td>\n",
       "      <td>True</td>\n",
       "      <td>RED</td>\n",
       "    </tr>\n",
       "  </tbody>\n",
       "</table>\n",
       "</div>"
      ],
      "text/plain": [
       "            name        id role champion_name  champion_id  gold_15  \\\n",
       "163034   Regret9  195010.0  SUP       Morgana           25   3075.0   \n",
       "42517       None       NaN  MID         Corki           42   4480.0   \n",
       "104363  Ruvelius  196533.0  BOT          Gnar          150   5108.0   \n",
       "85025     Chevis  272605.0  TOP        Irelia           39   5020.0   \n",
       "158085     BalIs  191215.0  TOP         Fiora          114   6157.0   \n",
       "\n",
       "        kills_assists_15  deaths_15  total_gold  total_cs  total_kills  \\\n",
       "163034               2.0        4.0        5229        17            0   \n",
       "42517                5.0        8.0        6283       117            1   \n",
       "104363               3.0        5.0       10448       232            2   \n",
       "85025               14.0        5.0       15273       277            8   \n",
       "158085              10.0        0.0       12687       246            4   \n",
       "\n",
       "        total_monster_kills  total_assists  total_deaths  total_damage_taken  \\\n",
       "163034                    0              2             4                8359   \n",
       "42517                     0              4             8               16391   \n",
       "104363                   20              1             5               25911   \n",
       "85025                     8              6             5               22265   \n",
       "158085                   13              6             0               20701   \n",
       "\n",
       "        total_damage_dealt    win side  \n",
       "163034               16637  False  RED  \n",
       "42517                50298  False  RED  \n",
       "104363              145590  False  RED  \n",
       "85025               186774   True  RED  \n",
       "158085              138997   True  RED  "
      ]
     },
     "execution_count": 135,
     "metadata": {},
     "output_type": "execute_result"
    }
   ],
   "source": [
    "#Make a dataframe dedicated to the team RED\n",
    "df_normalized_teams['teams.RED.players'].explode()\n",
    "df_normalized_RED = pd.json_normalize(df_normalized_teams['teams.RED.players'].explode())\n",
    "df_RED = df_normalized_RED.copy()\n",
    "df_RED.sample(5)"
   ]
  },
  {
   "cell_type": "code",
   "execution_count": 136,
   "id": "324330f7",
   "metadata": {},
   "outputs": [
    {
     "data": {
      "text/plain": [
       "champion_name    0.019285\n",
       "is_ban           0.019285\n",
       "dtype: float64"
      ]
     },
     "execution_count": 136,
     "metadata": {},
     "output_type": "execute_result"
    }
   ],
   "source": [
    "#Make a dataframe dedicated to the Bans\n",
    "df_normalized_teams['picks_bans'].explode()\n",
    "df_normalized_BANS = pd.json_normalize(df_normalized_teams['picks_bans'].explode())\n",
    "df_BANS = df_normalized_BANS.copy()\n",
    "df_BANS.isnull().sum()/len(df_BANS)"
   ]
  },
  {
   "cell_type": "markdown",
   "id": "9a939e3b",
   "metadata": {},
   "source": [
    "##  Include the game id to match later different DataFrames\n",
    "\n",
    "We have two different dataframes for team Blue and team Red, later, we can merge them on the game id. This will also be useful when we want to come back for the y parameter! "
   ]
  },
  {
   "cell_type": "code",
   "execution_count": 137,
   "id": "22f9bd40",
   "metadata": {},
   "outputs": [],
   "source": [
    "get_index = df_normalized_teams['id'].tolist()\n",
    "index_preproc = np.asarray([[index] * 5 for index in get_index])\n",
    "index_teams = index_preproc.reshape(len(df_normalized_teams) * 5).tolist()\n",
    "df_RED['game_id'] = index_teams\n",
    "df_BLUE['game_id'] = index_teams"
   ]
  },
  {
   "cell_type": "markdown",
   "id": "467e4a2e",
   "metadata": {},
   "source": [
    "# Filter years that are going to be analyzed"
   ]
  },
  {
   "cell_type": "code",
   "execution_count": 138,
   "id": "6848b44f",
   "metadata": {},
   "outputs": [
    {
     "name": "stdout",
     "output_type": "stream",
     "text": [
      "Number of games in nan: 0\n"
     ]
    }
   ],
   "source": [
    "# Get the years and the number of games played\n",
    "df_normalized_teams['start'] = pd.to_datetime(df_normalized_teams['start'])\n",
    "df_normalized_teams['year'] = pd.DatetimeIndex(df_normalized_teams['start']).year\n",
    "games_year = df_normalized_teams.year.unique()\n",
    "\n",
    "for year in games_year:\n",
    "    N_games = len(df_normalized_teams[df_normalized_teams['year'] == year])\n",
    "    print(f'Number of games in {year}: {N_games}')"
   ]
  },
  {
   "cell_type": "code",
   "execution_count": 139,
   "id": "d01a0419",
   "metadata": {},
   "outputs": [],
   "source": [
    "# Function that returns a Dataframe just with the years of interest\n",
    "def choose_years_to_work(df, *args):\n",
    "    years_dict = {}\n",
    "    for year in args:\n",
    "        years_dict[year] = df[df['year'] == year]\n",
    "    return pd.concat(years_dict).droplevel(0)\n",
    "\n",
    "df_data_by_year = choose_years_to_work(df_normalized_teams, 2021)\n",
    "df_data_by_year.drop('start', axis=1, inplace=True)"
   ]
  },
  {
   "cell_type": "markdown",
   "id": "9c3b2035",
   "metadata": {
    "heading_collapsed": true
   },
   "source": [
    "# [SKIP] Retrieve the champions stats given a champion id and merge with the BLUE/RED team\n",
    "\n",
    "From the page https://ddragon.leagueoflegends.com/cdn/12.3.1/data/en_US/champion.json, get the stats of a champion given a key or id value."
   ]
  },
  {
   "cell_type": "code",
   "execution_count": 140,
   "id": "605749ff",
   "metadata": {
    "hidden": true
   },
   "outputs": [
    {
     "data": {
      "text/plain": [
       "\"champion_description = '../raw_data/lol_12_3_1.json'\\n\\nwith open(champion_description) as data_file:    \\n    data_champions = json.load(data_file)\""
      ]
     },
     "execution_count": 140,
     "metadata": {},
     "output_type": "execute_result"
    }
   ],
   "source": [
    "'''champion_description = '../raw_data/lol_12_3_1.json'\n",
    "\n",
    "with open(champion_description) as data_file:    \n",
    "    data_champions = json.load(data_file)'''"
   ]
  },
  {
   "cell_type": "code",
   "execution_count": 141,
   "id": "e422a8d8",
   "metadata": {
    "hidden": true
   },
   "outputs": [
    {
     "data": {
      "text/plain": [
       "\"champions_dict = {}\\nchampions_names = list(data_champions['data'].keys())\\nfor champion in champions_names:\\n    champions_dict[int(data_champions['data'][champion]['key'])] = data_champions['data'][champion]['stats']\\nchampions_df = pd.DataFrame(champions_dict)\\nchampions_df = champions_df.T\\nchampions_df.reset_index(level=0, inplace=True)\\nchampions_df['champion'] = champions_df['index']\\nchampions_df.drop('index', axis=1, inplace=True)\\nchampions_df\""
      ]
     },
     "execution_count": 141,
     "metadata": {},
     "output_type": "execute_result"
    }
   ],
   "source": [
    "# get the key and the stats for every champion in this version\n",
    "# create a new dictionary with only the values of interest\n",
    "\n",
    "'''champions_dict = {}\n",
    "champions_names = list(data_champions['data'].keys())\n",
    "for champion in champions_names:\n",
    "    champions_dict[int(data_champions['data'][champion]['key'])] = data_champions['data'][champion]['stats']\n",
    "champions_df = pd.DataFrame(champions_dict)\n",
    "champions_df = champions_df.T\n",
    "champions_df.reset_index(level=0, inplace=True)\n",
    "champions_df['champion'] = champions_df['index']\n",
    "champions_df.drop('index', axis=1, inplace=True)\n",
    "champions_df'''"
   ]
  },
  {
   "cell_type": "code",
   "execution_count": 142,
   "id": "9dcb7c60",
   "metadata": {
    "hidden": true
   },
   "outputs": [
    {
     "data": {
      "text/plain": [
       "\"df_BLUE = pd.merge(df_normalized_BLUE, champions_df, left_on='champion_id', right_on='champion', how='left')\\ndf_BLUE.drop(['champion', 'champion_id'], axis=1, inplace=True)\""
      ]
     },
     "execution_count": 142,
     "metadata": {},
     "output_type": "execute_result"
    }
   ],
   "source": [
    "#Merge with BLUE team and drop the id of the champion, no needed anymore\n",
    "'''df_BLUE = pd.merge(df_normalized_BLUE, champions_df, left_on='champion_id', right_on='champion', how='left')\n",
    "df_BLUE.drop(['champion', 'champion_id'], axis=1, inplace=True)'''"
   ]
  },
  {
   "cell_type": "code",
   "execution_count": 143,
   "id": "9151c597",
   "metadata": {
    "hidden": true
   },
   "outputs": [
    {
     "data": {
      "text/plain": [
       "\"df_RED = pd.merge(df_normalized_RED, champions_df, left_on='champion_id', right_on='champion', how='left')\\ndf_RED.drop(['champion', 'champion_id'], axis=1, inplace=True)\""
      ]
     },
     "execution_count": 143,
     "metadata": {},
     "output_type": "execute_result"
    }
   ],
   "source": [
    "#Merge with RED team and drop the id of the champion, no needed anymore\n",
    "'''df_RED = pd.merge(df_normalized_RED, champions_df, left_on='champion_id', right_on='champion', how='left')\n",
    "df_RED.drop(['champion', 'champion_id'], axis=1, inplace=True)'''"
   ]
  },
  {
   "cell_type": "code",
   "execution_count": 144,
   "id": "fcde4a3c",
   "metadata": {
    "hidden": true,
    "scrolled": true
   },
   "outputs": [],
   "source": [
    "# do some feature engineering"
   ]
  },
  {
   "cell_type": "markdown",
   "id": "9b8c113d",
   "metadata": {
    "heading_collapsed": true
   },
   "source": [
    "# [Skip] Merged Blue and Red data"
   ]
  },
  {
   "cell_type": "markdown",
   "id": "6e8cf2cb",
   "metadata": {
    "hidden": true
   },
   "source": [
    "df_BLUE_RED = pd.merge(df_BLUE, df_RED, left_on='game_id', right_on='game_id', how='left')\n",
    "df_BLUE_RED.sample(5)"
   ]
  },
  {
   "cell_type": "markdown",
   "id": "94a66808",
   "metadata": {
    "hidden": true
   },
   "source": [
    "df_BLUE_RED.keys()"
   ]
  },
  {
   "cell_type": "markdown",
   "id": "33f42494",
   "metadata": {
    "hidden": true
   },
   "source": [
    "df_BLUE_RED.info()"
   ]
  },
  {
   "cell_type": "markdown",
   "id": "2ad2d4b7",
   "metadata": {
    "hidden": true
   },
   "source": [
    "from sklearn.preprocessing import LabelEncoder\n",
    "\n",
    "y = LabelEncoder().fit(df_BLUE_RED.win_x).transform(df_BLUE_RED.win_x)\n",
    "y.sum(), y.sum()/len(y)"
   ]
  },
  {
   "cell_type": "markdown",
   "id": "87a43014",
   "metadata": {
    "hidden": true
   },
   "source": [
    "df_BLUE_RED.drop(['name_x', 'id_x', 'champion_id_x', 'win_x', 'side_x', 'game_id', 'name_y', 'id_y', 'champion_id_y', 'win_y', 'side_y'], axis=1, inplace=True)"
   ]
  },
  {
   "cell_type": "markdown",
   "id": "6550523f",
   "metadata": {
    "hidden": true
   },
   "source": [
    "df_BLUE_RED.keys()"
   ]
  },
  {
   "cell_type": "markdown",
   "id": "ff3cd4aa",
   "metadata": {
    "hidden": true
   },
   "source": [
    "from sklearn.preprocessing import OneHotEncoder\n",
    "\n",
    "ohe = OneHotEncoder(sparse = False, handle_unknown='ignore')\n",
    "ohe.fit(df_BLUE_RED[['role_x']])\n",
    "blue_role_encoded = ohe.transform(df_BLUE_RED[['role_x']])\n",
    "red_role_encoded = ohe.transform(df_BLUE_RED[['role_y']])\n",
    "ohe.categories_"
   ]
  },
  {
   "cell_type": "markdown",
   "id": "2e65dbea",
   "metadata": {
    "hidden": true
   },
   "source": [
    "df_BLUE_RED['Blue_BOT'], df_BLUE_RED['Blue_JGL'], df_BLUE_RED['Blue_MID'], df_BLUE_RED['Blue_SUP'], df_BLUE_RED['Blue_TOP'] = blue_role_encoded.T\n",
    "df_BLUE_RED.drop('role_x', axis=1, inplace=True)\n",
    "df_BLUE_RED.sample(5)"
   ]
  },
  {
   "cell_type": "markdown",
   "id": "01e6af44",
   "metadata": {
    "hidden": true
   },
   "source": [
    "df_BLUE_RED['Red_BOT'], df_BLUE_RED['Red_JGL'], df_BLUE_RED['Red_MID'], df_BLUE_RED['Red_SUP'], df_BLUE_RED['Red_TOP'] = red_role_encoded.T\n",
    "df_BLUE_RED.drop('role_y', axis=1, inplace=True)\n",
    "df_BLUE_RED.sample(5)"
   ]
  },
  {
   "cell_type": "markdown",
   "id": "20b021fc",
   "metadata": {
    "hidden": true
   },
   "source": [
    "ohe_champ = OneHotEncoder(sparse = False, handle_unknown='ignore')\n",
    "ohe_champ.fit(df_BLUE_RED[['champion_name_x']])\n",
    "blue_champ_role_encoded = ohe_champ.transform(df_BLUE_RED[['champion_name_x']])\n",
    "red_champ_role_encoded = ohe_champ.transform(df_BLUE_RED[['champion_name_y']])\n",
    "ohe_champ.categories_"
   ]
  },
  {
   "cell_type": "markdown",
   "id": "1e06d393",
   "metadata": {
    "hidden": true
   },
   "source": [
    "df_BLUE_RED['Blue_BOT'], df_BLUE_RED['Blue_JGL'], df_BLUE_RED['Blue_MID'], df_BLUE_RED['Blue_SUP'], df_BLUE_RED['Blue_TOP'] = blue_role_encoded.T\n",
    "df_BLUE_RED.drop('role_x', axis=1, inplace=True)\n",
    "df_BLUE_RED.sample(5)"
   ]
  },
  {
   "cell_type": "markdown",
   "id": "357533e7",
   "metadata": {},
   "source": [
    "# ML model"
   ]
  },
  {
   "cell_type": "code",
   "execution_count": 165,
   "id": "e971b77d",
   "metadata": {},
   "outputs": [
    {
     "data": {
      "text/plain": [
       "Pipeline(memory=None,\n",
       "         steps=[('columntransformer',\n",
       "                 ColumnTransformer(n_jobs=None, remainder='passthrough',\n",
       "                                   sparse_threshold=0.3,\n",
       "                                   transformer_weights=None,\n",
       "                                   transformers=[('pipeline',\n",
       "                                                  Pipeline(memory=None,\n",
       "                                                           steps=[('simpleimputer',\n",
       "                                                                   SimpleImputer(add_indicator=False,\n",
       "                                                                                 copy=True,\n",
       "                                                                                 fill_value=None,\n",
       "                                                                                 missing_values=nan,\n",
       "                                                                                 strategy='mean',\n",
       "                                                                                 verbose=0)),\n",
       "                                                                  ('minmaxscaler',\n",
       "                                                                   MinMaxS...\n",
       "                                                  <sklearn.compose._column_transformer.make_column_selector object at 0x7fbfe9a32730>)],\n",
       "                                   verbose=False)),\n",
       "                ('logisticregression',\n",
       "                 LogisticRegression(C=1.0, class_weight=None, dual=False,\n",
       "                                    fit_intercept=True, intercept_scaling=1,\n",
       "                                    l1_ratio=None, max_iter=100,\n",
       "                                    multi_class='auto', n_jobs=None,\n",
       "                                    penalty='l2', random_state=None,\n",
       "                                    solver='liblinear', tol=0.0001, verbose=0,\n",
       "                                    warm_start=False))],\n",
       "         verbose=False)"
      ]
     },
     "execution_count": 165,
     "metadata": {},
     "output_type": "execute_result"
    }
   ],
   "source": [
    "from sklearn.preprocessing import MinMaxScaler\n",
    "from sklearn.impute import SimpleImputer\n",
    "from sklearn.pipeline import make_pipeline\n",
    "from sklearn.linear_model import LogisticRegression\n",
    "from sklearn.compose import make_column_transformer\n",
    "from sklearn.compose import make_column_selector\n",
    "\n",
    "# Impute then Scale for numerical variables: \n",
    "num_transformer = make_pipeline(\n",
    "                    SimpleImputer(strategy = 'mean'),\n",
    "                    MinMaxScaler())\n",
    "\n",
    "# Encode categorical variables\n",
    "cat_transformer = OneHotEncoder(sparse = False, handle_unknown='ignore')\n",
    "\n",
    "# Paralellize \"num_transformer\" and \"One hot encoder\"\n",
    "preproc = make_column_transformer(\n",
    "    (num_transformer, make_column_selector(dtype_include=['float64'])),\n",
    "    (cat_transformer, make_column_selector(dtype_include=['object','bool'])),\n",
    "    remainder='passthrough')\n",
    "\n",
    "#add model\n",
    "pipe = make_pipeline(preproc, LogisticRegression(solver='liblinear'))\n",
    "pipe"
   ]
  },
  {
   "cell_type": "code",
   "execution_count": 161,
   "id": "6a3d48cf",
   "metadata": {},
   "outputs": [],
   "source": [
    "from sklearn.preprocessing import LabelEncoder\n",
    "\n",
    "y = LabelEncoder().fit(df_BLUE.win).transform(df_BLUE.win)\n",
    "X = df_BLUE.drop(['name', 'id', 'win', 'champion_id', 'side', 'game_id'], axis=1)"
   ]
  },
  {
   "cell_type": "code",
   "execution_count": 162,
   "id": "e08d309b",
   "metadata": {},
   "outputs": [],
   "source": [
    "from sklearn.model_selection import train_test_split\n",
    "\n",
    "X_train, X_test, y_train, y_test = train_test_split(X, y, test_size=0.33, random_state=42)"
   ]
  },
  {
   "cell_type": "code",
   "execution_count": 163,
   "id": "2f0a70b1",
   "metadata": {},
   "outputs": [
    {
     "name": "stdout",
     "output_type": "stream",
     "text": [
      "<class 'pandas.core.frame.DataFrame'>\n",
      "Int64Index: 118322 entries, 172499 to 121958\n",
      "Data columns (total 13 columns):\n",
      " #   Column               Non-Null Count   Dtype  \n",
      "---  ------               --------------   -----  \n",
      " 0   role                 118322 non-null  object \n",
      " 1   champion_name        118322 non-null  object \n",
      " 2   gold_15              118271 non-null  float64\n",
      " 3   kills_assists_15     118306 non-null  float64\n",
      " 4   deaths_15            118306 non-null  float64\n",
      " 5   total_gold           118322 non-null  int64  \n",
      " 6   total_cs             118322 non-null  int64  \n",
      " 7   total_kills          118322 non-null  int64  \n",
      " 8   total_monster_kills  118322 non-null  int64  \n",
      " 9   total_assists        118322 non-null  int64  \n",
      " 10  total_deaths         118322 non-null  int64  \n",
      " 11  total_damage_taken   118322 non-null  int64  \n",
      " 12  total_damage_dealt   118322 non-null  int64  \n",
      "dtypes: float64(3), int64(8), object(2)\n",
      "memory usage: 12.6+ MB\n"
     ]
    }
   ],
   "source": [
    "X_train.info()"
   ]
  },
  {
   "cell_type": "code",
   "execution_count": 167,
   "id": "a6231adc",
   "metadata": {},
   "outputs": [
    {
     "data": {
      "text/plain": [
       "0.8634132948968736"
      ]
     },
     "execution_count": 167,
     "metadata": {},
     "output_type": "execute_result"
    }
   ],
   "source": [
    "# Train pipeline\n",
    "pipe.fit(X_train,y_train)\n",
    "\n",
    "# Make predictions\n",
    "pipe.predict(X_test.iloc[0:2])\n",
    "\n",
    "# Score model\n",
    "pipe.score(X_test,y_test)"
   ]
  },
  {
   "cell_type": "code",
   "execution_count": 169,
   "id": "8d5b251c",
   "metadata": {},
   "outputs": [
    {
     "data": {
      "text/plain": [
       "0.44794369360295294"
      ]
     },
     "execution_count": 169,
     "metadata": {},
     "output_type": "execute_result"
    }
   ],
   "source": [
    "from sklearn.model_selection import cross_val_score\n",
    "\n",
    "# Cross validate pipeline\n",
    "cross_val_score(pipe, X_train, y_train, cv=10, scoring='r2').mean()"
   ]
  }
 ],
 "metadata": {
  "kernelspec": {
   "display_name": "Python 3 (ipykernel)",
   "language": "python",
   "name": "python3"
  },
  "language_info": {
   "codemirror_mode": {
    "name": "ipython",
    "version": 3
   },
   "file_extension": ".py",
   "mimetype": "text/x-python",
   "name": "python",
   "nbconvert_exporter": "python",
   "pygments_lexer": "ipython3",
   "version": "3.8.12"
  },
  "toc": {
   "base_numbering": 1,
   "nav_menu": {},
   "number_sections": true,
   "sideBar": true,
   "skip_h1_title": false,
   "title_cell": "Table of Contents",
   "title_sidebar": "Contents",
   "toc_cell": false,
   "toc_position": {},
   "toc_section_display": true,
   "toc_window_display": false
  }
 },
 "nbformat": 4,
 "nbformat_minor": 5
}
