{
 "cells": [
  {
   "cell_type": "markdown",
   "metadata": {
    "id": "YtkEhgkn_mID"
   },
   "source": [
    "# Import data\n",
    "Training data"
   ]
  },
  {
   "cell_type": "code",
   "execution_count": 36,
   "metadata": {},
   "outputs": [
    {
     "name": "stdout",
     "output_type": "stream",
     "text": [
      "The autoreload extension is already loaded. To reload it, use:\n",
      "  %reload_ext autoreload\n"
     ]
    }
   ],
   "source": [
    "%load_ext autoreload\n",
    "%autoreload 2"
   ]
  },
  {
   "cell_type": "code",
   "execution_count": 31,
   "metadata": {
    "id": "vBs4Cf-89OF1"
   },
   "outputs": [],
   "source": [
    "from utils import get_train_data_only\n",
    "df_teams, df_BLUE, df_RED = get_train_data_only()"
   ]
  },
  {
   "cell_type": "code",
   "execution_count": 2,
   "metadata": {
    "colab": {
     "base_uri": "https://localhost:8080/"
    },
    "id": "EF9z6ufuG3VT",
    "outputId": "7397fc5d-7bfe-4462-b76e-bda5ee49d875"
   },
   "outputs": [
    {
     "data": {
      "text/plain": [
       "(28254, 141270, 141270)"
      ]
     },
     "execution_count": 2,
     "metadata": {},
     "output_type": "execute_result"
    }
   ],
   "source": [
    "#How many data points we have\n",
    "len(df_teams), len(df_BLUE), len(df_RED)"
   ]
  },
  {
   "cell_type": "code",
   "execution_count": 3,
   "metadata": {
    "colab": {
     "base_uri": "https://localhost:8080/",
     "height": 206
    },
    "id": "JW13djkUuUyw",
    "outputId": "f145f02b-9bc1-4dda-8c66-cf74c7474b49"
   },
   "outputs": [
    {
     "data": {
      "text/html": [
       "<div>\n",
       "<style scoped>\n",
       "    .dataframe tbody tr th:only-of-type {\n",
       "        vertical-align: middle;\n",
       "    }\n",
       "\n",
       "    .dataframe tbody tr th {\n",
       "        vertical-align: top;\n",
       "    }\n",
       "\n",
       "    .dataframe thead th {\n",
       "        text-align: right;\n",
       "    }\n",
       "</style>\n",
       "<table border=\"1\" class=\"dataframe\">\n",
       "  <thead>\n",
       "    <tr style=\"text-align: right;\">\n",
       "      <th></th>\n",
       "      <th>id</th>\n",
       "      <th>patch</th>\n",
       "      <th>year</th>\n",
       "      <th>winner</th>\n",
       "    </tr>\n",
       "  </thead>\n",
       "  <tbody>\n",
       "    <tr>\n",
       "      <th>31563</th>\n",
       "      <td>LMS/2016 Season/Spring Season/Scoreboards_3_2</td>\n",
       "      <td>5.24</td>\n",
       "      <td>2015</td>\n",
       "      <td>BLUE</td>\n",
       "    </tr>\n",
       "    <tr>\n",
       "      <th>31596</th>\n",
       "      <td>LJL/2016 Season/Spring Season/Scoreboards_1_2</td>\n",
       "      <td>5.24</td>\n",
       "      <td>2015</td>\n",
       "      <td>RED</td>\n",
       "    </tr>\n",
       "    <tr>\n",
       "      <th>31595</th>\n",
       "      <td>LJL/2016 Season/Spring Season/Scoreboards_1_1</td>\n",
       "      <td>5.24</td>\n",
       "      <td>2015</td>\n",
       "      <td>RED</td>\n",
       "    </tr>\n",
       "    <tr>\n",
       "      <th>31588</th>\n",
       "      <td>CBLOL/2016 Season/Split 1/Scoreboards_2_2</td>\n",
       "      <td>5.24</td>\n",
       "      <td>2015</td>\n",
       "      <td>BLUE</td>\n",
       "    </tr>\n",
       "    <tr>\n",
       "      <th>31587</th>\n",
       "      <td>CBLOL/2016 Season/Split 1/Scoreboards_2_1</td>\n",
       "      <td>5.24</td>\n",
       "      <td>2015</td>\n",
       "      <td>RED</td>\n",
       "    </tr>\n",
       "  </tbody>\n",
       "</table>\n",
       "</div>"
      ],
      "text/plain": [
       "                                                  id  patch  year winner\n",
       "31563  LMS/2016 Season/Spring Season/Scoreboards_3_2   5.24  2015   BLUE\n",
       "31596  LJL/2016 Season/Spring Season/Scoreboards_1_2   5.24  2015    RED\n",
       "31595  LJL/2016 Season/Spring Season/Scoreboards_1_1   5.24  2015    RED\n",
       "31588      CBLOL/2016 Season/Split 1/Scoreboards_2_2   5.24  2015   BLUE\n",
       "31587      CBLOL/2016 Season/Split 1/Scoreboards_2_1   5.24  2015    RED"
      ]
     },
     "execution_count": 3,
     "metadata": {},
     "output_type": "execute_result"
    }
   ],
   "source": [
    "#Teams DataFrame used for Machine Learning\n",
    "df_teams_ML = df_teams[['id', 'patch', 'year', 'winner']]\n",
    "df_teams_ML.head()"
   ]
  },
  {
   "cell_type": "code",
   "execution_count": 4,
   "metadata": {
    "id": "v9jDP0igop2z"
   },
   "outputs": [],
   "source": [
    "import numpy as np \n",
    "import pandas as pd\n",
    "from tqdm import tqdm"
   ]
  },
  {
   "cell_type": "markdown",
   "metadata": {
    "id": "vFqs22pz_J2C"
   },
   "source": [
    "# Feature Engineering\n",
    "\n",
    "## Feature 1: Synergy between champions of the same team (rate of victory for a pair of champions playing together)"
   ]
  },
  {
   "cell_type": "code",
   "execution_count": 5,
   "metadata": {
    "id": "1E6VoTFi--WD"
   },
   "outputs": [],
   "source": [
    "df_BLUE_lite_synergy = df_BLUE[['champion_id', 'win', 'game_id']]\n",
    "df_RED_lite_synergy = df_RED[['champion_id', 'win', 'game_id']]\n",
    "\n",
    "#Dosen't matter if it was the red or blue team so let's concat the data!\n",
    "df_result = pd.concat([df_BLUE_lite_synergy, df_RED_lite_synergy])\n",
    "\n",
    "#include a column for the outcome\n",
    "df_result['outcome'] = df_result['win']*1\n",
    "\n",
    "#reset the index to the game_id\n",
    "df_result.index = df_result.game_id"
   ]
  },
  {
   "cell_type": "code",
   "execution_count": 6,
   "metadata": {
    "id": "_ekcMdDUn_fz"
   },
   "outputs": [],
   "source": [
    "# get the unique game_id and champion_id played\n",
    "game_id_unique = np.unique(df_result.game_id)\n",
    "champions_id_unique = np.unique(df_result.champion_id)"
   ]
  },
  {
   "cell_type": "code",
   "execution_count": 7,
   "metadata": {
    "id": "whJntwLjoGFM"
   },
   "outputs": [],
   "source": [
    "#create two dataframes\n",
    "##one to populate the number of games played by each champion pair\n",
    "champions_play_together = pd.DataFrame(np.zeros([len(champions_id_unique), len(champions_id_unique)]), columns=champions_id_unique, index=champions_id_unique)\n",
    "\n",
    "##one to populate te number of games won by each champion pair\n",
    "champions_won_together = pd.DataFrame(np.zeros([len(champions_id_unique), len(champions_id_unique)]), columns=champions_id_unique, index=champions_id_unique)"
   ]
  },
  {
   "cell_type": "code",
   "execution_count": 8,
   "metadata": {
    "colab": {
     "base_uri": "https://localhost:8080/"
    },
    "id": "jsCLX6pUou3Q",
    "outputId": "bafb8a25-71fd-43f2-b308-c2748453556c"
   },
   "outputs": [
    {
     "name": "stderr",
     "output_type": "stream",
     "text": [
      "100%|██████████████████████████████████████████████████████████████| 152/152 [03:31<00:00,  1.39s/it]\n"
     ]
    }
   ],
   "source": [
    "for champion_a in tqdm(champions_id_unique):\n",
    "    champions_played_together_list = list(df_result.loc[df_result[df_result.champion_id == champion_a].index]['champion_id'])\n",
    "    for champion_b in champions_played_together_list:\n",
    "        if champion_a == champion_b:\n",
    "            continue\n",
    "        else:\n",
    "            champions_play_together.loc[champion_a][champion_b] += 1"
   ]
  },
  {
   "cell_type": "code",
   "execution_count": 9,
   "metadata": {
    "colab": {
     "base_uri": "https://localhost:8080/"
    },
    "id": "Ea8HfCd-o04D",
    "outputId": "7724599b-3b69-4120-c05f-bde9530d9872"
   },
   "outputs": [
    {
     "name": "stderr",
     "output_type": "stream",
     "text": [
      "100%|██████████████████████████████████████████████████████████████| 152/152 [01:47<00:00,  1.42it/s]\n"
     ]
    }
   ],
   "source": [
    "for champ_a in tqdm(champions_id_unique):\n",
    "    champ_played_together_won_list = list(df_result.loc[df_result[(df_result.champion_id == champ_a) & (df_result.outcome == 1)].index]['champion_id'])\n",
    "    for champ_b in champ_played_together_won_list:\n",
    "        if champ_a == champ_b:\n",
    "            continue\n",
    "        else:\n",
    "            champions_won_together.loc[champ_a][champ_b] += 1"
   ]
  },
  {
   "cell_type": "code",
   "execution_count": 10,
   "metadata": {
    "id": "jDXz_c7Fo7yc"
   },
   "outputs": [],
   "source": [
    "champions_won_percentage = champions_won_together.div(champions_play_together)"
   ]
  },
  {
   "cell_type": "code",
   "execution_count": 11,
   "metadata": {
    "id": "aiAs0hTepHCU"
   },
   "outputs": [],
   "source": [
    "#Impute the missing values (champions that never played together)\n",
    "from sklearn.impute import SimpleImputer\n",
    "\n",
    "impute_nan = SimpleImputer(missing_values=np.nan, strategy='constant', fill_value=0.5)\n",
    "champions_won_percentage_imputed = pd.DataFrame(impute_nan.fit(champions_won_percentage).transform(champions_won_percentage), columns=champions_id_unique, index=champions_id_unique)\n",
    "#champions_won_percentage_imputed"
   ]
  },
  {
   "cell_type": "code",
   "execution_count": 12,
   "metadata": {
    "colab": {
     "base_uri": "https://localhost:8080/"
    },
    "id": "aOeAd1bxx6T7",
    "outputId": "b43342d1-a62d-4908-d013-4468ed3719a3"
   },
   "outputs": [
    {
     "data": {
      "text/plain": [
       "0"
      ]
     },
     "execution_count": 12,
     "metadata": {},
     "output_type": "execute_result"
    }
   ],
   "source": [
    "#check that there is no division by zero\n",
    "np.isinf(champions_won_percentage_imputed).values.sum()"
   ]
  },
  {
   "cell_type": "code",
   "execution_count": 13,
   "metadata": {
    "colab": {
     "base_uri": "https://localhost:8080/"
    },
    "id": "y8aK5zRVyCPn",
    "outputId": "4078811b-4de4-4f08-f500-c38a469e4f93"
   },
   "outputs": [
    {
     "data": {
      "text/plain": [
       "(0, 1482)"
      ]
     },
     "execution_count": 13,
     "metadata": {},
     "output_type": "execute_result"
    }
   ],
   "source": [
    "#check how many values have been imputed\n",
    "np.isnan(champions_won_percentage_imputed).values.sum(), np.isnan(champions_won_percentage).values.sum()"
   ]
  },
  {
   "cell_type": "code",
   "execution_count": 14,
   "metadata": {
    "id": "1LuPxznhpXTg"
   },
   "outputs": [],
   "source": [
    "\"\"\"This function is needed to transform the rest of the data\"\"\"\n",
    "\n",
    "def pair_wise_synergy(df, df_synergy_matrix, name):\n",
    "  #get the mean value of the pairwise combination of champions synergy\n",
    "  result_Synergy = df[['game_id', 'champion_id']].groupby(['game_id']).aggregate({\n",
    "      'champion_id': lambda z: [champions_won_percentage_imputed.loc[x][y] for x in z for y in z if x != y]\n",
    "  })\n",
    "  result_Synergy['mean_synergy_'+str(name)] = result_Synergy.champion_id.apply(lambda x: sum(x)/len(x))\n",
    "  return result_Synergy.drop('champion_id', axis=1)"
   ]
  },
  {
   "cell_type": "code",
   "execution_count": 15,
   "metadata": {
    "id": "pQUT_EP5xe8J"
   },
   "outputs": [],
   "source": [
    "#Get the synergy of the Blue team champions\n",
    "\n",
    "df_blue = pair_wise_synergy(df_BLUE, champions_won_percentage_imputed, 'blue')\n",
    "df_blue['id'] = df_blue.index\n",
    "df_teams_ML =pd.merge(df_teams_ML, df_blue, on='id', how='inner')"
   ]
  },
  {
   "cell_type": "code",
   "execution_count": 16,
   "metadata": {
    "id": "GSL2HzwHyyVP"
   },
   "outputs": [],
   "source": [
    "#Get the synergy of the Red team champions\n",
    "\n",
    "df_red = pair_wise_synergy(df_RED, champions_won_percentage_imputed, 'red')\n",
    "df_red['id'] = df_red.index\n",
    "df_teams_ML = pd.merge(df_teams_ML, df_red, on='id', how='inner')"
   ]
  },
  {
   "cell_type": "code",
   "execution_count": 17,
   "metadata": {
    "colab": {
     "base_uri": "https://localhost:8080/",
     "height": 206
    },
    "id": "AqNeGoTA9Kux",
    "outputId": "de4f5731-3cd3-4837-efa6-9c413b0fc712"
   },
   "outputs": [
    {
     "data": {
      "text/html": [
       "<div>\n",
       "<style scoped>\n",
       "    .dataframe tbody tr th:only-of-type {\n",
       "        vertical-align: middle;\n",
       "    }\n",
       "\n",
       "    .dataframe tbody tr th {\n",
       "        vertical-align: top;\n",
       "    }\n",
       "\n",
       "    .dataframe thead th {\n",
       "        text-align: right;\n",
       "    }\n",
       "</style>\n",
       "<table border=\"1\" class=\"dataframe\">\n",
       "  <thead>\n",
       "    <tr style=\"text-align: right;\">\n",
       "      <th></th>\n",
       "      <th>id</th>\n",
       "      <th>patch</th>\n",
       "      <th>year</th>\n",
       "      <th>winner</th>\n",
       "      <th>mean_synergy_blue</th>\n",
       "      <th>mean_synergy_red</th>\n",
       "    </tr>\n",
       "  </thead>\n",
       "  <tbody>\n",
       "    <tr>\n",
       "      <th>0</th>\n",
       "      <td>LMS/2016 Season/Spring Season/Scoreboards_3_2</td>\n",
       "      <td>5.24</td>\n",
       "      <td>2015</td>\n",
       "      <td>BLUE</td>\n",
       "      <td>0.502761</td>\n",
       "      <td>0.480432</td>\n",
       "    </tr>\n",
       "    <tr>\n",
       "      <th>1</th>\n",
       "      <td>LJL/2016 Season/Spring Season/Scoreboards_1_2</td>\n",
       "      <td>5.24</td>\n",
       "      <td>2015</td>\n",
       "      <td>RED</td>\n",
       "      <td>0.498885</td>\n",
       "      <td>0.508034</td>\n",
       "    </tr>\n",
       "    <tr>\n",
       "      <th>2</th>\n",
       "      <td>LJL/2016 Season/Spring Season/Scoreboards_1_1</td>\n",
       "      <td>5.24</td>\n",
       "      <td>2015</td>\n",
       "      <td>RED</td>\n",
       "      <td>0.489649</td>\n",
       "      <td>0.517847</td>\n",
       "    </tr>\n",
       "    <tr>\n",
       "      <th>3</th>\n",
       "      <td>CBLOL/2016 Season/Split 1/Scoreboards_2_2</td>\n",
       "      <td>5.24</td>\n",
       "      <td>2015</td>\n",
       "      <td>BLUE</td>\n",
       "      <td>0.498627</td>\n",
       "      <td>0.503166</td>\n",
       "    </tr>\n",
       "    <tr>\n",
       "      <th>4</th>\n",
       "      <td>CBLOL/2016 Season/Split 1/Scoreboards_2_1</td>\n",
       "      <td>5.24</td>\n",
       "      <td>2015</td>\n",
       "      <td>RED</td>\n",
       "      <td>0.481985</td>\n",
       "      <td>0.486419</td>\n",
       "    </tr>\n",
       "  </tbody>\n",
       "</table>\n",
       "</div>"
      ],
      "text/plain": [
       "                                              id  patch  year winner  \\\n",
       "0  LMS/2016 Season/Spring Season/Scoreboards_3_2   5.24  2015   BLUE   \n",
       "1  LJL/2016 Season/Spring Season/Scoreboards_1_2   5.24  2015    RED   \n",
       "2  LJL/2016 Season/Spring Season/Scoreboards_1_1   5.24  2015    RED   \n",
       "3      CBLOL/2016 Season/Split 1/Scoreboards_2_2   5.24  2015   BLUE   \n",
       "4      CBLOL/2016 Season/Split 1/Scoreboards_2_1   5.24  2015    RED   \n",
       "\n",
       "   mean_synergy_blue  mean_synergy_red  \n",
       "0           0.502761          0.480432  \n",
       "1           0.498885          0.508034  \n",
       "2           0.489649          0.517847  \n",
       "3           0.498627          0.503166  \n",
       "4           0.481985          0.486419  "
      ]
     },
     "execution_count": 17,
     "metadata": {},
     "output_type": "execute_result"
    }
   ],
   "source": [
    "df_teams_ML.head()"
   ]
  },
  {
   "cell_type": "markdown",
   "metadata": {
    "id": "1i1h8lUj_Cfb"
   },
   "source": [
    "## Feature 2: Win rate of champions against the same ROLE of the other team's champion"
   ]
  },
  {
   "cell_type": "code",
   "execution_count": 18,
   "metadata": {
    "id": "6gEJI3SA_CRS"
   },
   "outputs": [],
   "source": [
    "df_BLUE_RED = pd.merge(left=df_BLUE, right=df_RED, left_on= 'game_id', right_on= 'game_id')\n",
    "df_role = df_BLUE_RED[['champion_id_x', 'role_x', 'role_y', 'champion_id_y', 'win_x', 'game_id']]"
   ]
  },
  {
   "cell_type": "code",
   "execution_count": 19,
   "metadata": {
    "colab": {
     "base_uri": "https://localhost:8080/",
     "height": 455
    },
    "id": "k-xYDkUNBzmB",
    "outputId": "7f1a7271-eae1-4437-8a8c-c616e6e5af2b"
   },
   "outputs": [
    {
     "data": {
      "text/html": [
       "<div>\n",
       "<style scoped>\n",
       "    .dataframe tbody tr th:only-of-type {\n",
       "        vertical-align: middle;\n",
       "    }\n",
       "\n",
       "    .dataframe tbody tr th {\n",
       "        vertical-align: top;\n",
       "    }\n",
       "\n",
       "    .dataframe thead th {\n",
       "        text-align: right;\n",
       "    }\n",
       "</style>\n",
       "<table border=\"1\" class=\"dataframe\">\n",
       "  <thead>\n",
       "    <tr style=\"text-align: right;\">\n",
       "      <th></th>\n",
       "      <th></th>\n",
       "      <th></th>\n",
       "      <th></th>\n",
       "      <th></th>\n",
       "      <th>0</th>\n",
       "    </tr>\n",
       "    <tr>\n",
       "      <th>champion_id_x</th>\n",
       "      <th>role_x</th>\n",
       "      <th>role_y</th>\n",
       "      <th>champion_id_y</th>\n",
       "      <th>win_x</th>\n",
       "      <th></th>\n",
       "    </tr>\n",
       "  </thead>\n",
       "  <tbody>\n",
       "    <tr>\n",
       "      <th>12</th>\n",
       "      <th>SUP</th>\n",
       "      <th>SUP</th>\n",
       "      <th>201</th>\n",
       "      <th>True</th>\n",
       "      <td>372</td>\n",
       "    </tr>\n",
       "    <tr>\n",
       "      <th>201</th>\n",
       "      <th>SUP</th>\n",
       "      <th>SUP</th>\n",
       "      <th>12</th>\n",
       "      <th>True</th>\n",
       "      <td>337</td>\n",
       "    </tr>\n",
       "    <tr>\n",
       "      <th>412</th>\n",
       "      <th>SUP</th>\n",
       "      <th>SUP</th>\n",
       "      <th>201</th>\n",
       "      <th>True</th>\n",
       "      <td>318</td>\n",
       "    </tr>\n",
       "    <tr>\n",
       "      <th>201</th>\n",
       "      <th>SUP</th>\n",
       "      <th>SUP</th>\n",
       "      <th>12</th>\n",
       "      <th>False</th>\n",
       "      <td>317</td>\n",
       "    </tr>\n",
       "    <tr>\n",
       "      <th>12</th>\n",
       "      <th>SUP</th>\n",
       "      <th>SUP</th>\n",
       "      <th>201</th>\n",
       "      <th>False</th>\n",
       "      <td>307</td>\n",
       "    </tr>\n",
       "    <tr>\n",
       "      <th>...</th>\n",
       "      <th>...</th>\n",
       "      <th>...</th>\n",
       "      <th>...</th>\n",
       "      <th>...</th>\n",
       "      <td>...</td>\n",
       "    </tr>\n",
       "    <tr>\n",
       "      <th rowspan=\"4\" valign=\"top\">84</th>\n",
       "      <th rowspan=\"4\" valign=\"top\">MID</th>\n",
       "      <th rowspan=\"4\" valign=\"top\">SUP</th>\n",
       "      <th>1</th>\n",
       "      <th>True</th>\n",
       "      <td>1</td>\n",
       "    </tr>\n",
       "    <tr>\n",
       "      <th>9</th>\n",
       "      <th>True</th>\n",
       "      <td>1</td>\n",
       "    </tr>\n",
       "    <tr>\n",
       "      <th>16</th>\n",
       "      <th>True</th>\n",
       "      <td>1</td>\n",
       "    </tr>\n",
       "    <tr>\n",
       "      <th>22</th>\n",
       "      <th>False</th>\n",
       "      <td>1</td>\n",
       "    </tr>\n",
       "    <tr>\n",
       "      <th>876</th>\n",
       "      <th>TOP</th>\n",
       "      <th>TOP</th>\n",
       "      <th>126</th>\n",
       "      <th>True</th>\n",
       "      <td>1</td>\n",
       "    </tr>\n",
       "  </tbody>\n",
       "</table>\n",
       "<p>80903 rows × 1 columns</p>\n",
       "</div>"
      ],
      "text/plain": [
       "                                                   0\n",
       "champion_id_x role_x role_y champion_id_y win_x     \n",
       "12            SUP    SUP    201           True   372\n",
       "201           SUP    SUP    12            True   337\n",
       "412           SUP    SUP    201           True   318\n",
       "201           SUP    SUP    12            False  317\n",
       "12            SUP    SUP    201           False  307\n",
       "...                                              ...\n",
       "84            MID    SUP    1             True     1\n",
       "                            9             True     1\n",
       "                            16            True     1\n",
       "                            22            False    1\n",
       "876           TOP    TOP    126           True     1\n",
       "\n",
       "[80903 rows x 1 columns]"
      ]
     },
     "execution_count": 19,
     "metadata": {},
     "output_type": "execute_result"
    }
   ],
   "source": [
    "#times that a given champion won or lost against another champion\n",
    "champion_vs_champion = pd.DataFrame(df_role[['champion_id_x', 'role_x', 'role_y', 'champion_id_y', 'win_x']].value_counts())\n",
    "champion_vs_champion"
   ]
  },
  {
   "cell_type": "code",
   "execution_count": 20,
   "metadata": {
    "colab": {
     "base_uri": "https://localhost:8080/",
     "height": 455
    },
    "id": "QDIg1WZBFRNl",
    "outputId": "2407fe7e-e8a1-4dc0-aae5-9be2040eb458"
   },
   "outputs": [
    {
     "data": {
      "text/html": [
       "<div>\n",
       "<style scoped>\n",
       "    .dataframe tbody tr th:only-of-type {\n",
       "        vertical-align: middle;\n",
       "    }\n",
       "\n",
       "    .dataframe tbody tr th {\n",
       "        vertical-align: top;\n",
       "    }\n",
       "\n",
       "    .dataframe thead th {\n",
       "        text-align: right;\n",
       "    }\n",
       "</style>\n",
       "<table border=\"1\" class=\"dataframe\">\n",
       "  <thead>\n",
       "    <tr style=\"text-align: right;\">\n",
       "      <th></th>\n",
       "      <th></th>\n",
       "      <th></th>\n",
       "      <th></th>\n",
       "      <th>0</th>\n",
       "    </tr>\n",
       "    <tr>\n",
       "      <th>champion_id_x</th>\n",
       "      <th>role_x</th>\n",
       "      <th>role_y</th>\n",
       "      <th>champion_id_y</th>\n",
       "      <th></th>\n",
       "    </tr>\n",
       "  </thead>\n",
       "  <tbody>\n",
       "    <tr>\n",
       "      <th>12</th>\n",
       "      <th>SUP</th>\n",
       "      <th>SUP</th>\n",
       "      <th>201</th>\n",
       "      <td>679</td>\n",
       "    </tr>\n",
       "    <tr>\n",
       "      <th rowspan=\"2\" valign=\"top\">201</th>\n",
       "      <th rowspan=\"2\" valign=\"top\">SUP</th>\n",
       "      <th rowspan=\"2\" valign=\"top\">SUP</th>\n",
       "      <th>12</th>\n",
       "      <td>654</td>\n",
       "    </tr>\n",
       "    <tr>\n",
       "      <th>412</th>\n",
       "      <td>574</td>\n",
       "    </tr>\n",
       "    <tr>\n",
       "      <th>412</th>\n",
       "      <th>SUP</th>\n",
       "      <th>SUP</th>\n",
       "      <th>201</th>\n",
       "      <td>555</td>\n",
       "    </tr>\n",
       "    <tr>\n",
       "      <th>201</th>\n",
       "      <th>SUP</th>\n",
       "      <th>BOT</th>\n",
       "      <th>81</th>\n",
       "      <td>522</td>\n",
       "    </tr>\n",
       "    <tr>\n",
       "      <th>...</th>\n",
       "      <th>...</th>\n",
       "      <th>...</th>\n",
       "      <th>...</th>\n",
       "      <td>...</td>\n",
       "    </tr>\n",
       "    <tr>\n",
       "      <th>114</th>\n",
       "      <th>TOP</th>\n",
       "      <th>BOT</th>\n",
       "      <th>63</th>\n",
       "      <td>1</td>\n",
       "    </tr>\n",
       "    <tr>\n",
       "      <th rowspan=\"2\" valign=\"top\">58</th>\n",
       "      <th rowspan=\"2\" valign=\"top\">MID</th>\n",
       "      <th rowspan=\"2\" valign=\"top\">MID</th>\n",
       "      <th>91</th>\n",
       "      <td>1</td>\n",
       "    </tr>\n",
       "    <tr>\n",
       "      <th>61</th>\n",
       "      <td>1</td>\n",
       "    </tr>\n",
       "    <tr>\n",
       "      <th>163</th>\n",
       "      <th>MID</th>\n",
       "      <th>TOP</th>\n",
       "      <th>38</th>\n",
       "      <td>1</td>\n",
       "    </tr>\n",
       "    <tr>\n",
       "      <th>202</th>\n",
       "      <th>BOT</th>\n",
       "      <th>SUP</th>\n",
       "      <th>81</th>\n",
       "      <td>1</td>\n",
       "    </tr>\n",
       "  </tbody>\n",
       "</table>\n",
       "<p>51883 rows × 1 columns</p>\n",
       "</div>"
      ],
      "text/plain": [
       "                                             0\n",
       "champion_id_x role_x role_y champion_id_y     \n",
       "12            SUP    SUP    201            679\n",
       "201           SUP    SUP    12             654\n",
       "                            412            574\n",
       "412           SUP    SUP    201            555\n",
       "201           SUP    BOT    81             522\n",
       "...                                        ...\n",
       "114           TOP    BOT    63               1\n",
       "58            MID    MID    91               1\n",
       "                            61               1\n",
       "163           MID    TOP    38               1\n",
       "202           BOT    SUP    81               1\n",
       "\n",
       "[51883 rows x 1 columns]"
      ]
     },
     "execution_count": 20,
     "metadata": {},
     "output_type": "execute_result"
    }
   ],
   "source": [
    "#times that a given champion played against another champion by role\n",
    "total_champion_vs_champion = pd.DataFrame(df_BLUE_RED[['champion_id_x', 'role_x', 'role_y', 'champion_id_y']].value_counts())\n",
    "total_champion_vs_champion"
   ]
  },
  {
   "cell_type": "code",
   "execution_count": 21,
   "metadata": {
    "colab": {
     "base_uri": "https://localhost:8080/",
     "height": 455
    },
    "id": "9nY1738fCWFR",
    "outputId": "4b77686f-1dfc-4484-e51c-85328a5af064"
   },
   "outputs": [
    {
     "data": {
      "text/html": [
       "<div>\n",
       "<style scoped>\n",
       "    .dataframe tbody tr th:only-of-type {\n",
       "        vertical-align: middle;\n",
       "    }\n",
       "\n",
       "    .dataframe tbody tr th {\n",
       "        vertical-align: top;\n",
       "    }\n",
       "\n",
       "    .dataframe thead th {\n",
       "        text-align: right;\n",
       "    }\n",
       "</style>\n",
       "<table border=\"1\" class=\"dataframe\">\n",
       "  <thead>\n",
       "    <tr style=\"text-align: right;\">\n",
       "      <th></th>\n",
       "      <th></th>\n",
       "      <th></th>\n",
       "      <th></th>\n",
       "      <th></th>\n",
       "      <th>0</th>\n",
       "    </tr>\n",
       "    <tr>\n",
       "      <th>champion_id_x</th>\n",
       "      <th>role_x</th>\n",
       "      <th>role_y</th>\n",
       "      <th>champion_id_y</th>\n",
       "      <th>win_x</th>\n",
       "      <th></th>\n",
       "    </tr>\n",
       "  </thead>\n",
       "  <tbody>\n",
       "    <tr>\n",
       "      <th rowspan=\"5\" valign=\"top\">1</th>\n",
       "      <th rowspan=\"5\" valign=\"top\">MID</th>\n",
       "      <th rowspan=\"5\" valign=\"top\">BOT</th>\n",
       "      <th>21</th>\n",
       "      <th>False</th>\n",
       "      <td>1.0</td>\n",
       "    </tr>\n",
       "    <tr>\n",
       "      <th>51</th>\n",
       "      <th>False</th>\n",
       "      <td>1.0</td>\n",
       "    </tr>\n",
       "    <tr>\n",
       "      <th>235</th>\n",
       "      <th>True</th>\n",
       "      <td>1.0</td>\n",
       "    </tr>\n",
       "    <tr>\n",
       "      <th>429</th>\n",
       "      <th>False</th>\n",
       "      <td>1.0</td>\n",
       "    </tr>\n",
       "    <tr>\n",
       "      <th>498</th>\n",
       "      <th>False</th>\n",
       "      <td>0.5</td>\n",
       "    </tr>\n",
       "    <tr>\n",
       "      <th>...</th>\n",
       "      <th>...</th>\n",
       "      <th>...</th>\n",
       "      <th>...</th>\n",
       "      <th>...</th>\n",
       "      <td>...</td>\n",
       "    </tr>\n",
       "    <tr>\n",
       "      <th rowspan=\"5\" valign=\"top\">876</th>\n",
       "      <th rowspan=\"5\" valign=\"top\">TOP</th>\n",
       "      <th rowspan=\"2\" valign=\"top\">SUP</th>\n",
       "      <th>111</th>\n",
       "      <th>True</th>\n",
       "      <td>1.0</td>\n",
       "    </tr>\n",
       "    <tr>\n",
       "      <th>432</th>\n",
       "      <th>False</th>\n",
       "      <td>1.0</td>\n",
       "    </tr>\n",
       "    <tr>\n",
       "      <th rowspan=\"3\" valign=\"top\">TOP</th>\n",
       "      <th>58</th>\n",
       "      <th>False</th>\n",
       "      <td>1.0</td>\n",
       "    </tr>\n",
       "    <tr>\n",
       "      <th rowspan=\"2\" valign=\"top\">126</th>\n",
       "      <th>False</th>\n",
       "      <td>0.5</td>\n",
       "    </tr>\n",
       "    <tr>\n",
       "      <th>True</th>\n",
       "      <td>0.5</td>\n",
       "    </tr>\n",
       "  </tbody>\n",
       "</table>\n",
       "<p>80903 rows × 1 columns</p>\n",
       "</div>"
      ],
      "text/plain": [
       "                                                   0\n",
       "champion_id_x role_x role_y champion_id_y win_x     \n",
       "1             MID    BOT    21            False  1.0\n",
       "                            51            False  1.0\n",
       "                            235           True   1.0\n",
       "                            429           False  1.0\n",
       "                            498           False  0.5\n",
       "...                                              ...\n",
       "876           TOP    SUP    111           True   1.0\n",
       "                            432           False  1.0\n",
       "                     TOP    58            False  1.0\n",
       "                            126           False  0.5\n",
       "                                          True   0.5\n",
       "\n",
       "[80903 rows x 1 columns]"
      ]
     },
     "execution_count": 21,
     "metadata": {},
     "output_type": "execute_result"
    }
   ],
   "source": [
    "#percentage of times that a champion has lost or won against another champion\n",
    "rate_champion_vs_champion = champion_vs_champion.div(total_champion_vs_champion)\n",
    "rate_champion_vs_champion"
   ]
  },
  {
   "cell_type": "code",
   "execution_count": 22,
   "metadata": {
    "id": "jS_MyX0xSJBA"
   },
   "outputs": [],
   "source": [
    "global rate_role\n",
    "rate_role = rate_champion_vs_champion"
   ]
  },
  {
   "cell_type": "code",
   "execution_count": 23,
   "metadata": {
    "id": "jCWICmB5YuBc"
   },
   "outputs": [],
   "source": [
    "def get_vs_rate(id_x, role_x, role_y, id_y):\n",
    "    try:\n",
    "      x = rate_champion_vs_champion.loc[id_x, role_x, role_y, id_y, True]\n",
    "    except KeyError:\n",
    "        try:\n",
    "          x = 1-rate_champion_vs_champion.loc[id_x, role_x, role_y, id_y, False]\n",
    "        except KeyError:\n",
    "          x = 0.5\n",
    "    return x"
   ]
  },
  {
   "cell_type": "code",
   "execution_count": 24,
   "metadata": {
    "colab": {
     "base_uri": "https://localhost:8080/",
     "height": 534
    },
    "id": "Q7ixDOt2IMOJ",
    "outputId": "fea71737-f330-41bc-bfdd-184b42cd2905"
   },
   "outputs": [
    {
     "name": "stderr",
     "output_type": "stream",
     "text": [
      "/tmp/ipykernel_5332/4282029777.py:2: SettingWithCopyWarning: \n",
      "A value is trying to be set on a copy of a slice from a DataFrame.\n",
      "Try using .loc[row_indexer,col_indexer] = value instead\n",
      "\n",
      "See the caveats in the documentation: https://pandas.pydata.org/pandas-docs/stable/user_guide/indexing.html#returning-a-view-versus-a-copy\n",
      "  df_same_role['same_role_win_rate'] = df_same_role.apply(lambda z:\n"
     ]
    },
    {
     "data": {
      "text/html": [
       "<div>\n",
       "<style scoped>\n",
       "    .dataframe tbody tr th:only-of-type {\n",
       "        vertical-align: middle;\n",
       "    }\n",
       "\n",
       "    .dataframe tbody tr th {\n",
       "        vertical-align: top;\n",
       "    }\n",
       "\n",
       "    .dataframe thead th {\n",
       "        text-align: right;\n",
       "    }\n",
       "</style>\n",
       "<table border=\"1\" class=\"dataframe\">\n",
       "  <thead>\n",
       "    <tr style=\"text-align: right;\">\n",
       "      <th></th>\n",
       "      <th>champion_id_x</th>\n",
       "      <th>role_x</th>\n",
       "      <th>role_y</th>\n",
       "      <th>champion_id_y</th>\n",
       "      <th>win_x</th>\n",
       "      <th>game_id</th>\n",
       "      <th>same_role_win_rate</th>\n",
       "    </tr>\n",
       "  </thead>\n",
       "  <tbody>\n",
       "    <tr>\n",
       "      <th>0</th>\n",
       "      <td>13</td>\n",
       "      <td>TOP</td>\n",
       "      <td>TOP</td>\n",
       "      <td>54</td>\n",
       "      <td>True</td>\n",
       "      <td>LMS/2016 Season/Spring Season/Scoreboards_3_2</td>\n",
       "      <td>1.000000</td>\n",
       "    </tr>\n",
       "    <tr>\n",
       "      <th>6</th>\n",
       "      <td>421</td>\n",
       "      <td>JGL</td>\n",
       "      <td>JGL</td>\n",
       "      <td>203</td>\n",
       "      <td>True</td>\n",
       "      <td>LMS/2016 Season/Spring Season/Scoreboards_3_2</td>\n",
       "      <td>0.547170</td>\n",
       "    </tr>\n",
       "    <tr>\n",
       "      <th>12</th>\n",
       "      <td>81</td>\n",
       "      <td>MID</td>\n",
       "      <td>MID</td>\n",
       "      <td>38</td>\n",
       "      <td>True</td>\n",
       "      <td>LMS/2016 Season/Spring Season/Scoreboards_3_2</td>\n",
       "      <td>1.000000</td>\n",
       "    </tr>\n",
       "    <tr>\n",
       "      <th>18</th>\n",
       "      <td>429</td>\n",
       "      <td>BOT</td>\n",
       "      <td>BOT</td>\n",
       "      <td>18</td>\n",
       "      <td>True</td>\n",
       "      <td>LMS/2016 Season/Spring Season/Scoreboards_3_2</td>\n",
       "      <td>0.507692</td>\n",
       "    </tr>\n",
       "    <tr>\n",
       "      <th>24</th>\n",
       "      <td>412</td>\n",
       "      <td>SUP</td>\n",
       "      <td>SUP</td>\n",
       "      <td>12</td>\n",
       "      <td>True</td>\n",
       "      <td>LMS/2016 Season/Spring Season/Scoreboards_3_2</td>\n",
       "      <td>0.510288</td>\n",
       "    </tr>\n",
       "    <tr>\n",
       "      <th>...</th>\n",
       "      <td>...</td>\n",
       "      <td>...</td>\n",
       "      <td>...</td>\n",
       "      <td>...</td>\n",
       "      <td>...</td>\n",
       "      <td>...</td>\n",
       "      <td>...</td>\n",
       "    </tr>\n",
       "    <tr>\n",
       "      <th>706325</th>\n",
       "      <td>516</td>\n",
       "      <td>TOP</td>\n",
       "      <td>TOP</td>\n",
       "      <td>875</td>\n",
       "      <td>False</td>\n",
       "      <td>LCL/2020 Season/Spring Season/Scoreboards_2_1</td>\n",
       "      <td>0.519481</td>\n",
       "    </tr>\n",
       "    <tr>\n",
       "      <th>706331</th>\n",
       "      <td>59</td>\n",
       "      <td>JGL</td>\n",
       "      <td>JGL</td>\n",
       "      <td>64</td>\n",
       "      <td>False</td>\n",
       "      <td>LCL/2020 Season/Spring Season/Scoreboards_2_1</td>\n",
       "      <td>0.474654</td>\n",
       "    </tr>\n",
       "    <tr>\n",
       "      <th>706337</th>\n",
       "      <td>142</td>\n",
       "      <td>MID</td>\n",
       "      <td>MID</td>\n",
       "      <td>131</td>\n",
       "      <td>False</td>\n",
       "      <td>LCL/2020 Season/Spring Season/Scoreboards_2_1</td>\n",
       "      <td>0.166667</td>\n",
       "    </tr>\n",
       "    <tr>\n",
       "      <th>706343</th>\n",
       "      <td>81</td>\n",
       "      <td>BOT</td>\n",
       "      <td>BOT</td>\n",
       "      <td>523</td>\n",
       "      <td>False</td>\n",
       "      <td>LCL/2020 Season/Spring Season/Scoreboards_2_1</td>\n",
       "      <td>0.528226</td>\n",
       "    </tr>\n",
       "    <tr>\n",
       "      <th>706349</th>\n",
       "      <td>201</td>\n",
       "      <td>SUP</td>\n",
       "      <td>SUP</td>\n",
       "      <td>412</td>\n",
       "      <td>False</td>\n",
       "      <td>LCL/2020 Season/Spring Season/Scoreboards_2_1</td>\n",
       "      <td>0.505226</td>\n",
       "    </tr>\n",
       "  </tbody>\n",
       "</table>\n",
       "<p>141270 rows × 7 columns</p>\n",
       "</div>"
      ],
      "text/plain": [
       "        champion_id_x role_x role_y  champion_id_y  win_x  \\\n",
       "0                  13    TOP    TOP             54   True   \n",
       "6                 421    JGL    JGL            203   True   \n",
       "12                 81    MID    MID             38   True   \n",
       "18                429    BOT    BOT             18   True   \n",
       "24                412    SUP    SUP             12   True   \n",
       "...               ...    ...    ...            ...    ...   \n",
       "706325            516    TOP    TOP            875  False   \n",
       "706331             59    JGL    JGL             64  False   \n",
       "706337            142    MID    MID            131  False   \n",
       "706343             81    BOT    BOT            523  False   \n",
       "706349            201    SUP    SUP            412  False   \n",
       "\n",
       "                                              game_id  same_role_win_rate  \n",
       "0       LMS/2016 Season/Spring Season/Scoreboards_3_2            1.000000  \n",
       "6       LMS/2016 Season/Spring Season/Scoreboards_3_2            0.547170  \n",
       "12      LMS/2016 Season/Spring Season/Scoreboards_3_2            1.000000  \n",
       "18      LMS/2016 Season/Spring Season/Scoreboards_3_2            0.507692  \n",
       "24      LMS/2016 Season/Spring Season/Scoreboards_3_2            0.510288  \n",
       "...                                               ...                 ...  \n",
       "706325  LCL/2020 Season/Spring Season/Scoreboards_2_1            0.519481  \n",
       "706331  LCL/2020 Season/Spring Season/Scoreboards_2_1            0.474654  \n",
       "706337  LCL/2020 Season/Spring Season/Scoreboards_2_1            0.166667  \n",
       "706343  LCL/2020 Season/Spring Season/Scoreboards_2_1            0.528226  \n",
       "706349  LCL/2020 Season/Spring Season/Scoreboards_2_1            0.505226  \n",
       "\n",
       "[141270 rows x 7 columns]"
      ]
     },
     "execution_count": 24,
     "metadata": {},
     "output_type": "execute_result"
    }
   ],
   "source": [
    "df_same_role = df_role[df_role['role_x'] == df_role['role_y']]\n",
    "df_same_role['same_role_win_rate'] = df_same_role.apply(lambda z: \n",
    "              get_vs_rate(z.champion_id_x, z.role_x, z.role_y, z.champion_id_y),\n",
    "              axis=1)\n",
    "df_same_role"
   ]
  },
  {
   "cell_type": "code",
   "execution_count": 25,
   "metadata": {
    "colab": {
     "base_uri": "https://localhost:8080/",
     "height": 424
    },
    "id": "0ciqbK6IdS5K",
    "outputId": "b030996a-a99a-4a1d-bc58-2851f09714e2"
   },
   "outputs": [
    {
     "data": {
      "text/html": [
       "<div>\n",
       "<style scoped>\n",
       "    .dataframe tbody tr th:only-of-type {\n",
       "        vertical-align: middle;\n",
       "    }\n",
       "\n",
       "    .dataframe tbody tr th {\n",
       "        vertical-align: top;\n",
       "    }\n",
       "\n",
       "    .dataframe thead th {\n",
       "        text-align: right;\n",
       "    }\n",
       "</style>\n",
       "<table border=\"1\" class=\"dataframe\">\n",
       "  <thead>\n",
       "    <tr style=\"text-align: right;\">\n",
       "      <th></th>\n",
       "      <th>id</th>\n",
       "      <th>patch</th>\n",
       "      <th>year</th>\n",
       "      <th>winner</th>\n",
       "      <th>mean_synergy_blue</th>\n",
       "      <th>mean_synergy_red</th>\n",
       "      <th>TOP</th>\n",
       "      <th>JGL</th>\n",
       "      <th>MID</th>\n",
       "      <th>BOT</th>\n",
       "      <th>SUP</th>\n",
       "    </tr>\n",
       "  </thead>\n",
       "  <tbody>\n",
       "    <tr>\n",
       "      <th>0</th>\n",
       "      <td>LMS/2016 Season/Spring Season/Scoreboards_3_2</td>\n",
       "      <td>5.24</td>\n",
       "      <td>2015</td>\n",
       "      <td>BLUE</td>\n",
       "      <td>0.502761</td>\n",
       "      <td>0.480432</td>\n",
       "      <td>1.000000</td>\n",
       "      <td>0.547170</td>\n",
       "      <td>1.000000</td>\n",
       "      <td>0.507692</td>\n",
       "      <td>0.510288</td>\n",
       "    </tr>\n",
       "    <tr>\n",
       "      <th>1</th>\n",
       "      <td>LJL/2016 Season/Spring Season/Scoreboards_1_2</td>\n",
       "      <td>5.24</td>\n",
       "      <td>2015</td>\n",
       "      <td>RED</td>\n",
       "      <td>0.498885</td>\n",
       "      <td>0.508034</td>\n",
       "      <td>0.444444</td>\n",
       "      <td>0.579832</td>\n",
       "      <td>0.600000</td>\n",
       "      <td>0.250000</td>\n",
       "      <td>0.370370</td>\n",
       "    </tr>\n",
       "    <tr>\n",
       "      <th>2</th>\n",
       "      <td>LJL/2016 Season/Spring Season/Scoreboards_1_1</td>\n",
       "      <td>5.24</td>\n",
       "      <td>2015</td>\n",
       "      <td>RED</td>\n",
       "      <td>0.489649</td>\n",
       "      <td>0.517847</td>\n",
       "      <td>0.500000</td>\n",
       "      <td>0.463158</td>\n",
       "      <td>0.500000</td>\n",
       "      <td>0.477551</td>\n",
       "      <td>0.615385</td>\n",
       "    </tr>\n",
       "    <tr>\n",
       "      <th>3</th>\n",
       "      <td>CBLOL/2016 Season/Split 1/Scoreboards_2_2</td>\n",
       "      <td>5.24</td>\n",
       "      <td>2015</td>\n",
       "      <td>BLUE</td>\n",
       "      <td>0.498627</td>\n",
       "      <td>0.503166</td>\n",
       "      <td>1.000000</td>\n",
       "      <td>0.444444</td>\n",
       "      <td>0.409091</td>\n",
       "      <td>0.508475</td>\n",
       "      <td>0.400000</td>\n",
       "    </tr>\n",
       "    <tr>\n",
       "      <th>4</th>\n",
       "      <td>CBLOL/2016 Season/Split 1/Scoreboards_2_1</td>\n",
       "      <td>5.24</td>\n",
       "      <td>2015</td>\n",
       "      <td>RED</td>\n",
       "      <td>0.481985</td>\n",
       "      <td>0.486419</td>\n",
       "      <td>0.000000</td>\n",
       "      <td>0.527108</td>\n",
       "      <td>0.333333</td>\n",
       "      <td>0.200000</td>\n",
       "      <td>0.515789</td>\n",
       "    </tr>\n",
       "    <tr>\n",
       "      <th>...</th>\n",
       "      <td>...</td>\n",
       "      <td>...</td>\n",
       "      <td>...</td>\n",
       "      <td>...</td>\n",
       "      <td>...</td>\n",
       "      <td>...</td>\n",
       "      <td>...</td>\n",
       "      <td>...</td>\n",
       "      <td>...</td>\n",
       "      <td>...</td>\n",
       "      <td>...</td>\n",
       "    </tr>\n",
       "    <tr>\n",
       "      <th>28249</th>\n",
       "      <td>VCS/2020 Season/Spring Season/Scoreboards/Week...</td>\n",
       "      <td>10.30</td>\n",
       "      <td>2020</td>\n",
       "      <td>BLUE</td>\n",
       "      <td>0.489887</td>\n",
       "      <td>0.494892</td>\n",
       "      <td>0.437500</td>\n",
       "      <td>0.508772</td>\n",
       "      <td>0.833333</td>\n",
       "      <td>0.553846</td>\n",
       "      <td>0.547253</td>\n",
       "    </tr>\n",
       "    <tr>\n",
       "      <th>28250</th>\n",
       "      <td>VCS/2020 Season/Spring Season/Scoreboards/Week...</td>\n",
       "      <td>10.30</td>\n",
       "      <td>2020</td>\n",
       "      <td>RED</td>\n",
       "      <td>0.500072</td>\n",
       "      <td>0.494267</td>\n",
       "      <td>0.531915</td>\n",
       "      <td>0.544000</td>\n",
       "      <td>0.472222</td>\n",
       "      <td>0.583333</td>\n",
       "      <td>0.515789</td>\n",
       "    </tr>\n",
       "    <tr>\n",
       "      <th>28251</th>\n",
       "      <td>VCS/2020 Season/Spring Season/Scoreboards/Week...</td>\n",
       "      <td>10.30</td>\n",
       "      <td>2020</td>\n",
       "      <td>RED</td>\n",
       "      <td>0.508416</td>\n",
       "      <td>0.496037</td>\n",
       "      <td>0.333333</td>\n",
       "      <td>0.557769</td>\n",
       "      <td>0.555556</td>\n",
       "      <td>0.600000</td>\n",
       "      <td>0.409091</td>\n",
       "    </tr>\n",
       "    <tr>\n",
       "      <th>28252</th>\n",
       "      <td>LCK/2020 Season/Spring Season/Scoreboards/Week...</td>\n",
       "      <td>10.30</td>\n",
       "      <td>2020</td>\n",
       "      <td>BLUE</td>\n",
       "      <td>0.513824</td>\n",
       "      <td>0.482004</td>\n",
       "      <td>0.531915</td>\n",
       "      <td>0.555556</td>\n",
       "      <td>0.596330</td>\n",
       "      <td>0.488889</td>\n",
       "      <td>0.516129</td>\n",
       "    </tr>\n",
       "    <tr>\n",
       "      <th>28253</th>\n",
       "      <td>LCL/2020 Season/Spring Season/Scoreboards_2_1</td>\n",
       "      <td>10.30</td>\n",
       "      <td>2020</td>\n",
       "      <td>RED</td>\n",
       "      <td>0.500838</td>\n",
       "      <td>0.520219</td>\n",
       "      <td>0.519481</td>\n",
       "      <td>0.474654</td>\n",
       "      <td>0.166667</td>\n",
       "      <td>0.528226</td>\n",
       "      <td>0.505226</td>\n",
       "    </tr>\n",
       "  </tbody>\n",
       "</table>\n",
       "<p>28254 rows × 11 columns</p>\n",
       "</div>"
      ],
      "text/plain": [
       "                                                      id  patch  year winner  \\\n",
       "0          LMS/2016 Season/Spring Season/Scoreboards_3_2   5.24  2015   BLUE   \n",
       "1          LJL/2016 Season/Spring Season/Scoreboards_1_2   5.24  2015    RED   \n",
       "2          LJL/2016 Season/Spring Season/Scoreboards_1_1   5.24  2015    RED   \n",
       "3              CBLOL/2016 Season/Split 1/Scoreboards_2_2   5.24  2015   BLUE   \n",
       "4              CBLOL/2016 Season/Split 1/Scoreboards_2_1   5.24  2015    RED   \n",
       "...                                                  ...    ...   ...    ...   \n",
       "28249  VCS/2020 Season/Spring Season/Scoreboards/Week...  10.30  2020   BLUE   \n",
       "28250  VCS/2020 Season/Spring Season/Scoreboards/Week...  10.30  2020    RED   \n",
       "28251  VCS/2020 Season/Spring Season/Scoreboards/Week...  10.30  2020    RED   \n",
       "28252  LCK/2020 Season/Spring Season/Scoreboards/Week...  10.30  2020   BLUE   \n",
       "28253      LCL/2020 Season/Spring Season/Scoreboards_2_1  10.30  2020    RED   \n",
       "\n",
       "       mean_synergy_blue  mean_synergy_red       TOP       JGL       MID  \\\n",
       "0               0.502761          0.480432  1.000000  0.547170  1.000000   \n",
       "1               0.498885          0.508034  0.444444  0.579832  0.600000   \n",
       "2               0.489649          0.517847  0.500000  0.463158  0.500000   \n",
       "3               0.498627          0.503166  1.000000  0.444444  0.409091   \n",
       "4               0.481985          0.486419  0.000000  0.527108  0.333333   \n",
       "...                  ...               ...       ...       ...       ...   \n",
       "28249           0.489887          0.494892  0.437500  0.508772  0.833333   \n",
       "28250           0.500072          0.494267  0.531915  0.544000  0.472222   \n",
       "28251           0.508416          0.496037  0.333333  0.557769  0.555556   \n",
       "28252           0.513824          0.482004  0.531915  0.555556  0.596330   \n",
       "28253           0.500838          0.520219  0.519481  0.474654  0.166667   \n",
       "\n",
       "            BOT       SUP  \n",
       "0      0.507692  0.510288  \n",
       "1      0.250000  0.370370  \n",
       "2      0.477551  0.615385  \n",
       "3      0.508475  0.400000  \n",
       "4      0.200000  0.515789  \n",
       "...         ...       ...  \n",
       "28249  0.553846  0.547253  \n",
       "28250  0.583333  0.515789  \n",
       "28251  0.600000  0.409091  \n",
       "28252  0.488889  0.516129  \n",
       "28253  0.528226  0.505226  \n",
       "\n",
       "[28254 rows x 11 columns]"
      ]
     },
     "execution_count": 25,
     "metadata": {},
     "output_type": "execute_result"
    }
   ],
   "source": [
    "roles = ['TOP', 'JGL', 'MID', 'BOT', 'SUP']\n",
    "\n",
    "for role in roles:\n",
    "  df_role = df_same_role[df_same_role.role_x == role][['game_id', 'same_role_win_rate']]\n",
    "  df_role[role] = df_role['same_role_win_rate']\n",
    "  df_role['id'] = df_role['game_id']\n",
    "  df_role.drop(['game_id', 'same_role_win_rate'], axis=1, inplace=True)\n",
    "  df_teams_ML = pd.merge(df_teams_ML, df_role, on='id', how='inner')\n",
    "\n",
    "df_teams_ML"
   ]
  },
  {
   "cell_type": "markdown",
   "metadata": {
    "id": "MfprQYoGjVhi"
   },
   "source": [
    "## Feature 3: Simple averages"
   ]
  },
  {
   "cell_type": "code",
   "execution_count": null,
   "metadata": {
    "id": "NSrNwe5sjU2R"
   },
   "outputs": [],
   "source": []
  },
  {
   "cell_type": "markdown",
   "metadata": {
    "id": "uTRqUG6vhiuT"
   },
   "source": [
    "# Machine Learning"
   ]
  },
  {
   "cell_type": "markdown",
   "metadata": {
    "id": "8NEUHNxThmhc"
   },
   "source": [
    "## Pipe with logit regression"
   ]
  },
  {
   "cell_type": "code",
   "execution_count": 26,
   "metadata": {
    "colab": {
     "base_uri": "https://localhost:8080/",
     "height": 227
    },
    "id": "WMyJozmthl2C",
    "outputId": "db86d7ac-bb1f-4e3b-9bb7-e7254224baa0"
   },
   "outputs": [
    {
     "data": {
      "text/html": [
       "<style>#sk-1cdf894d-1785-42f0-9b55-3bc1e093ce95 {color: black;background-color: white;}#sk-1cdf894d-1785-42f0-9b55-3bc1e093ce95 pre{padding: 0;}#sk-1cdf894d-1785-42f0-9b55-3bc1e093ce95 div.sk-toggleable {background-color: white;}#sk-1cdf894d-1785-42f0-9b55-3bc1e093ce95 label.sk-toggleable__label {cursor: pointer;display: block;width: 100%;margin-bottom: 0;padding: 0.3em;box-sizing: border-box;text-align: center;}#sk-1cdf894d-1785-42f0-9b55-3bc1e093ce95 label.sk-toggleable__label-arrow:before {content: \"▸\";float: left;margin-right: 0.25em;color: #696969;}#sk-1cdf894d-1785-42f0-9b55-3bc1e093ce95 label.sk-toggleable__label-arrow:hover:before {color: black;}#sk-1cdf894d-1785-42f0-9b55-3bc1e093ce95 div.sk-estimator:hover label.sk-toggleable__label-arrow:before {color: black;}#sk-1cdf894d-1785-42f0-9b55-3bc1e093ce95 div.sk-toggleable__content {max-height: 0;max-width: 0;overflow: hidden;text-align: left;background-color: #f0f8ff;}#sk-1cdf894d-1785-42f0-9b55-3bc1e093ce95 div.sk-toggleable__content pre {margin: 0.2em;color: black;border-radius: 0.25em;background-color: #f0f8ff;}#sk-1cdf894d-1785-42f0-9b55-3bc1e093ce95 input.sk-toggleable__control:checked~div.sk-toggleable__content {max-height: 200px;max-width: 100%;overflow: auto;}#sk-1cdf894d-1785-42f0-9b55-3bc1e093ce95 input.sk-toggleable__control:checked~label.sk-toggleable__label-arrow:before {content: \"▾\";}#sk-1cdf894d-1785-42f0-9b55-3bc1e093ce95 div.sk-estimator input.sk-toggleable__control:checked~label.sk-toggleable__label {background-color: #d4ebff;}#sk-1cdf894d-1785-42f0-9b55-3bc1e093ce95 div.sk-label input.sk-toggleable__control:checked~label.sk-toggleable__label {background-color: #d4ebff;}#sk-1cdf894d-1785-42f0-9b55-3bc1e093ce95 input.sk-hidden--visually {border: 0;clip: rect(1px 1px 1px 1px);clip: rect(1px, 1px, 1px, 1px);height: 1px;margin: -1px;overflow: hidden;padding: 0;position: absolute;width: 1px;}#sk-1cdf894d-1785-42f0-9b55-3bc1e093ce95 div.sk-estimator {font-family: monospace;background-color: #f0f8ff;border: 1px dotted black;border-radius: 0.25em;box-sizing: border-box;margin-bottom: 0.5em;}#sk-1cdf894d-1785-42f0-9b55-3bc1e093ce95 div.sk-estimator:hover {background-color: #d4ebff;}#sk-1cdf894d-1785-42f0-9b55-3bc1e093ce95 div.sk-parallel-item::after {content: \"\";width: 100%;border-bottom: 1px solid gray;flex-grow: 1;}#sk-1cdf894d-1785-42f0-9b55-3bc1e093ce95 div.sk-label:hover label.sk-toggleable__label {background-color: #d4ebff;}#sk-1cdf894d-1785-42f0-9b55-3bc1e093ce95 div.sk-serial::before {content: \"\";position: absolute;border-left: 1px solid gray;box-sizing: border-box;top: 2em;bottom: 0;left: 50%;}#sk-1cdf894d-1785-42f0-9b55-3bc1e093ce95 div.sk-serial {display: flex;flex-direction: column;align-items: center;background-color: white;padding-right: 0.2em;padding-left: 0.2em;}#sk-1cdf894d-1785-42f0-9b55-3bc1e093ce95 div.sk-item {z-index: 1;}#sk-1cdf894d-1785-42f0-9b55-3bc1e093ce95 div.sk-parallel {display: flex;align-items: stretch;justify-content: center;background-color: white;}#sk-1cdf894d-1785-42f0-9b55-3bc1e093ce95 div.sk-parallel::before {content: \"\";position: absolute;border-left: 1px solid gray;box-sizing: border-box;top: 2em;bottom: 0;left: 50%;}#sk-1cdf894d-1785-42f0-9b55-3bc1e093ce95 div.sk-parallel-item {display: flex;flex-direction: column;position: relative;background-color: white;}#sk-1cdf894d-1785-42f0-9b55-3bc1e093ce95 div.sk-parallel-item:first-child::after {align-self: flex-end;width: 50%;}#sk-1cdf894d-1785-42f0-9b55-3bc1e093ce95 div.sk-parallel-item:last-child::after {align-self: flex-start;width: 50%;}#sk-1cdf894d-1785-42f0-9b55-3bc1e093ce95 div.sk-parallel-item:only-child::after {width: 0;}#sk-1cdf894d-1785-42f0-9b55-3bc1e093ce95 div.sk-dashed-wrapped {border: 1px dashed gray;margin: 0 0.4em 0.5em 0.4em;box-sizing: border-box;padding-bottom: 0.4em;background-color: white;position: relative;}#sk-1cdf894d-1785-42f0-9b55-3bc1e093ce95 div.sk-label label {font-family: monospace;font-weight: bold;background-color: white;display: inline-block;line-height: 1.2em;}#sk-1cdf894d-1785-42f0-9b55-3bc1e093ce95 div.sk-label-container {position: relative;z-index: 2;text-align: center;}#sk-1cdf894d-1785-42f0-9b55-3bc1e093ce95 div.sk-container {/* jupyter's `normalize.less` sets `[hidden] { display: none; }` but bootstrap.min.css set `[hidden] { display: none !important; }` so we also need the `!important` here to be able to override the default hidden behavior on the sphinx rendered scikit-learn.org. See: https://github.com/scikit-learn/scikit-learn/issues/21755 */display: inline-block !important;position: relative;}#sk-1cdf894d-1785-42f0-9b55-3bc1e093ce95 div.sk-text-repr-fallback {display: none;}</style><div id=\"sk-1cdf894d-1785-42f0-9b55-3bc1e093ce95\" class=\"sk-top-container\"><div class=\"sk-text-repr-fallback\"><pre>Pipeline(steps=[(&#x27;columntransformer&#x27;,\n",
       "                 ColumnTransformer(remainder=&#x27;passthrough&#x27;,\n",
       "                                   transformers=[(&#x27;pipeline&#x27;,\n",
       "                                                  Pipeline(steps=[(&#x27;simpleimputer&#x27;,\n",
       "                                                                   SimpleImputer()),\n",
       "                                                                  (&#x27;minmaxscaler&#x27;,\n",
       "                                                                   MinMaxScaler())]),\n",
       "                                                  &lt;sklearn.compose._column_transformer.make_column_selector object at 0x7feef0a5e760&gt;),\n",
       "                                                 (&#x27;onehotencoder&#x27;,\n",
       "                                                  OneHotEncoder(sparse=False),\n",
       "                                                  &lt;sklearn.compose._column_transformer.make_column_selector object at 0x7feef0a5e7c0&gt;)])),\n",
       "                (&#x27;logisticregression&#x27;, LogisticRegression(solver=&#x27;liblinear&#x27;))])</pre><b>Please rerun this cell to show the HTML repr or trust the notebook.</b></div><div class=\"sk-container\" hidden><div class=\"sk-item sk-dashed-wrapped\"><div class=\"sk-label-container\"><div class=\"sk-label sk-toggleable\"><input class=\"sk-toggleable__control sk-hidden--visually\" id=\"62659d60-34ec-4179-9f06-b83236c659d2\" type=\"checkbox\" ><label for=\"62659d60-34ec-4179-9f06-b83236c659d2\" class=\"sk-toggleable__label sk-toggleable__label-arrow\">Pipeline</label><div class=\"sk-toggleable__content\"><pre>Pipeline(steps=[(&#x27;columntransformer&#x27;,\n",
       "                 ColumnTransformer(remainder=&#x27;passthrough&#x27;,\n",
       "                                   transformers=[(&#x27;pipeline&#x27;,\n",
       "                                                  Pipeline(steps=[(&#x27;simpleimputer&#x27;,\n",
       "                                                                   SimpleImputer()),\n",
       "                                                                  (&#x27;minmaxscaler&#x27;,\n",
       "                                                                   MinMaxScaler())]),\n",
       "                                                  &lt;sklearn.compose._column_transformer.make_column_selector object at 0x7feef0a5e760&gt;),\n",
       "                                                 (&#x27;onehotencoder&#x27;,\n",
       "                                                  OneHotEncoder(sparse=False),\n",
       "                                                  &lt;sklearn.compose._column_transformer.make_column_selector object at 0x7feef0a5e7c0&gt;)])),\n",
       "                (&#x27;logisticregression&#x27;, LogisticRegression(solver=&#x27;liblinear&#x27;))])</pre></div></div></div><div class=\"sk-serial\"><div class=\"sk-item sk-dashed-wrapped\"><div class=\"sk-label-container\"><div class=\"sk-label sk-toggleable\"><input class=\"sk-toggleable__control sk-hidden--visually\" id=\"74198146-7644-4aff-8c09-efe85903e1d7\" type=\"checkbox\" ><label for=\"74198146-7644-4aff-8c09-efe85903e1d7\" class=\"sk-toggleable__label sk-toggleable__label-arrow\">columntransformer: ColumnTransformer</label><div class=\"sk-toggleable__content\"><pre>ColumnTransformer(remainder=&#x27;passthrough&#x27;,\n",
       "                  transformers=[(&#x27;pipeline&#x27;,\n",
       "                                 Pipeline(steps=[(&#x27;simpleimputer&#x27;,\n",
       "                                                  SimpleImputer()),\n",
       "                                                 (&#x27;minmaxscaler&#x27;,\n",
       "                                                  MinMaxScaler())]),\n",
       "                                 &lt;sklearn.compose._column_transformer.make_column_selector object at 0x7feef0a5e760&gt;),\n",
       "                                (&#x27;onehotencoder&#x27;, OneHotEncoder(sparse=False),\n",
       "                                 &lt;sklearn.compose._column_transformer.make_column_selector object at 0x7feef0a5e7c0&gt;)])</pre></div></div></div><div class=\"sk-parallel\"><div class=\"sk-parallel-item\"><div class=\"sk-item\"><div class=\"sk-label-container\"><div class=\"sk-label sk-toggleable\"><input class=\"sk-toggleable__control sk-hidden--visually\" id=\"341a30ad-626a-4804-b3bf-624295b0e8cf\" type=\"checkbox\" ><label for=\"341a30ad-626a-4804-b3bf-624295b0e8cf\" class=\"sk-toggleable__label sk-toggleable__label-arrow\">pipeline</label><div class=\"sk-toggleable__content\"><pre>&lt;sklearn.compose._column_transformer.make_column_selector object at 0x7feef0a5e760&gt;</pre></div></div></div><div class=\"sk-serial\"><div class=\"sk-item\"><div class=\"sk-serial\"><div class=\"sk-item\"><div class=\"sk-estimator sk-toggleable\"><input class=\"sk-toggleable__control sk-hidden--visually\" id=\"c2df36b0-67d5-45e7-8473-db12703f0bc6\" type=\"checkbox\" ><label for=\"c2df36b0-67d5-45e7-8473-db12703f0bc6\" class=\"sk-toggleable__label sk-toggleable__label-arrow\">SimpleImputer</label><div class=\"sk-toggleable__content\"><pre>SimpleImputer()</pre></div></div></div><div class=\"sk-item\"><div class=\"sk-estimator sk-toggleable\"><input class=\"sk-toggleable__control sk-hidden--visually\" id=\"878c0fb3-e8cf-40fe-b511-5c58e60c3d78\" type=\"checkbox\" ><label for=\"878c0fb3-e8cf-40fe-b511-5c58e60c3d78\" class=\"sk-toggleable__label sk-toggleable__label-arrow\">MinMaxScaler</label><div class=\"sk-toggleable__content\"><pre>MinMaxScaler()</pre></div></div></div></div></div></div></div></div><div class=\"sk-parallel-item\"><div class=\"sk-item\"><div class=\"sk-label-container\"><div class=\"sk-label sk-toggleable\"><input class=\"sk-toggleable__control sk-hidden--visually\" id=\"e3728462-162a-43fe-90f8-6bdd61fcce7c\" type=\"checkbox\" ><label for=\"e3728462-162a-43fe-90f8-6bdd61fcce7c\" class=\"sk-toggleable__label sk-toggleable__label-arrow\">onehotencoder</label><div class=\"sk-toggleable__content\"><pre>&lt;sklearn.compose._column_transformer.make_column_selector object at 0x7feef0a5e7c0&gt;</pre></div></div></div><div class=\"sk-serial\"><div class=\"sk-item\"><div class=\"sk-estimator sk-toggleable\"><input class=\"sk-toggleable__control sk-hidden--visually\" id=\"89aec887-423d-4c9c-ab25-32c91c1da4e8\" type=\"checkbox\" ><label for=\"89aec887-423d-4c9c-ab25-32c91c1da4e8\" class=\"sk-toggleable__label sk-toggleable__label-arrow\">OneHotEncoder</label><div class=\"sk-toggleable__content\"><pre>OneHotEncoder(sparse=False)</pre></div></div></div></div></div></div><div class=\"sk-parallel-item\"><div class=\"sk-item\"><div class=\"sk-label-container\"><div class=\"sk-label sk-toggleable\"><input class=\"sk-toggleable__control sk-hidden--visually\" id=\"8c5fa1e7-a202-4ede-bf1b-0c6f51e9ee0c\" type=\"checkbox\" ><label for=\"8c5fa1e7-a202-4ede-bf1b-0c6f51e9ee0c\" class=\"sk-toggleable__label sk-toggleable__label-arrow\">remainder</label><div class=\"sk-toggleable__content\"><pre></pre></div></div></div><div class=\"sk-serial\"><div class=\"sk-item\"><div class=\"sk-estimator sk-toggleable\"><input class=\"sk-toggleable__control sk-hidden--visually\" id=\"f32d50f8-62da-48d9-8f0d-8d1078a4d1e9\" type=\"checkbox\" ><label for=\"f32d50f8-62da-48d9-8f0d-8d1078a4d1e9\" class=\"sk-toggleable__label sk-toggleable__label-arrow\">passthrough</label><div class=\"sk-toggleable__content\"><pre>passthrough</pre></div></div></div></div></div></div></div></div><div class=\"sk-item\"><div class=\"sk-estimator sk-toggleable\"><input class=\"sk-toggleable__control sk-hidden--visually\" id=\"a4864065-a96e-4078-97af-ac21412764ac\" type=\"checkbox\" ><label for=\"a4864065-a96e-4078-97af-ac21412764ac\" class=\"sk-toggleable__label sk-toggleable__label-arrow\">LogisticRegression</label><div class=\"sk-toggleable__content\"><pre>LogisticRegression(solver=&#x27;liblinear&#x27;)</pre></div></div></div></div></div></div></div>"
      ],
      "text/plain": [
       "Pipeline(steps=[('columntransformer',\n",
       "                 ColumnTransformer(remainder='passthrough',\n",
       "                                   transformers=[('pipeline',\n",
       "                                                  Pipeline(steps=[('simpleimputer',\n",
       "                                                                   SimpleImputer()),\n",
       "                                                                  ('minmaxscaler',\n",
       "                                                                   MinMaxScaler())]),\n",
       "                                                  <sklearn.compose._column_transformer.make_column_selector object at 0x7feef0a5e760>),\n",
       "                                                 ('onehotencoder',\n",
       "                                                  OneHotEncoder(sparse=False),\n",
       "                                                  <sklearn.compose._column_transformer.make_column_selector object at 0x7feef0a5e7c0>)])),\n",
       "                ('logisticregression', LogisticRegression(solver='liblinear'))])"
      ]
     },
     "execution_count": 26,
     "metadata": {},
     "output_type": "execute_result"
    }
   ],
   "source": [
    "from sklearn.preprocessing import MinMaxScaler\n",
    "from sklearn.impute import SimpleImputer\n",
    "from sklearn.preprocessing import OneHotEncoder\n",
    "from sklearn.pipeline import make_pipeline\n",
    "from sklearn.linear_model import LogisticRegression\n",
    "from sklearn.compose import make_column_transformer\n",
    "from sklearn.compose import make_column_selector\n",
    "from sklearn import set_config; set_config(display='diagram')\n",
    "\n",
    "\n",
    "# Impute then Scale for numerical variables: \n",
    "num_transformer = make_pipeline(\n",
    "                    SimpleImputer(strategy = 'mean'),\n",
    "                    MinMaxScaler())\n",
    "\n",
    "# Encode categorical variables\n",
    "cat_transformer = OneHotEncoder(sparse = False)#, handle_unknown='ignore')\n",
    "\n",
    "# Paralellize \"num_transformer\" and \"One hot encoder\"\n",
    "preproc = make_column_transformer(\n",
    "    (num_transformer, make_column_selector(dtype_include=['float64'])),\n",
    "    (cat_transformer, make_column_selector(dtype_include=['object','bool'])),\n",
    "    remainder='passthrough')\n",
    "\n",
    "#add model\n",
    "pipe = make_pipeline(preproc, LogisticRegression(solver='liblinear'))\n",
    "pipe"
   ]
  },
  {
   "cell_type": "code",
   "execution_count": 27,
   "metadata": {
    "id": "B_lFhTwOhfFY"
   },
   "outputs": [],
   "source": [
    "from sklearn.preprocessing import LabelEncoder\n",
    "\n",
    "y_train = LabelEncoder().fit(df_teams_ML.winner).transform(df_teams_ML.winner)\n",
    "X_train = df_teams_ML.drop(['id', 'winner'], axis=1)"
   ]
  },
  {
   "cell_type": "code",
   "execution_count": 28,
   "metadata": {
    "colab": {
     "base_uri": "https://localhost:8080/",
     "height": 227
    },
    "id": "8I4ft2QaiLHz",
    "outputId": "fa00e3fd-7e4e-4f5a-b01c-9f242527661c"
   },
   "outputs": [
    {
     "data": {
      "text/html": [
       "<style>#sk-5e08f677-9f4d-47f1-a15c-27da7b44530c {color: black;background-color: white;}#sk-5e08f677-9f4d-47f1-a15c-27da7b44530c pre{padding: 0;}#sk-5e08f677-9f4d-47f1-a15c-27da7b44530c div.sk-toggleable {background-color: white;}#sk-5e08f677-9f4d-47f1-a15c-27da7b44530c label.sk-toggleable__label {cursor: pointer;display: block;width: 100%;margin-bottom: 0;padding: 0.3em;box-sizing: border-box;text-align: center;}#sk-5e08f677-9f4d-47f1-a15c-27da7b44530c label.sk-toggleable__label-arrow:before {content: \"▸\";float: left;margin-right: 0.25em;color: #696969;}#sk-5e08f677-9f4d-47f1-a15c-27da7b44530c label.sk-toggleable__label-arrow:hover:before {color: black;}#sk-5e08f677-9f4d-47f1-a15c-27da7b44530c div.sk-estimator:hover label.sk-toggleable__label-arrow:before {color: black;}#sk-5e08f677-9f4d-47f1-a15c-27da7b44530c div.sk-toggleable__content {max-height: 0;max-width: 0;overflow: hidden;text-align: left;background-color: #f0f8ff;}#sk-5e08f677-9f4d-47f1-a15c-27da7b44530c div.sk-toggleable__content pre {margin: 0.2em;color: black;border-radius: 0.25em;background-color: #f0f8ff;}#sk-5e08f677-9f4d-47f1-a15c-27da7b44530c input.sk-toggleable__control:checked~div.sk-toggleable__content {max-height: 200px;max-width: 100%;overflow: auto;}#sk-5e08f677-9f4d-47f1-a15c-27da7b44530c input.sk-toggleable__control:checked~label.sk-toggleable__label-arrow:before {content: \"▾\";}#sk-5e08f677-9f4d-47f1-a15c-27da7b44530c div.sk-estimator input.sk-toggleable__control:checked~label.sk-toggleable__label {background-color: #d4ebff;}#sk-5e08f677-9f4d-47f1-a15c-27da7b44530c div.sk-label input.sk-toggleable__control:checked~label.sk-toggleable__label {background-color: #d4ebff;}#sk-5e08f677-9f4d-47f1-a15c-27da7b44530c input.sk-hidden--visually {border: 0;clip: rect(1px 1px 1px 1px);clip: rect(1px, 1px, 1px, 1px);height: 1px;margin: -1px;overflow: hidden;padding: 0;position: absolute;width: 1px;}#sk-5e08f677-9f4d-47f1-a15c-27da7b44530c div.sk-estimator {font-family: monospace;background-color: #f0f8ff;border: 1px dotted black;border-radius: 0.25em;box-sizing: border-box;margin-bottom: 0.5em;}#sk-5e08f677-9f4d-47f1-a15c-27da7b44530c div.sk-estimator:hover {background-color: #d4ebff;}#sk-5e08f677-9f4d-47f1-a15c-27da7b44530c div.sk-parallel-item::after {content: \"\";width: 100%;border-bottom: 1px solid gray;flex-grow: 1;}#sk-5e08f677-9f4d-47f1-a15c-27da7b44530c div.sk-label:hover label.sk-toggleable__label {background-color: #d4ebff;}#sk-5e08f677-9f4d-47f1-a15c-27da7b44530c div.sk-serial::before {content: \"\";position: absolute;border-left: 1px solid gray;box-sizing: border-box;top: 2em;bottom: 0;left: 50%;}#sk-5e08f677-9f4d-47f1-a15c-27da7b44530c div.sk-serial {display: flex;flex-direction: column;align-items: center;background-color: white;padding-right: 0.2em;padding-left: 0.2em;}#sk-5e08f677-9f4d-47f1-a15c-27da7b44530c div.sk-item {z-index: 1;}#sk-5e08f677-9f4d-47f1-a15c-27da7b44530c div.sk-parallel {display: flex;align-items: stretch;justify-content: center;background-color: white;}#sk-5e08f677-9f4d-47f1-a15c-27da7b44530c div.sk-parallel::before {content: \"\";position: absolute;border-left: 1px solid gray;box-sizing: border-box;top: 2em;bottom: 0;left: 50%;}#sk-5e08f677-9f4d-47f1-a15c-27da7b44530c div.sk-parallel-item {display: flex;flex-direction: column;position: relative;background-color: white;}#sk-5e08f677-9f4d-47f1-a15c-27da7b44530c div.sk-parallel-item:first-child::after {align-self: flex-end;width: 50%;}#sk-5e08f677-9f4d-47f1-a15c-27da7b44530c div.sk-parallel-item:last-child::after {align-self: flex-start;width: 50%;}#sk-5e08f677-9f4d-47f1-a15c-27da7b44530c div.sk-parallel-item:only-child::after {width: 0;}#sk-5e08f677-9f4d-47f1-a15c-27da7b44530c div.sk-dashed-wrapped {border: 1px dashed gray;margin: 0 0.4em 0.5em 0.4em;box-sizing: border-box;padding-bottom: 0.4em;background-color: white;position: relative;}#sk-5e08f677-9f4d-47f1-a15c-27da7b44530c div.sk-label label {font-family: monospace;font-weight: bold;background-color: white;display: inline-block;line-height: 1.2em;}#sk-5e08f677-9f4d-47f1-a15c-27da7b44530c div.sk-label-container {position: relative;z-index: 2;text-align: center;}#sk-5e08f677-9f4d-47f1-a15c-27da7b44530c div.sk-container {/* jupyter's `normalize.less` sets `[hidden] { display: none; }` but bootstrap.min.css set `[hidden] { display: none !important; }` so we also need the `!important` here to be able to override the default hidden behavior on the sphinx rendered scikit-learn.org. See: https://github.com/scikit-learn/scikit-learn/issues/21755 */display: inline-block !important;position: relative;}#sk-5e08f677-9f4d-47f1-a15c-27da7b44530c div.sk-text-repr-fallback {display: none;}</style><div id=\"sk-5e08f677-9f4d-47f1-a15c-27da7b44530c\" class=\"sk-top-container\"><div class=\"sk-text-repr-fallback\"><pre>Pipeline(steps=[(&#x27;columntransformer&#x27;,\n",
       "                 ColumnTransformer(remainder=&#x27;passthrough&#x27;,\n",
       "                                   transformers=[(&#x27;pipeline&#x27;,\n",
       "                                                  Pipeline(steps=[(&#x27;simpleimputer&#x27;,\n",
       "                                                                   SimpleImputer()),\n",
       "                                                                  (&#x27;minmaxscaler&#x27;,\n",
       "                                                                   MinMaxScaler())]),\n",
       "                                                  &lt;sklearn.compose._column_transformer.make_column_selector object at 0x7feef0a5e760&gt;),\n",
       "                                                 (&#x27;onehotencoder&#x27;,\n",
       "                                                  OneHotEncoder(sparse=False),\n",
       "                                                  &lt;sklearn.compose._column_transformer.make_column_selector object at 0x7feef0a5e7c0&gt;)])),\n",
       "                (&#x27;logisticregression&#x27;, LogisticRegression(solver=&#x27;liblinear&#x27;))])</pre><b>Please rerun this cell to show the HTML repr or trust the notebook.</b></div><div class=\"sk-container\" hidden><div class=\"sk-item sk-dashed-wrapped\"><div class=\"sk-label-container\"><div class=\"sk-label sk-toggleable\"><input class=\"sk-toggleable__control sk-hidden--visually\" id=\"54662e77-2432-45f5-a6c7-26ec7031e154\" type=\"checkbox\" ><label for=\"54662e77-2432-45f5-a6c7-26ec7031e154\" class=\"sk-toggleable__label sk-toggleable__label-arrow\">Pipeline</label><div class=\"sk-toggleable__content\"><pre>Pipeline(steps=[(&#x27;columntransformer&#x27;,\n",
       "                 ColumnTransformer(remainder=&#x27;passthrough&#x27;,\n",
       "                                   transformers=[(&#x27;pipeline&#x27;,\n",
       "                                                  Pipeline(steps=[(&#x27;simpleimputer&#x27;,\n",
       "                                                                   SimpleImputer()),\n",
       "                                                                  (&#x27;minmaxscaler&#x27;,\n",
       "                                                                   MinMaxScaler())]),\n",
       "                                                  &lt;sklearn.compose._column_transformer.make_column_selector object at 0x7feef0a5e760&gt;),\n",
       "                                                 (&#x27;onehotencoder&#x27;,\n",
       "                                                  OneHotEncoder(sparse=False),\n",
       "                                                  &lt;sklearn.compose._column_transformer.make_column_selector object at 0x7feef0a5e7c0&gt;)])),\n",
       "                (&#x27;logisticregression&#x27;, LogisticRegression(solver=&#x27;liblinear&#x27;))])</pre></div></div></div><div class=\"sk-serial\"><div class=\"sk-item sk-dashed-wrapped\"><div class=\"sk-label-container\"><div class=\"sk-label sk-toggleable\"><input class=\"sk-toggleable__control sk-hidden--visually\" id=\"a4c785ee-9a0a-43be-b673-db53c86c7984\" type=\"checkbox\" ><label for=\"a4c785ee-9a0a-43be-b673-db53c86c7984\" class=\"sk-toggleable__label sk-toggleable__label-arrow\">columntransformer: ColumnTransformer</label><div class=\"sk-toggleable__content\"><pre>ColumnTransformer(remainder=&#x27;passthrough&#x27;,\n",
       "                  transformers=[(&#x27;pipeline&#x27;,\n",
       "                                 Pipeline(steps=[(&#x27;simpleimputer&#x27;,\n",
       "                                                  SimpleImputer()),\n",
       "                                                 (&#x27;minmaxscaler&#x27;,\n",
       "                                                  MinMaxScaler())]),\n",
       "                                 &lt;sklearn.compose._column_transformer.make_column_selector object at 0x7feef0a5e760&gt;),\n",
       "                                (&#x27;onehotencoder&#x27;, OneHotEncoder(sparse=False),\n",
       "                                 &lt;sklearn.compose._column_transformer.make_column_selector object at 0x7feef0a5e7c0&gt;)])</pre></div></div></div><div class=\"sk-parallel\"><div class=\"sk-parallel-item\"><div class=\"sk-item\"><div class=\"sk-label-container\"><div class=\"sk-label sk-toggleable\"><input class=\"sk-toggleable__control sk-hidden--visually\" id=\"feeaa7c9-d253-40dd-84cb-3382fe57527a\" type=\"checkbox\" ><label for=\"feeaa7c9-d253-40dd-84cb-3382fe57527a\" class=\"sk-toggleable__label sk-toggleable__label-arrow\">pipeline</label><div class=\"sk-toggleable__content\"><pre>&lt;sklearn.compose._column_transformer.make_column_selector object at 0x7feef0a5e760&gt;</pre></div></div></div><div class=\"sk-serial\"><div class=\"sk-item\"><div class=\"sk-serial\"><div class=\"sk-item\"><div class=\"sk-estimator sk-toggleable\"><input class=\"sk-toggleable__control sk-hidden--visually\" id=\"4116306e-f44d-4086-b4ed-b9317b21dbe4\" type=\"checkbox\" ><label for=\"4116306e-f44d-4086-b4ed-b9317b21dbe4\" class=\"sk-toggleable__label sk-toggleable__label-arrow\">SimpleImputer</label><div class=\"sk-toggleable__content\"><pre>SimpleImputer()</pre></div></div></div><div class=\"sk-item\"><div class=\"sk-estimator sk-toggleable\"><input class=\"sk-toggleable__control sk-hidden--visually\" id=\"dea4d76e-7813-4dfa-b723-928863f96cb3\" type=\"checkbox\" ><label for=\"dea4d76e-7813-4dfa-b723-928863f96cb3\" class=\"sk-toggleable__label sk-toggleable__label-arrow\">MinMaxScaler</label><div class=\"sk-toggleable__content\"><pre>MinMaxScaler()</pre></div></div></div></div></div></div></div></div><div class=\"sk-parallel-item\"><div class=\"sk-item\"><div class=\"sk-label-container\"><div class=\"sk-label sk-toggleable\"><input class=\"sk-toggleable__control sk-hidden--visually\" id=\"121a2ec3-2c30-45bc-8dff-5232f8e9adab\" type=\"checkbox\" ><label for=\"121a2ec3-2c30-45bc-8dff-5232f8e9adab\" class=\"sk-toggleable__label sk-toggleable__label-arrow\">onehotencoder</label><div class=\"sk-toggleable__content\"><pre>&lt;sklearn.compose._column_transformer.make_column_selector object at 0x7feef0a5e7c0&gt;</pre></div></div></div><div class=\"sk-serial\"><div class=\"sk-item\"><div class=\"sk-estimator sk-toggleable\"><input class=\"sk-toggleable__control sk-hidden--visually\" id=\"ffe3f7ab-84d1-499e-aa58-57933aabcab8\" type=\"checkbox\" ><label for=\"ffe3f7ab-84d1-499e-aa58-57933aabcab8\" class=\"sk-toggleable__label sk-toggleable__label-arrow\">OneHotEncoder</label><div class=\"sk-toggleable__content\"><pre>OneHotEncoder(sparse=False)</pre></div></div></div></div></div></div><div class=\"sk-parallel-item\"><div class=\"sk-item\"><div class=\"sk-label-container\"><div class=\"sk-label sk-toggleable\"><input class=\"sk-toggleable__control sk-hidden--visually\" id=\"a9947e24-d0f3-41c1-9252-0864ec946403\" type=\"checkbox\" ><label for=\"a9947e24-d0f3-41c1-9252-0864ec946403\" class=\"sk-toggleable__label sk-toggleable__label-arrow\">remainder</label><div class=\"sk-toggleable__content\"><pre>[&#x27;patch&#x27;, &#x27;year&#x27;]</pre></div></div></div><div class=\"sk-serial\"><div class=\"sk-item\"><div class=\"sk-estimator sk-toggleable\"><input class=\"sk-toggleable__control sk-hidden--visually\" id=\"aeda2014-b213-487a-aa2a-efdc6767af79\" type=\"checkbox\" ><label for=\"aeda2014-b213-487a-aa2a-efdc6767af79\" class=\"sk-toggleable__label sk-toggleable__label-arrow\">passthrough</label><div class=\"sk-toggleable__content\"><pre>passthrough</pre></div></div></div></div></div></div></div></div><div class=\"sk-item\"><div class=\"sk-estimator sk-toggleable\"><input class=\"sk-toggleable__control sk-hidden--visually\" id=\"79cf00da-9970-40a0-aa8f-787364ffb0c5\" type=\"checkbox\" ><label for=\"79cf00da-9970-40a0-aa8f-787364ffb0c5\" class=\"sk-toggleable__label sk-toggleable__label-arrow\">LogisticRegression</label><div class=\"sk-toggleable__content\"><pre>LogisticRegression(solver=&#x27;liblinear&#x27;)</pre></div></div></div></div></div></div></div>"
      ],
      "text/plain": [
       "Pipeline(steps=[('columntransformer',\n",
       "                 ColumnTransformer(remainder='passthrough',\n",
       "                                   transformers=[('pipeline',\n",
       "                                                  Pipeline(steps=[('simpleimputer',\n",
       "                                                                   SimpleImputer()),\n",
       "                                                                  ('minmaxscaler',\n",
       "                                                                   MinMaxScaler())]),\n",
       "                                                  <sklearn.compose._column_transformer.make_column_selector object at 0x7feef0a5e760>),\n",
       "                                                 ('onehotencoder',\n",
       "                                                  OneHotEncoder(sparse=False),\n",
       "                                                  <sklearn.compose._column_transformer.make_column_selector object at 0x7feef0a5e7c0>)])),\n",
       "                ('logisticregression', LogisticRegression(solver='liblinear'))])"
      ]
     },
     "execution_count": 28,
     "metadata": {},
     "output_type": "execute_result"
    }
   ],
   "source": [
    "# Train pipeline\n",
    "pipe.fit(X_train,y_train)"
   ]
  },
  {
   "cell_type": "code",
   "execution_count": 29,
   "metadata": {
    "colab": {
     "base_uri": "https://localhost:8080/"
    },
    "id": "pS5NAvakiVqz",
    "outputId": "291b740d-98c0-4f96-a9f8-9c2521f21d9c"
   },
   "outputs": [
    {
     "data": {
      "text/plain": [
       "0.7431208887926558"
      ]
     },
     "execution_count": 29,
     "metadata": {},
     "output_type": "execute_result"
    }
   ],
   "source": [
    "from sklearn.model_selection import cross_val_score\n",
    "\n",
    "# Cross validate pipeline\n",
    "cross_val_score(pipe, X_train, y_train, cv=20, scoring='accuracy').mean()"
   ]
  },
  {
   "cell_type": "code",
   "execution_count": 37,
   "metadata": {},
   "outputs": [
    {
     "ename": "TypeError",
     "evalue": "get_train_data_only() got an unexpected keyword argument 'test_data'",
     "output_type": "error",
     "traceback": [
      "\u001b[0;31m---------------------------------------------------------------------------\u001b[0m",
      "\u001b[0;31mTypeError\u001b[0m                                 Traceback (most recent call last)",
      "\u001b[0;32m/tmp/ipykernel_5332/3453679699.py\u001b[0m in \u001b[0;36m<module>\u001b[0;34m\u001b[0m\n\u001b[0;32m----> 1\u001b[0;31m \u001b[0mtest_teams\u001b[0m\u001b[0;34m,\u001b[0m \u001b[0mtest_blue\u001b[0m\u001b[0;34m,\u001b[0m \u001b[0mtest_red\u001b[0m \u001b[0;34m=\u001b[0m \u001b[0mget_train_data_only\u001b[0m\u001b[0;34m(\u001b[0m\u001b[0mtest_data\u001b[0m \u001b[0;34m=\u001b[0m \u001b[0;32mTrue\u001b[0m\u001b[0;34m)\u001b[0m\u001b[0;34m\u001b[0m\u001b[0;34m\u001b[0m\u001b[0m\n\u001b[0m\u001b[1;32m      2\u001b[0m \u001b[0mlen\u001b[0m\u001b[0;34m(\u001b[0m\u001b[0mtest_teams\u001b[0m\u001b[0;34m)\u001b[0m\u001b[0;34m,\u001b[0m \u001b[0mlen\u001b[0m\u001b[0;34m(\u001b[0m\u001b[0mtest_blue\u001b[0m\u001b[0;34m)\u001b[0m\u001b[0;34m,\u001b[0m \u001b[0mlen\u001b[0m\u001b[0;34m(\u001b[0m\u001b[0mtest_red\u001b[0m\u001b[0;34m)\u001b[0m\u001b[0;34m\u001b[0m\u001b[0;34m\u001b[0m\u001b[0m\n",
      "\u001b[0;31mTypeError\u001b[0m: get_train_data_only() got an unexpected keyword argument 'test_data'"
     ]
    }
   ],
   "source": [
    "test_teams, test_blue, test_red = get_train_data_only(test_data = True)\n",
    "len(test_teams), len(test_blue), len(test_red)"
   ]
  },
  {
   "cell_type": "code",
   "execution_count": null,
   "metadata": {},
   "outputs": [],
   "source": []
  }
 ],
 "metadata": {
  "colab": {
   "collapsed_sections": [],
   "name": "LeagueOfLeguends.ipynb",
   "provenance": []
  },
  "kernelspec": {
   "display_name": "Python 3 (ipykernel)",
   "language": "python",
   "name": "python3"
  },
  "language_info": {
   "codemirror_mode": {
    "name": "ipython",
    "version": 3
   },
   "file_extension": ".py",
   "mimetype": "text/x-python",
   "name": "python",
   "nbconvert_exporter": "python",
   "pygments_lexer": "ipython3",
   "version": "3.8.12"
  },
  "toc": {
   "base_numbering": 1,
   "nav_menu": {},
   "number_sections": true,
   "sideBar": true,
   "skip_h1_title": false,
   "title_cell": "Table of Contents",
   "title_sidebar": "Contents",
   "toc_cell": false,
   "toc_position": {},
   "toc_section_display": true,
   "toc_window_display": false
  }
 },
 "nbformat": 4,
 "nbformat_minor": 1
}
