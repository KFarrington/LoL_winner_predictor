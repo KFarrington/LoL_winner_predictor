{
 "cells": [
  {
   "cell_type": "markdown",
   "metadata": {
    "id": "YtkEhgkn_mID"
   },
   "source": [
    "# Import data\n",
    "Training data"
   ]
  },
  {
   "cell_type": "code",
   "execution_count": 1,
   "metadata": {},
   "outputs": [],
   "source": [
    "%load_ext autoreload\n",
    "%autoreload 2"
   ]
  },
  {
   "cell_type": "code",
   "execution_count": 6,
   "metadata": {
    "id": "vBs4Cf-89OF1"
   },
   "outputs": [],
   "source": [
    "from utils import get_train_data_only\n",
    "df_teams, df_BLUE, df_RED = get_train_data_only()"
   ]
  },
  {
   "cell_type": "code",
   "execution_count": 7,
   "metadata": {
    "colab": {
     "base_uri": "https://localhost:8080/"
    },
    "id": "EF9z6ufuG3VT",
    "outputId": "7397fc5d-7bfe-4462-b76e-bda5ee49d875"
   },
   "outputs": [
    {
     "data": {
      "text/plain": [
       "(28254, 141270, 141270)"
      ]
     },
     "execution_count": 7,
     "metadata": {},
     "output_type": "execute_result"
    }
   ],
   "source": [
    "#How many data points we have\n",
    "len(df_teams), len(df_BLUE), len(df_RED)"
   ]
  },
  {
   "cell_type": "code",
   "execution_count": 8,
   "metadata": {
    "colab": {
     "base_uri": "https://localhost:8080/",
     "height": 206
    },
    "id": "JW13djkUuUyw",
    "outputId": "f145f02b-9bc1-4dda-8c66-cf74c7474b49"
   },
   "outputs": [
    {
     "data": {
      "text/html": [
       "<div>\n",
       "<style scoped>\n",
       "    .dataframe tbody tr th:only-of-type {\n",
       "        vertical-align: middle;\n",
       "    }\n",
       "\n",
       "    .dataframe tbody tr th {\n",
       "        vertical-align: top;\n",
       "    }\n",
       "\n",
       "    .dataframe thead th {\n",
       "        text-align: right;\n",
       "    }\n",
       "</style>\n",
       "<table border=\"1\" class=\"dataframe\">\n",
       "  <thead>\n",
       "    <tr style=\"text-align: right;\">\n",
       "      <th></th>\n",
       "      <th>id</th>\n",
       "      <th>patch</th>\n",
       "      <th>year</th>\n",
       "      <th>winner</th>\n",
       "    </tr>\n",
       "  </thead>\n",
       "  <tbody>\n",
       "    <tr>\n",
       "      <th>31563</th>\n",
       "      <td>LMS/2016 Season/Spring Season/Scoreboards_3_2</td>\n",
       "      <td>5.24</td>\n",
       "      <td>2015</td>\n",
       "      <td>BLUE</td>\n",
       "    </tr>\n",
       "    <tr>\n",
       "      <th>31596</th>\n",
       "      <td>LJL/2016 Season/Spring Season/Scoreboards_1_2</td>\n",
       "      <td>5.24</td>\n",
       "      <td>2015</td>\n",
       "      <td>RED</td>\n",
       "    </tr>\n",
       "    <tr>\n",
       "      <th>31595</th>\n",
       "      <td>LJL/2016 Season/Spring Season/Scoreboards_1_1</td>\n",
       "      <td>5.24</td>\n",
       "      <td>2015</td>\n",
       "      <td>RED</td>\n",
       "    </tr>\n",
       "    <tr>\n",
       "      <th>31588</th>\n",
       "      <td>CBLOL/2016 Season/Split 1/Scoreboards_2_2</td>\n",
       "      <td>5.24</td>\n",
       "      <td>2015</td>\n",
       "      <td>BLUE</td>\n",
       "    </tr>\n",
       "    <tr>\n",
       "      <th>31587</th>\n",
       "      <td>CBLOL/2016 Season/Split 1/Scoreboards_2_1</td>\n",
       "      <td>5.24</td>\n",
       "      <td>2015</td>\n",
       "      <td>RED</td>\n",
       "    </tr>\n",
       "  </tbody>\n",
       "</table>\n",
       "</div>"
      ],
      "text/plain": [
       "                                                  id  patch  year winner\n",
       "31563  LMS/2016 Season/Spring Season/Scoreboards_3_2   5.24  2015   BLUE\n",
       "31596  LJL/2016 Season/Spring Season/Scoreboards_1_2   5.24  2015    RED\n",
       "31595  LJL/2016 Season/Spring Season/Scoreboards_1_1   5.24  2015    RED\n",
       "31588      CBLOL/2016 Season/Split 1/Scoreboards_2_2   5.24  2015   BLUE\n",
       "31587      CBLOL/2016 Season/Split 1/Scoreboards_2_1   5.24  2015    RED"
      ]
     },
     "execution_count": 8,
     "metadata": {},
     "output_type": "execute_result"
    }
   ],
   "source": [
    "#Teams DataFrame used for Machine Learning\n",
    "df_teams_ML = df_teams[['id', 'patch', 'year', 'winner']]\n",
    "df_teams_ML.head()"
   ]
  },
  {
   "cell_type": "code",
   "execution_count": 9,
   "metadata": {
    "id": "v9jDP0igop2z"
   },
   "outputs": [],
   "source": [
    "import numpy as np \n",
    "import pandas as pd\n",
    "from tqdm import tqdm"
   ]
  },
  {
   "cell_type": "markdown",
   "metadata": {
    "id": "vFqs22pz_J2C"
   },
   "source": [
    "# Feature Engineering\n",
    "\n",
    "## Feature 1: Synergy between champions of the same team (rate of victory for a pair of champions playing together)"
   ]
  },
  {
   "cell_type": "code",
   "execution_count": 10,
   "metadata": {
    "id": "1E6VoTFi--WD"
   },
   "outputs": [],
   "source": [
    "df_BLUE_lite_synergy = df_BLUE[['champion_id', 'win', 'game_id']]\n",
    "df_RED_lite_synergy = df_RED[['champion_id', 'win', 'game_id']]\n",
    "\n",
    "#Dosen't matter if it was the red or blue team so let's concat the data!\n",
    "df_result = pd.concat([df_BLUE_lite_synergy, df_RED_lite_synergy])\n",
    "\n",
    "#include a column for the outcome\n",
    "df_result['outcome'] = df_result['win']*1\n",
    "\n",
    "#reset the index to the game_id\n",
    "df_result.index = df_result.game_id"
   ]
  },
  {
   "cell_type": "code",
   "execution_count": 11,
   "metadata": {
    "id": "_ekcMdDUn_fz"
   },
   "outputs": [],
   "source": [
    "# get the unique game_id and champion_id played\n",
    "game_id_unique = np.unique(df_result.game_id)\n",
    "champions_id_unique = np.unique(df_result.champion_id)"
   ]
  },
  {
   "cell_type": "code",
   "execution_count": 12,
   "metadata": {
    "id": "whJntwLjoGFM"
   },
   "outputs": [],
   "source": [
    "#create two dataframes\n",
    "##one to populate the number of games played by each champion pair\n",
    "champions_play_together = pd.DataFrame(np.zeros([len(champions_id_unique), len(champions_id_unique)]), columns=champions_id_unique, index=champions_id_unique)\n",
    "\n",
    "##one to populate te number of games won by each champion pair\n",
    "champions_won_together = pd.DataFrame(np.zeros([len(champions_id_unique), len(champions_id_unique)]), columns=champions_id_unique, index=champions_id_unique)"
   ]
  },
  {
   "cell_type": "code",
   "execution_count": 13,
   "metadata": {
    "colab": {
     "base_uri": "https://localhost:8080/"
    },
    "id": "jsCLX6pUou3Q",
    "outputId": "bafb8a25-71fd-43f2-b308-c2748453556c"
   },
   "outputs": [
    {
     "name": "stderr",
     "output_type": "stream",
     "text": [
      "100%|█████████████████████████████████████████| 152/152 [04:02<00:00,  1.60s/it]\n"
     ]
    }
   ],
   "source": [
    "for champion_a in tqdm(champions_id_unique):\n",
    "    champions_played_together_list = list(df_result.loc[df_result[df_result.champion_id == champion_a].index]['champion_id'])\n",
    "    for champion_b in champions_played_together_list:\n",
    "        if champion_a == champion_b:\n",
    "            continue\n",
    "        else:\n",
    "            champions_play_together.loc[champion_a][champion_b] += 1"
   ]
  },
  {
   "cell_type": "code",
   "execution_count": 14,
   "metadata": {
    "colab": {
     "base_uri": "https://localhost:8080/"
    },
    "id": "Ea8HfCd-o04D",
    "outputId": "7724599b-3b69-4120-c05f-bde9530d9872"
   },
   "outputs": [
    {
     "name": "stderr",
     "output_type": "stream",
     "text": [
      "100%|█████████████████████████████████████████| 152/152 [02:00<00:00,  1.26it/s]\n"
     ]
    }
   ],
   "source": [
    "for champ_a in tqdm(champions_id_unique):\n",
    "    champ_played_together_won_list = list(df_result.loc[df_result[(df_result.champion_id == champ_a) & (df_result.outcome == 1)].index]['champion_id'])\n",
    "    for champ_b in champ_played_together_won_list:\n",
    "        if champ_a == champ_b:\n",
    "            continue\n",
    "        else:\n",
    "            champions_won_together.loc[champ_a][champ_b] += 1"
   ]
  },
  {
   "cell_type": "code",
   "execution_count": 15,
   "metadata": {
    "id": "jDXz_c7Fo7yc"
   },
   "outputs": [],
   "source": [
    "champions_won_percentage = champions_won_together.div(champions_play_together)"
   ]
  },
  {
   "cell_type": "code",
   "execution_count": 16,
   "metadata": {
    "id": "aiAs0hTepHCU"
   },
   "outputs": [
    {
     "data": {
      "text/html": [
       "<div>\n",
       "<style scoped>\n",
       "    .dataframe tbody tr th:only-of-type {\n",
       "        vertical-align: middle;\n",
       "    }\n",
       "\n",
       "    .dataframe tbody tr th {\n",
       "        vertical-align: top;\n",
       "    }\n",
       "\n",
       "    .dataframe thead th {\n",
       "        text-align: right;\n",
       "    }\n",
       "</style>\n",
       "<table border=\"1\" class=\"dataframe\">\n",
       "  <thead>\n",
       "    <tr style=\"text-align: right;\">\n",
       "      <th></th>\n",
       "      <th>1</th>\n",
       "      <th>2</th>\n",
       "      <th>3</th>\n",
       "      <th>4</th>\n",
       "      <th>5</th>\n",
       "      <th>6</th>\n",
       "      <th>7</th>\n",
       "      <th>8</th>\n",
       "      <th>9</th>\n",
       "      <th>10</th>\n",
       "      <th>...</th>\n",
       "      <th>497</th>\n",
       "      <th>498</th>\n",
       "      <th>516</th>\n",
       "      <th>517</th>\n",
       "      <th>518</th>\n",
       "      <th>523</th>\n",
       "      <th>555</th>\n",
       "      <th>777</th>\n",
       "      <th>875</th>\n",
       "      <th>876</th>\n",
       "    </tr>\n",
       "  </thead>\n",
       "  <tbody>\n",
       "    <tr>\n",
       "      <th>1</th>\n",
       "      <td>0.500000</td>\n",
       "      <td>0.250000</td>\n",
       "      <td>0.000000</td>\n",
       "      <td>0.500000</td>\n",
       "      <td>1.000000</td>\n",
       "      <td>1.000000</td>\n",
       "      <td>0.250000</td>\n",
       "      <td>0.500000</td>\n",
       "      <td>0.500000</td>\n",
       "      <td>1.000000</td>\n",
       "      <td>...</td>\n",
       "      <td>0.500000</td>\n",
       "      <td>0.500000</td>\n",
       "      <td>0.000000</td>\n",
       "      <td>0.333333</td>\n",
       "      <td>0.000000</td>\n",
       "      <td>1.000000</td>\n",
       "      <td>0.000000</td>\n",
       "      <td>1.000000</td>\n",
       "      <td>0.000000</td>\n",
       "      <td>0.500000</td>\n",
       "    </tr>\n",
       "    <tr>\n",
       "      <th>2</th>\n",
       "      <td>0.500000</td>\n",
       "      <td>0.500000</td>\n",
       "      <td>0.505682</td>\n",
       "      <td>0.542553</td>\n",
       "      <td>0.642857</td>\n",
       "      <td>0.533040</td>\n",
       "      <td>0.565789</td>\n",
       "      <td>0.536278</td>\n",
       "      <td>0.576923</td>\n",
       "      <td>0.491803</td>\n",
       "      <td>...</td>\n",
       "      <td>0.515284</td>\n",
       "      <td>0.480287</td>\n",
       "      <td>0.496994</td>\n",
       "      <td>0.532203</td>\n",
       "      <td>0.556250</td>\n",
       "      <td>0.477273</td>\n",
       "      <td>0.514851</td>\n",
       "      <td>0.333333</td>\n",
       "      <td>0.497076</td>\n",
       "      <td>0.800000</td>\n",
       "    </tr>\n",
       "    <tr>\n",
       "      <th>3</th>\n",
       "      <td>0.333333</td>\n",
       "      <td>0.485795</td>\n",
       "      <td>0.500000</td>\n",
       "      <td>0.373626</td>\n",
       "      <td>0.459854</td>\n",
       "      <td>0.477352</td>\n",
       "      <td>0.500000</td>\n",
       "      <td>0.526829</td>\n",
       "      <td>0.627907</td>\n",
       "      <td>0.440000</td>\n",
       "      <td>...</td>\n",
       "      <td>0.481013</td>\n",
       "      <td>0.494828</td>\n",
       "      <td>0.500000</td>\n",
       "      <td>0.511194</td>\n",
       "      <td>0.485714</td>\n",
       "      <td>0.479290</td>\n",
       "      <td>0.465753</td>\n",
       "      <td>0.625000</td>\n",
       "      <td>0.503030</td>\n",
       "      <td>0.419355</td>\n",
       "    </tr>\n",
       "    <tr>\n",
       "      <th>4</th>\n",
       "      <td>0.500000</td>\n",
       "      <td>0.531915</td>\n",
       "      <td>0.659341</td>\n",
       "      <td>0.500000</td>\n",
       "      <td>0.250000</td>\n",
       "      <td>0.400000</td>\n",
       "      <td>0.594595</td>\n",
       "      <td>0.620000</td>\n",
       "      <td>0.538462</td>\n",
       "      <td>0.294118</td>\n",
       "      <td>...</td>\n",
       "      <td>0.504762</td>\n",
       "      <td>0.546667</td>\n",
       "      <td>0.565714</td>\n",
       "      <td>0.613208</td>\n",
       "      <td>0.500000</td>\n",
       "      <td>0.570681</td>\n",
       "      <td>0.658537</td>\n",
       "      <td>0.000000</td>\n",
       "      <td>0.625767</td>\n",
       "      <td>0.487805</td>\n",
       "    </tr>\n",
       "    <tr>\n",
       "      <th>5</th>\n",
       "      <td>1.000000</td>\n",
       "      <td>0.375000</td>\n",
       "      <td>0.423358</td>\n",
       "      <td>0.500000</td>\n",
       "      <td>0.500000</td>\n",
       "      <td>0.471311</td>\n",
       "      <td>0.527132</td>\n",
       "      <td>0.470588</td>\n",
       "      <td>0.428571</td>\n",
       "      <td>0.714286</td>\n",
       "      <td>...</td>\n",
       "      <td>0.424528</td>\n",
       "      <td>0.460674</td>\n",
       "      <td>0.400000</td>\n",
       "      <td>0.481013</td>\n",
       "      <td>0.358974</td>\n",
       "      <td>0.375000</td>\n",
       "      <td>0.540984</td>\n",
       "      <td>0.666667</td>\n",
       "      <td>0.222222</td>\n",
       "      <td>0.500000</td>\n",
       "    </tr>\n",
       "    <tr>\n",
       "      <th>...</th>\n",
       "      <td>...</td>\n",
       "      <td>...</td>\n",
       "      <td>...</td>\n",
       "      <td>...</td>\n",
       "      <td>...</td>\n",
       "      <td>...</td>\n",
       "      <td>...</td>\n",
       "      <td>...</td>\n",
       "      <td>...</td>\n",
       "      <td>...</td>\n",
       "      <td>...</td>\n",
       "      <td>...</td>\n",
       "      <td>...</td>\n",
       "      <td>...</td>\n",
       "      <td>...</td>\n",
       "      <td>...</td>\n",
       "      <td>...</td>\n",
       "      <td>...</td>\n",
       "      <td>...</td>\n",
       "      <td>...</td>\n",
       "      <td>...</td>\n",
       "    </tr>\n",
       "    <tr>\n",
       "      <th>523</th>\n",
       "      <td>0.000000</td>\n",
       "      <td>0.500000</td>\n",
       "      <td>0.550296</td>\n",
       "      <td>0.575916</td>\n",
       "      <td>0.125000</td>\n",
       "      <td>0.551020</td>\n",
       "      <td>0.592417</td>\n",
       "      <td>0.500000</td>\n",
       "      <td>0.531250</td>\n",
       "      <td>0.459459</td>\n",
       "      <td>...</td>\n",
       "      <td>0.525974</td>\n",
       "      <td>0.597561</td>\n",
       "      <td>0.530988</td>\n",
       "      <td>0.578947</td>\n",
       "      <td>0.416667</td>\n",
       "      <td>0.500000</td>\n",
       "      <td>0.600000</td>\n",
       "      <td>0.333333</td>\n",
       "      <td>0.529740</td>\n",
       "      <td>0.461538</td>\n",
       "    </tr>\n",
       "    <tr>\n",
       "      <th>555</th>\n",
       "      <td>0.333333</td>\n",
       "      <td>0.495050</td>\n",
       "      <td>0.383562</td>\n",
       "      <td>0.341463</td>\n",
       "      <td>0.557377</td>\n",
       "      <td>0.544118</td>\n",
       "      <td>0.510204</td>\n",
       "      <td>0.474074</td>\n",
       "      <td>0.689655</td>\n",
       "      <td>0.571429</td>\n",
       "      <td>...</td>\n",
       "      <td>0.460000</td>\n",
       "      <td>0.453947</td>\n",
       "      <td>0.479592</td>\n",
       "      <td>0.424051</td>\n",
       "      <td>0.478261</td>\n",
       "      <td>0.200000</td>\n",
       "      <td>0.500000</td>\n",
       "      <td>0.500000</td>\n",
       "      <td>0.388889</td>\n",
       "      <td>0.666667</td>\n",
       "    </tr>\n",
       "    <tr>\n",
       "      <th>777</th>\n",
       "      <td>0.500000</td>\n",
       "      <td>0.666667</td>\n",
       "      <td>0.625000</td>\n",
       "      <td>1.000000</td>\n",
       "      <td>1.000000</td>\n",
       "      <td>0.500000</td>\n",
       "      <td>0.000000</td>\n",
       "      <td>0.500000</td>\n",
       "      <td>0.000000</td>\n",
       "      <td>0.400000</td>\n",
       "      <td>...</td>\n",
       "      <td>0.555556</td>\n",
       "      <td>1.000000</td>\n",
       "      <td>0.500000</td>\n",
       "      <td>0.666667</td>\n",
       "      <td>0.500000</td>\n",
       "      <td>1.000000</td>\n",
       "      <td>0.500000</td>\n",
       "      <td>0.500000</td>\n",
       "      <td>0.600000</td>\n",
       "      <td>0.666667</td>\n",
       "    </tr>\n",
       "    <tr>\n",
       "      <th>875</th>\n",
       "      <td>1.000000</td>\n",
       "      <td>0.561404</td>\n",
       "      <td>0.509091</td>\n",
       "      <td>0.496933</td>\n",
       "      <td>0.666667</td>\n",
       "      <td>0.523810</td>\n",
       "      <td>0.571429</td>\n",
       "      <td>0.564706</td>\n",
       "      <td>0.470588</td>\n",
       "      <td>0.585366</td>\n",
       "      <td>...</td>\n",
       "      <td>0.489474</td>\n",
       "      <td>0.508929</td>\n",
       "      <td>0.526652</td>\n",
       "      <td>0.490196</td>\n",
       "      <td>0.733333</td>\n",
       "      <td>0.552045</td>\n",
       "      <td>0.333333</td>\n",
       "      <td>0.300000</td>\n",
       "      <td>0.500000</td>\n",
       "      <td>0.516129</td>\n",
       "    </tr>\n",
       "    <tr>\n",
       "      <th>876</th>\n",
       "      <td>0.500000</td>\n",
       "      <td>0.266667</td>\n",
       "      <td>0.532258</td>\n",
       "      <td>0.512195</td>\n",
       "      <td>0.500000</td>\n",
       "      <td>0.571429</td>\n",
       "      <td>0.466667</td>\n",
       "      <td>0.571429</td>\n",
       "      <td>0.666667</td>\n",
       "      <td>0.666667</td>\n",
       "      <td>...</td>\n",
       "      <td>0.614286</td>\n",
       "      <td>0.500000</td>\n",
       "      <td>0.519231</td>\n",
       "      <td>0.589286</td>\n",
       "      <td>0.571429</td>\n",
       "      <td>0.500000</td>\n",
       "      <td>0.666667</td>\n",
       "      <td>0.636364</td>\n",
       "      <td>0.516129</td>\n",
       "      <td>0.500000</td>\n",
       "    </tr>\n",
       "  </tbody>\n",
       "</table>\n",
       "<p>152 rows × 152 columns</p>\n",
       "</div>"
      ],
      "text/plain": [
       "          1         2         3         4         5         6         7    \\\n",
       "1    0.500000  0.250000  0.000000  0.500000  1.000000  1.000000  0.250000   \n",
       "2    0.500000  0.500000  0.505682  0.542553  0.642857  0.533040  0.565789   \n",
       "3    0.333333  0.485795  0.500000  0.373626  0.459854  0.477352  0.500000   \n",
       "4    0.500000  0.531915  0.659341  0.500000  0.250000  0.400000  0.594595   \n",
       "5    1.000000  0.375000  0.423358  0.500000  0.500000  0.471311  0.527132   \n",
       "..        ...       ...       ...       ...       ...       ...       ...   \n",
       "523  0.000000  0.500000  0.550296  0.575916  0.125000  0.551020  0.592417   \n",
       "555  0.333333  0.495050  0.383562  0.341463  0.557377  0.544118  0.510204   \n",
       "777  0.500000  0.666667  0.625000  1.000000  1.000000  0.500000  0.000000   \n",
       "875  1.000000  0.561404  0.509091  0.496933  0.666667  0.523810  0.571429   \n",
       "876  0.500000  0.266667  0.532258  0.512195  0.500000  0.571429  0.466667   \n",
       "\n",
       "          8         9         10   ...       497       498       516  \\\n",
       "1    0.500000  0.500000  1.000000  ...  0.500000  0.500000  0.000000   \n",
       "2    0.536278  0.576923  0.491803  ...  0.515284  0.480287  0.496994   \n",
       "3    0.526829  0.627907  0.440000  ...  0.481013  0.494828  0.500000   \n",
       "4    0.620000  0.538462  0.294118  ...  0.504762  0.546667  0.565714   \n",
       "5    0.470588  0.428571  0.714286  ...  0.424528  0.460674  0.400000   \n",
       "..        ...       ...       ...  ...       ...       ...       ...   \n",
       "523  0.500000  0.531250  0.459459  ...  0.525974  0.597561  0.530988   \n",
       "555  0.474074  0.689655  0.571429  ...  0.460000  0.453947  0.479592   \n",
       "777  0.500000  0.000000  0.400000  ...  0.555556  1.000000  0.500000   \n",
       "875  0.564706  0.470588  0.585366  ...  0.489474  0.508929  0.526652   \n",
       "876  0.571429  0.666667  0.666667  ...  0.614286  0.500000  0.519231   \n",
       "\n",
       "          517       518       523       555       777       875       876  \n",
       "1    0.333333  0.000000  1.000000  0.000000  1.000000  0.000000  0.500000  \n",
       "2    0.532203  0.556250  0.477273  0.514851  0.333333  0.497076  0.800000  \n",
       "3    0.511194  0.485714  0.479290  0.465753  0.625000  0.503030  0.419355  \n",
       "4    0.613208  0.500000  0.570681  0.658537  0.000000  0.625767  0.487805  \n",
       "5    0.481013  0.358974  0.375000  0.540984  0.666667  0.222222  0.500000  \n",
       "..        ...       ...       ...       ...       ...       ...       ...  \n",
       "523  0.578947  0.416667  0.500000  0.600000  0.333333  0.529740  0.461538  \n",
       "555  0.424051  0.478261  0.200000  0.500000  0.500000  0.388889  0.666667  \n",
       "777  0.666667  0.500000  1.000000  0.500000  0.500000  0.600000  0.666667  \n",
       "875  0.490196  0.733333  0.552045  0.333333  0.300000  0.500000  0.516129  \n",
       "876  0.589286  0.571429  0.500000  0.666667  0.636364  0.516129  0.500000  \n",
       "\n",
       "[152 rows x 152 columns]"
      ]
     },
     "execution_count": 16,
     "metadata": {},
     "output_type": "execute_result"
    }
   ],
   "source": [
    "#Impute the missing values (champions that never played together)\n",
    "from sklearn.impute import SimpleImputer\n",
    "\n",
    "impute_nan = SimpleImputer(missing_values=np.nan, strategy='constant', fill_value=0.5)\n",
    "champions_won_percentage_imputed = pd.DataFrame(impute_nan.fit(champions_won_percentage).transform(champions_won_percentage), columns=champions_id_unique, index=champions_id_unique)\n",
    "champions_won_percentage_imputed"
   ]
  },
  {
   "cell_type": "code",
   "execution_count": 17,
   "metadata": {
    "colab": {
     "base_uri": "https://localhost:8080/"
    },
    "id": "aOeAd1bxx6T7",
    "outputId": "b43342d1-a62d-4908-d013-4468ed3719a3"
   },
   "outputs": [
    {
     "data": {
      "text/plain": [
       "0"
      ]
     },
     "execution_count": 17,
     "metadata": {},
     "output_type": "execute_result"
    }
   ],
   "source": [
    "#check that there is no division by zero\n",
    "np.isinf(champions_won_percentage_imputed).values.sum()"
   ]
  },
  {
   "cell_type": "code",
   "execution_count": 18,
   "metadata": {
    "colab": {
     "base_uri": "https://localhost:8080/"
    },
    "id": "y8aK5zRVyCPn",
    "outputId": "4078811b-4de4-4f08-f500-c38a469e4f93"
   },
   "outputs": [
    {
     "data": {
      "text/plain": [
       "(0, 1482)"
      ]
     },
     "execution_count": 18,
     "metadata": {},
     "output_type": "execute_result"
    }
   ],
   "source": [
    "#check how many values have been imputed\n",
    "np.isnan(champions_won_percentage_imputed).values.sum(), np.isnan(champions_won_percentage).values.sum()"
   ]
  },
  {
   "cell_type": "code",
   "execution_count": 19,
   "metadata": {},
   "outputs": [],
   "source": [
    "def get_synergy(x,y, df_synergy_matrix):\n",
    "    try:\n",
    "        x = df_synergy_matrix.loc[x][y]\n",
    "    except KeyError:\n",
    "        x = 0.5\n",
    "    return x"
   ]
  },
  {
   "cell_type": "code",
   "execution_count": 20,
   "metadata": {
    "id": "1LuPxznhpXTg"
   },
   "outputs": [],
   "source": [
    "\"\"\"This function is needed to transform the rest of the data\"\"\"\n",
    "\n",
    "def pair_wise_synergy(df, df_synergy_matrix, name):\n",
    "    #get the mean value of the pairwise combination of champions synergy\n",
    "    result_Synergy = df[['game_id', 'champion_id']].groupby(['game_id']).aggregate({\n",
    "        'champion_id': lambda z: [get_synergy(x,y, df_synergy_matrix) for x in z for y in z if x != y]\n",
    "    })\n",
    "    result_Synergy['mean_synergy_'+str(name)] = result_Synergy.champion_id.apply(lambda x: sum(x)/len(x))\n",
    "    return result_Synergy.drop('champion_id', axis=1)"
   ]
  },
  {
   "cell_type": "code",
   "execution_count": 21,
   "metadata": {
    "id": "pQUT_EP5xe8J"
   },
   "outputs": [],
   "source": [
    "#Get the synergy of the Blue team champions\n",
    "\n",
    "df_blue = pair_wise_synergy(df_BLUE, champions_won_percentage_imputed, 'blue')\n",
    "df_blue['id'] = df_blue.index\n",
    "df_teams_ML =pd.merge(df_teams_ML, df_blue, on='id', how='inner')"
   ]
  },
  {
   "cell_type": "code",
   "execution_count": 22,
   "metadata": {
    "id": "GSL2HzwHyyVP"
   },
   "outputs": [],
   "source": [
    "#Get the synergy of the Red team champions\n",
    "\n",
    "df_red = pair_wise_synergy(df_RED, champions_won_percentage_imputed, 'red')\n",
    "df_red['id'] = df_red.index\n",
    "df_teams_ML = pd.merge(df_teams_ML, df_red, on='id', how='inner')"
   ]
  },
  {
   "cell_type": "code",
   "execution_count": 23,
   "metadata": {
    "colab": {
     "base_uri": "https://localhost:8080/",
     "height": 206
    },
    "id": "AqNeGoTA9Kux",
    "outputId": "de4f5731-3cd3-4837-efa6-9c413b0fc712"
   },
   "outputs": [
    {
     "data": {
      "text/html": [
       "<div>\n",
       "<style scoped>\n",
       "    .dataframe tbody tr th:only-of-type {\n",
       "        vertical-align: middle;\n",
       "    }\n",
       "\n",
       "    .dataframe tbody tr th {\n",
       "        vertical-align: top;\n",
       "    }\n",
       "\n",
       "    .dataframe thead th {\n",
       "        text-align: right;\n",
       "    }\n",
       "</style>\n",
       "<table border=\"1\" class=\"dataframe\">\n",
       "  <thead>\n",
       "    <tr style=\"text-align: right;\">\n",
       "      <th></th>\n",
       "      <th>id</th>\n",
       "      <th>patch</th>\n",
       "      <th>year</th>\n",
       "      <th>winner</th>\n",
       "      <th>mean_synergy_blue</th>\n",
       "      <th>mean_synergy_red</th>\n",
       "    </tr>\n",
       "  </thead>\n",
       "  <tbody>\n",
       "    <tr>\n",
       "      <th>0</th>\n",
       "      <td>LMS/2016 Season/Spring Season/Scoreboards_3_2</td>\n",
       "      <td>5.24</td>\n",
       "      <td>2015</td>\n",
       "      <td>BLUE</td>\n",
       "      <td>0.502761</td>\n",
       "      <td>0.480432</td>\n",
       "    </tr>\n",
       "    <tr>\n",
       "      <th>1</th>\n",
       "      <td>LJL/2016 Season/Spring Season/Scoreboards_1_2</td>\n",
       "      <td>5.24</td>\n",
       "      <td>2015</td>\n",
       "      <td>RED</td>\n",
       "      <td>0.498885</td>\n",
       "      <td>0.508034</td>\n",
       "    </tr>\n",
       "    <tr>\n",
       "      <th>2</th>\n",
       "      <td>LJL/2016 Season/Spring Season/Scoreboards_1_1</td>\n",
       "      <td>5.24</td>\n",
       "      <td>2015</td>\n",
       "      <td>RED</td>\n",
       "      <td>0.489649</td>\n",
       "      <td>0.517847</td>\n",
       "    </tr>\n",
       "    <tr>\n",
       "      <th>3</th>\n",
       "      <td>CBLOL/2016 Season/Split 1/Scoreboards_2_2</td>\n",
       "      <td>5.24</td>\n",
       "      <td>2015</td>\n",
       "      <td>BLUE</td>\n",
       "      <td>0.498627</td>\n",
       "      <td>0.503166</td>\n",
       "    </tr>\n",
       "    <tr>\n",
       "      <th>4</th>\n",
       "      <td>CBLOL/2016 Season/Split 1/Scoreboards_2_1</td>\n",
       "      <td>5.24</td>\n",
       "      <td>2015</td>\n",
       "      <td>RED</td>\n",
       "      <td>0.481985</td>\n",
       "      <td>0.486419</td>\n",
       "    </tr>\n",
       "  </tbody>\n",
       "</table>\n",
       "</div>"
      ],
      "text/plain": [
       "                                              id  patch  year winner  \\\n",
       "0  LMS/2016 Season/Spring Season/Scoreboards_3_2   5.24  2015   BLUE   \n",
       "1  LJL/2016 Season/Spring Season/Scoreboards_1_2   5.24  2015    RED   \n",
       "2  LJL/2016 Season/Spring Season/Scoreboards_1_1   5.24  2015    RED   \n",
       "3      CBLOL/2016 Season/Split 1/Scoreboards_2_2   5.24  2015   BLUE   \n",
       "4      CBLOL/2016 Season/Split 1/Scoreboards_2_1   5.24  2015    RED   \n",
       "\n",
       "   mean_synergy_blue  mean_synergy_red  \n",
       "0           0.502761          0.480432  \n",
       "1           0.498885          0.508034  \n",
       "2           0.489649          0.517847  \n",
       "3           0.498627          0.503166  \n",
       "4           0.481985          0.486419  "
      ]
     },
     "execution_count": 23,
     "metadata": {},
     "output_type": "execute_result"
    }
   ],
   "source": [
    "df_teams_ML.head()"
   ]
  },
  {
   "cell_type": "markdown",
   "metadata": {
    "id": "1i1h8lUj_Cfb"
   },
   "source": [
    "## Feature 2: Win rate of champions against the same ROLE of the other team's champion"
   ]
  },
  {
   "cell_type": "code",
   "execution_count": 24,
   "metadata": {
    "id": "6gEJI3SA_CRS"
   },
   "outputs": [],
   "source": [
    "df_BLUE_RED = pd.merge(left=df_BLUE, right=df_RED, left_on= 'game_id', right_on= 'game_id')\n",
    "df_role = df_BLUE_RED[['champion_id_x', 'role_x', 'role_y', 'champion_id_y', 'win_x', 'game_id']]"
   ]
  },
  {
   "cell_type": "code",
   "execution_count": 25,
   "metadata": {
    "colab": {
     "base_uri": "https://localhost:8080/",
     "height": 455
    },
    "id": "k-xYDkUNBzmB",
    "outputId": "7f1a7271-eae1-4437-8a8c-c616e6e5af2b"
   },
   "outputs": [
    {
     "data": {
      "text/html": [
       "<div>\n",
       "<style scoped>\n",
       "    .dataframe tbody tr th:only-of-type {\n",
       "        vertical-align: middle;\n",
       "    }\n",
       "\n",
       "    .dataframe tbody tr th {\n",
       "        vertical-align: top;\n",
       "    }\n",
       "\n",
       "    .dataframe thead th {\n",
       "        text-align: right;\n",
       "    }\n",
       "</style>\n",
       "<table border=\"1\" class=\"dataframe\">\n",
       "  <thead>\n",
       "    <tr style=\"text-align: right;\">\n",
       "      <th></th>\n",
       "      <th></th>\n",
       "      <th></th>\n",
       "      <th></th>\n",
       "      <th></th>\n",
       "      <th>0</th>\n",
       "    </tr>\n",
       "    <tr>\n",
       "      <th>champion_id_x</th>\n",
       "      <th>role_x</th>\n",
       "      <th>role_y</th>\n",
       "      <th>champion_id_y</th>\n",
       "      <th>win_x</th>\n",
       "      <th></th>\n",
       "    </tr>\n",
       "  </thead>\n",
       "  <tbody>\n",
       "    <tr>\n",
       "      <th>12</th>\n",
       "      <th>SUP</th>\n",
       "      <th>SUP</th>\n",
       "      <th>201</th>\n",
       "      <th>True</th>\n",
       "      <td>372</td>\n",
       "    </tr>\n",
       "    <tr>\n",
       "      <th>201</th>\n",
       "      <th>SUP</th>\n",
       "      <th>SUP</th>\n",
       "      <th>12</th>\n",
       "      <th>True</th>\n",
       "      <td>337</td>\n",
       "    </tr>\n",
       "    <tr>\n",
       "      <th>412</th>\n",
       "      <th>SUP</th>\n",
       "      <th>SUP</th>\n",
       "      <th>201</th>\n",
       "      <th>True</th>\n",
       "      <td>318</td>\n",
       "    </tr>\n",
       "    <tr>\n",
       "      <th>201</th>\n",
       "      <th>SUP</th>\n",
       "      <th>SUP</th>\n",
       "      <th>12</th>\n",
       "      <th>False</th>\n",
       "      <td>317</td>\n",
       "    </tr>\n",
       "    <tr>\n",
       "      <th>12</th>\n",
       "      <th>SUP</th>\n",
       "      <th>SUP</th>\n",
       "      <th>201</th>\n",
       "      <th>False</th>\n",
       "      <td>307</td>\n",
       "    </tr>\n",
       "    <tr>\n",
       "      <th>...</th>\n",
       "      <th>...</th>\n",
       "      <th>...</th>\n",
       "      <th>...</th>\n",
       "      <th>...</th>\n",
       "      <td>...</td>\n",
       "    </tr>\n",
       "    <tr>\n",
       "      <th rowspan=\"4\" valign=\"top\">84</th>\n",
       "      <th rowspan=\"4\" valign=\"top\">MID</th>\n",
       "      <th rowspan=\"4\" valign=\"top\">SUP</th>\n",
       "      <th>1</th>\n",
       "      <th>True</th>\n",
       "      <td>1</td>\n",
       "    </tr>\n",
       "    <tr>\n",
       "      <th>9</th>\n",
       "      <th>True</th>\n",
       "      <td>1</td>\n",
       "    </tr>\n",
       "    <tr>\n",
       "      <th>16</th>\n",
       "      <th>True</th>\n",
       "      <td>1</td>\n",
       "    </tr>\n",
       "    <tr>\n",
       "      <th>22</th>\n",
       "      <th>False</th>\n",
       "      <td>1</td>\n",
       "    </tr>\n",
       "    <tr>\n",
       "      <th>876</th>\n",
       "      <th>TOP</th>\n",
       "      <th>TOP</th>\n",
       "      <th>126</th>\n",
       "      <th>True</th>\n",
       "      <td>1</td>\n",
       "    </tr>\n",
       "  </tbody>\n",
       "</table>\n",
       "<p>80903 rows × 1 columns</p>\n",
       "</div>"
      ],
      "text/plain": [
       "                                                   0\n",
       "champion_id_x role_x role_y champion_id_y win_x     \n",
       "12            SUP    SUP    201           True   372\n",
       "201           SUP    SUP    12            True   337\n",
       "412           SUP    SUP    201           True   318\n",
       "201           SUP    SUP    12            False  317\n",
       "12            SUP    SUP    201           False  307\n",
       "...                                              ...\n",
       "84            MID    SUP    1             True     1\n",
       "                            9             True     1\n",
       "                            16            True     1\n",
       "                            22            False    1\n",
       "876           TOP    TOP    126           True     1\n",
       "\n",
       "[80903 rows x 1 columns]"
      ]
     },
     "execution_count": 25,
     "metadata": {},
     "output_type": "execute_result"
    }
   ],
   "source": [
    "#times that a given champion won or lost against another champion\n",
    "champion_vs_champion = pd.DataFrame(df_role[['champion_id_x', 'role_x', 'role_y', 'champion_id_y', 'win_x']].value_counts())\n",
    "champion_vs_champion"
   ]
  },
  {
   "cell_type": "code",
   "execution_count": 26,
   "metadata": {
    "colab": {
     "base_uri": "https://localhost:8080/",
     "height": 455
    },
    "id": "QDIg1WZBFRNl",
    "outputId": "2407fe7e-e8a1-4dc0-aae5-9be2040eb458"
   },
   "outputs": [
    {
     "data": {
      "text/html": [
       "<div>\n",
       "<style scoped>\n",
       "    .dataframe tbody tr th:only-of-type {\n",
       "        vertical-align: middle;\n",
       "    }\n",
       "\n",
       "    .dataframe tbody tr th {\n",
       "        vertical-align: top;\n",
       "    }\n",
       "\n",
       "    .dataframe thead th {\n",
       "        text-align: right;\n",
       "    }\n",
       "</style>\n",
       "<table border=\"1\" class=\"dataframe\">\n",
       "  <thead>\n",
       "    <tr style=\"text-align: right;\">\n",
       "      <th></th>\n",
       "      <th></th>\n",
       "      <th></th>\n",
       "      <th></th>\n",
       "      <th>0</th>\n",
       "    </tr>\n",
       "    <tr>\n",
       "      <th>champion_id_x</th>\n",
       "      <th>role_x</th>\n",
       "      <th>role_y</th>\n",
       "      <th>champion_id_y</th>\n",
       "      <th></th>\n",
       "    </tr>\n",
       "  </thead>\n",
       "  <tbody>\n",
       "    <tr>\n",
       "      <th>12</th>\n",
       "      <th>SUP</th>\n",
       "      <th>SUP</th>\n",
       "      <th>201</th>\n",
       "      <td>679</td>\n",
       "    </tr>\n",
       "    <tr>\n",
       "      <th rowspan=\"2\" valign=\"top\">201</th>\n",
       "      <th rowspan=\"2\" valign=\"top\">SUP</th>\n",
       "      <th rowspan=\"2\" valign=\"top\">SUP</th>\n",
       "      <th>12</th>\n",
       "      <td>654</td>\n",
       "    </tr>\n",
       "    <tr>\n",
       "      <th>412</th>\n",
       "      <td>574</td>\n",
       "    </tr>\n",
       "    <tr>\n",
       "      <th>412</th>\n",
       "      <th>SUP</th>\n",
       "      <th>SUP</th>\n",
       "      <th>201</th>\n",
       "      <td>555</td>\n",
       "    </tr>\n",
       "    <tr>\n",
       "      <th>201</th>\n",
       "      <th>SUP</th>\n",
       "      <th>BOT</th>\n",
       "      <th>81</th>\n",
       "      <td>522</td>\n",
       "    </tr>\n",
       "    <tr>\n",
       "      <th>...</th>\n",
       "      <th>...</th>\n",
       "      <th>...</th>\n",
       "      <th>...</th>\n",
       "      <td>...</td>\n",
       "    </tr>\n",
       "    <tr>\n",
       "      <th>114</th>\n",
       "      <th>TOP</th>\n",
       "      <th>BOT</th>\n",
       "      <th>63</th>\n",
       "      <td>1</td>\n",
       "    </tr>\n",
       "    <tr>\n",
       "      <th rowspan=\"2\" valign=\"top\">58</th>\n",
       "      <th rowspan=\"2\" valign=\"top\">MID</th>\n",
       "      <th rowspan=\"2\" valign=\"top\">MID</th>\n",
       "      <th>91</th>\n",
       "      <td>1</td>\n",
       "    </tr>\n",
       "    <tr>\n",
       "      <th>61</th>\n",
       "      <td>1</td>\n",
       "    </tr>\n",
       "    <tr>\n",
       "      <th>163</th>\n",
       "      <th>MID</th>\n",
       "      <th>TOP</th>\n",
       "      <th>38</th>\n",
       "      <td>1</td>\n",
       "    </tr>\n",
       "    <tr>\n",
       "      <th>202</th>\n",
       "      <th>BOT</th>\n",
       "      <th>SUP</th>\n",
       "      <th>81</th>\n",
       "      <td>1</td>\n",
       "    </tr>\n",
       "  </tbody>\n",
       "</table>\n",
       "<p>51883 rows × 1 columns</p>\n",
       "</div>"
      ],
      "text/plain": [
       "                                             0\n",
       "champion_id_x role_x role_y champion_id_y     \n",
       "12            SUP    SUP    201            679\n",
       "201           SUP    SUP    12             654\n",
       "                            412            574\n",
       "412           SUP    SUP    201            555\n",
       "201           SUP    BOT    81             522\n",
       "...                                        ...\n",
       "114           TOP    BOT    63               1\n",
       "58            MID    MID    91               1\n",
       "                            61               1\n",
       "163           MID    TOP    38               1\n",
       "202           BOT    SUP    81               1\n",
       "\n",
       "[51883 rows x 1 columns]"
      ]
     },
     "execution_count": 26,
     "metadata": {},
     "output_type": "execute_result"
    }
   ],
   "source": [
    "#times that a given champion played against another champion by role\n",
    "total_champion_vs_champion = pd.DataFrame(df_BLUE_RED[['champion_id_x', 'role_x', 'role_y', 'champion_id_y']].value_counts())\n",
    "total_champion_vs_champion"
   ]
  },
  {
   "cell_type": "code",
   "execution_count": 27,
   "metadata": {
    "colab": {
     "base_uri": "https://localhost:8080/",
     "height": 455
    },
    "id": "9nY1738fCWFR",
    "outputId": "4b77686f-1dfc-4484-e51c-85328a5af064"
   },
   "outputs": [
    {
     "data": {
      "text/html": [
       "<div>\n",
       "<style scoped>\n",
       "    .dataframe tbody tr th:only-of-type {\n",
       "        vertical-align: middle;\n",
       "    }\n",
       "\n",
       "    .dataframe tbody tr th {\n",
       "        vertical-align: top;\n",
       "    }\n",
       "\n",
       "    .dataframe thead th {\n",
       "        text-align: right;\n",
       "    }\n",
       "</style>\n",
       "<table border=\"1\" class=\"dataframe\">\n",
       "  <thead>\n",
       "    <tr style=\"text-align: right;\">\n",
       "      <th></th>\n",
       "      <th></th>\n",
       "      <th></th>\n",
       "      <th></th>\n",
       "      <th></th>\n",
       "      <th>0</th>\n",
       "    </tr>\n",
       "    <tr>\n",
       "      <th>champion_id_x</th>\n",
       "      <th>role_x</th>\n",
       "      <th>role_y</th>\n",
       "      <th>champion_id_y</th>\n",
       "      <th>win_x</th>\n",
       "      <th></th>\n",
       "    </tr>\n",
       "  </thead>\n",
       "  <tbody>\n",
       "    <tr>\n",
       "      <th rowspan=\"5\" valign=\"top\">1</th>\n",
       "      <th rowspan=\"5\" valign=\"top\">MID</th>\n",
       "      <th rowspan=\"5\" valign=\"top\">BOT</th>\n",
       "      <th>21</th>\n",
       "      <th>False</th>\n",
       "      <td>1.0</td>\n",
       "    </tr>\n",
       "    <tr>\n",
       "      <th>51</th>\n",
       "      <th>False</th>\n",
       "      <td>1.0</td>\n",
       "    </tr>\n",
       "    <tr>\n",
       "      <th>235</th>\n",
       "      <th>True</th>\n",
       "      <td>1.0</td>\n",
       "    </tr>\n",
       "    <tr>\n",
       "      <th>429</th>\n",
       "      <th>False</th>\n",
       "      <td>1.0</td>\n",
       "    </tr>\n",
       "    <tr>\n",
       "      <th>498</th>\n",
       "      <th>False</th>\n",
       "      <td>0.5</td>\n",
       "    </tr>\n",
       "    <tr>\n",
       "      <th>...</th>\n",
       "      <th>...</th>\n",
       "      <th>...</th>\n",
       "      <th>...</th>\n",
       "      <th>...</th>\n",
       "      <td>...</td>\n",
       "    </tr>\n",
       "    <tr>\n",
       "      <th rowspan=\"5\" valign=\"top\">876</th>\n",
       "      <th rowspan=\"5\" valign=\"top\">TOP</th>\n",
       "      <th rowspan=\"2\" valign=\"top\">SUP</th>\n",
       "      <th>111</th>\n",
       "      <th>True</th>\n",
       "      <td>1.0</td>\n",
       "    </tr>\n",
       "    <tr>\n",
       "      <th>432</th>\n",
       "      <th>False</th>\n",
       "      <td>1.0</td>\n",
       "    </tr>\n",
       "    <tr>\n",
       "      <th rowspan=\"3\" valign=\"top\">TOP</th>\n",
       "      <th>58</th>\n",
       "      <th>False</th>\n",
       "      <td>1.0</td>\n",
       "    </tr>\n",
       "    <tr>\n",
       "      <th rowspan=\"2\" valign=\"top\">126</th>\n",
       "      <th>False</th>\n",
       "      <td>0.5</td>\n",
       "    </tr>\n",
       "    <tr>\n",
       "      <th>True</th>\n",
       "      <td>0.5</td>\n",
       "    </tr>\n",
       "  </tbody>\n",
       "</table>\n",
       "<p>80903 rows × 1 columns</p>\n",
       "</div>"
      ],
      "text/plain": [
       "                                                   0\n",
       "champion_id_x role_x role_y champion_id_y win_x     \n",
       "1             MID    BOT    21            False  1.0\n",
       "                            51            False  1.0\n",
       "                            235           True   1.0\n",
       "                            429           False  1.0\n",
       "                            498           False  0.5\n",
       "...                                              ...\n",
       "876           TOP    SUP    111           True   1.0\n",
       "                            432           False  1.0\n",
       "                     TOP    58            False  1.0\n",
       "                            126           False  0.5\n",
       "                                          True   0.5\n",
       "\n",
       "[80903 rows x 1 columns]"
      ]
     },
     "execution_count": 27,
     "metadata": {},
     "output_type": "execute_result"
    }
   ],
   "source": [
    "#percentage of times that a champion has lost or won against another champion\n",
    "rate_champion_vs_champion = champion_vs_champion.div(total_champion_vs_champion)\n",
    "rate_champion_vs_champion"
   ]
  },
  {
   "cell_type": "code",
   "execution_count": 28,
   "metadata": {
    "id": "jS_MyX0xSJBA"
   },
   "outputs": [],
   "source": [
    "global rate_role\n",
    "rate_role = rate_champion_vs_champion"
   ]
  },
  {
   "cell_type": "code",
   "execution_count": 29,
   "metadata": {
    "id": "jCWICmB5YuBc"
   },
   "outputs": [],
   "source": [
    "def get_vs_rate(id_x, role_x, role_y, id_y):\n",
    "    try:\n",
    "      x = rate_champion_vs_champion.loc[id_x, role_x, role_y, id_y, True]\n",
    "    except KeyError:\n",
    "        try:\n",
    "          x = 1-rate_champion_vs_champion.loc[id_x, role_x, role_y, id_y, False]\n",
    "        except KeyError:\n",
    "          x = 0.5\n",
    "    return x"
   ]
  },
  {
   "cell_type": "code",
   "execution_count": 30,
   "metadata": {
    "colab": {
     "base_uri": "https://localhost:8080/",
     "height": 534
    },
    "id": "Q7ixDOt2IMOJ",
    "outputId": "fea71737-f330-41bc-bfdd-184b42cd2905"
   },
   "outputs": [
    {
     "name": "stderr",
     "output_type": "stream",
     "text": [
      "/tmp/ipykernel_9091/4282029777.py:2: SettingWithCopyWarning: \n",
      "A value is trying to be set on a copy of a slice from a DataFrame.\n",
      "Try using .loc[row_indexer,col_indexer] = value instead\n",
      "\n",
      "See the caveats in the documentation: https://pandas.pydata.org/pandas-docs/stable/user_guide/indexing.html#returning-a-view-versus-a-copy\n",
      "  df_same_role['same_role_win_rate'] = df_same_role.apply(lambda z:\n"
     ]
    },
    {
     "data": {
      "text/html": [
       "<div>\n",
       "<style scoped>\n",
       "    .dataframe tbody tr th:only-of-type {\n",
       "        vertical-align: middle;\n",
       "    }\n",
       "\n",
       "    .dataframe tbody tr th {\n",
       "        vertical-align: top;\n",
       "    }\n",
       "\n",
       "    .dataframe thead th {\n",
       "        text-align: right;\n",
       "    }\n",
       "</style>\n",
       "<table border=\"1\" class=\"dataframe\">\n",
       "  <thead>\n",
       "    <tr style=\"text-align: right;\">\n",
       "      <th></th>\n",
       "      <th>champion_id_x</th>\n",
       "      <th>role_x</th>\n",
       "      <th>role_y</th>\n",
       "      <th>champion_id_y</th>\n",
       "      <th>win_x</th>\n",
       "      <th>game_id</th>\n",
       "      <th>same_role_win_rate</th>\n",
       "    </tr>\n",
       "  </thead>\n",
       "  <tbody>\n",
       "    <tr>\n",
       "      <th>0</th>\n",
       "      <td>13</td>\n",
       "      <td>TOP</td>\n",
       "      <td>TOP</td>\n",
       "      <td>54</td>\n",
       "      <td>True</td>\n",
       "      <td>LMS/2016 Season/Spring Season/Scoreboards_3_2</td>\n",
       "      <td>1.000000</td>\n",
       "    </tr>\n",
       "    <tr>\n",
       "      <th>6</th>\n",
       "      <td>421</td>\n",
       "      <td>JGL</td>\n",
       "      <td>JGL</td>\n",
       "      <td>203</td>\n",
       "      <td>True</td>\n",
       "      <td>LMS/2016 Season/Spring Season/Scoreboards_3_2</td>\n",
       "      <td>0.547170</td>\n",
       "    </tr>\n",
       "    <tr>\n",
       "      <th>12</th>\n",
       "      <td>81</td>\n",
       "      <td>MID</td>\n",
       "      <td>MID</td>\n",
       "      <td>38</td>\n",
       "      <td>True</td>\n",
       "      <td>LMS/2016 Season/Spring Season/Scoreboards_3_2</td>\n",
       "      <td>1.000000</td>\n",
       "    </tr>\n",
       "    <tr>\n",
       "      <th>18</th>\n",
       "      <td>429</td>\n",
       "      <td>BOT</td>\n",
       "      <td>BOT</td>\n",
       "      <td>18</td>\n",
       "      <td>True</td>\n",
       "      <td>LMS/2016 Season/Spring Season/Scoreboards_3_2</td>\n",
       "      <td>0.507692</td>\n",
       "    </tr>\n",
       "    <tr>\n",
       "      <th>24</th>\n",
       "      <td>412</td>\n",
       "      <td>SUP</td>\n",
       "      <td>SUP</td>\n",
       "      <td>12</td>\n",
       "      <td>True</td>\n",
       "      <td>LMS/2016 Season/Spring Season/Scoreboards_3_2</td>\n",
       "      <td>0.510288</td>\n",
       "    </tr>\n",
       "    <tr>\n",
       "      <th>...</th>\n",
       "      <td>...</td>\n",
       "      <td>...</td>\n",
       "      <td>...</td>\n",
       "      <td>...</td>\n",
       "      <td>...</td>\n",
       "      <td>...</td>\n",
       "      <td>...</td>\n",
       "    </tr>\n",
       "    <tr>\n",
       "      <th>706325</th>\n",
       "      <td>516</td>\n",
       "      <td>TOP</td>\n",
       "      <td>TOP</td>\n",
       "      <td>875</td>\n",
       "      <td>False</td>\n",
       "      <td>LCL/2020 Season/Spring Season/Scoreboards_2_1</td>\n",
       "      <td>0.519481</td>\n",
       "    </tr>\n",
       "    <tr>\n",
       "      <th>706331</th>\n",
       "      <td>59</td>\n",
       "      <td>JGL</td>\n",
       "      <td>JGL</td>\n",
       "      <td>64</td>\n",
       "      <td>False</td>\n",
       "      <td>LCL/2020 Season/Spring Season/Scoreboards_2_1</td>\n",
       "      <td>0.474654</td>\n",
       "    </tr>\n",
       "    <tr>\n",
       "      <th>706337</th>\n",
       "      <td>142</td>\n",
       "      <td>MID</td>\n",
       "      <td>MID</td>\n",
       "      <td>131</td>\n",
       "      <td>False</td>\n",
       "      <td>LCL/2020 Season/Spring Season/Scoreboards_2_1</td>\n",
       "      <td>0.166667</td>\n",
       "    </tr>\n",
       "    <tr>\n",
       "      <th>706343</th>\n",
       "      <td>81</td>\n",
       "      <td>BOT</td>\n",
       "      <td>BOT</td>\n",
       "      <td>523</td>\n",
       "      <td>False</td>\n",
       "      <td>LCL/2020 Season/Spring Season/Scoreboards_2_1</td>\n",
       "      <td>0.528226</td>\n",
       "    </tr>\n",
       "    <tr>\n",
       "      <th>706349</th>\n",
       "      <td>201</td>\n",
       "      <td>SUP</td>\n",
       "      <td>SUP</td>\n",
       "      <td>412</td>\n",
       "      <td>False</td>\n",
       "      <td>LCL/2020 Season/Spring Season/Scoreboards_2_1</td>\n",
       "      <td>0.505226</td>\n",
       "    </tr>\n",
       "  </tbody>\n",
       "</table>\n",
       "<p>141270 rows × 7 columns</p>\n",
       "</div>"
      ],
      "text/plain": [
       "        champion_id_x role_x role_y  champion_id_y  win_x  \\\n",
       "0                  13    TOP    TOP             54   True   \n",
       "6                 421    JGL    JGL            203   True   \n",
       "12                 81    MID    MID             38   True   \n",
       "18                429    BOT    BOT             18   True   \n",
       "24                412    SUP    SUP             12   True   \n",
       "...               ...    ...    ...            ...    ...   \n",
       "706325            516    TOP    TOP            875  False   \n",
       "706331             59    JGL    JGL             64  False   \n",
       "706337            142    MID    MID            131  False   \n",
       "706343             81    BOT    BOT            523  False   \n",
       "706349            201    SUP    SUP            412  False   \n",
       "\n",
       "                                              game_id  same_role_win_rate  \n",
       "0       LMS/2016 Season/Spring Season/Scoreboards_3_2            1.000000  \n",
       "6       LMS/2016 Season/Spring Season/Scoreboards_3_2            0.547170  \n",
       "12      LMS/2016 Season/Spring Season/Scoreboards_3_2            1.000000  \n",
       "18      LMS/2016 Season/Spring Season/Scoreboards_3_2            0.507692  \n",
       "24      LMS/2016 Season/Spring Season/Scoreboards_3_2            0.510288  \n",
       "...                                               ...                 ...  \n",
       "706325  LCL/2020 Season/Spring Season/Scoreboards_2_1            0.519481  \n",
       "706331  LCL/2020 Season/Spring Season/Scoreboards_2_1            0.474654  \n",
       "706337  LCL/2020 Season/Spring Season/Scoreboards_2_1            0.166667  \n",
       "706343  LCL/2020 Season/Spring Season/Scoreboards_2_1            0.528226  \n",
       "706349  LCL/2020 Season/Spring Season/Scoreboards_2_1            0.505226  \n",
       "\n",
       "[141270 rows x 7 columns]"
      ]
     },
     "execution_count": 30,
     "metadata": {},
     "output_type": "execute_result"
    }
   ],
   "source": [
    "df_same_role = df_role[df_role['role_x'] == df_role['role_y']]\n",
    "df_same_role['same_role_win_rate'] = df_same_role.apply(lambda z: \n",
    "              get_vs_rate(z.champion_id_x, z.role_x, z.role_y, z.champion_id_y),\n",
    "              axis=1)\n",
    "df_same_role"
   ]
  },
  {
   "cell_type": "code",
   "execution_count": 31,
   "metadata": {
    "colab": {
     "base_uri": "https://localhost:8080/",
     "height": 424
    },
    "id": "0ciqbK6IdS5K",
    "outputId": "b030996a-a99a-4a1d-bc58-2851f09714e2"
   },
   "outputs": [
    {
     "data": {
      "text/html": [
       "<div>\n",
       "<style scoped>\n",
       "    .dataframe tbody tr th:only-of-type {\n",
       "        vertical-align: middle;\n",
       "    }\n",
       "\n",
       "    .dataframe tbody tr th {\n",
       "        vertical-align: top;\n",
       "    }\n",
       "\n",
       "    .dataframe thead th {\n",
       "        text-align: right;\n",
       "    }\n",
       "</style>\n",
       "<table border=\"1\" class=\"dataframe\">\n",
       "  <thead>\n",
       "    <tr style=\"text-align: right;\">\n",
       "      <th></th>\n",
       "      <th>id</th>\n",
       "      <th>patch</th>\n",
       "      <th>year</th>\n",
       "      <th>winner</th>\n",
       "      <th>mean_synergy_blue</th>\n",
       "      <th>mean_synergy_red</th>\n",
       "      <th>TOP</th>\n",
       "      <th>JGL</th>\n",
       "      <th>MID</th>\n",
       "      <th>BOT</th>\n",
       "      <th>SUP</th>\n",
       "    </tr>\n",
       "  </thead>\n",
       "  <tbody>\n",
       "    <tr>\n",
       "      <th>0</th>\n",
       "      <td>LMS/2016 Season/Spring Season/Scoreboards_3_2</td>\n",
       "      <td>5.24</td>\n",
       "      <td>2015</td>\n",
       "      <td>BLUE</td>\n",
       "      <td>0.502761</td>\n",
       "      <td>0.480432</td>\n",
       "      <td>1.000000</td>\n",
       "      <td>0.547170</td>\n",
       "      <td>1.000000</td>\n",
       "      <td>0.507692</td>\n",
       "      <td>0.510288</td>\n",
       "    </tr>\n",
       "    <tr>\n",
       "      <th>1</th>\n",
       "      <td>LJL/2016 Season/Spring Season/Scoreboards_1_2</td>\n",
       "      <td>5.24</td>\n",
       "      <td>2015</td>\n",
       "      <td>RED</td>\n",
       "      <td>0.498885</td>\n",
       "      <td>0.508034</td>\n",
       "      <td>0.444444</td>\n",
       "      <td>0.579832</td>\n",
       "      <td>0.600000</td>\n",
       "      <td>0.250000</td>\n",
       "      <td>0.370370</td>\n",
       "    </tr>\n",
       "    <tr>\n",
       "      <th>2</th>\n",
       "      <td>LJL/2016 Season/Spring Season/Scoreboards_1_1</td>\n",
       "      <td>5.24</td>\n",
       "      <td>2015</td>\n",
       "      <td>RED</td>\n",
       "      <td>0.489649</td>\n",
       "      <td>0.517847</td>\n",
       "      <td>0.500000</td>\n",
       "      <td>0.463158</td>\n",
       "      <td>0.500000</td>\n",
       "      <td>0.477551</td>\n",
       "      <td>0.615385</td>\n",
       "    </tr>\n",
       "    <tr>\n",
       "      <th>3</th>\n",
       "      <td>CBLOL/2016 Season/Split 1/Scoreboards_2_2</td>\n",
       "      <td>5.24</td>\n",
       "      <td>2015</td>\n",
       "      <td>BLUE</td>\n",
       "      <td>0.498627</td>\n",
       "      <td>0.503166</td>\n",
       "      <td>1.000000</td>\n",
       "      <td>0.444444</td>\n",
       "      <td>0.409091</td>\n",
       "      <td>0.508475</td>\n",
       "      <td>0.400000</td>\n",
       "    </tr>\n",
       "    <tr>\n",
       "      <th>4</th>\n",
       "      <td>CBLOL/2016 Season/Split 1/Scoreboards_2_1</td>\n",
       "      <td>5.24</td>\n",
       "      <td>2015</td>\n",
       "      <td>RED</td>\n",
       "      <td>0.481985</td>\n",
       "      <td>0.486419</td>\n",
       "      <td>0.000000</td>\n",
       "      <td>0.527108</td>\n",
       "      <td>0.333333</td>\n",
       "      <td>0.200000</td>\n",
       "      <td>0.515789</td>\n",
       "    </tr>\n",
       "    <tr>\n",
       "      <th>...</th>\n",
       "      <td>...</td>\n",
       "      <td>...</td>\n",
       "      <td>...</td>\n",
       "      <td>...</td>\n",
       "      <td>...</td>\n",
       "      <td>...</td>\n",
       "      <td>...</td>\n",
       "      <td>...</td>\n",
       "      <td>...</td>\n",
       "      <td>...</td>\n",
       "      <td>...</td>\n",
       "    </tr>\n",
       "    <tr>\n",
       "      <th>28249</th>\n",
       "      <td>VCS/2020 Season/Spring Season/Scoreboards/Week...</td>\n",
       "      <td>10.30</td>\n",
       "      <td>2020</td>\n",
       "      <td>BLUE</td>\n",
       "      <td>0.489887</td>\n",
       "      <td>0.494892</td>\n",
       "      <td>0.437500</td>\n",
       "      <td>0.508772</td>\n",
       "      <td>0.833333</td>\n",
       "      <td>0.553846</td>\n",
       "      <td>0.547253</td>\n",
       "    </tr>\n",
       "    <tr>\n",
       "      <th>28250</th>\n",
       "      <td>VCS/2020 Season/Spring Season/Scoreboards/Week...</td>\n",
       "      <td>10.30</td>\n",
       "      <td>2020</td>\n",
       "      <td>RED</td>\n",
       "      <td>0.500072</td>\n",
       "      <td>0.494267</td>\n",
       "      <td>0.531915</td>\n",
       "      <td>0.544000</td>\n",
       "      <td>0.472222</td>\n",
       "      <td>0.583333</td>\n",
       "      <td>0.515789</td>\n",
       "    </tr>\n",
       "    <tr>\n",
       "      <th>28251</th>\n",
       "      <td>VCS/2020 Season/Spring Season/Scoreboards/Week...</td>\n",
       "      <td>10.30</td>\n",
       "      <td>2020</td>\n",
       "      <td>RED</td>\n",
       "      <td>0.508416</td>\n",
       "      <td>0.496037</td>\n",
       "      <td>0.333333</td>\n",
       "      <td>0.557769</td>\n",
       "      <td>0.555556</td>\n",
       "      <td>0.600000</td>\n",
       "      <td>0.409091</td>\n",
       "    </tr>\n",
       "    <tr>\n",
       "      <th>28252</th>\n",
       "      <td>LCK/2020 Season/Spring Season/Scoreboards/Week...</td>\n",
       "      <td>10.30</td>\n",
       "      <td>2020</td>\n",
       "      <td>BLUE</td>\n",
       "      <td>0.513824</td>\n",
       "      <td>0.482004</td>\n",
       "      <td>0.531915</td>\n",
       "      <td>0.555556</td>\n",
       "      <td>0.596330</td>\n",
       "      <td>0.488889</td>\n",
       "      <td>0.516129</td>\n",
       "    </tr>\n",
       "    <tr>\n",
       "      <th>28253</th>\n",
       "      <td>LCL/2020 Season/Spring Season/Scoreboards_2_1</td>\n",
       "      <td>10.30</td>\n",
       "      <td>2020</td>\n",
       "      <td>RED</td>\n",
       "      <td>0.500838</td>\n",
       "      <td>0.520219</td>\n",
       "      <td>0.519481</td>\n",
       "      <td>0.474654</td>\n",
       "      <td>0.166667</td>\n",
       "      <td>0.528226</td>\n",
       "      <td>0.505226</td>\n",
       "    </tr>\n",
       "  </tbody>\n",
       "</table>\n",
       "<p>28254 rows × 11 columns</p>\n",
       "</div>"
      ],
      "text/plain": [
       "                                                      id  patch  year winner  \\\n",
       "0          LMS/2016 Season/Spring Season/Scoreboards_3_2   5.24  2015   BLUE   \n",
       "1          LJL/2016 Season/Spring Season/Scoreboards_1_2   5.24  2015    RED   \n",
       "2          LJL/2016 Season/Spring Season/Scoreboards_1_1   5.24  2015    RED   \n",
       "3              CBLOL/2016 Season/Split 1/Scoreboards_2_2   5.24  2015   BLUE   \n",
       "4              CBLOL/2016 Season/Split 1/Scoreboards_2_1   5.24  2015    RED   \n",
       "...                                                  ...    ...   ...    ...   \n",
       "28249  VCS/2020 Season/Spring Season/Scoreboards/Week...  10.30  2020   BLUE   \n",
       "28250  VCS/2020 Season/Spring Season/Scoreboards/Week...  10.30  2020    RED   \n",
       "28251  VCS/2020 Season/Spring Season/Scoreboards/Week...  10.30  2020    RED   \n",
       "28252  LCK/2020 Season/Spring Season/Scoreboards/Week...  10.30  2020   BLUE   \n",
       "28253      LCL/2020 Season/Spring Season/Scoreboards_2_1  10.30  2020    RED   \n",
       "\n",
       "       mean_synergy_blue  mean_synergy_red       TOP       JGL       MID  \\\n",
       "0               0.502761          0.480432  1.000000  0.547170  1.000000   \n",
       "1               0.498885          0.508034  0.444444  0.579832  0.600000   \n",
       "2               0.489649          0.517847  0.500000  0.463158  0.500000   \n",
       "3               0.498627          0.503166  1.000000  0.444444  0.409091   \n",
       "4               0.481985          0.486419  0.000000  0.527108  0.333333   \n",
       "...                  ...               ...       ...       ...       ...   \n",
       "28249           0.489887          0.494892  0.437500  0.508772  0.833333   \n",
       "28250           0.500072          0.494267  0.531915  0.544000  0.472222   \n",
       "28251           0.508416          0.496037  0.333333  0.557769  0.555556   \n",
       "28252           0.513824          0.482004  0.531915  0.555556  0.596330   \n",
       "28253           0.500838          0.520219  0.519481  0.474654  0.166667   \n",
       "\n",
       "            BOT       SUP  \n",
       "0      0.507692  0.510288  \n",
       "1      0.250000  0.370370  \n",
       "2      0.477551  0.615385  \n",
       "3      0.508475  0.400000  \n",
       "4      0.200000  0.515789  \n",
       "...         ...       ...  \n",
       "28249  0.553846  0.547253  \n",
       "28250  0.583333  0.515789  \n",
       "28251  0.600000  0.409091  \n",
       "28252  0.488889  0.516129  \n",
       "28253  0.528226  0.505226  \n",
       "\n",
       "[28254 rows x 11 columns]"
      ]
     },
     "execution_count": 31,
     "metadata": {},
     "output_type": "execute_result"
    }
   ],
   "source": [
    "roles = ['TOP', 'JGL', 'MID', 'BOT', 'SUP']\n",
    "\n",
    "for role in roles:\n",
    "    df_role = df_same_role[df_same_role.role_x == role][['game_id', 'same_role_win_rate']]\n",
    "    df_role[role] = df_role['same_role_win_rate']\n",
    "    df_role['id'] = df_role['game_id']\n",
    "    df_role.drop(['game_id', 'same_role_win_rate'], axis=1, inplace=True)\n",
    "    df_teams_ML = pd.merge(df_teams_ML, df_role, on='id', how='inner')\n",
    "\n",
    "df_teams_ML"
   ]
  },
  {
   "cell_type": "markdown",
   "metadata": {
    "id": "MfprQYoGjVhi"
   },
   "source": [
    "## Feature 3: Simple averages"
   ]
  },
  {
   "cell_type": "code",
   "execution_count": null,
   "metadata": {
    "id": "NSrNwe5sjU2R"
   },
   "outputs": [],
   "source": []
  },
  {
   "cell_type": "markdown",
   "metadata": {
    "id": "uTRqUG6vhiuT"
   },
   "source": [
    "# Machine Learning"
   ]
  },
  {
   "cell_type": "markdown",
   "metadata": {
    "id": "8NEUHNxThmhc"
   },
   "source": [
    "## Pipe with logit regression"
   ]
  },
  {
   "cell_type": "code",
   "execution_count": 32,
   "metadata": {
    "colab": {
     "base_uri": "https://localhost:8080/",
     "height": 227
    },
    "id": "WMyJozmthl2C",
    "outputId": "db86d7ac-bb1f-4e3b-9bb7-e7254224baa0"
   },
   "outputs": [
    {
     "data": {
      "text/html": [
       "<style>#sk-16052355-9799-44a7-9e09-835bcc574b83 {color: black;background-color: white;}#sk-16052355-9799-44a7-9e09-835bcc574b83 pre{padding: 0;}#sk-16052355-9799-44a7-9e09-835bcc574b83 div.sk-toggleable {background-color: white;}#sk-16052355-9799-44a7-9e09-835bcc574b83 label.sk-toggleable__label {cursor: pointer;display: block;width: 100%;margin-bottom: 0;padding: 0.3em;box-sizing: border-box;text-align: center;}#sk-16052355-9799-44a7-9e09-835bcc574b83 label.sk-toggleable__label-arrow:before {content: \"▸\";float: left;margin-right: 0.25em;color: #696969;}#sk-16052355-9799-44a7-9e09-835bcc574b83 label.sk-toggleable__label-arrow:hover:before {color: black;}#sk-16052355-9799-44a7-9e09-835bcc574b83 div.sk-estimator:hover label.sk-toggleable__label-arrow:before {color: black;}#sk-16052355-9799-44a7-9e09-835bcc574b83 div.sk-toggleable__content {max-height: 0;max-width: 0;overflow: hidden;text-align: left;background-color: #f0f8ff;}#sk-16052355-9799-44a7-9e09-835bcc574b83 div.sk-toggleable__content pre {margin: 0.2em;color: black;border-radius: 0.25em;background-color: #f0f8ff;}#sk-16052355-9799-44a7-9e09-835bcc574b83 input.sk-toggleable__control:checked~div.sk-toggleable__content {max-height: 200px;max-width: 100%;overflow: auto;}#sk-16052355-9799-44a7-9e09-835bcc574b83 input.sk-toggleable__control:checked~label.sk-toggleable__label-arrow:before {content: \"▾\";}#sk-16052355-9799-44a7-9e09-835bcc574b83 div.sk-estimator input.sk-toggleable__control:checked~label.sk-toggleable__label {background-color: #d4ebff;}#sk-16052355-9799-44a7-9e09-835bcc574b83 div.sk-label input.sk-toggleable__control:checked~label.sk-toggleable__label {background-color: #d4ebff;}#sk-16052355-9799-44a7-9e09-835bcc574b83 input.sk-hidden--visually {border: 0;clip: rect(1px 1px 1px 1px);clip: rect(1px, 1px, 1px, 1px);height: 1px;margin: -1px;overflow: hidden;padding: 0;position: absolute;width: 1px;}#sk-16052355-9799-44a7-9e09-835bcc574b83 div.sk-estimator {font-family: monospace;background-color: #f0f8ff;border: 1px dotted black;border-radius: 0.25em;box-sizing: border-box;margin-bottom: 0.5em;}#sk-16052355-9799-44a7-9e09-835bcc574b83 div.sk-estimator:hover {background-color: #d4ebff;}#sk-16052355-9799-44a7-9e09-835bcc574b83 div.sk-parallel-item::after {content: \"\";width: 100%;border-bottom: 1px solid gray;flex-grow: 1;}#sk-16052355-9799-44a7-9e09-835bcc574b83 div.sk-label:hover label.sk-toggleable__label {background-color: #d4ebff;}#sk-16052355-9799-44a7-9e09-835bcc574b83 div.sk-serial::before {content: \"\";position: absolute;border-left: 1px solid gray;box-sizing: border-box;top: 2em;bottom: 0;left: 50%;}#sk-16052355-9799-44a7-9e09-835bcc574b83 div.sk-serial {display: flex;flex-direction: column;align-items: center;background-color: white;padding-right: 0.2em;padding-left: 0.2em;}#sk-16052355-9799-44a7-9e09-835bcc574b83 div.sk-item {z-index: 1;}#sk-16052355-9799-44a7-9e09-835bcc574b83 div.sk-parallel {display: flex;align-items: stretch;justify-content: center;background-color: white;}#sk-16052355-9799-44a7-9e09-835bcc574b83 div.sk-parallel::before {content: \"\";position: absolute;border-left: 1px solid gray;box-sizing: border-box;top: 2em;bottom: 0;left: 50%;}#sk-16052355-9799-44a7-9e09-835bcc574b83 div.sk-parallel-item {display: flex;flex-direction: column;position: relative;background-color: white;}#sk-16052355-9799-44a7-9e09-835bcc574b83 div.sk-parallel-item:first-child::after {align-self: flex-end;width: 50%;}#sk-16052355-9799-44a7-9e09-835bcc574b83 div.sk-parallel-item:last-child::after {align-self: flex-start;width: 50%;}#sk-16052355-9799-44a7-9e09-835bcc574b83 div.sk-parallel-item:only-child::after {width: 0;}#sk-16052355-9799-44a7-9e09-835bcc574b83 div.sk-dashed-wrapped {border: 1px dashed gray;margin: 0 0.4em 0.5em 0.4em;box-sizing: border-box;padding-bottom: 0.4em;background-color: white;position: relative;}#sk-16052355-9799-44a7-9e09-835bcc574b83 div.sk-label label {font-family: monospace;font-weight: bold;background-color: white;display: inline-block;line-height: 1.2em;}#sk-16052355-9799-44a7-9e09-835bcc574b83 div.sk-label-container {position: relative;z-index: 2;text-align: center;}#sk-16052355-9799-44a7-9e09-835bcc574b83 div.sk-container {/* jupyter's `normalize.less` sets `[hidden] { display: none; }` but bootstrap.min.css set `[hidden] { display: none !important; }` so we also need the `!important` here to be able to override the default hidden behavior on the sphinx rendered scikit-learn.org. See: https://github.com/scikit-learn/scikit-learn/issues/21755 */display: inline-block !important;position: relative;}#sk-16052355-9799-44a7-9e09-835bcc574b83 div.sk-text-repr-fallback {display: none;}</style><div id=\"sk-16052355-9799-44a7-9e09-835bcc574b83\" class=\"sk-top-container\"><div class=\"sk-text-repr-fallback\"><pre>Pipeline(steps=[(&#x27;columntransformer&#x27;,\n",
       "                 ColumnTransformer(remainder=&#x27;passthrough&#x27;,\n",
       "                                   transformers=[(&#x27;pipeline&#x27;,\n",
       "                                                  Pipeline(steps=[(&#x27;simpleimputer&#x27;,\n",
       "                                                                   SimpleImputer()),\n",
       "                                                                  (&#x27;minmaxscaler&#x27;,\n",
       "                                                                   MinMaxScaler())]),\n",
       "                                                  &lt;sklearn.compose._column_transformer.make_column_selector object at 0x7fec9bcc3be0&gt;),\n",
       "                                                 (&#x27;onehotencoder&#x27;,\n",
       "                                                  OneHotEncoder(sparse=False),\n",
       "                                                  &lt;sklearn.compose._column_transformer.make_column_selector object at 0x7fec9bcc3d90&gt;)])),\n",
       "                (&#x27;logisticregression&#x27;, LogisticRegression(solver=&#x27;liblinear&#x27;))])</pre><b>Please rerun this cell to show the HTML repr or trust the notebook.</b></div><div class=\"sk-container\" hidden><div class=\"sk-item sk-dashed-wrapped\"><div class=\"sk-label-container\"><div class=\"sk-label sk-toggleable\"><input class=\"sk-toggleable__control sk-hidden--visually\" id=\"03207b07-137e-440e-92a0-f3ea34c6393e\" type=\"checkbox\" ><label for=\"03207b07-137e-440e-92a0-f3ea34c6393e\" class=\"sk-toggleable__label sk-toggleable__label-arrow\">Pipeline</label><div class=\"sk-toggleable__content\"><pre>Pipeline(steps=[(&#x27;columntransformer&#x27;,\n",
       "                 ColumnTransformer(remainder=&#x27;passthrough&#x27;,\n",
       "                                   transformers=[(&#x27;pipeline&#x27;,\n",
       "                                                  Pipeline(steps=[(&#x27;simpleimputer&#x27;,\n",
       "                                                                   SimpleImputer()),\n",
       "                                                                  (&#x27;minmaxscaler&#x27;,\n",
       "                                                                   MinMaxScaler())]),\n",
       "                                                  &lt;sklearn.compose._column_transformer.make_column_selector object at 0x7fec9bcc3be0&gt;),\n",
       "                                                 (&#x27;onehotencoder&#x27;,\n",
       "                                                  OneHotEncoder(sparse=False),\n",
       "                                                  &lt;sklearn.compose._column_transformer.make_column_selector object at 0x7fec9bcc3d90&gt;)])),\n",
       "                (&#x27;logisticregression&#x27;, LogisticRegression(solver=&#x27;liblinear&#x27;))])</pre></div></div></div><div class=\"sk-serial\"><div class=\"sk-item sk-dashed-wrapped\"><div class=\"sk-label-container\"><div class=\"sk-label sk-toggleable\"><input class=\"sk-toggleable__control sk-hidden--visually\" id=\"b004c6a7-f024-4735-a3a1-a81e68eaf8a9\" type=\"checkbox\" ><label for=\"b004c6a7-f024-4735-a3a1-a81e68eaf8a9\" class=\"sk-toggleable__label sk-toggleable__label-arrow\">columntransformer: ColumnTransformer</label><div class=\"sk-toggleable__content\"><pre>ColumnTransformer(remainder=&#x27;passthrough&#x27;,\n",
       "                  transformers=[(&#x27;pipeline&#x27;,\n",
       "                                 Pipeline(steps=[(&#x27;simpleimputer&#x27;,\n",
       "                                                  SimpleImputer()),\n",
       "                                                 (&#x27;minmaxscaler&#x27;,\n",
       "                                                  MinMaxScaler())]),\n",
       "                                 &lt;sklearn.compose._column_transformer.make_column_selector object at 0x7fec9bcc3be0&gt;),\n",
       "                                (&#x27;onehotencoder&#x27;, OneHotEncoder(sparse=False),\n",
       "                                 &lt;sklearn.compose._column_transformer.make_column_selector object at 0x7fec9bcc3d90&gt;)])</pre></div></div></div><div class=\"sk-parallel\"><div class=\"sk-parallel-item\"><div class=\"sk-item\"><div class=\"sk-label-container\"><div class=\"sk-label sk-toggleable\"><input class=\"sk-toggleable__control sk-hidden--visually\" id=\"ef48d591-1fcb-4dd1-92a4-9497225d9568\" type=\"checkbox\" ><label for=\"ef48d591-1fcb-4dd1-92a4-9497225d9568\" class=\"sk-toggleable__label sk-toggleable__label-arrow\">pipeline</label><div class=\"sk-toggleable__content\"><pre>&lt;sklearn.compose._column_transformer.make_column_selector object at 0x7fec9bcc3be0&gt;</pre></div></div></div><div class=\"sk-serial\"><div class=\"sk-item\"><div class=\"sk-serial\"><div class=\"sk-item\"><div class=\"sk-estimator sk-toggleable\"><input class=\"sk-toggleable__control sk-hidden--visually\" id=\"e13d6275-97b3-4b82-8858-dd6343b2c7c3\" type=\"checkbox\" ><label for=\"e13d6275-97b3-4b82-8858-dd6343b2c7c3\" class=\"sk-toggleable__label sk-toggleable__label-arrow\">SimpleImputer</label><div class=\"sk-toggleable__content\"><pre>SimpleImputer()</pre></div></div></div><div class=\"sk-item\"><div class=\"sk-estimator sk-toggleable\"><input class=\"sk-toggleable__control sk-hidden--visually\" id=\"57e06acb-c68c-4f97-8793-3e2a8f639651\" type=\"checkbox\" ><label for=\"57e06acb-c68c-4f97-8793-3e2a8f639651\" class=\"sk-toggleable__label sk-toggleable__label-arrow\">MinMaxScaler</label><div class=\"sk-toggleable__content\"><pre>MinMaxScaler()</pre></div></div></div></div></div></div></div></div><div class=\"sk-parallel-item\"><div class=\"sk-item\"><div class=\"sk-label-container\"><div class=\"sk-label sk-toggleable\"><input class=\"sk-toggleable__control sk-hidden--visually\" id=\"57629b4f-0718-4f00-8741-db28f9d68ab2\" type=\"checkbox\" ><label for=\"57629b4f-0718-4f00-8741-db28f9d68ab2\" class=\"sk-toggleable__label sk-toggleable__label-arrow\">onehotencoder</label><div class=\"sk-toggleable__content\"><pre>&lt;sklearn.compose._column_transformer.make_column_selector object at 0x7fec9bcc3d90&gt;</pre></div></div></div><div class=\"sk-serial\"><div class=\"sk-item\"><div class=\"sk-estimator sk-toggleable\"><input class=\"sk-toggleable__control sk-hidden--visually\" id=\"ac145546-0e95-4cc8-9ea2-9f6b8fe6a080\" type=\"checkbox\" ><label for=\"ac145546-0e95-4cc8-9ea2-9f6b8fe6a080\" class=\"sk-toggleable__label sk-toggleable__label-arrow\">OneHotEncoder</label><div class=\"sk-toggleable__content\"><pre>OneHotEncoder(sparse=False)</pre></div></div></div></div></div></div><div class=\"sk-parallel-item\"><div class=\"sk-item\"><div class=\"sk-label-container\"><div class=\"sk-label sk-toggleable\"><input class=\"sk-toggleable__control sk-hidden--visually\" id=\"93fbbf11-3c99-48aa-acfb-031747ef712e\" type=\"checkbox\" ><label for=\"93fbbf11-3c99-48aa-acfb-031747ef712e\" class=\"sk-toggleable__label sk-toggleable__label-arrow\">remainder</label><div class=\"sk-toggleable__content\"><pre></pre></div></div></div><div class=\"sk-serial\"><div class=\"sk-item\"><div class=\"sk-estimator sk-toggleable\"><input class=\"sk-toggleable__control sk-hidden--visually\" id=\"6498ce95-374d-4ce7-86b4-c94440521bc5\" type=\"checkbox\" ><label for=\"6498ce95-374d-4ce7-86b4-c94440521bc5\" class=\"sk-toggleable__label sk-toggleable__label-arrow\">passthrough</label><div class=\"sk-toggleable__content\"><pre>passthrough</pre></div></div></div></div></div></div></div></div><div class=\"sk-item\"><div class=\"sk-estimator sk-toggleable\"><input class=\"sk-toggleable__control sk-hidden--visually\" id=\"3eba5979-bb82-49e3-b854-fa34e8ba7cc9\" type=\"checkbox\" ><label for=\"3eba5979-bb82-49e3-b854-fa34e8ba7cc9\" class=\"sk-toggleable__label sk-toggleable__label-arrow\">LogisticRegression</label><div class=\"sk-toggleable__content\"><pre>LogisticRegression(solver=&#x27;liblinear&#x27;)</pre></div></div></div></div></div></div></div>"
      ],
      "text/plain": [
       "Pipeline(steps=[('columntransformer',\n",
       "                 ColumnTransformer(remainder='passthrough',\n",
       "                                   transformers=[('pipeline',\n",
       "                                                  Pipeline(steps=[('simpleimputer',\n",
       "                                                                   SimpleImputer()),\n",
       "                                                                  ('minmaxscaler',\n",
       "                                                                   MinMaxScaler())]),\n",
       "                                                  <sklearn.compose._column_transformer.make_column_selector object at 0x7fec9bcc3be0>),\n",
       "                                                 ('onehotencoder',\n",
       "                                                  OneHotEncoder(sparse=False),\n",
       "                                                  <sklearn.compose._column_transformer.make_column_selector object at 0x7fec9bcc3d90>)])),\n",
       "                ('logisticregression', LogisticRegression(solver='liblinear'))])"
      ]
     },
     "execution_count": 32,
     "metadata": {},
     "output_type": "execute_result"
    }
   ],
   "source": [
    "from sklearn.preprocessing import MinMaxScaler\n",
    "from sklearn.impute import SimpleImputer\n",
    "from sklearn.preprocessing import OneHotEncoder\n",
    "from sklearn.pipeline import make_pipeline\n",
    "from sklearn.linear_model import LogisticRegression\n",
    "from sklearn.compose import make_column_transformer\n",
    "from sklearn.compose import make_column_selector\n",
    "from sklearn import set_config; set_config(display='diagram')\n",
    "\n",
    "\n",
    "# Impute then Scale for numerical variables: \n",
    "num_transformer = make_pipeline(\n",
    "                    SimpleImputer(strategy = 'mean'),\n",
    "                    MinMaxScaler())\n",
    "\n",
    "# Encode categorical variables\n",
    "cat_transformer = OneHotEncoder(sparse = False)#, handle_unknown='ignore')\n",
    "\n",
    "# Paralellize \"num_transformer\" and \"One hot encoder\"\n",
    "preproc = make_column_transformer(\n",
    "    (num_transformer, make_column_selector(dtype_include=['float64'])),\n",
    "    (cat_transformer, make_column_selector(dtype_include=['object','bool'])),\n",
    "    remainder='passthrough')\n",
    "\n",
    "#add model\n",
    "pipe = make_pipeline(preproc, LogisticRegression(solver='liblinear'))\n",
    "pipe"
   ]
  },
  {
   "cell_type": "code",
   "execution_count": 33,
   "metadata": {
    "id": "B_lFhTwOhfFY"
   },
   "outputs": [],
   "source": [
    "from sklearn.preprocessing import LabelEncoder\n",
    "\n",
    "y_train = LabelEncoder().fit(df_teams_ML.winner).transform(df_teams_ML.winner)\n",
    "X_train = df_teams_ML.drop(['id', 'winner', 'patch', 'year'], axis=1)"
   ]
  },
  {
   "cell_type": "code",
   "execution_count": 34,
   "metadata": {
    "colab": {
     "base_uri": "https://localhost:8080/",
     "height": 227
    },
    "id": "8I4ft2QaiLHz",
    "outputId": "fa00e3fd-7e4e-4f5a-b01c-9f242527661c"
   },
   "outputs": [
    {
     "data": {
      "text/html": [
       "<style>#sk-42ca3977-f444-4c54-a9ba-185842830fd3 {color: black;background-color: white;}#sk-42ca3977-f444-4c54-a9ba-185842830fd3 pre{padding: 0;}#sk-42ca3977-f444-4c54-a9ba-185842830fd3 div.sk-toggleable {background-color: white;}#sk-42ca3977-f444-4c54-a9ba-185842830fd3 label.sk-toggleable__label {cursor: pointer;display: block;width: 100%;margin-bottom: 0;padding: 0.3em;box-sizing: border-box;text-align: center;}#sk-42ca3977-f444-4c54-a9ba-185842830fd3 label.sk-toggleable__label-arrow:before {content: \"▸\";float: left;margin-right: 0.25em;color: #696969;}#sk-42ca3977-f444-4c54-a9ba-185842830fd3 label.sk-toggleable__label-arrow:hover:before {color: black;}#sk-42ca3977-f444-4c54-a9ba-185842830fd3 div.sk-estimator:hover label.sk-toggleable__label-arrow:before {color: black;}#sk-42ca3977-f444-4c54-a9ba-185842830fd3 div.sk-toggleable__content {max-height: 0;max-width: 0;overflow: hidden;text-align: left;background-color: #f0f8ff;}#sk-42ca3977-f444-4c54-a9ba-185842830fd3 div.sk-toggleable__content pre {margin: 0.2em;color: black;border-radius: 0.25em;background-color: #f0f8ff;}#sk-42ca3977-f444-4c54-a9ba-185842830fd3 input.sk-toggleable__control:checked~div.sk-toggleable__content {max-height: 200px;max-width: 100%;overflow: auto;}#sk-42ca3977-f444-4c54-a9ba-185842830fd3 input.sk-toggleable__control:checked~label.sk-toggleable__label-arrow:before {content: \"▾\";}#sk-42ca3977-f444-4c54-a9ba-185842830fd3 div.sk-estimator input.sk-toggleable__control:checked~label.sk-toggleable__label {background-color: #d4ebff;}#sk-42ca3977-f444-4c54-a9ba-185842830fd3 div.sk-label input.sk-toggleable__control:checked~label.sk-toggleable__label {background-color: #d4ebff;}#sk-42ca3977-f444-4c54-a9ba-185842830fd3 input.sk-hidden--visually {border: 0;clip: rect(1px 1px 1px 1px);clip: rect(1px, 1px, 1px, 1px);height: 1px;margin: -1px;overflow: hidden;padding: 0;position: absolute;width: 1px;}#sk-42ca3977-f444-4c54-a9ba-185842830fd3 div.sk-estimator {font-family: monospace;background-color: #f0f8ff;border: 1px dotted black;border-radius: 0.25em;box-sizing: border-box;margin-bottom: 0.5em;}#sk-42ca3977-f444-4c54-a9ba-185842830fd3 div.sk-estimator:hover {background-color: #d4ebff;}#sk-42ca3977-f444-4c54-a9ba-185842830fd3 div.sk-parallel-item::after {content: \"\";width: 100%;border-bottom: 1px solid gray;flex-grow: 1;}#sk-42ca3977-f444-4c54-a9ba-185842830fd3 div.sk-label:hover label.sk-toggleable__label {background-color: #d4ebff;}#sk-42ca3977-f444-4c54-a9ba-185842830fd3 div.sk-serial::before {content: \"\";position: absolute;border-left: 1px solid gray;box-sizing: border-box;top: 2em;bottom: 0;left: 50%;}#sk-42ca3977-f444-4c54-a9ba-185842830fd3 div.sk-serial {display: flex;flex-direction: column;align-items: center;background-color: white;padding-right: 0.2em;padding-left: 0.2em;}#sk-42ca3977-f444-4c54-a9ba-185842830fd3 div.sk-item {z-index: 1;}#sk-42ca3977-f444-4c54-a9ba-185842830fd3 div.sk-parallel {display: flex;align-items: stretch;justify-content: center;background-color: white;}#sk-42ca3977-f444-4c54-a9ba-185842830fd3 div.sk-parallel::before {content: \"\";position: absolute;border-left: 1px solid gray;box-sizing: border-box;top: 2em;bottom: 0;left: 50%;}#sk-42ca3977-f444-4c54-a9ba-185842830fd3 div.sk-parallel-item {display: flex;flex-direction: column;position: relative;background-color: white;}#sk-42ca3977-f444-4c54-a9ba-185842830fd3 div.sk-parallel-item:first-child::after {align-self: flex-end;width: 50%;}#sk-42ca3977-f444-4c54-a9ba-185842830fd3 div.sk-parallel-item:last-child::after {align-self: flex-start;width: 50%;}#sk-42ca3977-f444-4c54-a9ba-185842830fd3 div.sk-parallel-item:only-child::after {width: 0;}#sk-42ca3977-f444-4c54-a9ba-185842830fd3 div.sk-dashed-wrapped {border: 1px dashed gray;margin: 0 0.4em 0.5em 0.4em;box-sizing: border-box;padding-bottom: 0.4em;background-color: white;position: relative;}#sk-42ca3977-f444-4c54-a9ba-185842830fd3 div.sk-label label {font-family: monospace;font-weight: bold;background-color: white;display: inline-block;line-height: 1.2em;}#sk-42ca3977-f444-4c54-a9ba-185842830fd3 div.sk-label-container {position: relative;z-index: 2;text-align: center;}#sk-42ca3977-f444-4c54-a9ba-185842830fd3 div.sk-container {/* jupyter's `normalize.less` sets `[hidden] { display: none; }` but bootstrap.min.css set `[hidden] { display: none !important; }` so we also need the `!important` here to be able to override the default hidden behavior on the sphinx rendered scikit-learn.org. See: https://github.com/scikit-learn/scikit-learn/issues/21755 */display: inline-block !important;position: relative;}#sk-42ca3977-f444-4c54-a9ba-185842830fd3 div.sk-text-repr-fallback {display: none;}</style><div id=\"sk-42ca3977-f444-4c54-a9ba-185842830fd3\" class=\"sk-top-container\"><div class=\"sk-text-repr-fallback\"><pre>Pipeline(steps=[(&#x27;columntransformer&#x27;,\n",
       "                 ColumnTransformer(remainder=&#x27;passthrough&#x27;,\n",
       "                                   transformers=[(&#x27;pipeline&#x27;,\n",
       "                                                  Pipeline(steps=[(&#x27;simpleimputer&#x27;,\n",
       "                                                                   SimpleImputer()),\n",
       "                                                                  (&#x27;minmaxscaler&#x27;,\n",
       "                                                                   MinMaxScaler())]),\n",
       "                                                  &lt;sklearn.compose._column_transformer.make_column_selector object at 0x7fec9bcc3be0&gt;),\n",
       "                                                 (&#x27;onehotencoder&#x27;,\n",
       "                                                  OneHotEncoder(sparse=False),\n",
       "                                                  &lt;sklearn.compose._column_transformer.make_column_selector object at 0x7fec9bcc3d90&gt;)])),\n",
       "                (&#x27;logisticregression&#x27;, LogisticRegression(solver=&#x27;liblinear&#x27;))])</pre><b>Please rerun this cell to show the HTML repr or trust the notebook.</b></div><div class=\"sk-container\" hidden><div class=\"sk-item sk-dashed-wrapped\"><div class=\"sk-label-container\"><div class=\"sk-label sk-toggleable\"><input class=\"sk-toggleable__control sk-hidden--visually\" id=\"79b45db7-f6a8-496a-ac30-fcfbf7788ac5\" type=\"checkbox\" ><label for=\"79b45db7-f6a8-496a-ac30-fcfbf7788ac5\" class=\"sk-toggleable__label sk-toggleable__label-arrow\">Pipeline</label><div class=\"sk-toggleable__content\"><pre>Pipeline(steps=[(&#x27;columntransformer&#x27;,\n",
       "                 ColumnTransformer(remainder=&#x27;passthrough&#x27;,\n",
       "                                   transformers=[(&#x27;pipeline&#x27;,\n",
       "                                                  Pipeline(steps=[(&#x27;simpleimputer&#x27;,\n",
       "                                                                   SimpleImputer()),\n",
       "                                                                  (&#x27;minmaxscaler&#x27;,\n",
       "                                                                   MinMaxScaler())]),\n",
       "                                                  &lt;sklearn.compose._column_transformer.make_column_selector object at 0x7fec9bcc3be0&gt;),\n",
       "                                                 (&#x27;onehotencoder&#x27;,\n",
       "                                                  OneHotEncoder(sparse=False),\n",
       "                                                  &lt;sklearn.compose._column_transformer.make_column_selector object at 0x7fec9bcc3d90&gt;)])),\n",
       "                (&#x27;logisticregression&#x27;, LogisticRegression(solver=&#x27;liblinear&#x27;))])</pre></div></div></div><div class=\"sk-serial\"><div class=\"sk-item sk-dashed-wrapped\"><div class=\"sk-label-container\"><div class=\"sk-label sk-toggleable\"><input class=\"sk-toggleable__control sk-hidden--visually\" id=\"8d9ab88b-9572-45df-a290-3aa3ea2f91ec\" type=\"checkbox\" ><label for=\"8d9ab88b-9572-45df-a290-3aa3ea2f91ec\" class=\"sk-toggleable__label sk-toggleable__label-arrow\">columntransformer: ColumnTransformer</label><div class=\"sk-toggleable__content\"><pre>ColumnTransformer(remainder=&#x27;passthrough&#x27;,\n",
       "                  transformers=[(&#x27;pipeline&#x27;,\n",
       "                                 Pipeline(steps=[(&#x27;simpleimputer&#x27;,\n",
       "                                                  SimpleImputer()),\n",
       "                                                 (&#x27;minmaxscaler&#x27;,\n",
       "                                                  MinMaxScaler())]),\n",
       "                                 &lt;sklearn.compose._column_transformer.make_column_selector object at 0x7fec9bcc3be0&gt;),\n",
       "                                (&#x27;onehotencoder&#x27;, OneHotEncoder(sparse=False),\n",
       "                                 &lt;sklearn.compose._column_transformer.make_column_selector object at 0x7fec9bcc3d90&gt;)])</pre></div></div></div><div class=\"sk-parallel\"><div class=\"sk-parallel-item\"><div class=\"sk-item\"><div class=\"sk-label-container\"><div class=\"sk-label sk-toggleable\"><input class=\"sk-toggleable__control sk-hidden--visually\" id=\"a835633c-ebe7-435e-a61c-108d07a8c02b\" type=\"checkbox\" ><label for=\"a835633c-ebe7-435e-a61c-108d07a8c02b\" class=\"sk-toggleable__label sk-toggleable__label-arrow\">pipeline</label><div class=\"sk-toggleable__content\"><pre>&lt;sklearn.compose._column_transformer.make_column_selector object at 0x7fec9bcc3be0&gt;</pre></div></div></div><div class=\"sk-serial\"><div class=\"sk-item\"><div class=\"sk-serial\"><div class=\"sk-item\"><div class=\"sk-estimator sk-toggleable\"><input class=\"sk-toggleable__control sk-hidden--visually\" id=\"5bd83a0f-e962-4280-a8dc-42fb13b5354d\" type=\"checkbox\" ><label for=\"5bd83a0f-e962-4280-a8dc-42fb13b5354d\" class=\"sk-toggleable__label sk-toggleable__label-arrow\">SimpleImputer</label><div class=\"sk-toggleable__content\"><pre>SimpleImputer()</pre></div></div></div><div class=\"sk-item\"><div class=\"sk-estimator sk-toggleable\"><input class=\"sk-toggleable__control sk-hidden--visually\" id=\"d3b89b38-5c7d-4d05-96a7-eb5f6c14e304\" type=\"checkbox\" ><label for=\"d3b89b38-5c7d-4d05-96a7-eb5f6c14e304\" class=\"sk-toggleable__label sk-toggleable__label-arrow\">MinMaxScaler</label><div class=\"sk-toggleable__content\"><pre>MinMaxScaler()</pre></div></div></div></div></div></div></div></div><div class=\"sk-parallel-item\"><div class=\"sk-item\"><div class=\"sk-label-container\"><div class=\"sk-label sk-toggleable\"><input class=\"sk-toggleable__control sk-hidden--visually\" id=\"a877ee46-3be7-4706-a52e-acd53597204f\" type=\"checkbox\" ><label for=\"a877ee46-3be7-4706-a52e-acd53597204f\" class=\"sk-toggleable__label sk-toggleable__label-arrow\">onehotencoder</label><div class=\"sk-toggleable__content\"><pre>&lt;sklearn.compose._column_transformer.make_column_selector object at 0x7fec9bcc3d90&gt;</pre></div></div></div><div class=\"sk-serial\"><div class=\"sk-item\"><div class=\"sk-estimator sk-toggleable\"><input class=\"sk-toggleable__control sk-hidden--visually\" id=\"2d11efa2-520b-4d06-bf89-675cdb432936\" type=\"checkbox\" ><label for=\"2d11efa2-520b-4d06-bf89-675cdb432936\" class=\"sk-toggleable__label sk-toggleable__label-arrow\">OneHotEncoder</label><div class=\"sk-toggleable__content\"><pre>OneHotEncoder(sparse=False)</pre></div></div></div></div></div></div><div class=\"sk-parallel-item\"><div class=\"sk-item\"><div class=\"sk-label-container\"><div class=\"sk-label sk-toggleable\"><input class=\"sk-toggleable__control sk-hidden--visually\" id=\"b2bd1822-f92a-421c-b92a-eb600c4ebec1\" type=\"checkbox\" ><label for=\"b2bd1822-f92a-421c-b92a-eb600c4ebec1\" class=\"sk-toggleable__label sk-toggleable__label-arrow\">remainder</label><div class=\"sk-toggleable__content\"><pre>[]</pre></div></div></div><div class=\"sk-serial\"><div class=\"sk-item\"><div class=\"sk-estimator sk-toggleable\"><input class=\"sk-toggleable__control sk-hidden--visually\" id=\"63cd5869-a829-487a-bf57-0687f24e3913\" type=\"checkbox\" ><label for=\"63cd5869-a829-487a-bf57-0687f24e3913\" class=\"sk-toggleable__label sk-toggleable__label-arrow\">passthrough</label><div class=\"sk-toggleable__content\"><pre>passthrough</pre></div></div></div></div></div></div></div></div><div class=\"sk-item\"><div class=\"sk-estimator sk-toggleable\"><input class=\"sk-toggleable__control sk-hidden--visually\" id=\"fe8ec951-d7fe-444a-b8d6-4e4f2e8a537f\" type=\"checkbox\" ><label for=\"fe8ec951-d7fe-444a-b8d6-4e4f2e8a537f\" class=\"sk-toggleable__label sk-toggleable__label-arrow\">LogisticRegression</label><div class=\"sk-toggleable__content\"><pre>LogisticRegression(solver=&#x27;liblinear&#x27;)</pre></div></div></div></div></div></div></div>"
      ],
      "text/plain": [
       "Pipeline(steps=[('columntransformer',\n",
       "                 ColumnTransformer(remainder='passthrough',\n",
       "                                   transformers=[('pipeline',\n",
       "                                                  Pipeline(steps=[('simpleimputer',\n",
       "                                                                   SimpleImputer()),\n",
       "                                                                  ('minmaxscaler',\n",
       "                                                                   MinMaxScaler())]),\n",
       "                                                  <sklearn.compose._column_transformer.make_column_selector object at 0x7fec9bcc3be0>),\n",
       "                                                 ('onehotencoder',\n",
       "                                                  OneHotEncoder(sparse=False),\n",
       "                                                  <sklearn.compose._column_transformer.make_column_selector object at 0x7fec9bcc3d90>)])),\n",
       "                ('logisticregression', LogisticRegression(solver='liblinear'))])"
      ]
     },
     "execution_count": 34,
     "metadata": {},
     "output_type": "execute_result"
    }
   ],
   "source": [
    "# Train pipeline\n",
    "pipe.fit(X_train,y_train)"
   ]
  },
  {
   "cell_type": "code",
   "execution_count": 35,
   "metadata": {
    "colab": {
     "base_uri": "https://localhost:8080/"
    },
    "id": "pS5NAvakiVqz",
    "outputId": "291b740d-98c0-4f96-a9f8-9c2521f21d9c"
   },
   "outputs": [
    {
     "data": {
      "text/plain": [
       "0.7492087084919676"
      ]
     },
     "execution_count": 35,
     "metadata": {},
     "output_type": "execute_result"
    }
   ],
   "source": [
    "from sklearn.model_selection import cross_val_score\n",
    "\n",
    "# Cross validate pipeline\n",
    "cross_val_score(pipe, X_train, y_train, cv=20, scoring='accuracy').mean()"
   ]
  },
  {
   "cell_type": "markdown",
   "metadata": {},
   "source": [
    "# Use the test data"
   ]
  },
  {
   "cell_type": "markdown",
   "metadata": {},
   "source": [
    "## Import the test data"
   ]
  },
  {
   "cell_type": "code",
   "execution_count": 36,
   "metadata": {},
   "outputs": [
    {
     "data": {
      "text/plain": [
       "(7059, 35295, 35295)"
      ]
     },
     "execution_count": 36,
     "metadata": {},
     "output_type": "execute_result"
    }
   ],
   "source": [
    "#Import the data through the utils file\n",
    "test_teams, test_BLUE, test_RED = get_train_data_only(train_data = False, test_data = True)\n",
    "len(test_teams), len(test_BLUE), len(test_RED)"
   ]
  },
  {
   "cell_type": "code",
   "execution_count": 54,
   "metadata": {},
   "outputs": [
    {
     "data": {
      "text/html": [
       "<div>\n",
       "<style scoped>\n",
       "    .dataframe tbody tr th:only-of-type {\n",
       "        vertical-align: middle;\n",
       "    }\n",
       "\n",
       "    .dataframe tbody tr th {\n",
       "        vertical-align: top;\n",
       "    }\n",
       "\n",
       "    .dataframe thead th {\n",
       "        text-align: right;\n",
       "    }\n",
       "</style>\n",
       "<table border=\"1\" class=\"dataframe\">\n",
       "  <thead>\n",
       "    <tr style=\"text-align: right;\">\n",
       "      <th></th>\n",
       "      <th>id</th>\n",
       "      <th>patch</th>\n",
       "      <th>year</th>\n",
       "      <th>winner</th>\n",
       "    </tr>\n",
       "  </thead>\n",
       "  <tbody>\n",
       "    <tr>\n",
       "      <th>19070</th>\n",
       "      <td>LCK/2020 Season/Spring Season/Scoreboards/Week...</td>\n",
       "      <td>10.3</td>\n",
       "      <td>2020</td>\n",
       "      <td>BLUE</td>\n",
       "    </tr>\n",
       "    <tr>\n",
       "      <th>19099</th>\n",
       "      <td>LLA/2020 Season/Opening Season/Scoreboards/Wee...</td>\n",
       "      <td>10.3</td>\n",
       "      <td>2020</td>\n",
       "      <td>BLUE</td>\n",
       "    </tr>\n",
       "  </tbody>\n",
       "</table>\n",
       "</div>"
      ],
      "text/plain": [
       "                                                      id  patch  year winner\n",
       "19070  LCK/2020 Season/Spring Season/Scoreboards/Week...   10.3  2020   BLUE\n",
       "19099  LLA/2020 Season/Opening Season/Scoreboards/Wee...   10.3  2020   BLUE"
      ]
     },
     "execution_count": 54,
     "metadata": {},
     "output_type": "execute_result"
    }
   ],
   "source": [
    "#Teams DataFrame used for Machine Learning\n",
    "test_teams_ML = test_teams[['id', 'patch', 'year', 'winner']]\n",
    "test_teams_ML.head(2)"
   ]
  },
  {
   "cell_type": "markdown",
   "metadata": {},
   "source": [
    "## Synergy feature"
   ]
  },
  {
   "cell_type": "code",
   "execution_count": 55,
   "metadata": {},
   "outputs": [],
   "source": [
    "#Get the synergy of the Blue team champions\n",
    "test_blue = pair_wise_synergy(test_BLUE, champions_won_percentage_imputed, 'blue')\n",
    "test_blue['id'] = test_blue.index\n",
    "test_teams_ML =pd.merge(test_teams_ML, test_blue, on='id', how='inner')"
   ]
  },
  {
   "cell_type": "code",
   "execution_count": 56,
   "metadata": {},
   "outputs": [],
   "source": [
    "#Get the synergy of the Red team champions\n",
    "test_red = pair_wise_synergy(test_RED, champions_won_percentage_imputed, 'red')\n",
    "test_red['id'] = test_red.index\n",
    "test_teams_ML =pd.merge(test_teams_ML, test_red, on='id', how='inner')"
   ]
  },
  {
   "cell_type": "code",
   "execution_count": 57,
   "metadata": {},
   "outputs": [
    {
     "data": {
      "text/html": [
       "<div>\n",
       "<style scoped>\n",
       "    .dataframe tbody tr th:only-of-type {\n",
       "        vertical-align: middle;\n",
       "    }\n",
       "\n",
       "    .dataframe tbody tr th {\n",
       "        vertical-align: top;\n",
       "    }\n",
       "\n",
       "    .dataframe thead th {\n",
       "        text-align: right;\n",
       "    }\n",
       "</style>\n",
       "<table border=\"1\" class=\"dataframe\">\n",
       "  <thead>\n",
       "    <tr style=\"text-align: right;\">\n",
       "      <th></th>\n",
       "      <th>id</th>\n",
       "      <th>patch</th>\n",
       "      <th>year</th>\n",
       "      <th>winner</th>\n",
       "      <th>mean_synergy_blue</th>\n",
       "      <th>mean_synergy_red</th>\n",
       "    </tr>\n",
       "  </thead>\n",
       "  <tbody>\n",
       "    <tr>\n",
       "      <th>0</th>\n",
       "      <td>LCK/2020 Season/Spring Season/Scoreboards/Week...</td>\n",
       "      <td>10.3</td>\n",
       "      <td>2020</td>\n",
       "      <td>BLUE</td>\n",
       "      <td>0.488413</td>\n",
       "      <td>0.500616</td>\n",
       "    </tr>\n",
       "    <tr>\n",
       "      <th>1</th>\n",
       "      <td>LLA/2020 Season/Opening Season/Scoreboards/Wee...</td>\n",
       "      <td>10.3</td>\n",
       "      <td>2020</td>\n",
       "      <td>BLUE</td>\n",
       "      <td>0.485404</td>\n",
       "      <td>0.477892</td>\n",
       "    </tr>\n",
       "  </tbody>\n",
       "</table>\n",
       "</div>"
      ],
      "text/plain": [
       "                                                  id  patch  year winner  \\\n",
       "0  LCK/2020 Season/Spring Season/Scoreboards/Week...   10.3  2020   BLUE   \n",
       "1  LLA/2020 Season/Opening Season/Scoreboards/Wee...   10.3  2020   BLUE   \n",
       "\n",
       "   mean_synergy_blue  mean_synergy_red  \n",
       "0           0.488413          0.500616  \n",
       "1           0.485404          0.477892  "
      ]
     },
     "execution_count": 57,
     "metadata": {},
     "output_type": "execute_result"
    }
   ],
   "source": [
    "test_teams_ML.head(2)"
   ]
  },
  {
   "cell_type": "markdown",
   "metadata": {},
   "source": [
    "## Role rate winrate"
   ]
  },
  {
   "cell_type": "code",
   "execution_count": 58,
   "metadata": {},
   "outputs": [
    {
     "data": {
      "text/html": [
       "<div>\n",
       "<style scoped>\n",
       "    .dataframe tbody tr th:only-of-type {\n",
       "        vertical-align: middle;\n",
       "    }\n",
       "\n",
       "    .dataframe tbody tr th {\n",
       "        vertical-align: top;\n",
       "    }\n",
       "\n",
       "    .dataframe thead th {\n",
       "        text-align: right;\n",
       "    }\n",
       "</style>\n",
       "<table border=\"1\" class=\"dataframe\">\n",
       "  <thead>\n",
       "    <tr style=\"text-align: right;\">\n",
       "      <th></th>\n",
       "      <th>champion_id_x</th>\n",
       "      <th>role_x</th>\n",
       "      <th>role_y</th>\n",
       "      <th>champion_id_y</th>\n",
       "      <th>win_x</th>\n",
       "      <th>game_id</th>\n",
       "    </tr>\n",
       "  </thead>\n",
       "  <tbody>\n",
       "    <tr>\n",
       "      <th>0</th>\n",
       "      <td>82</td>\n",
       "      <td>TOP</td>\n",
       "      <td>TOP</td>\n",
       "      <td>266</td>\n",
       "      <td>True</td>\n",
       "      <td>LCK/2020 Season/Spring Season/Scoreboards/Week...</td>\n",
       "    </tr>\n",
       "    <tr>\n",
       "      <th>1</th>\n",
       "      <td>82</td>\n",
       "      <td>TOP</td>\n",
       "      <td>JGL</td>\n",
       "      <td>113</td>\n",
       "      <td>True</td>\n",
       "      <td>LCK/2020 Season/Spring Season/Scoreboards/Week...</td>\n",
       "    </tr>\n",
       "  </tbody>\n",
       "</table>\n",
       "</div>"
      ],
      "text/plain": [
       "   champion_id_x role_x role_y  champion_id_y  win_x  \\\n",
       "0             82    TOP    TOP            266   True   \n",
       "1             82    TOP    JGL            113   True   \n",
       "\n",
       "                                             game_id  \n",
       "0  LCK/2020 Season/Spring Season/Scoreboards/Week...  \n",
       "1  LCK/2020 Season/Spring Season/Scoreboards/Week...  "
      ]
     },
     "execution_count": 58,
     "metadata": {},
     "output_type": "execute_result"
    }
   ],
   "source": [
    "test_blue_red = pd.merge(left=test_BLUE, right=test_RED, left_on= 'game_id', right_on= 'game_id')\n",
    "test_role = test_blue_red[['champion_id_x', 'role_x', 'role_y', 'champion_id_y', 'win_x', 'game_id']]\n",
    "test_role.head(2)"
   ]
  },
  {
   "cell_type": "code",
   "execution_count": 59,
   "metadata": {},
   "outputs": [
    {
     "name": "stderr",
     "output_type": "stream",
     "text": [
      "/tmp/ipykernel_9091/3081301178.py:2: SettingWithCopyWarning: \n",
      "A value is trying to be set on a copy of a slice from a DataFrame.\n",
      "Try using .loc[row_indexer,col_indexer] = value instead\n",
      "\n",
      "See the caveats in the documentation: https://pandas.pydata.org/pandas-docs/stable/user_guide/indexing.html#returning-a-view-versus-a-copy\n",
      "  test_same_role['same_role_win_rate'] = test_same_role.apply(lambda z:\n"
     ]
    },
    {
     "data": {
      "text/html": [
       "<div>\n",
       "<style scoped>\n",
       "    .dataframe tbody tr th:only-of-type {\n",
       "        vertical-align: middle;\n",
       "    }\n",
       "\n",
       "    .dataframe tbody tr th {\n",
       "        vertical-align: top;\n",
       "    }\n",
       "\n",
       "    .dataframe thead th {\n",
       "        text-align: right;\n",
       "    }\n",
       "</style>\n",
       "<table border=\"1\" class=\"dataframe\">\n",
       "  <thead>\n",
       "    <tr style=\"text-align: right;\">\n",
       "      <th></th>\n",
       "      <th>champion_id_x</th>\n",
       "      <th>role_x</th>\n",
       "      <th>role_y</th>\n",
       "      <th>champion_id_y</th>\n",
       "      <th>win_x</th>\n",
       "      <th>game_id</th>\n",
       "      <th>same_role_win_rate</th>\n",
       "    </tr>\n",
       "  </thead>\n",
       "  <tbody>\n",
       "    <tr>\n",
       "      <th>0</th>\n",
       "      <td>82</td>\n",
       "      <td>TOP</td>\n",
       "      <td>TOP</td>\n",
       "      <td>266</td>\n",
       "      <td>True</td>\n",
       "      <td>LCK/2020 Season/Spring Season/Scoreboards/Week...</td>\n",
       "      <td>0.295455</td>\n",
       "    </tr>\n",
       "    <tr>\n",
       "      <th>6</th>\n",
       "      <td>59</td>\n",
       "      <td>JGL</td>\n",
       "      <td>JGL</td>\n",
       "      <td>113</td>\n",
       "      <td>True</td>\n",
       "      <td>LCK/2020 Season/Spring Season/Scoreboards/Week...</td>\n",
       "      <td>0.558989</td>\n",
       "    </tr>\n",
       "  </tbody>\n",
       "</table>\n",
       "</div>"
      ],
      "text/plain": [
       "   champion_id_x role_x role_y  champion_id_y  win_x  \\\n",
       "0             82    TOP    TOP            266   True   \n",
       "6             59    JGL    JGL            113   True   \n",
       "\n",
       "                                             game_id  same_role_win_rate  \n",
       "0  LCK/2020 Season/Spring Season/Scoreboards/Week...            0.295455  \n",
       "6  LCK/2020 Season/Spring Season/Scoreboards/Week...            0.558989  "
      ]
     },
     "execution_count": 59,
     "metadata": {},
     "output_type": "execute_result"
    }
   ],
   "source": [
    "test_same_role = test_role[test_role['role_x'] == test_role['role_y']]\n",
    "test_same_role['same_role_win_rate'] = test_same_role.apply(lambda z: \n",
    "              get_vs_rate(z.champion_id_x, z.role_x, z.role_y, z.champion_id_y),\n",
    "              axis=1)\n",
    "test_same_role.head(2)"
   ]
  },
  {
   "cell_type": "code",
   "execution_count": 60,
   "metadata": {},
   "outputs": [
    {
     "data": {
      "text/html": [
       "<div>\n",
       "<style scoped>\n",
       "    .dataframe tbody tr th:only-of-type {\n",
       "        vertical-align: middle;\n",
       "    }\n",
       "\n",
       "    .dataframe tbody tr th {\n",
       "        vertical-align: top;\n",
       "    }\n",
       "\n",
       "    .dataframe thead th {\n",
       "        text-align: right;\n",
       "    }\n",
       "</style>\n",
       "<table border=\"1\" class=\"dataframe\">\n",
       "  <thead>\n",
       "    <tr style=\"text-align: right;\">\n",
       "      <th></th>\n",
       "      <th>id</th>\n",
       "      <th>patch</th>\n",
       "      <th>year</th>\n",
       "      <th>winner</th>\n",
       "      <th>mean_synergy_blue</th>\n",
       "      <th>mean_synergy_red</th>\n",
       "      <th>TOP</th>\n",
       "      <th>JGL</th>\n",
       "      <th>MID</th>\n",
       "      <th>BOT</th>\n",
       "      <th>SUP</th>\n",
       "    </tr>\n",
       "  </thead>\n",
       "  <tbody>\n",
       "    <tr>\n",
       "      <th>0</th>\n",
       "      <td>LCK/2020 Season/Spring Season/Scoreboards/Week...</td>\n",
       "      <td>10.3</td>\n",
       "      <td>2020</td>\n",
       "      <td>BLUE</td>\n",
       "      <td>0.488413</td>\n",
       "      <td>0.500616</td>\n",
       "      <td>0.295455</td>\n",
       "      <td>0.558989</td>\n",
       "      <td>0.588235</td>\n",
       "      <td>0.550725</td>\n",
       "      <td>0.500000</td>\n",
       "    </tr>\n",
       "    <tr>\n",
       "      <th>1</th>\n",
       "      <td>LLA/2020 Season/Opening Season/Scoreboards/Wee...</td>\n",
       "      <td>10.3</td>\n",
       "      <td>2020</td>\n",
       "      <td>BLUE</td>\n",
       "      <td>0.485404</td>\n",
       "      <td>0.477892</td>\n",
       "      <td>0.375000</td>\n",
       "      <td>0.474654</td>\n",
       "      <td>0.600000</td>\n",
       "      <td>0.583333</td>\n",
       "      <td>0.536585</td>\n",
       "    </tr>\n",
       "  </tbody>\n",
       "</table>\n",
       "</div>"
      ],
      "text/plain": [
       "                                                  id  patch  year winner  \\\n",
       "0  LCK/2020 Season/Spring Season/Scoreboards/Week...   10.3  2020   BLUE   \n",
       "1  LLA/2020 Season/Opening Season/Scoreboards/Wee...   10.3  2020   BLUE   \n",
       "\n",
       "   mean_synergy_blue  mean_synergy_red       TOP       JGL       MID  \\\n",
       "0           0.488413          0.500616  0.295455  0.558989  0.588235   \n",
       "1           0.485404          0.477892  0.375000  0.474654  0.600000   \n",
       "\n",
       "        BOT       SUP  \n",
       "0  0.550725  0.500000  \n",
       "1  0.583333  0.536585  "
      ]
     },
     "execution_count": 60,
     "metadata": {},
     "output_type": "execute_result"
    }
   ],
   "source": [
    "roles = ['TOP', 'JGL', 'MID', 'BOT', 'SUP']\n",
    "\n",
    "for role in roles:\n",
    "    test_role = test_same_role[test_same_role.role_x == role][['game_id', 'same_role_win_rate']]\n",
    "    test_role[role] = test_role['same_role_win_rate']\n",
    "    test_role['id'] = test_role['game_id']\n",
    "    test_role.drop(['game_id', 'same_role_win_rate'], axis=1, inplace=True)\n",
    "    test_teams_ML = pd.merge(test_teams_ML, test_role, on='id', how='inner')\n",
    "\n",
    "test_teams_ML.head(2)"
   ]
  },
  {
   "cell_type": "markdown",
   "metadata": {},
   "source": [
    "## Test the data"
   ]
  },
  {
   "cell_type": "code",
   "execution_count": 61,
   "metadata": {},
   "outputs": [],
   "source": [
    "y_test = LabelEncoder().fit(test_teams_ML.winner).transform(test_teams_ML.winner)\n",
    "X_test = test_teams_ML.drop(['id', 'winner', 'patch', 'year'], axis=1)"
   ]
  },
  {
   "cell_type": "code",
   "execution_count": 81,
   "metadata": {},
   "outputs": [
    {
     "data": {
      "text/plain": [
       "0.5092789346932993"
      ]
     },
     "execution_count": 81,
     "metadata": {},
     "output_type": "execute_result"
    }
   ],
   "source": [
    "pipe.score(X_test, y_test)"
   ]
  },
  {
   "cell_type": "code",
   "execution_count": 63,
   "metadata": {},
   "outputs": [
    {
     "name": "stdout",
     "output_type": "stream",
     "text": [
      "0.5092789346932993\n",
      "              precision    recall  f1-score   support\n",
      "\n",
      "           0       0.55      0.49      0.52      3809\n",
      "           1       0.47      0.53      0.50      3250\n",
      "\n",
      "    accuracy                           0.51      7059\n",
      "   macro avg       0.51      0.51      0.51      7059\n",
      "weighted avg       0.51      0.51      0.51      7059\n",
      "\n"
     ]
    }
   ],
   "source": [
    "from sklearn import metrics\n",
    "\n",
    "predicted = pipe.predict(X_test)\n",
    "print(metrics.accuracy_score(y_test, predicted))\n",
    "print(metrics.classification_report(y_test, predicted)) "
   ]
  },
  {
   "cell_type": "markdown",
   "metadata": {},
   "source": [
    "# Evaluate data"
   ]
  },
  {
   "cell_type": "markdown",
   "metadata": {},
   "source": [
    "## Import the evaluate data"
   ]
  },
  {
   "cell_type": "code",
   "execution_count": 67,
   "metadata": {},
   "outputs": [
    {
     "data": {
      "text/plain": [
       "(5, 25, 25)"
      ]
     },
     "execution_count": 67,
     "metadata": {},
     "output_type": "execute_result"
    }
   ],
   "source": [
    "#Import the data through the utils file\n",
    "eval_teams, eval_BLUE, eval_RED = get_train_data_only(train_data = False, evaluate_data = True)\n",
    "len(eval_teams), len(eval_BLUE), len(eval_RED)"
   ]
  },
  {
   "cell_type": "code",
   "execution_count": 69,
   "metadata": {},
   "outputs": [
    {
     "data": {
      "text/html": [
       "<div>\n",
       "<style scoped>\n",
       "    .dataframe tbody tr th:only-of-type {\n",
       "        vertical-align: middle;\n",
       "    }\n",
       "\n",
       "    .dataframe tbody tr th {\n",
       "        vertical-align: top;\n",
       "    }\n",
       "\n",
       "    .dataframe thead th {\n",
       "        text-align: right;\n",
       "    }\n",
       "</style>\n",
       "<table border=\"1\" class=\"dataframe\">\n",
       "  <thead>\n",
       "    <tr style=\"text-align: right;\">\n",
       "      <th></th>\n",
       "      <th>id</th>\n",
       "      <th>patch</th>\n",
       "      <th>year</th>\n",
       "      <th>winner</th>\n",
       "    </tr>\n",
       "  </thead>\n",
       "  <tbody>\n",
       "    <tr>\n",
       "      <th>31455</th>\n",
       "      <td>Magyar Nemzeti E-sport Bajnokság/Season 3/Scor...</td>\n",
       "      <td>11.9</td>\n",
       "      <td>2021</td>\n",
       "      <td>BLUE</td>\n",
       "    </tr>\n",
       "    <tr>\n",
       "      <th>31446</th>\n",
       "      <td>Magyar Nemzeti E-sport Bajnokság/Season 3/Scor...</td>\n",
       "      <td>11.9</td>\n",
       "      <td>2021</td>\n",
       "      <td>RED</td>\n",
       "    </tr>\n",
       "    <tr>\n",
       "      <th>31445</th>\n",
       "      <td>Magyar Nemzeti E-sport Bajnokság/Season 3/Scor...</td>\n",
       "      <td>11.9</td>\n",
       "      <td>2021</td>\n",
       "      <td>RED</td>\n",
       "    </tr>\n",
       "    <tr>\n",
       "      <th>31441</th>\n",
       "      <td>Magyar Nemzeti E-sport Bajnokság/Season 3/Scor...</td>\n",
       "      <td>11.9</td>\n",
       "      <td>2021</td>\n",
       "      <td>RED</td>\n",
       "    </tr>\n",
       "    <tr>\n",
       "      <th>31507</th>\n",
       "      <td>Magyar Nemzeti E-sport Bajnokság/Season 3/Scor...</td>\n",
       "      <td>11.9</td>\n",
       "      <td>2021</td>\n",
       "      <td>BLUE</td>\n",
       "    </tr>\n",
       "  </tbody>\n",
       "</table>\n",
       "</div>"
      ],
      "text/plain": [
       "                                                      id  patch  year winner\n",
       "31455  Magyar Nemzeti E-sport Bajnokság/Season 3/Scor...   11.9  2021   BLUE\n",
       "31446  Magyar Nemzeti E-sport Bajnokság/Season 3/Scor...   11.9  2021    RED\n",
       "31445  Magyar Nemzeti E-sport Bajnokság/Season 3/Scor...   11.9  2021    RED\n",
       "31441  Magyar Nemzeti E-sport Bajnokság/Season 3/Scor...   11.9  2021    RED\n",
       "31507  Magyar Nemzeti E-sport Bajnokság/Season 3/Scor...   11.9  2021   BLUE"
      ]
     },
     "execution_count": 69,
     "metadata": {},
     "output_type": "execute_result"
    }
   ],
   "source": [
    "#Teams DataFrame used for Machine Learning\n",
    "eval_teams_ML = eval_teams[['id', 'patch', 'year', 'winner']]\n",
    "eval_teams_ML.head(5)"
   ]
  },
  {
   "cell_type": "markdown",
   "metadata": {},
   "source": [
    "## Synergy Feature"
   ]
  },
  {
   "cell_type": "code",
   "execution_count": 70,
   "metadata": {},
   "outputs": [],
   "source": [
    "#Get the synergy of the Blue team champions\n",
    "eval_blue = pair_wise_synergy(eval_BLUE, champions_won_percentage_imputed, 'blue')\n",
    "eval_blue['id'] = eval_blue.index\n",
    "eval_teams_ML =pd.merge(eval_teams_ML, eval_blue, on='id', how='inner')"
   ]
  },
  {
   "cell_type": "code",
   "execution_count": 71,
   "metadata": {},
   "outputs": [],
   "source": [
    "#Get the synergy of the Red team champions\n",
    "eval_red = pair_wise_synergy(eval_RED, champions_won_percentage_imputed, 'red')\n",
    "eval_red['id'] = eval_red.index\n",
    "eval_teams_ML =pd.merge(eval_teams_ML, eval_red, on='id', how='inner')"
   ]
  },
  {
   "cell_type": "code",
   "execution_count": 72,
   "metadata": {},
   "outputs": [
    {
     "data": {
      "text/html": [
       "<div>\n",
       "<style scoped>\n",
       "    .dataframe tbody tr th:only-of-type {\n",
       "        vertical-align: middle;\n",
       "    }\n",
       "\n",
       "    .dataframe tbody tr th {\n",
       "        vertical-align: top;\n",
       "    }\n",
       "\n",
       "    .dataframe thead th {\n",
       "        text-align: right;\n",
       "    }\n",
       "</style>\n",
       "<table border=\"1\" class=\"dataframe\">\n",
       "  <thead>\n",
       "    <tr style=\"text-align: right;\">\n",
       "      <th></th>\n",
       "      <th>id</th>\n",
       "      <th>patch</th>\n",
       "      <th>year</th>\n",
       "      <th>winner</th>\n",
       "      <th>mean_synergy_blue</th>\n",
       "      <th>mean_synergy_red</th>\n",
       "    </tr>\n",
       "  </thead>\n",
       "  <tbody>\n",
       "    <tr>\n",
       "      <th>0</th>\n",
       "      <td>Magyar Nemzeti E-sport Bajnokság/Season 3/Scor...</td>\n",
       "      <td>11.9</td>\n",
       "      <td>2021</td>\n",
       "      <td>BLUE</td>\n",
       "      <td>0.482098</td>\n",
       "      <td>0.436252</td>\n",
       "    </tr>\n",
       "    <tr>\n",
       "      <th>1</th>\n",
       "      <td>Magyar Nemzeti E-sport Bajnokság/Season 3/Scor...</td>\n",
       "      <td>11.9</td>\n",
       "      <td>2021</td>\n",
       "      <td>RED</td>\n",
       "      <td>0.486850</td>\n",
       "      <td>0.492741</td>\n",
       "    </tr>\n",
       "    <tr>\n",
       "      <th>2</th>\n",
       "      <td>Magyar Nemzeti E-sport Bajnokság/Season 3/Scor...</td>\n",
       "      <td>11.9</td>\n",
       "      <td>2021</td>\n",
       "      <td>RED</td>\n",
       "      <td>0.481386</td>\n",
       "      <td>0.482032</td>\n",
       "    </tr>\n",
       "    <tr>\n",
       "      <th>3</th>\n",
       "      <td>Magyar Nemzeti E-sport Bajnokság/Season 3/Scor...</td>\n",
       "      <td>11.9</td>\n",
       "      <td>2021</td>\n",
       "      <td>RED</td>\n",
       "      <td>0.451278</td>\n",
       "      <td>0.531786</td>\n",
       "    </tr>\n",
       "    <tr>\n",
       "      <th>4</th>\n",
       "      <td>Magyar Nemzeti E-sport Bajnokság/Season 3/Scor...</td>\n",
       "      <td>11.9</td>\n",
       "      <td>2021</td>\n",
       "      <td>BLUE</td>\n",
       "      <td>0.508897</td>\n",
       "      <td>0.508237</td>\n",
       "    </tr>\n",
       "  </tbody>\n",
       "</table>\n",
       "</div>"
      ],
      "text/plain": [
       "                                                  id  patch  year winner  \\\n",
       "0  Magyar Nemzeti E-sport Bajnokság/Season 3/Scor...   11.9  2021   BLUE   \n",
       "1  Magyar Nemzeti E-sport Bajnokság/Season 3/Scor...   11.9  2021    RED   \n",
       "2  Magyar Nemzeti E-sport Bajnokság/Season 3/Scor...   11.9  2021    RED   \n",
       "3  Magyar Nemzeti E-sport Bajnokság/Season 3/Scor...   11.9  2021    RED   \n",
       "4  Magyar Nemzeti E-sport Bajnokság/Season 3/Scor...   11.9  2021   BLUE   \n",
       "\n",
       "   mean_synergy_blue  mean_synergy_red  \n",
       "0           0.482098          0.436252  \n",
       "1           0.486850          0.492741  \n",
       "2           0.481386          0.482032  \n",
       "3           0.451278          0.531786  \n",
       "4           0.508897          0.508237  "
      ]
     },
     "execution_count": 72,
     "metadata": {},
     "output_type": "execute_result"
    }
   ],
   "source": [
    "eval_teams_ML"
   ]
  },
  {
   "cell_type": "markdown",
   "metadata": {},
   "source": [
    "## Role rate winrate"
   ]
  },
  {
   "cell_type": "code",
   "execution_count": 73,
   "metadata": {},
   "outputs": [
    {
     "data": {
      "text/html": [
       "<div>\n",
       "<style scoped>\n",
       "    .dataframe tbody tr th:only-of-type {\n",
       "        vertical-align: middle;\n",
       "    }\n",
       "\n",
       "    .dataframe tbody tr th {\n",
       "        vertical-align: top;\n",
       "    }\n",
       "\n",
       "    .dataframe thead th {\n",
       "        text-align: right;\n",
       "    }\n",
       "</style>\n",
       "<table border=\"1\" class=\"dataframe\">\n",
       "  <thead>\n",
       "    <tr style=\"text-align: right;\">\n",
       "      <th></th>\n",
       "      <th>champion_id_x</th>\n",
       "      <th>role_x</th>\n",
       "      <th>role_y</th>\n",
       "      <th>champion_id_y</th>\n",
       "      <th>win_x</th>\n",
       "      <th>game_id</th>\n",
       "    </tr>\n",
       "  </thead>\n",
       "  <tbody>\n",
       "    <tr>\n",
       "      <th>0</th>\n",
       "      <td>54</td>\n",
       "      <td>TOP</td>\n",
       "      <td>TOP</td>\n",
       "      <td>150</td>\n",
       "      <td>True</td>\n",
       "      <td>Magyar Nemzeti E-sport Bajnokság/Season 3/Scor...</td>\n",
       "    </tr>\n",
       "    <tr>\n",
       "      <th>1</th>\n",
       "      <td>54</td>\n",
       "      <td>TOP</td>\n",
       "      <td>JGL</td>\n",
       "      <td>77</td>\n",
       "      <td>True</td>\n",
       "      <td>Magyar Nemzeti E-sport Bajnokság/Season 3/Scor...</td>\n",
       "    </tr>\n",
       "  </tbody>\n",
       "</table>\n",
       "</div>"
      ],
      "text/plain": [
       "   champion_id_x role_x role_y  champion_id_y  win_x  \\\n",
       "0             54    TOP    TOP            150   True   \n",
       "1             54    TOP    JGL             77   True   \n",
       "\n",
       "                                             game_id  \n",
       "0  Magyar Nemzeti E-sport Bajnokság/Season 3/Scor...  \n",
       "1  Magyar Nemzeti E-sport Bajnokság/Season 3/Scor...  "
      ]
     },
     "execution_count": 73,
     "metadata": {},
     "output_type": "execute_result"
    }
   ],
   "source": [
    "eval_blue_red = pd.merge(left=eval_BLUE, right=eval_RED, left_on= 'game_id', right_on= 'game_id')\n",
    "eval_role = eval_blue_red[['champion_id_x', 'role_x', 'role_y', 'champion_id_y', 'win_x', 'game_id']]\n",
    "eval_role.head(2)"
   ]
  },
  {
   "cell_type": "code",
   "execution_count": 76,
   "metadata": {},
   "outputs": [
    {
     "name": "stderr",
     "output_type": "stream",
     "text": [
      "/tmp/ipykernel_9091/69261384.py:2: SettingWithCopyWarning: \n",
      "A value is trying to be set on a copy of a slice from a DataFrame.\n",
      "Try using .loc[row_indexer,col_indexer] = value instead\n",
      "\n",
      "See the caveats in the documentation: https://pandas.pydata.org/pandas-docs/stable/user_guide/indexing.html#returning-a-view-versus-a-copy\n",
      "  eval_same_role['same_role_win_rate'] = eval_same_role.apply(lambda z:\n"
     ]
    },
    {
     "data": {
      "text/html": [
       "<div>\n",
       "<style scoped>\n",
       "    .dataframe tbody tr th:only-of-type {\n",
       "        vertical-align: middle;\n",
       "    }\n",
       "\n",
       "    .dataframe tbody tr th {\n",
       "        vertical-align: top;\n",
       "    }\n",
       "\n",
       "    .dataframe thead th {\n",
       "        text-align: right;\n",
       "    }\n",
       "</style>\n",
       "<table border=\"1\" class=\"dataframe\">\n",
       "  <thead>\n",
       "    <tr style=\"text-align: right;\">\n",
       "      <th></th>\n",
       "      <th>champion_id_x</th>\n",
       "      <th>role_x</th>\n",
       "      <th>role_y</th>\n",
       "      <th>champion_id_y</th>\n",
       "      <th>win_x</th>\n",
       "      <th>game_id</th>\n",
       "      <th>same_role_win_rate</th>\n",
       "    </tr>\n",
       "  </thead>\n",
       "  <tbody>\n",
       "    <tr>\n",
       "      <th>0</th>\n",
       "      <td>54</td>\n",
       "      <td>TOP</td>\n",
       "      <td>TOP</td>\n",
       "      <td>150</td>\n",
       "      <td>True</td>\n",
       "      <td>Magyar Nemzeti E-sport Bajnokság/Season 3/Scor...</td>\n",
       "      <td>0.750000</td>\n",
       "    </tr>\n",
       "    <tr>\n",
       "      <th>6</th>\n",
       "      <td>56</td>\n",
       "      <td>JGL</td>\n",
       "      <td>JGL</td>\n",
       "      <td>77</td>\n",
       "      <td>True</td>\n",
       "      <td>Magyar Nemzeti E-sport Bajnokság/Season 3/Scor...</td>\n",
       "      <td>0.500000</td>\n",
       "    </tr>\n",
       "    <tr>\n",
       "      <th>12</th>\n",
       "      <td>84</td>\n",
       "      <td>MID</td>\n",
       "      <td>MID</td>\n",
       "      <td>134</td>\n",
       "      <td>True</td>\n",
       "      <td>Magyar Nemzeti E-sport Bajnokság/Season 3/Scor...</td>\n",
       "      <td>0.472222</td>\n",
       "    </tr>\n",
       "    <tr>\n",
       "      <th>18</th>\n",
       "      <td>145</td>\n",
       "      <td>BOT</td>\n",
       "      <td>BOT</td>\n",
       "      <td>96</td>\n",
       "      <td>True</td>\n",
       "      <td>Magyar Nemzeti E-sport Bajnokság/Season 3/Scor...</td>\n",
       "      <td>0.473684</td>\n",
       "    </tr>\n",
       "    <tr>\n",
       "      <th>24</th>\n",
       "      <td>526</td>\n",
       "      <td>SUP</td>\n",
       "      <td>SUP</td>\n",
       "      <td>117</td>\n",
       "      <td>True</td>\n",
       "      <td>Magyar Nemzeti E-sport Bajnokság/Season 3/Scor...</td>\n",
       "      <td>0.500000</td>\n",
       "    </tr>\n",
       "  </tbody>\n",
       "</table>\n",
       "</div>"
      ],
      "text/plain": [
       "    champion_id_x role_x role_y  champion_id_y  win_x  \\\n",
       "0              54    TOP    TOP            150   True   \n",
       "6              56    JGL    JGL             77   True   \n",
       "12             84    MID    MID            134   True   \n",
       "18            145    BOT    BOT             96   True   \n",
       "24            526    SUP    SUP            117   True   \n",
       "\n",
       "                                              game_id  same_role_win_rate  \n",
       "0   Magyar Nemzeti E-sport Bajnokság/Season 3/Scor...            0.750000  \n",
       "6   Magyar Nemzeti E-sport Bajnokság/Season 3/Scor...            0.500000  \n",
       "12  Magyar Nemzeti E-sport Bajnokság/Season 3/Scor...            0.472222  \n",
       "18  Magyar Nemzeti E-sport Bajnokság/Season 3/Scor...            0.473684  \n",
       "24  Magyar Nemzeti E-sport Bajnokság/Season 3/Scor...            0.500000  "
      ]
     },
     "execution_count": 76,
     "metadata": {},
     "output_type": "execute_result"
    }
   ],
   "source": [
    "eval_same_role = eval_role[eval_role['role_x'] == eval_role['role_y']]\n",
    "eval_same_role['same_role_win_rate'] = eval_same_role.apply(lambda z: \n",
    "              get_vs_rate(z.champion_id_x, z.role_x, z.role_y, z.champion_id_y),\n",
    "              axis=1)\n",
    "eval_same_role.head(5)"
   ]
  },
  {
   "cell_type": "code",
   "execution_count": 77,
   "metadata": {},
   "outputs": [
    {
     "data": {
      "text/html": [
       "<div>\n",
       "<style scoped>\n",
       "    .dataframe tbody tr th:only-of-type {\n",
       "        vertical-align: middle;\n",
       "    }\n",
       "\n",
       "    .dataframe tbody tr th {\n",
       "        vertical-align: top;\n",
       "    }\n",
       "\n",
       "    .dataframe thead th {\n",
       "        text-align: right;\n",
       "    }\n",
       "</style>\n",
       "<table border=\"1\" class=\"dataframe\">\n",
       "  <thead>\n",
       "    <tr style=\"text-align: right;\">\n",
       "      <th></th>\n",
       "      <th>id</th>\n",
       "      <th>patch</th>\n",
       "      <th>year</th>\n",
       "      <th>winner</th>\n",
       "      <th>mean_synergy_blue</th>\n",
       "      <th>mean_synergy_red</th>\n",
       "      <th>TOP</th>\n",
       "      <th>JGL</th>\n",
       "      <th>MID</th>\n",
       "      <th>BOT</th>\n",
       "      <th>SUP</th>\n",
       "    </tr>\n",
       "  </thead>\n",
       "  <tbody>\n",
       "    <tr>\n",
       "      <th>0</th>\n",
       "      <td>Magyar Nemzeti E-sport Bajnokság/Season 3/Scor...</td>\n",
       "      <td>11.9</td>\n",
       "      <td>2021</td>\n",
       "      <td>BLUE</td>\n",
       "      <td>0.482098</td>\n",
       "      <td>0.436252</td>\n",
       "      <td>0.75</td>\n",
       "      <td>0.5</td>\n",
       "      <td>0.472222</td>\n",
       "      <td>0.473684</td>\n",
       "      <td>0.50000</td>\n",
       "    </tr>\n",
       "    <tr>\n",
       "      <th>1</th>\n",
       "      <td>Magyar Nemzeti E-sport Bajnokság/Season 3/Scor...</td>\n",
       "      <td>11.9</td>\n",
       "      <td>2021</td>\n",
       "      <td>RED</td>\n",
       "      <td>0.486850</td>\n",
       "      <td>0.492741</td>\n",
       "      <td>0.50</td>\n",
       "      <td>0.5</td>\n",
       "      <td>0.518519</td>\n",
       "      <td>0.363636</td>\n",
       "      <td>0.45283</td>\n",
       "    </tr>\n",
       "  </tbody>\n",
       "</table>\n",
       "</div>"
      ],
      "text/plain": [
       "                                                  id  patch  year winner  \\\n",
       "0  Magyar Nemzeti E-sport Bajnokság/Season 3/Scor...   11.9  2021   BLUE   \n",
       "1  Magyar Nemzeti E-sport Bajnokság/Season 3/Scor...   11.9  2021    RED   \n",
       "\n",
       "   mean_synergy_blue  mean_synergy_red   TOP  JGL       MID       BOT      SUP  \n",
       "0           0.482098          0.436252  0.75  0.5  0.472222  0.473684  0.50000  \n",
       "1           0.486850          0.492741  0.50  0.5  0.518519  0.363636  0.45283  "
      ]
     },
     "execution_count": 77,
     "metadata": {},
     "output_type": "execute_result"
    }
   ],
   "source": [
    "roles = ['TOP', 'JGL', 'MID', 'BOT', 'SUP']\n",
    "\n",
    "for role in roles:\n",
    "    eval_role = eval_same_role[eval_same_role.role_x == role][['game_id', 'same_role_win_rate']]\n",
    "    eval_role[role] = eval_role['same_role_win_rate']\n",
    "    eval_role['id'] = eval_role['game_id']\n",
    "    eval_role.drop(['game_id', 'same_role_win_rate'], axis=1, inplace=True)\n",
    "    eval_teams_ML = pd.merge(eval_teams_ML, eval_role, on='id', how='inner')\n",
    "\n",
    "eval_teams_ML.head(2)"
   ]
  },
  {
   "cell_type": "code",
   "execution_count": 78,
   "metadata": {},
   "outputs": [],
   "source": [
    "y_eval = LabelEncoder().fit(eval_teams_ML.winner).transform(eval_teams_ML.winner)\n",
    "X_eval = eval_teams_ML.drop(['id', 'winner', 'patch', 'year'], axis=1)"
   ]
  },
  {
   "cell_type": "code",
   "execution_count": 85,
   "metadata": {},
   "outputs": [
    {
     "data": {
      "text/plain": [
       "(array([0, 1, 0, 1, 0]), array([0, 1, 1, 1, 0]))"
      ]
     },
     "execution_count": 85,
     "metadata": {},
     "output_type": "execute_result"
    }
   ],
   "source": [
    "pipe.predict(X_eval), y_eval"
   ]
  }
 ],
 "metadata": {
  "colab": {
   "collapsed_sections": [],
   "name": "LeagueOfLeguends.ipynb",
   "provenance": []
  },
  "kernelspec": {
   "display_name": "Python 3 (ipykernel)",
   "language": "python",
   "name": "python3"
  },
  "language_info": {
   "codemirror_mode": {
    "name": "ipython",
    "version": 3
   },
   "file_extension": ".py",
   "mimetype": "text/x-python",
   "name": "python",
   "nbconvert_exporter": "python",
   "pygments_lexer": "ipython3",
   "version": "3.8.12"
  },
  "toc": {
   "base_numbering": 1,
   "nav_menu": {},
   "number_sections": true,
   "sideBar": true,
   "skip_h1_title": false,
   "title_cell": "Table of Contents",
   "title_sidebar": "Contents",
   "toc_cell": false,
   "toc_position": {},
   "toc_section_display": true,
   "toc_window_display": false
  }
 },
 "nbformat": 4,
 "nbformat_minor": 1
}
