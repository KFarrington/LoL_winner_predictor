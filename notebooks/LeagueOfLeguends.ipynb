{
 "cells": [
  {
   "cell_type": "markdown",
   "metadata": {
    "id": "YtkEhgkn_mID"
   },
   "source": [
    "# Import data\n",
    "Training data"
   ]
  },
  {
   "cell_type": "code",
   "execution_count": 1,
   "metadata": {},
   "outputs": [],
   "source": [
    "%load_ext autoreload\n",
    "%autoreload 2"
   ]
  },
  {
   "cell_type": "code",
   "execution_count": 2,
   "metadata": {
    "id": "vBs4Cf-89OF1"
   },
   "outputs": [],
   "source": [
    "from utils import get_train_data_only\n",
    "df_teams, df_BLUE, df_RED = get_train_data_only()"
   ]
  },
  {
   "cell_type": "code",
   "execution_count": 3,
   "metadata": {
    "colab": {
     "base_uri": "https://localhost:8080/"
    },
    "id": "EF9z6ufuG3VT",
    "outputId": "7397fc5d-7bfe-4462-b76e-bda5ee49d875"
   },
   "outputs": [
    {
     "data": {
      "text/plain": [
       "(28186, 140930, 140930)"
      ]
     },
     "execution_count": 3,
     "metadata": {},
     "output_type": "execute_result"
    }
   ],
   "source": [
    "#How many data points we have\n",
    "len(df_teams), len(df_BLUE), len(df_RED)"
   ]
  },
  {
   "cell_type": "code",
   "execution_count": 4,
   "metadata": {
    "colab": {
     "base_uri": "https://localhost:8080/",
     "height": 206
    },
    "id": "JW13djkUuUyw",
    "outputId": "f145f02b-9bc1-4dda-8c66-cf74c7474b49"
   },
   "outputs": [
    {
     "data": {
      "text/html": [
       "<div>\n",
       "<style scoped>\n",
       "    .dataframe tbody tr th:only-of-type {\n",
       "        vertical-align: middle;\n",
       "    }\n",
       "\n",
       "    .dataframe tbody tr th {\n",
       "        vertical-align: top;\n",
       "    }\n",
       "\n",
       "    .dataframe thead th {\n",
       "        text-align: right;\n",
       "    }\n",
       "</style>\n",
       "<table border=\"1\" class=\"dataframe\">\n",
       "  <thead>\n",
       "    <tr style=\"text-align: right;\">\n",
       "      <th></th>\n",
       "      <th>id</th>\n",
       "      <th>patch</th>\n",
       "      <th>year</th>\n",
       "      <th>winner</th>\n",
       "    </tr>\n",
       "  </thead>\n",
       "  <tbody>\n",
       "    <tr>\n",
       "      <th>25053</th>\n",
       "      <td>OPL/2020 Season/Split 2 Playoffs/Scoreboards_2_3</td>\n",
       "      <td>10.16</td>\n",
       "      <td>2020</td>\n",
       "      <td>BLUE</td>\n",
       "    </tr>\n",
       "    <tr>\n",
       "      <th>29321</th>\n",
       "      <td>Baltic Masters/2021 Season/Spring Playoffs/Sco...</td>\n",
       "      <td>11.40</td>\n",
       "      <td>2021</td>\n",
       "      <td>BLUE</td>\n",
       "    </tr>\n",
       "    <tr>\n",
       "      <th>24714</th>\n",
       "      <td>NLC/2020 Season/Summer Playoffs/Scoreboards_5_1</td>\n",
       "      <td>10.15</td>\n",
       "      <td>2020</td>\n",
       "      <td>BLUE</td>\n",
       "    </tr>\n",
       "    <tr>\n",
       "      <th>20355</th>\n",
       "      <td>OPL/2020 Season/Split 1/Scoreboards/Week 9_1_1</td>\n",
       "      <td>10.60</td>\n",
       "      <td>2020</td>\n",
       "      <td>BLUE</td>\n",
       "    </tr>\n",
       "    <tr>\n",
       "      <th>30462</th>\n",
       "      <td>LCK CL/2021 Season/Spring Season/Scoreboards/W...</td>\n",
       "      <td>11.50</td>\n",
       "      <td>2021</td>\n",
       "      <td>BLUE</td>\n",
       "    </tr>\n",
       "  </tbody>\n",
       "</table>\n",
       "</div>"
      ],
      "text/plain": [
       "                                                      id  patch  year winner\n",
       "25053   OPL/2020 Season/Split 2 Playoffs/Scoreboards_2_3  10.16  2020   BLUE\n",
       "29321  Baltic Masters/2021 Season/Spring Playoffs/Sco...  11.40  2021   BLUE\n",
       "24714    NLC/2020 Season/Summer Playoffs/Scoreboards_5_1  10.15  2020   BLUE\n",
       "20355     OPL/2020 Season/Split 1/Scoreboards/Week 9_1_1  10.60  2020   BLUE\n",
       "30462  LCK CL/2021 Season/Spring Season/Scoreboards/W...  11.50  2021   BLUE"
      ]
     },
     "execution_count": 4,
     "metadata": {},
     "output_type": "execute_result"
    }
   ],
   "source": [
    "#Teams DataFrame used for Machine Learning\n",
    "df_teams_ML = df_teams[['id', 'patch', 'year', 'winner']]\n",
    "df_teams_ML.head()"
   ]
  },
  {
   "cell_type": "code",
   "execution_count": 5,
   "metadata": {
    "id": "v9jDP0igop2z"
   },
   "outputs": [],
   "source": [
    "import numpy as np \n",
    "import pandas as pd\n",
    "from tqdm import tqdm"
   ]
  },
  {
   "cell_type": "markdown",
   "metadata": {
    "id": "vFqs22pz_J2C"
   },
   "source": [
    "# Feature Engineering\n",
    "\n",
    "## Feature 1: Synergy between champions of the same team (rate of victory for a pair of champions playing together)"
   ]
  },
  {
   "cell_type": "code",
   "execution_count": 6,
   "metadata": {},
   "outputs": [
    {
     "name": "stderr",
     "output_type": "stream",
     "text": [
      "100%|██████████████████████████████████████████████████████████████| 154/154 [03:10<00:00,  1.24s/it]\n",
      "100%|██████████████████████████████████████████████████████████████| 154/154 [01:39<00:00,  1.54it/s]\n"
     ]
    }
   ],
   "source": [
    "from build_rate_matrix import synergy_matrix\n",
    "champions_won_percentage_imputed = synergy_matrix(df_BLUE, df_RED)"
   ]
  },
  {
   "cell_type": "code",
   "execution_count": 7,
   "metadata": {
    "colab": {
     "base_uri": "https://localhost:8080/"
    },
    "id": "aOeAd1bxx6T7",
    "outputId": "b43342d1-a62d-4908-d013-4468ed3719a3"
   },
   "outputs": [
    {
     "data": {
      "text/plain": [
       "0"
      ]
     },
     "execution_count": 7,
     "metadata": {},
     "output_type": "execute_result"
    }
   ],
   "source": [
    "#check that there is no division by zero\n",
    "np.isinf(champions_won_percentage_imputed).values.sum()"
   ]
  },
  {
   "cell_type": "code",
   "execution_count": 8,
   "metadata": {
    "colab": {
     "base_uri": "https://localhost:8080/"
    },
    "id": "y8aK5zRVyCPn",
    "outputId": "4078811b-4de4-4f08-f500-c38a469e4f93"
   },
   "outputs": [
    {
     "data": {
      "text/plain": [
       "0"
      ]
     },
     "execution_count": 8,
     "metadata": {},
     "output_type": "execute_result"
    }
   ],
   "source": [
    "#check how many values have been imputed\n",
    "np.isnan(champions_won_percentage_imputed).values.sum()#, np.isnan(champions_won_percentage).values.sum()"
   ]
  },
  {
   "cell_type": "code",
   "execution_count": 12,
   "metadata": {},
   "outputs": [],
   "source": [
    "from transformers import SynergyFeature\n",
    "\n",
    "synergy_feature = SynergyFeature('blue', df_BLUE)\n",
    "\n",
    "####It's working until here!!!!!"
   ]
  },
  {
   "cell_type": "code",
   "execution_count": 9,
   "metadata": {
    "id": "pQUT_EP5xe8J"
   },
   "outputs": [
    {
     "ename": "NameError",
     "evalue": "name 'pair_wise_synergy' is not defined",
     "output_type": "error",
     "traceback": [
      "\u001b[0;31m---------------------------------------------------------------------------\u001b[0m",
      "\u001b[0;31mNameError\u001b[0m                                 Traceback (most recent call last)",
      "\u001b[0;32m/tmp/ipykernel_12887/2094287426.py\u001b[0m in \u001b[0;36m<module>\u001b[0;34m\u001b[0m\n\u001b[1;32m      1\u001b[0m \u001b[0;31m#Get the synergy of the Blue team champions\u001b[0m\u001b[0;34m\u001b[0m\u001b[0;34m\u001b[0m\u001b[0;34m\u001b[0m\u001b[0m\n\u001b[1;32m      2\u001b[0m \u001b[0;34m\u001b[0m\u001b[0m\n\u001b[0;32m----> 3\u001b[0;31m \u001b[0mdf_blue\u001b[0m \u001b[0;34m=\u001b[0m \u001b[0mpair_wise_synergy\u001b[0m\u001b[0;34m(\u001b[0m\u001b[0mdf_BLUE\u001b[0m\u001b[0;34m,\u001b[0m \u001b[0mchampions_won_percentage_imputed\u001b[0m\u001b[0;34m,\u001b[0m \u001b[0;34m'blue'\u001b[0m\u001b[0;34m)\u001b[0m\u001b[0;34m\u001b[0m\u001b[0;34m\u001b[0m\u001b[0m\n\u001b[0m\u001b[1;32m      4\u001b[0m \u001b[0mdf_blue\u001b[0m\u001b[0;34m[\u001b[0m\u001b[0;34m'id'\u001b[0m\u001b[0;34m]\u001b[0m \u001b[0;34m=\u001b[0m \u001b[0mdf_blue\u001b[0m\u001b[0;34m.\u001b[0m\u001b[0mindex\u001b[0m\u001b[0;34m\u001b[0m\u001b[0;34m\u001b[0m\u001b[0m\n\u001b[1;32m      5\u001b[0m \u001b[0mdf_teams_ML\u001b[0m \u001b[0;34m=\u001b[0m\u001b[0mpd\u001b[0m\u001b[0;34m.\u001b[0m\u001b[0mmerge\u001b[0m\u001b[0;34m(\u001b[0m\u001b[0mdf_teams_ML\u001b[0m\u001b[0;34m,\u001b[0m \u001b[0mdf_blue\u001b[0m\u001b[0;34m,\u001b[0m \u001b[0mon\u001b[0m\u001b[0;34m=\u001b[0m\u001b[0;34m'id'\u001b[0m\u001b[0;34m,\u001b[0m \u001b[0mhow\u001b[0m\u001b[0;34m=\u001b[0m\u001b[0;34m'inner'\u001b[0m\u001b[0;34m)\u001b[0m\u001b[0;34m\u001b[0m\u001b[0;34m\u001b[0m\u001b[0m\n",
      "\u001b[0;31mNameError\u001b[0m: name 'pair_wise_synergy' is not defined"
     ]
    }
   ],
   "source": [
    "#Get the synergy of the Blue team champions\n",
    "\n",
    "df_blue = pair_wise_synergy(df_BLUE, champions_won_percentage_imputed, 'blue')\n",
    "df_blue['id'] = df_blue.index\n",
    "df_teams_ML =pd.merge(df_teams_ML, df_blue, on='id', how='inner')"
   ]
  },
  {
   "cell_type": "code",
   "execution_count": null,
   "metadata": {
    "colab": {
     "base_uri": "https://localhost:8080/",
     "height": 206
    },
    "id": "AqNeGoTA9Kux",
    "outputId": "de4f5731-3cd3-4837-efa6-9c413b0fc712"
   },
   "outputs": [],
   "source": [
    "df_teams_ML.head()"
   ]
  },
  {
   "cell_type": "markdown",
   "metadata": {
    "id": "1i1h8lUj_Cfb"
   },
   "source": [
    "## Feature 2: Win rate of champions against the same ROLE of the other team's champion"
   ]
  },
  {
   "cell_type": "code",
   "execution_count": null,
   "metadata": {
    "id": "6gEJI3SA_CRS"
   },
   "outputs": [],
   "source": [
    "df_BLUE_RED = pd.merge(left=df_BLUE, right=df_RED, left_on= 'game_id', right_on= 'game_id')\n",
    "df_role = df_BLUE_RED[['champion_id_x', 'role_x', 'role_y', 'champion_id_y', 'win_x', 'game_id']]"
   ]
  },
  {
   "cell_type": "code",
   "execution_count": null,
   "metadata": {
    "colab": {
     "base_uri": "https://localhost:8080/",
     "height": 455
    },
    "id": "k-xYDkUNBzmB",
    "outputId": "7f1a7271-eae1-4437-8a8c-c616e6e5af2b"
   },
   "outputs": [],
   "source": [
    "#times that a given champion won or lost against another champion\n",
    "champion_vs_champion = pd.DataFrame(df_role[['champion_id_x', 'role_x', 'role_y', 'champion_id_y', 'win_x']].value_counts())\n",
    "champion_vs_champion"
   ]
  },
  {
   "cell_type": "code",
   "execution_count": null,
   "metadata": {
    "colab": {
     "base_uri": "https://localhost:8080/",
     "height": 455
    },
    "id": "QDIg1WZBFRNl",
    "outputId": "2407fe7e-e8a1-4dc0-aae5-9be2040eb458"
   },
   "outputs": [],
   "source": [
    "#times that a given champion played against another champion by role\n",
    "total_champion_vs_champion = pd.DataFrame(df_BLUE_RED[['champion_id_x', 'role_x', 'role_y', 'champion_id_y']].value_counts())\n",
    "total_champion_vs_champion"
   ]
  },
  {
   "cell_type": "code",
   "execution_count": null,
   "metadata": {
    "colab": {
     "base_uri": "https://localhost:8080/",
     "height": 455
    },
    "id": "9nY1738fCWFR",
    "outputId": "4b77686f-1dfc-4484-e51c-85328a5af064"
   },
   "outputs": [],
   "source": [
    "#percentage of times that a champion has lost or won against another champion\n",
    "rate_champion_vs_champion = champion_vs_champion.div(total_champion_vs_champion)\n",
    "rate_champion_vs_champion"
   ]
  },
  {
   "cell_type": "code",
   "execution_count": null,
   "metadata": {
    "id": "jS_MyX0xSJBA"
   },
   "outputs": [],
   "source": [
    "global rate_role\n",
    "rate_role = rate_champion_vs_champion"
   ]
  },
  {
   "cell_type": "code",
   "execution_count": null,
   "metadata": {
    "id": "jCWICmB5YuBc"
   },
   "outputs": [],
   "source": [
    "def get_vs_rate(id_x, role_x, role_y, id_y):\n",
    "    try:\n",
    "      x = rate_champion_vs_champion.loc[id_x, role_x, role_y, id_y, True]\n",
    "    except KeyError:\n",
    "        try:\n",
    "          x = 1-rate_champion_vs_champion.loc[id_x, role_x, role_y, id_y, False]\n",
    "        except KeyError:\n",
    "          x = 0.5\n",
    "    return x"
   ]
  },
  {
   "cell_type": "code",
   "execution_count": null,
   "metadata": {
    "colab": {
     "base_uri": "https://localhost:8080/",
     "height": 534
    },
    "id": "Q7ixDOt2IMOJ",
    "outputId": "fea71737-f330-41bc-bfdd-184b42cd2905"
   },
   "outputs": [],
   "source": [
    "df_same_role = df_role[df_role['role_x'] == df_role['role_y']]\n",
    "df_same_role['same_role_win_rate'] = df_same_role.apply(lambda z: \n",
    "              get_vs_rate(z.champion_id_x, z.role_x, z.role_y, z.champion_id_y),\n",
    "              axis=1)\n",
    "df_same_role"
   ]
  },
  {
   "cell_type": "code",
   "execution_count": null,
   "metadata": {
    "colab": {
     "base_uri": "https://localhost:8080/",
     "height": 424
    },
    "id": "0ciqbK6IdS5K",
    "outputId": "b030996a-a99a-4a1d-bc58-2851f09714e2"
   },
   "outputs": [],
   "source": [
    "roles = ['TOP', 'JGL', 'MID', 'BOT', 'SUP']\n",
    "\n",
    "for role in roles:\n",
    "    df_role = df_same_role[df_same_role.role_x == role][['game_id', 'same_role_win_rate']]\n",
    "    df_role[role] = df_role['same_role_win_rate']\n",
    "    df_role['id'] = df_role['game_id']\n",
    "    df_role.drop(['game_id', 'same_role_win_rate'], axis=1, inplace=True)\n",
    "    df_teams_ML = pd.merge(df_teams_ML, df_role, on='id', how='inner')\n",
    "\n",
    "df_teams_ML"
   ]
  },
  {
   "cell_type": "markdown",
   "metadata": {
    "id": "MfprQYoGjVhi"
   },
   "source": [
    "## Feature 3: Simple averages"
   ]
  },
  {
   "cell_type": "code",
   "execution_count": null,
   "metadata": {
    "id": "NSrNwe5sjU2R"
   },
   "outputs": [],
   "source": []
  },
  {
   "cell_type": "markdown",
   "metadata": {
    "id": "uTRqUG6vhiuT"
   },
   "source": [
    "# Machine Learning"
   ]
  },
  {
   "cell_type": "markdown",
   "metadata": {
    "id": "8NEUHNxThmhc"
   },
   "source": [
    "## Pipe with logit regression"
   ]
  },
  {
   "cell_type": "code",
   "execution_count": null,
   "metadata": {
    "colab": {
     "base_uri": "https://localhost:8080/",
     "height": 227
    },
    "id": "WMyJozmthl2C",
    "outputId": "db86d7ac-bb1f-4e3b-9bb7-e7254224baa0"
   },
   "outputs": [],
   "source": [
    "from sklearn.preprocessing import MinMaxScaler\n",
    "from sklearn.impute import SimpleImputer\n",
    "from sklearn.preprocessing import OneHotEncoder\n",
    "from sklearn.pipeline import make_pipeline\n",
    "from sklearn.linear_model import LogisticRegression\n",
    "from sklearn.compose import make_column_transformer\n",
    "from sklearn.compose import make_column_selector\n",
    "from sklearn import set_config; set_config(display='diagram')\n",
    "\n",
    "\n",
    "# Impute then Scale for numerical variables: \n",
    "num_transformer = make_pipeline(\n",
    "                    SimpleImputer(strategy = 'mean'),\n",
    "                    MinMaxScaler())\n",
    "\n",
    "# Encode categorical variables\n",
    "cat_transformer = OneHotEncoder(sparse = False)#, handle_unknown='ignore')\n",
    "\n",
    "# Paralellize \"num_transformer\" and \"One hot encoder\"\n",
    "preproc = make_column_transformer(\n",
    "    (num_transformer, make_column_selector(dtype_include=['float64'])),\n",
    "    (cat_transformer, make_column_selector(dtype_include=['object','bool'])),\n",
    "    remainder='passthrough')\n",
    "\n",
    "#add model\n",
    "pipe = make_pipeline(preproc, LogisticRegression(solver='liblinear'))\n",
    "pipe"
   ]
  },
  {
   "cell_type": "code",
   "execution_count": null,
   "metadata": {
    "id": "B_lFhTwOhfFY"
   },
   "outputs": [],
   "source": [
    "from sklearn.preprocessing import LabelEncoder\n",
    "\n",
    "y_train = LabelEncoder().fit(df_teams_ML.winner).transform(df_teams_ML.winner)\n",
    "X_train = df_teams_ML.drop(['id', 'winner', 'patch', 'year'], axis=1)"
   ]
  },
  {
   "cell_type": "code",
   "execution_count": null,
   "metadata": {
    "colab": {
     "base_uri": "https://localhost:8080/",
     "height": 227
    },
    "id": "8I4ft2QaiLHz",
    "outputId": "fa00e3fd-7e4e-4f5a-b01c-9f242527661c"
   },
   "outputs": [],
   "source": [
    "# Train pipeline\n",
    "pipe.fit(X_train,y_train)"
   ]
  },
  {
   "cell_type": "code",
   "execution_count": null,
   "metadata": {
    "colab": {
     "base_uri": "https://localhost:8080/"
    },
    "id": "pS5NAvakiVqz",
    "outputId": "291b740d-98c0-4f96-a9f8-9c2521f21d9c"
   },
   "outputs": [],
   "source": [
    "from sklearn.model_selection import cross_val_score\n",
    "\n",
    "# Cross validate pipeline\n",
    "cross_val_score(pipe, X_train, y_train, cv=20, scoring='accuracy').mean()"
   ]
  },
  {
   "cell_type": "markdown",
   "metadata": {},
   "source": [
    "# Use the test data"
   ]
  },
  {
   "cell_type": "markdown",
   "metadata": {},
   "source": [
    "## Import the test data"
   ]
  },
  {
   "cell_type": "code",
   "execution_count": null,
   "metadata": {},
   "outputs": [],
   "source": [
    "#Import the data through the utils file\n",
    "test_teams, test_BLUE, test_RED = get_train_data_only(train_data = False, test_data = True)\n",
    "len(test_teams), len(test_BLUE), len(test_RED)"
   ]
  },
  {
   "cell_type": "code",
   "execution_count": null,
   "metadata": {},
   "outputs": [],
   "source": [
    "#Teams DataFrame used for Machine Learning\n",
    "test_teams_ML = test_teams[['id', 'patch', 'year', 'winner']]\n",
    "test_teams_ML.head(2)"
   ]
  },
  {
   "cell_type": "markdown",
   "metadata": {},
   "source": [
    "## Synergy feature"
   ]
  },
  {
   "cell_type": "code",
   "execution_count": null,
   "metadata": {},
   "outputs": [],
   "source": [
    "#Get the synergy of the Blue team champions\n",
    "test_blue = pair_wise_synergy(test_BLUE, champions_won_percentage_imputed, 'blue')\n",
    "test_blue['id'] = test_blue.index\n",
    "test_teams_ML =pd.merge(test_teams_ML, test_blue, on='id', how='inner')"
   ]
  },
  {
   "cell_type": "code",
   "execution_count": null,
   "metadata": {},
   "outputs": [],
   "source": [
    "#Get the synergy of the Red team champions\n",
    "test_red = pair_wise_synergy(test_RED, champions_won_percentage_imputed, 'red')\n",
    "test_red['id'] = test_red.index\n",
    "test_teams_ML =pd.merge(test_teams_ML, test_red, on='id', how='inner')"
   ]
  },
  {
   "cell_type": "code",
   "execution_count": null,
   "metadata": {},
   "outputs": [],
   "source": [
    "test_teams_ML.head(2)"
   ]
  },
  {
   "cell_type": "markdown",
   "metadata": {},
   "source": [
    "## Role rate winrate"
   ]
  },
  {
   "cell_type": "code",
   "execution_count": null,
   "metadata": {},
   "outputs": [],
   "source": [
    "test_blue_red = pd.merge(left=test_BLUE, right=test_RED, left_on= 'game_id', right_on= 'game_id')\n",
    "test_role = test_blue_red[['champion_id_x', 'role_x', 'role_y', 'champion_id_y', 'win_x', 'game_id']]\n",
    "test_role.head(2)"
   ]
  },
  {
   "cell_type": "code",
   "execution_count": null,
   "metadata": {},
   "outputs": [],
   "source": [
    "test_same_role = test_role[test_role['role_x'] == test_role['role_y']]\n",
    "test_same_role['same_role_win_rate'] = test_same_role.apply(lambda z: \n",
    "              get_vs_rate(z.champion_id_x, z.role_x, z.role_y, z.champion_id_y),\n",
    "              axis=1)\n",
    "test_same_role.head(2)"
   ]
  },
  {
   "cell_type": "code",
   "execution_count": null,
   "metadata": {},
   "outputs": [],
   "source": [
    "roles = ['TOP', 'JGL', 'MID', 'BOT', 'SUP']\n",
    "\n",
    "for role in roles:\n",
    "    test_role = test_same_role[test_same_role.role_x == role][['game_id', 'same_role_win_rate']]\n",
    "    test_role[role] = test_role['same_role_win_rate']\n",
    "    test_role['id'] = test_role['game_id']\n",
    "    test_role.drop(['game_id', 'same_role_win_rate'], axis=1, inplace=True)\n",
    "    test_teams_ML = pd.merge(test_teams_ML, test_role, on='id', how='inner')\n",
    "\n",
    "test_teams_ML.head(2)"
   ]
  },
  {
   "cell_type": "markdown",
   "metadata": {},
   "source": [
    "## Test the data"
   ]
  },
  {
   "cell_type": "code",
   "execution_count": null,
   "metadata": {},
   "outputs": [],
   "source": [
    "y_test = LabelEncoder().fit(test_teams_ML.winner).transform(test_teams_ML.winner)\n",
    "X_test = test_teams_ML.drop(['id', 'winner', 'patch', 'year'], axis=1)"
   ]
  },
  {
   "cell_type": "code",
   "execution_count": null,
   "metadata": {},
   "outputs": [],
   "source": [
    "pipe.score(X_test, y_test)"
   ]
  },
  {
   "cell_type": "code",
   "execution_count": null,
   "metadata": {},
   "outputs": [],
   "source": [
    "from sklearn import metrics\n",
    "\n",
    "predicted = pipe.predict(X_test)\n",
    "print(metrics.accuracy_score(y_test, predicted))\n",
    "print(metrics.classification_report(y_test, predicted)) "
   ]
  },
  {
   "cell_type": "markdown",
   "metadata": {},
   "source": [
    "# Evaluate data"
   ]
  },
  {
   "cell_type": "markdown",
   "metadata": {},
   "source": [
    "## Import the evaluate data"
   ]
  },
  {
   "cell_type": "code",
   "execution_count": null,
   "metadata": {},
   "outputs": [],
   "source": [
    "#Import the data through the utils file\n",
    "eval_teams, eval_BLUE, eval_RED = get_train_data_only(train_data = False, evaluate_data = True)\n",
    "len(eval_teams), len(eval_BLUE), len(eval_RED)"
   ]
  },
  {
   "cell_type": "code",
   "execution_count": null,
   "metadata": {},
   "outputs": [],
   "source": [
    "#Teams DataFrame used for Machine Learning\n",
    "eval_teams_ML = eval_teams[['id', 'patch', 'year', 'winner']]\n",
    "eval_teams_ML.head(5)"
   ]
  },
  {
   "cell_type": "markdown",
   "metadata": {},
   "source": [
    "## Synergy Feature"
   ]
  },
  {
   "cell_type": "code",
   "execution_count": null,
   "metadata": {},
   "outputs": [],
   "source": [
    "#Get the synergy of the Blue team champions\n",
    "eval_blue = pair_wise_synergy(eval_BLUE, champions_won_percentage_imputed, 'blue')\n",
    "eval_blue['id'] = eval_blue.index\n",
    "eval_teams_ML =pd.merge(eval_teams_ML, eval_blue, on='id', how='inner')"
   ]
  },
  {
   "cell_type": "code",
   "execution_count": null,
   "metadata": {},
   "outputs": [],
   "source": [
    "#Get the synergy of the Red team champions\n",
    "eval_red = pair_wise_synergy(eval_RED, champions_won_percentage_imputed, 'red')\n",
    "eval_red['id'] = eval_red.index\n",
    "eval_teams_ML =pd.merge(eval_teams_ML, eval_red, on='id', how='inner')"
   ]
  },
  {
   "cell_type": "code",
   "execution_count": null,
   "metadata": {},
   "outputs": [],
   "source": [
    "eval_teams_ML"
   ]
  },
  {
   "cell_type": "markdown",
   "metadata": {},
   "source": [
    "## Role rate winrate"
   ]
  },
  {
   "cell_type": "code",
   "execution_count": null,
   "metadata": {},
   "outputs": [],
   "source": [
    "eval_blue_red = pd.merge(left=eval_BLUE, right=eval_RED, left_on= 'game_id', right_on= 'game_id')\n",
    "eval_role = eval_blue_red[['champion_id_x', 'role_x', 'role_y', 'champion_id_y', 'win_x', 'game_id']]\n",
    "eval_role.head(2)"
   ]
  },
  {
   "cell_type": "code",
   "execution_count": null,
   "metadata": {},
   "outputs": [],
   "source": [
    "eval_same_role = eval_role[eval_role['role_x'] == eval_role['role_y']]\n",
    "eval_same_role['same_role_win_rate'] = eval_same_role.apply(lambda z: \n",
    "              get_vs_rate(z.champion_id_x, z.role_x, z.role_y, z.champion_id_y),\n",
    "              axis=1)\n",
    "eval_same_role.head(5)"
   ]
  },
  {
   "cell_type": "code",
   "execution_count": null,
   "metadata": {},
   "outputs": [],
   "source": [
    "roles = ['TOP', 'JGL', 'MID', 'BOT', 'SUP']\n",
    "\n",
    "for role in roles:\n",
    "    eval_role = eval_same_role[eval_same_role.role_x == role][['game_id', 'same_role_win_rate']]\n",
    "    eval_role[role] = eval_role['same_role_win_rate']\n",
    "    eval_role['id'] = eval_role['game_id']\n",
    "    eval_role.drop(['game_id', 'same_role_win_rate'], axis=1, inplace=True)\n",
    "    eval_teams_ML = pd.merge(eval_teams_ML, eval_role, on='id', how='inner')\n",
    "\n",
    "eval_teams_ML.head(2)"
   ]
  },
  {
   "cell_type": "code",
   "execution_count": null,
   "metadata": {},
   "outputs": [],
   "source": [
    "y_eval = LabelEncoder().fit(eval_teams_ML.winner).transform(eval_teams_ML.winner)\n",
    "X_eval = eval_teams_ML.drop(['id', 'winner', 'patch', 'year'], axis=1)"
   ]
  },
  {
   "cell_type": "code",
   "execution_count": null,
   "metadata": {},
   "outputs": [],
   "source": [
    "pipe.predict(X_eval), y_eval"
   ]
  },
  {
   "cell_type": "code",
   "execution_count": null,
   "metadata": {},
   "outputs": [],
   "source": []
  }
 ],
 "metadata": {
  "colab": {
   "collapsed_sections": [],
   "name": "LeagueOfLeguends.ipynb",
   "provenance": []
  },
  "kernelspec": {
   "display_name": "Python 3 (ipykernel)",
   "language": "python",
   "name": "python3"
  },
  "language_info": {
   "codemirror_mode": {
    "name": "ipython",
    "version": 3
   },
   "file_extension": ".py",
   "mimetype": "text/x-python",
   "name": "python",
   "nbconvert_exporter": "python",
   "pygments_lexer": "ipython3",
   "version": "3.8.12"
  },
  "toc": {
   "base_numbering": 1,
   "nav_menu": {},
   "number_sections": true,
   "sideBar": true,
   "skip_h1_title": false,
   "title_cell": "Table of Contents",
   "title_sidebar": "Contents",
   "toc_cell": false,
   "toc_position": {},
   "toc_section_display": true,
   "toc_window_display": false
  }
 },
 "nbformat": 4,
 "nbformat_minor": 1
}
